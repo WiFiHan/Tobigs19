{
 "cells": [
  {
   "cell_type": "markdown",
   "metadata": {
    "id": "oYVqHpHghxi1"
   },
   "source": [
    "# [과제 2] 회귀분석\n",
    "### - Ch 1, Ch 2를 토대로 자유롭게 회귀분석과 회귀진단을 진행해주세요.\n",
    "### - 주석으로 설명 및 근거 자세하게 달아주시면 감사하겠습니다. :)"
   ]
  },
  {
   "cell_type": "code",
   "execution_count": 143,
   "metadata": {
    "id": "F0T3iPmPhxi_"
   },
   "outputs": [],
   "source": [
    "%matplotlib inline \n",
    "\n",
    "import pandas as pd\n",
    "import numpy as np\n",
    "import matplotlib.pyplot as plt\n",
    "import seaborn as sns\n",
    "\n",
    "import warnings\n",
    "warnings.filterwarnings(action='ignore')"
   ]
  },
  {
   "cell_type": "markdown",
   "metadata": {
    "id": "P0uNO4d5hxjA"
   },
   "source": [
    "# Data "
   ]
  },
  {
   "cell_type": "markdown",
   "metadata": {
    "id": "3-xhqe55hxjB"
   },
   "source": [
    "데이터 출처 : https://www.kaggle.com/avikasliwal/used-cars-price-prediction "
   ]
  },
  {
   "cell_type": "markdown",
   "metadata": {
    "id": "NL9G4b7-hxjB"
   },
   "source": [
    "< y > \n",
    "* **Price** : The price of the used car in INR Lakhs.\n",
    "\n",
    "\n",
    "\n",
    "< X > \n",
    "* Name : The brand and model of the car\n",
    "* Location : The location in which the car is being sold or is available for purchase.\n",
    "* Year : The year or edition of the model.\n",
    "* Kilometers_Driven : The total kilometres driven in the car by the previous owner(s) in KM.\n",
    "* Fuel_Type : The type of fuel used by the car. (Petrol, Diesel, Electric, CNG, LPG)\n",
    "* Transmission : The type of transmission used by the car. (Automatic / Manual)\n",
    "* Owner_Type : Whether the ownership is Firsthand, Second hand or other.\n",
    "* Mileage : The standard mileage offered by the car company in kmpl or km/kg\n",
    "* Engine : The displacement volume of the engine in CC.\n",
    "* Power : The maximum power of the engine in bhp.\n",
    "* Seats : The number of seats in the car.\n",
    "* New_Price : The price of a new car of the same model."
   ]
  },
  {
   "cell_type": "code",
   "execution_count": 144,
   "metadata": {
    "colab": {
     "base_uri": "https://localhost:8080/",
     "height": 407
    },
    "id": "4erq13F3hxjC",
    "outputId": "9d870503-1f14-40ab-fb6c-510abcdf231d"
   },
   "outputs": [
    {
     "data": {
      "text/html": [
       "<div>\n",
       "<style scoped>\n",
       "    .dataframe tbody tr th:only-of-type {\n",
       "        vertical-align: middle;\n",
       "    }\n",
       "\n",
       "    .dataframe tbody tr th {\n",
       "        vertical-align: top;\n",
       "    }\n",
       "\n",
       "    .dataframe thead th {\n",
       "        text-align: right;\n",
       "    }\n",
       "</style>\n",
       "<table border=\"1\" class=\"dataframe\">\n",
       "  <thead>\n",
       "    <tr style=\"text-align: right;\">\n",
       "      <th></th>\n",
       "      <th>Unnamed: 0</th>\n",
       "      <th>Name</th>\n",
       "      <th>Location</th>\n",
       "      <th>Year</th>\n",
       "      <th>Kilometers_Driven</th>\n",
       "      <th>Fuel_Type</th>\n",
       "      <th>Transmission</th>\n",
       "      <th>Owner_Type</th>\n",
       "      <th>Mileage</th>\n",
       "      <th>Engine</th>\n",
       "      <th>Power</th>\n",
       "      <th>Seats</th>\n",
       "      <th>New_Price</th>\n",
       "      <th>Price</th>\n",
       "    </tr>\n",
       "  </thead>\n",
       "  <tbody>\n",
       "    <tr>\n",
       "      <th>0</th>\n",
       "      <td>0</td>\n",
       "      <td>Maruti Wagon R LXI CNG</td>\n",
       "      <td>Mumbai</td>\n",
       "      <td>2010</td>\n",
       "      <td>72000</td>\n",
       "      <td>CNG</td>\n",
       "      <td>Manual</td>\n",
       "      <td>First</td>\n",
       "      <td>26.6 km/kg</td>\n",
       "      <td>998 CC</td>\n",
       "      <td>58.16 bhp</td>\n",
       "      <td>5.0</td>\n",
       "      <td>NaN</td>\n",
       "      <td>1.75</td>\n",
       "    </tr>\n",
       "    <tr>\n",
       "      <th>1</th>\n",
       "      <td>1</td>\n",
       "      <td>Hyundai Creta 1.6 CRDi SX Option</td>\n",
       "      <td>Pune</td>\n",
       "      <td>2015</td>\n",
       "      <td>41000</td>\n",
       "      <td>Diesel</td>\n",
       "      <td>Manual</td>\n",
       "      <td>First</td>\n",
       "      <td>19.67 kmpl</td>\n",
       "      <td>1582 CC</td>\n",
       "      <td>126.2 bhp</td>\n",
       "      <td>5.0</td>\n",
       "      <td>NaN</td>\n",
       "      <td>12.50</td>\n",
       "    </tr>\n",
       "    <tr>\n",
       "      <th>2</th>\n",
       "      <td>2</td>\n",
       "      <td>Honda Jazz V</td>\n",
       "      <td>Chennai</td>\n",
       "      <td>2011</td>\n",
       "      <td>46000</td>\n",
       "      <td>Petrol</td>\n",
       "      <td>Manual</td>\n",
       "      <td>First</td>\n",
       "      <td>18.2 kmpl</td>\n",
       "      <td>1199 CC</td>\n",
       "      <td>88.7 bhp</td>\n",
       "      <td>5.0</td>\n",
       "      <td>8.61 Lakh</td>\n",
       "      <td>4.50</td>\n",
       "    </tr>\n",
       "    <tr>\n",
       "      <th>3</th>\n",
       "      <td>3</td>\n",
       "      <td>Maruti Ertiga VDI</td>\n",
       "      <td>Chennai</td>\n",
       "      <td>2012</td>\n",
       "      <td>87000</td>\n",
       "      <td>Diesel</td>\n",
       "      <td>Manual</td>\n",
       "      <td>First</td>\n",
       "      <td>20.77 kmpl</td>\n",
       "      <td>1248 CC</td>\n",
       "      <td>88.76 bhp</td>\n",
       "      <td>7.0</td>\n",
       "      <td>NaN</td>\n",
       "      <td>6.00</td>\n",
       "    </tr>\n",
       "    <tr>\n",
       "      <th>4</th>\n",
       "      <td>4</td>\n",
       "      <td>Audi A4 New 2.0 TDI Multitronic</td>\n",
       "      <td>Coimbatore</td>\n",
       "      <td>2013</td>\n",
       "      <td>40670</td>\n",
       "      <td>Diesel</td>\n",
       "      <td>Automatic</td>\n",
       "      <td>Second</td>\n",
       "      <td>15.2 kmpl</td>\n",
       "      <td>1968 CC</td>\n",
       "      <td>140.8 bhp</td>\n",
       "      <td>5.0</td>\n",
       "      <td>NaN</td>\n",
       "      <td>17.74</td>\n",
       "    </tr>\n",
       "  </tbody>\n",
       "</table>\n",
       "</div>"
      ],
      "text/plain": [
       "   Unnamed: 0                              Name    Location  Year  \\\n",
       "0           0            Maruti Wagon R LXI CNG      Mumbai  2010   \n",
       "1           1  Hyundai Creta 1.6 CRDi SX Option        Pune  2015   \n",
       "2           2                      Honda Jazz V     Chennai  2011   \n",
       "3           3                 Maruti Ertiga VDI     Chennai  2012   \n",
       "4           4   Audi A4 New 2.0 TDI Multitronic  Coimbatore  2013   \n",
       "\n",
       "   Kilometers_Driven Fuel_Type Transmission Owner_Type     Mileage   Engine  \\\n",
       "0              72000       CNG       Manual      First  26.6 km/kg   998 CC   \n",
       "1              41000    Diesel       Manual      First  19.67 kmpl  1582 CC   \n",
       "2              46000    Petrol       Manual      First   18.2 kmpl  1199 CC   \n",
       "3              87000    Diesel       Manual      First  20.77 kmpl  1248 CC   \n",
       "4              40670    Diesel    Automatic     Second   15.2 kmpl  1968 CC   \n",
       "\n",
       "       Power  Seats  New_Price  Price  \n",
       "0  58.16 bhp    5.0        NaN   1.75  \n",
       "1  126.2 bhp    5.0        NaN  12.50  \n",
       "2   88.7 bhp    5.0  8.61 Lakh   4.50  \n",
       "3  88.76 bhp    7.0        NaN   6.00  \n",
       "4  140.8 bhp    5.0        NaN  17.74  "
      ]
     },
     "execution_count": 144,
     "metadata": {},
     "output_type": "execute_result"
    }
   ],
   "source": [
    "# Load Data \n",
    "data = pd.read_csv(\"assignment2_data.csv\")\n",
    "data.head()"
   ]
  },
  {
   "cell_type": "code",
   "execution_count": 145,
   "metadata": {},
   "outputs": [],
   "source": [
    "#이상치 제거함수: https://bjy2.tistory.com/191 참고.\n",
    "def dr_outlier(df):\n",
    "    quartile_1 = df.quantile(0.25)\n",
    "    quartile_3 = df.quantile(0.75)\n",
    "    IQR = quartile_3 - quartile_1\n",
    "    condition = (df < (quartile_1 - 1.5 * IQR)) | (df > (quartile_3 + 1.5 * IQR))\n",
    "    condition = condition.any(axis=1)\n",
    "    search_df = df[condition]\n",
    "    df = df.drop(search_df.index, axis=0)\n",
    "    return df\n",
    "\n",
    "data = dr_outlier(data)"
   ]
  },
  {
   "cell_type": "code",
   "execution_count": 146,
   "metadata": {},
   "outputs": [
    {
     "name": "stderr",
     "output_type": "stream",
     "text": [
      "No artists with labels found to put in legend.  Note that artists whose label start with an underscore are ignored when legend() is called with no argument.\n"
     ]
    },
    {
     "data": {
      "image/png": "[encoded data removed]",
      "text/plain": [
       "<Figure size 640x480 with 1 Axes>"
      ]
     },
     "metadata": {},
     "output_type": "display_data"
    }
   ],
   "source": [
    "Correct_Mileage= []\n",
    "for i in data.Mileage:\n",
    "    if str(i).endswith('km/kg'):\n",
    "        i = i[:-6]\n",
    "        i = float(i)*1.40\n",
    "        Correct_Mileage.append(float(i))\n",
    "    elif str(i).endswith('kmpl'):\n",
    "        i = i[:-6]\n",
    "        Correct_Mileage.append(float(i))\n",
    "    else:\n",
    "        Correct_Mileage.append(float(0))\n",
    "\n",
    "data['Mileage']=Correct_Mileage\n",
    "\n",
    "#https://www.kaggle.com/code/rushikeshhiray/converting-km-kg-to-kmpl 을 참고하였습니다.\n",
    "\n",
    "plt.hist(data.Mileage)\n",
    "plt.legend()\n",
    "plt.show()"
   ]
  },
  {
   "cell_type": "code",
   "execution_count": 147,
   "metadata": {},
   "outputs": [
    {
     "name": "stderr",
     "output_type": "stream",
     "text": [
      "No artists with labels found to put in legend.  Note that artists whose label start with an underscore are ignored when legend() is called with no argument.\n"
     ]
    },
    {
     "data": {
      "image/png": "[encoded data removed]",
      "text/plain": [
       "<Figure size 640x480 with 1 Axes>"
      ]
     },
     "metadata": {},
     "output_type": "display_data"
    }
   ],
   "source": [
    "Correct_Engine= []\n",
    "for i in data.Engine:\n",
    "    if str(i).endswith('CC'):\n",
    "        i = i[:-3]\n",
    "        Correct_Engine.append(float(i))\n",
    "    else:\n",
    "        Correct_Engine.append(float(0))\n",
    "\n",
    "data['Engine']=Correct_Engine\n",
    "plt.hist(data.Engine)\n",
    "plt.legend()\n",
    "plt.show()"
   ]
  },
  {
   "cell_type": "code",
   "execution_count": 148,
   "metadata": {},
   "outputs": [
    {
     "name": "stderr",
     "output_type": "stream",
     "text": [
      "No artists with labels found to put in legend.  Note that artists whose label start with an underscore are ignored when legend() is called with no argument.\n"
     ]
    },
    {
     "data": {
      "image/png": "[encoded data removed]",
      "text/plain": [
       "<Figure size 640x480 with 1 Axes>"
      ]
     },
     "metadata": {},
     "output_type": "display_data"
    }
   ],
   "source": [
    "Correct_Power= []\n",
    "for i in data.Power:\n",
    "    if str(i).endswith('bhp'):\n",
    "        i = i[:-4]\n",
    "        if i == 'null':\n",
    "            Correct_Power.append(float(0))\n",
    "        else:\n",
    "            Correct_Power.append(float(i))\n",
    "    else:\n",
    "        Correct_Power.append(float(0))\n",
    "\n",
    "data['Power']=Correct_Power\n",
    "plt.hist(data.Power)\n",
    "plt.legend()\n",
    "plt.show()"
   ]
  },
  {
   "cell_type": "code",
   "execution_count": 149,
   "metadata": {},
   "outputs": [],
   "source": [
    "Correct_NewPrice= []\n",
    "data.New_Price.describe()\n",
    "#NewPrice는 결측치가 너무 많으므로, 이 열 자체를 분석대상에서 제외한다.\n",
    "\n",
    "data = data.drop('New_Price', axis = 1)\n"
   ]
  },
  {
   "cell_type": "code",
   "execution_count": 150,
   "metadata": {},
   "outputs": [
    {
     "name": "stderr",
     "output_type": "stream",
     "text": [
      "No artists with labels found to put in legend.  Note that artists whose label start with an underscore are ignored when legend() is called with no argument.\n"
     ]
    },
    {
     "data": {
      "image/png": "[encoded data removed]",
      "text/plain": [
       "<Figure size 640x480 with 1 Axes>"
      ]
     },
     "metadata": {},
     "output_type": "display_data"
    }
   ],
   "source": [
    "plt.hist(data.Price)\n",
    "plt.legend()\n",
    "plt.show()\n",
    "#가격엔 log를 취할 필요가 있어보인다."
   ]
  },
  {
   "cell_type": "code",
   "execution_count": 151,
   "metadata": {},
   "outputs": [
    {
     "name": "stderr",
     "output_type": "stream",
     "text": [
      "No artists with labels found to put in legend.  Note that artists whose label start with an underscore are ignored when legend() is called with no argument.\n"
     ]
    },
    {
     "data": {
      "image/png": "[encoded data removed]",
      "text/plain": [
       "<Figure size 640x480 with 1 Axes>"
      ]
     },
     "metadata": {},
     "output_type": "display_data"
    }
   ],
   "source": [
    "data['log_Price'] = np.log(data['Price'])\n",
    "plt.hist(data.log_Price)\n",
    "plt.legend()\n",
    "plt.show()\n",
    "#보다 정규성이 확보되는 모습이다."
   ]
  },
  {
   "cell_type": "code",
   "execution_count": 152,
   "metadata": {},
   "outputs": [
    {
     "data": {
      "text/html": [
       "<div>\n",
       "<style scoped>\n",
       "    .dataframe tbody tr th:only-of-type {\n",
       "        vertical-align: middle;\n",
       "    }\n",
       "\n",
       "    .dataframe tbody tr th {\n",
       "        vertical-align: top;\n",
       "    }\n",
       "\n",
       "    .dataframe thead th {\n",
       "        text-align: right;\n",
       "    }\n",
       "</style>\n",
       "<table border=\"1\" class=\"dataframe\">\n",
       "  <thead>\n",
       "    <tr style=\"text-align: right;\">\n",
       "      <th></th>\n",
       "      <th>Unnamed: 0</th>\n",
       "      <th>Year</th>\n",
       "      <th>Kilometers_Driven</th>\n",
       "      <th>Mileage</th>\n",
       "      <th>Engine</th>\n",
       "      <th>Power</th>\n",
       "      <th>Seats</th>\n",
       "      <th>Price</th>\n",
       "      <th>log_Price</th>\n",
       "    </tr>\n",
       "  </thead>\n",
       "  <tbody>\n",
       "    <tr>\n",
       "      <th>count</th>\n",
       "      <td>4354.000000</td>\n",
       "      <td>4354.000000</td>\n",
       "      <td>4354.000000</td>\n",
       "      <td>4354.000000</td>\n",
       "      <td>4354.000000</td>\n",
       "      <td>4354.000000</td>\n",
       "      <td>4354.0</td>\n",
       "      <td>4354.000000</td>\n",
       "      <td>4354.000000</td>\n",
       "    </tr>\n",
       "    <tr>\n",
       "      <th>mean</th>\n",
       "      <td>3034.972669</td>\n",
       "      <td>2013.312816</td>\n",
       "      <td>53233.125632</td>\n",
       "      <td>19.103962</td>\n",
       "      <td>1402.533532</td>\n",
       "      <td>95.540802</td>\n",
       "      <td>5.0</td>\n",
       "      <td>5.746697</td>\n",
       "      <td>1.564966</td>\n",
       "    </tr>\n",
       "    <tr>\n",
       "      <th>std</th>\n",
       "      <td>1725.137868</td>\n",
       "      <td>3.095536</td>\n",
       "      <td>26266.733994</td>\n",
       "      <td>4.501391</td>\n",
       "      <td>380.259712</td>\n",
       "      <td>38.967103</td>\n",
       "      <td>0.0</td>\n",
       "      <td>3.696320</td>\n",
       "      <td>0.610772</td>\n",
       "    </tr>\n",
       "    <tr>\n",
       "      <th>min</th>\n",
       "      <td>0.000000</td>\n",
       "      <td>2004.000000</td>\n",
       "      <td>171.000000</td>\n",
       "      <td>0.000000</td>\n",
       "      <td>72.000000</td>\n",
       "      <td>0.000000</td>\n",
       "      <td>5.0</td>\n",
       "      <td>0.450000</td>\n",
       "      <td>-0.798508</td>\n",
       "    </tr>\n",
       "    <tr>\n",
       "      <th>25%</th>\n",
       "      <td>1540.750000</td>\n",
       "      <td>2011.000000</td>\n",
       "      <td>33555.000000</td>\n",
       "      <td>17.000000</td>\n",
       "      <td>1197.000000</td>\n",
       "      <td>73.900000</td>\n",
       "      <td>5.0</td>\n",
       "      <td>3.225000</td>\n",
       "      <td>1.170929</td>\n",
       "    </tr>\n",
       "    <tr>\n",
       "      <th>50%</th>\n",
       "      <td>3054.500000</td>\n",
       "      <td>2014.000000</td>\n",
       "      <td>52000.000000</td>\n",
       "      <td>19.000000</td>\n",
       "      <td>1248.000000</td>\n",
       "      <td>86.700000</td>\n",
       "      <td>5.0</td>\n",
       "      <td>4.765000</td>\n",
       "      <td>1.561297</td>\n",
       "    </tr>\n",
       "    <tr>\n",
       "      <th>75%</th>\n",
       "      <td>4506.750000</td>\n",
       "      <td>2016.000000</td>\n",
       "      <td>70000.000000</td>\n",
       "      <td>22.000000</td>\n",
       "      <td>1499.000000</td>\n",
       "      <td>110.000000</td>\n",
       "      <td>5.0</td>\n",
       "      <td>6.990000</td>\n",
       "      <td>1.944481</td>\n",
       "    </tr>\n",
       "    <tr>\n",
       "      <th>max</th>\n",
       "      <td>6018.000000</td>\n",
       "      <td>2019.000000</td>\n",
       "      <td>131000.000000</td>\n",
       "      <td>46.956000</td>\n",
       "      <td>4806.000000</td>\n",
       "      <td>500.000000</td>\n",
       "      <td>5.0</td>\n",
       "      <td>19.500000</td>\n",
       "      <td>2.970414</td>\n",
       "    </tr>\n",
       "  </tbody>\n",
       "</table>\n",
       "</div>"
      ],
      "text/plain": [
       "        Unnamed: 0         Year  Kilometers_Driven      Mileage       Engine  \\\n",
       "count  4354.000000  4354.000000        4354.000000  4354.000000  4354.000000   \n",
       "mean   3034.972669  2013.312816       53233.125632    19.103962  1402.533532   \n",
       "std    1725.137868     3.095536       26266.733994     4.501391   380.259712   \n",
       "min       0.000000  2004.000000         171.000000     0.000000    72.000000   \n",
       "25%    1540.750000  2011.000000       33555.000000    17.000000  1197.000000   \n",
       "50%    3054.500000  2014.000000       52000.000000    19.000000  1248.000000   \n",
       "75%    4506.750000  2016.000000       70000.000000    22.000000  1499.000000   \n",
       "max    6018.000000  2019.000000      131000.000000    46.956000  4806.000000   \n",
       "\n",
       "             Power   Seats        Price    log_Price  \n",
       "count  4354.000000  4354.0  4354.000000  4354.000000  \n",
       "mean     95.540802     5.0     5.746697     1.564966  \n",
       "std      38.967103     0.0     3.696320     0.610772  \n",
       "min       0.000000     5.0     0.450000    -0.798508  \n",
       "25%      73.900000     5.0     3.225000     1.170929  \n",
       "50%      86.700000     5.0     4.765000     1.561297  \n",
       "75%     110.000000     5.0     6.990000     1.944481  \n",
       "max     500.000000     5.0    19.500000     2.970414  "
      ]
     },
     "execution_count": 152,
     "metadata": {},
     "output_type": "execute_result"
    }
   ],
   "source": [
    "#결측치는 제거한다.\n",
    "data = data.replace([np.inf, -np.inf], np.nan) # inf, -inf를 nan으로 대체\n",
    "data.dropna(inplace=True) # nan 제거\n",
    "data.describe()"
   ]
  },
  {
   "cell_type": "code",
   "execution_count": 153,
   "metadata": {},
   "outputs": [
    {
     "name": "stdout",
     "output_type": "stream",
     "text": [
      "                            OLS Regression Results                            \n",
      "==============================================================================\n",
      "Dep. Variable:              log_Price   R-squared:                       0.746\n",
      "Model:                            OLS   Adj. R-squared:                  0.745\n",
      "Method:                 Least Squares   F-statistic:                     2549.\n",
      "Date:                Tue, 31 Jan 2023   Prob (F-statistic):               0.00\n",
      "Time:                        23:19:54   Log-Likelihood:                -1050.7\n",
      "No. Observations:                4354   AIC:                             2113.\n",
      "Df Residuals:                    4348   BIC:                             2152.\n",
      "Df Model:                           5                                         \n",
      "Covariance Type:            nonrobust                                         \n",
      "=====================================================================================\n",
      "                        coef    std err          t      P>|t|      [0.025      0.975]\n",
      "-------------------------------------------------------------------------------------\n",
      "Year                  0.1277      0.002     64.964      0.000       0.124       0.132\n",
      "Kilometers_Driven  4.099e-08   2.17e-07      0.189      0.850   -3.84e-07    4.66e-07\n",
      "Mileage               0.0001      0.001      0.080      0.936      -0.002       0.003\n",
      "Engine                0.0006   2.72e-05     22.013      0.000       0.001       0.001\n",
      "Power                 0.0055      0.000     21.907      0.000       0.005       0.006\n",
      "Seats               -51.3818      0.791    -64.961      0.000     -52.932     -49.831\n",
      "==============================================================================\n",
      "Omnibus:                      985.093   Durbin-Watson:                   2.003\n",
      "Prob(Omnibus):                  0.000   Jarque-Bera (JB):            12072.246\n",
      "Skew:                          -0.726   Prob(JB):                         0.00\n",
      "Kurtosis:                      11.027   Cond. No.                     1.01e+07\n",
      "==============================================================================\n",
      "\n",
      "Notes:\n",
      "[1] Standard Errors assume that the covariance matrix of the errors is correctly specified.\n",
      "[2] The condition number is large, 1.01e+07. This might indicate that there are\n",
      "strong multicollinearity or other numerical problems.\n"
     ]
    }
   ],
   "source": [
    "import statsmodels.api as sm\n",
    "\n",
    "X = data[['Year',\t'Kilometers_Driven',\t'Mileage',\t'Engine',\t'Power',\t'Seats']]\n",
    "y = data['log_Price']\n",
    "model = sm.OLS(y, X).fit()\n",
    "print(model.summary())"
   ]
  },
  {
   "cell_type": "code",
   "execution_count": 154,
   "metadata": {},
   "outputs": [
    {
     "data": {
      "text/plain": [
       "'\\n이상치, 결측치를 제거한 후 히스토그램을 그려가며 각 수치데이터가 정규성을 만족할 수 있도록 하였다.\\n특히 종속변수는 정규성을 만족하기 위해 Log를 취해주었다.\\n이후 OLS를 통해 회귀진단을 한 결과는 다음과 같다.\\n\\n1. 조정된 결정계수가 0.745로, 해당 회귀모델은 비교적 회귀식으로 설명 가능한 부분이 많다.\\n2. F값은 2549로, 값이 비교적 크게 나왔다. 분산이 큰 편이다.\\n3. Durbin-Watson 수치는 2.03으로, 2에 매우 가까우므로 해당 모델은 오차항의 자기상관이 없어 독립성을 만족한다.\\n'"
      ]
     },
     "execution_count": 154,
     "metadata": {},
     "output_type": "execute_result"
    }
   ],
   "source": [
    "'''\n",
    "이상치, 결측치를 제거한 후 히스토그램을 그려가며 각 수치데이터가 정규성을 만족할 수 있도록 하였다.\n",
    "특히 종속변수는 정규성을 만족하기 위해 Log를 취해주었다.\n",
    "이후 OLS를 통해 회귀진단을 한 결과는 다음과 같다.\n",
    "\n",
    "1. 조정된 결정계수가 0.745로, 해당 회귀모델은 비교적 회귀식으로 설명 가능한 부분이 많다.\n",
    "2. F값은 2549로, 값이 비교적 크게 나왔다. 분산이 큰 편이다.\n",
    "3. Durbin-Watson 수치는 2.03으로, 2에 매우 가까우므로 해당 모델은 오차항의 자기상관이 없어 독립성을 만족한다.\n",
    "'''"
   ]
  }
 ],
 "metadata": {
  "colab": {
   "collapsed_sections": [],
   "name": "Regression_과제2",
   "provenance": []
  },
  "kernelspec": {
   "display_name": "Python 3",
   "language": "python",
   "name": "python3"
  },
  "language_info": {
   "codemirror_mode": {
    "name": "ipython",
    "version": 3
   },
   "file_extension": ".py",
   "mimetype": "text/x-python",
   "name": "python",
   "nbconvert_exporter": "python",
   "pygments_lexer": "ipython3",
   "version": "3.10.5"
  },
  "vscode": {
   "interpreter": {
    "hash": "e593ac106456af50ce7af38f9671c411b49d6cd90f9b885e167f0f594e09038c"
   }
  }
 },
 "nbformat": 4,
 "nbformat_minor": 1
}
