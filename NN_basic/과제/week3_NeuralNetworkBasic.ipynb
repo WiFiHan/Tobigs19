{
 "cells": [
  {
   "cell_type": "markdown",
   "id": "00493e77",
   "metadata": {},
   "source": [
    "> # Neural Network Basic - Week3 과제\n"
   ]
  },
  {
   "cell_type": "markdown",
   "id": "747656a3",
   "metadata": {},
   "source": [
    "## Import Library"
   ]
  },
  {
   "cell_type": "code",
   "execution_count": 82,
   "id": "2d4be987",
   "metadata": {},
   "outputs": [],
   "source": [
    "import numpy as np\n",
    "from matplotlib import pyplot as plt\n",
    "from dataset.mnist import load_mnist"
   ]
  },
  {
   "cell_type": "markdown",
   "id": "bbd9ddbb",
   "metadata": {},
   "source": [
    "## Load Dataset\n",
    "- MNIST "
   ]
  },
  {
   "cell_type": "code",
   "execution_count": 83,
   "id": "2813d656",
   "metadata": {},
   "outputs": [],
   "source": [
    "(X_train, Y_train), (X_test, Y_test) = \\\n",
    "    load_mnist(normalize=True, one_hot_label=False)"
   ]
  },
  {
   "cell_type": "code",
   "execution_count": 84,
   "id": "2bd1d69a",
   "metadata": {},
   "outputs": [
    {
     "name": "stdout",
     "output_type": "stream",
     "text": [
      "X_train shape: (60000, 784)\n",
      "X_test shape: (10000, 784)\n",
      "Y_train shape: (60000,)\n",
      "Y_train shape: (10000,)\n"
     ]
    }
   ],
   "source": [
    "print(f'X_train shape: {X_train.shape}')\n",
    "print(f'X_test shape: {X_test.shape}')\n",
    "print(f'Y_train shape: {Y_train.shape}')\n",
    "print(f'Y_train shape: {Y_test.shape}')"
   ]
  },
  {
   "cell_type": "markdown",
   "id": "4581cc2e",
   "metadata": {},
   "source": [
    "## Activation Function \n",
    "- sigmoid & relu : hidden layer activation function \n",
    "- softmax : output layer activation function "
   ]
  },
  {
   "cell_type": "code",
   "execution_count": 85,
   "id": "a147a2b7",
   "metadata": {},
   "outputs": [],
   "source": [
    "class sigmoid:\n",
    "    # sigmoid 함수를 작성하세요 \n",
    "    def forward(x):\n",
    "        return 1 / (1 + np.exp(-x))\n",
    "    \n",
    "    # sigmoid 함수의 미분을 작성하세요\n",
    "    def backward(x):\n",
    "        return x * (1 - x)"
   ]
  },
  {
   "cell_type": "code",
   "execution_count": 86,
   "id": "f37afa8d",
   "metadata": {},
   "outputs": [],
   "source": [
    "class relu:\n",
    "    # relu 함수를 작성하세요\n",
    "    def forward(x):\n",
    "        return np.max(x, 0)\n",
    "    \n",
    "    # relu 함수의 미분을 작성하세요\n",
    "    def backward(x):\n",
    "        x[x <= 0] = 0\n",
    "        return x"
   ]
  },
  {
   "cell_type": "code",
   "execution_count": 87,
   "id": "cb44b346",
   "metadata": {},
   "outputs": [],
   "source": [
    "class softmax:\n",
    "    def forward(z):\n",
    "        y = []\n",
    "        for zi in z:\n",
    "            c = np.max(zi)\n",
    "            exp_zi = np.exp(zi-c)\n",
    "            sum_exp_zi = np.sum(exp_zi)\n",
    "            yi = exp_zi / sum_exp_zi\n",
    "            y.append(yi)\n",
    "\n",
    "        return np.array(y)\n",
    "    \n",
    "    def backward(p, y) :\n",
    "        dp = p.copy()\n",
    "        for dpi, yi in zip(dp, y):\n",
    "            for k in range(dp.shape[1]):\n",
    "                if k == yi :\n",
    "                    dpi[k] -= 1\n",
    "        return dp"
   ]
  },
  {
   "cell_type": "markdown",
   "id": "36955740",
   "metadata": {},
   "source": [
    "## Loss Function"
   ]
  },
  {
   "cell_type": "code",
   "execution_count": 88,
   "id": "44e0ad37",
   "metadata": {},
   "outputs": [],
   "source": [
    "def cross_entropy(p, y):\n",
    "    loss = []\n",
    "    for pi, yi in zip(p, y):\n",
    "        for k in range(p.shape[1]):\n",
    "            if k == yi:\n",
    "                loss.append((-1) * (np.log(pi[k] + 1e-8))) \n",
    "    return loss"
   ]
  },
  {
   "cell_type": "markdown",
   "id": "0f9a7228",
   "metadata": {},
   "source": [
    "## Layer"
   ]
  },
  {
   "cell_type": "code",
   "execution_count": 89,
   "id": "668bda1a",
   "metadata": {},
   "outputs": [],
   "source": [
    "class Layer:\n",
    "    def __init__(self, input_size, output_size, std=1e-4) :\n",
    "        self.input_size = input_size\n",
    "        self.output_size = output_size\n",
    "        self.bias = np.random.randn(output_size)\n",
    "        self.weight = np.random.randn(input_size, output_size)*std"
   ]
  },
  {
   "cell_type": "markdown",
   "id": "a72dfcee",
   "metadata": {},
   "source": [
    "## Neural Network\n",
    "- 각 메소드와 변수들의 역할을 주석으로 달아주세요! "
   ]
  },
  {
   "cell_type": "code",
   "execution_count": 90,
   "id": "33125095",
   "metadata": {},
   "outputs": [],
   "source": [
    "class CustomNet:\n",
    "    # CustomNet을 선언할 때 생성되는 값들입니다.\n",
    "    def __init__(self, lr=0.0001, epoch=500, batch_size=200):\n",
    "        self.lr = lr #learning rate. parameter에 gradient를 얼마나 반영할 지 결정한다.\n",
    "        self.epoch = epoch  #epoch. 전체 배치를 이용해 학습시키는 횟수.\n",
    "        self.batch_size = batch_size #batch size. 1회 학습 시 한 번에 처리되는 input data의 개수로, data 1개가 행벡터라면 input matrix 행의 크기이다.\n",
    "        self.loss_function = cross_entropy #loss function은 cross entropy.\n",
    "        self.layers = [] #이곳에 CustomNet에 쌓을 Layer가 순서대로 추가된다.\n",
    "        self.activations = [softmax] #activation function은 기본적으로 softmax이며, 이곳에 순서대로 각 Layer에 해당하는 Activation layer가 추가된다.\n",
    "        self.nodes = [] #각 layer 사이에 대응되는 노드의 값이 저장되는데, 이는 역전파를 계산할 때 사용된다.\n",
    "    \n",
    "    # Layer를 추가할 때 호출합니다\n",
    "    def addLayer(self, Layer): \n",
    "        self.layers.append(Layer) #layer를 추가하고\n",
    "        if not self.nodes: \n",
    "            self.nodes.append(np.zeros(Layer.input_size)) #node가 없을 경우 추가한다.\n",
    "        self.nodes.append(np.zeros(Layer.output_size)) #각 layer에 대응하는 node를 추가한다.\n",
    "        \n",
    "    # Activation Function을 추가할 때 호출합니다\n",
    "    def addActivation(self, Activation):\n",
    "        tmp = self.activations.pop() #activation의 마지막 원소를 뗀다.\n",
    "        self.activations.append(Activation) #parameter로 투입한 Activation function을 넣는다.\n",
    "        self.activations.append(tmp) #떼었던 원소를 붙인다.\n",
    "\n",
    "        \n",
    "    # 순전파 함수\n",
    "    def _forward(self, X):\n",
    "        self.nodes[0] = X.copy() #self.node에 해당 X를 추가한다.\n",
    "        output = X.copy() #초기 output 값은 X값으로 초기화한다.\n",
    "        for i in range(len(self.layers)): \n",
    "            Layer = self.layers[i] #model의 self.layers에 저장된 각 Layer마다\n",
    "            Activation = self.activations[i] #대응되는 Activation이 있어\n",
    "            output = np.dot(self.nodes[i], Layer.weight) #output은 해당 Layer에 투입된 node input에 weight을 내적하는 linear layer를 지난 후 \n",
    "            output = output+ Layer.bias #해당 Layer의 bias를 더하여\n",
    "            output = Activation.forward(output) #Activation function을 통과하고,\n",
    "            self.nodes[i+1] = output #다음 node의 값은 activation을 통과한 output이 된 뒤\n",
    "            #위의 과정이 매 layer마다 반복된다.\n",
    "        return output   #_forward 함수는 모든 layer마다 linear -> bias -> activation 순서로 통과한 결과이다.\n",
    "    \n",
    "    # 역전파 함수\n",
    "    def _backward(self, X, output, y) :\n",
    "        for i in reversed(range(len(self.layers))): #역전파이므로 self.layer의 순서를 역으로 뒤집는다.\n",
    "            a = self.nodes[i+1] #순전파 시 다음 층의 output 값.\n",
    "            Layer = self.layers[i] #Layer는 해당하는 계층의 layer.\n",
    "            Activation = self.activations[i] #Activation 또한 해당하는 계층의 actiavtion.\n",
    "            \n",
    "            if i+1 == len(self.layers): #역전파 첫 단계에서는\n",
    "                error = Activation.backward(output, y)#순전파에서의 마지막 activation이 softmax이므로 error도 softmax 함수에 대응하는 error이며, 이 값이 error의 초깃값이다.\n",
    "            else:\n",
    "                error *= Activation.backward(a)#각 계층의 activation에서 계산되는 추가 파라미터가 거듭 곱해진다.\n",
    "            Layer.weight -= np.dot(error.T, self.nodes[i]).T*self.lr/X.shape[0] #각 layer는 loss에 대한 gradient에 learning rate를 곱한 만큼 update되며\n",
    "            Layer.bias -= error.sum(axis=0)*self.lr/X.shape[0] #각 bias 또한 그렇다.\n",
    "            error = np.dot(error, Layer.weight.T) #그 다음 역전파(순전파의 이전 계층)에 흘러가는 gradient(error term)은 layer의 weight에 기존 error를 내적한 결과다.\n",
    "            \n",
    "    # Accrucy를 반환합니다\n",
    "    def _accuracy(self, output, y):\n",
    "        pre_p = np.argmax(output, axis=1) #pre_p는 output(확률벡터) 가운데 가장 값이 높은 클래스의 인덱스이다.\n",
    "        return np.sum(pre_p==y)/y.shape[0] #전체 Ground Truth 가운데 인덱스가 곧 Ground Truth인, 즉 정답을 맞춘 비율인 Recall 값을 Accuracy로 한다.\n",
    "    \n",
    "    # 데이터셋에 모델을 fit할때 호출합니다\n",
    "    def fit(self, X, y, val_X, val_y):\n",
    "        history = {'val_acc': [],'val_loss': []} #콘솔창에 출력할 메세지.\n",
    "        N = X.shape[0] #N: 데이터의 수\n",
    "        for i in range(self.epoch):#각 에포크마다\n",
    "            for j in range(N//self.batch_size): #각 batch마다\n",
    "                batch_mask = np.random.choice(N, self.batch_size) #N개 중 batch_size만큼을 임의추출하여\n",
    "                X_batch = X[batch_mask] #batch의 X와\n",
    "                y_batch = y[batch_mask] #batch의 y를 추출하고\n",
    "                output = self._forward(X_batch) #순전파는 batch 단위에 대한 순전파로,\n",
    "                self._backward(X_batch, output, y_batch) #역전파도 batch 단위에 대한 역전파로 한다.\n",
    "            \n",
    "            #accuracy와 loss를 기록해둡시다\n",
    "            output = self._forward(val_X) #validation set에 대해 순전파를 진행하여\n",
    "            history[\"val_acc\"].append(self._accuracy(output, val_y)) #validation set에 대한 accuracy,\n",
    "            history[\"val_loss\"].append(sum(self.loss_function(output, val_y))) #validation set에 대한 loss를 계산한다.\n",
    "            \n",
    "            #중간중간 기록을 찍어볼 때 사용. 적절히 조절해 쓰세요\n",
    "            if i % 10 == 0:\n",
    "                print(i, \"test accuracy :\", history[\"val_acc\"][-1])\n",
    "                print(i, \"test loss     :\", history[\"val_loss\"][-1])\n",
    "        return history"
   ]
  },
  {
   "cell_type": "markdown",
   "id": "e7787d0e",
   "metadata": {},
   "source": [
    "## Customizing\n",
    "- Network parameter, Layer architecture, Activation function .. 등등 다양한 하이퍼파라미터를 커스터마이징하여 높은 성능에 도달해 봅시다! "
   ]
  },
  {
   "cell_type": "code",
   "execution_count": 91,
   "id": "10d3d20c",
   "metadata": {},
   "outputs": [],
   "source": [
    "# 하이퍼파라미터를 적절히 조절해 뉴럴넷을 선언하세요\n",
    "nn = CustomNet(lr=0.005, epoch=50, batch_size=400)\n",
    "\n",
    "# 원하는 만큼 층과 활성화 함수를 쌓아 주세요. 기본적으로 2Layer를 예시로 적어드립니다\n",
    "nn.addLayer(Layer(784,100))\n",
    "nn.addActivation(sigmoid)\n",
    "nn.addLayer(Layer(100,10))"
   ]
  },
  {
   "cell_type": "code",
   "execution_count": 92,
   "id": "771766e2",
   "metadata": {},
   "outputs": [
    {
     "name": "stdout",
     "output_type": "stream",
     "text": [
      "(784, 100) (100,)\n",
      "(100, 10) (10,)\n"
     ]
    }
   ],
   "source": [
    "# 선언한 뉴럴넷의 구조입니다\n",
    "for layer in nn.layers:\n",
    "    print(layer.weight.shape, layer.bias.shape)"
   ]
  },
  {
   "cell_type": "code",
   "execution_count": 93,
   "id": "b2c1018a",
   "metadata": {},
   "outputs": [
    {
     "name": "stdout",
     "output_type": "stream",
     "text": [
      "0 test accuracy : 0.1028\n",
      "0 test loss     : 23058.018838136817\n",
      "10 test accuracy : 0.1135\n",
      "10 test loss     : 22894.0568029799\n",
      "20 test accuracy : 0.1204\n",
      "20 test loss     : 22716.216994967184\n",
      "30 test accuracy : 0.1467\n",
      "30 test loss     : 22327.482766801622\n",
      "40 test accuracy : 0.2321\n",
      "40 test loss     : 21441.119696744183\n"
     ]
    }
   ],
   "source": [
    "history = nn.fit(X_train, Y_train, X_test, Y_test)"
   ]
  },
  {
   "cell_type": "markdown",
   "id": "b76a6163",
   "metadata": {},
   "source": [
    "## Accuracy, Loss Visualization\n",
    "- 자유롭게 Accuracy나 Loss를 시각화하여 확인하고 결과를 확인해 보세요! "
   ]
  },
  {
   "cell_type": "code",
   "execution_count": 111,
   "id": "8702d4f6",
   "metadata": {},
   "outputs": [
    {
     "data": {
      "text/plain": [
       "[<matplotlib.lines.Line2D at 0x1475edc6050>]"
      ]
     },
     "execution_count": 111,
     "metadata": {},
     "output_type": "execute_result"
    },
    {
     "data": {
      "image/png": "[encoded data removed]",
      "text/plain": [
       "<Figure size 640x480 with 1 Axes>"
      ]
     },
     "metadata": {},
     "output_type": "display_data"
    }
   ],
   "source": [
    "x = np.arange(0, 50)\n",
    "accuracy = np.array(list(history.values())[0])\n",
    "plt.plot(x, accuracy)\n",
    "\n",
    "#에포크를 늘리고, learning rate를 더 감소시키는 기법을 사용하면 성능을 더 개선시킬 수 있을 것으로 생각한다."
   ]
  },
  {
   "cell_type": "code",
   "execution_count": 112,
   "id": "ee1e523f",
   "metadata": {},
   "outputs": [
    {
     "data": {
      "text/plain": [
       "[<matplotlib.lines.Line2D at 0x14765ac6830>]"
      ]
     },
     "execution_count": 112,
     "metadata": {},
     "output_type": "execute_result"
    },
    {
     "data": {
      "image/png": "[encoded data removed]",
      "text/plain": [
       "<Figure size 640x480 with 1 Axes>"
      ]
     },
     "metadata": {},
     "output_type": "display_data"
    }
   ],
   "source": [
    "x = np.arange(0, 50)\n",
    "loss = np.array(list(history.values())[1])\n",
    "plt.plot(x, loss)"
   ]
  }
 ],
 "metadata": {
  "kernelspec": {
   "display_name": "Python 3",
   "language": "python",
   "name": "python3"
  },
  "language_info": {
   "codemirror_mode": {
    "name": "ipython",
    "version": 3
   },
   "file_extension": ".py",
   "mimetype": "text/x-python",
   "name": "python",
   "nbconvert_exporter": "python",
   "pygments_lexer": "ipython3",
   "version": "3.10.10"
  },
  "vscode": {
   "interpreter": {
    "hash": "e593ac106456af50ce7af38f9671c411b49d6cd90f9b885e167f0f594e09038c"
   }
  }
 },
 "nbformat": 4,
 "nbformat_minor": 5
}
