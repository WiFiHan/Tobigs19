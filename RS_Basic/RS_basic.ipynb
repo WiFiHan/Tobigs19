{
  "cells": [
    {
      "cell_type": "code",
      "execution_count": 1,
      "metadata": {
        "id": "4Oq-cnoGgZev"
      },
      "outputs": [],
      "source": [
        "import pandas as pd\n",
        "import numpy as np\n",
        "import matplotlib.pyplot as plt"
      ]
    },
    {
      "cell_type": "code",
      "execution_count": 3,
      "metadata": {
        "id": "5uQWB-AJg2nh"
      },
      "outputs": [],
      "source": [
        "ratings_df = pd.read_csv('./rsprac/ratings.csv')\n",
        "tags_df = pd.read_csv('./rsprac/tags.csv')\n",
        "movies_df = pd.read_csv('./rsprac/movies.csv')"
      ]
    },
    {
      "cell_type": "code",
      "execution_count": 4,
      "metadata": {
        "colab": {
          "base_uri": "https://localhost:8080/",
          "height": 206
        },
        "id": "cNEIxjJ-hPTN",
        "outputId": "eb807d97-50fb-48c4-8522-7a7c0ad7cc2d"
      },
      "outputs": [
        {
          "data": {
            "text/html": [
              "<div>\n",
              "<style scoped>\n",
              "    .dataframe tbody tr th:only-of-type {\n",
              "        vertical-align: middle;\n",
              "    }\n",
              "\n",
              "    .dataframe tbody tr th {\n",
              "        vertical-align: top;\n",
              "    }\n",
              "\n",
              "    .dataframe thead th {\n",
              "        text-align: right;\n",
              "    }\n",
              "</style>\n",
              "<table border=\"1\" class=\"dataframe\">\n",
              "  <thead>\n",
              "    <tr style=\"text-align: right;\">\n",
              "      <th></th>\n",
              "      <th>userId</th>\n",
              "      <th>movieId</th>\n",
              "      <th>rating</th>\n",
              "      <th>timestamp</th>\n",
              "    </tr>\n",
              "  </thead>\n",
              "  <tbody>\n",
              "    <tr>\n",
              "      <th>0</th>\n",
              "      <td>1</td>\n",
              "      <td>1</td>\n",
              "      <td>4.0</td>\n",
              "      <td>964982703</td>\n",
              "    </tr>\n",
              "    <tr>\n",
              "      <th>1</th>\n",
              "      <td>1</td>\n",
              "      <td>3</td>\n",
              "      <td>4.0</td>\n",
              "      <td>964981247</td>\n",
              "    </tr>\n",
              "    <tr>\n",
              "      <th>2</th>\n",
              "      <td>1</td>\n",
              "      <td>6</td>\n",
              "      <td>4.0</td>\n",
              "      <td>964982224</td>\n",
              "    </tr>\n",
              "    <tr>\n",
              "      <th>3</th>\n",
              "      <td>1</td>\n",
              "      <td>47</td>\n",
              "      <td>5.0</td>\n",
              "      <td>964983815</td>\n",
              "    </tr>\n",
              "    <tr>\n",
              "      <th>4</th>\n",
              "      <td>1</td>\n",
              "      <td>50</td>\n",
              "      <td>5.0</td>\n",
              "      <td>964982931</td>\n",
              "    </tr>\n",
              "  </tbody>\n",
              "</table>\n",
              "</div>"
            ],
            "text/plain": [
              "   userId  movieId  rating  timestamp\n",
              "0       1        1     4.0  964982703\n",
              "1       1        3     4.0  964981247\n",
              "2       1        6     4.0  964982224\n",
              "3       1       47     5.0  964983815\n",
              "4       1       50     5.0  964982931"
            ]
          },
          "execution_count": 4,
          "metadata": {},
          "output_type": "execute_result"
        }
      ],
      "source": [
        "ratings_df.head()"
      ]
    },
    {
      "cell_type": "code",
      "execution_count": 5,
      "metadata": {
        "colab": {
          "base_uri": "https://localhost:8080/",
          "height": 206
        },
        "id": "YldEGKN2hRSK",
        "outputId": "65eca6a7-8102-4554-b4d6-78ef2fada812"
      },
      "outputs": [
        {
          "data": {
            "text/html": [
              "<div>\n",
              "<style scoped>\n",
              "    .dataframe tbody tr th:only-of-type {\n",
              "        vertical-align: middle;\n",
              "    }\n",
              "\n",
              "    .dataframe tbody tr th {\n",
              "        vertical-align: top;\n",
              "    }\n",
              "\n",
              "    .dataframe thead th {\n",
              "        text-align: right;\n",
              "    }\n",
              "</style>\n",
              "<table border=\"1\" class=\"dataframe\">\n",
              "  <thead>\n",
              "    <tr style=\"text-align: right;\">\n",
              "      <th></th>\n",
              "      <th>userId</th>\n",
              "      <th>movieId</th>\n",
              "      <th>tag</th>\n",
              "      <th>timestamp</th>\n",
              "    </tr>\n",
              "  </thead>\n",
              "  <tbody>\n",
              "    <tr>\n",
              "      <th>0</th>\n",
              "      <td>2</td>\n",
              "      <td>60756</td>\n",
              "      <td>funny</td>\n",
              "      <td>1445714994</td>\n",
              "    </tr>\n",
              "    <tr>\n",
              "      <th>1</th>\n",
              "      <td>2</td>\n",
              "      <td>60756</td>\n",
              "      <td>Highly quotable</td>\n",
              "      <td>1445714996</td>\n",
              "    </tr>\n",
              "    <tr>\n",
              "      <th>2</th>\n",
              "      <td>2</td>\n",
              "      <td>60756</td>\n",
              "      <td>will ferrell</td>\n",
              "      <td>1445714992</td>\n",
              "    </tr>\n",
              "    <tr>\n",
              "      <th>3</th>\n",
              "      <td>2</td>\n",
              "      <td>89774</td>\n",
              "      <td>Boxing story</td>\n",
              "      <td>1445715207</td>\n",
              "    </tr>\n",
              "    <tr>\n",
              "      <th>4</th>\n",
              "      <td>2</td>\n",
              "      <td>89774</td>\n",
              "      <td>MMA</td>\n",
              "      <td>1445715200</td>\n",
              "    </tr>\n",
              "  </tbody>\n",
              "</table>\n",
              "</div>"
            ],
            "text/plain": [
              "   userId  movieId              tag   timestamp\n",
              "0       2    60756            funny  1445714994\n",
              "1       2    60756  Highly quotable  1445714996\n",
              "2       2    60756     will ferrell  1445714992\n",
              "3       2    89774     Boxing story  1445715207\n",
              "4       2    89774              MMA  1445715200"
            ]
          },
          "execution_count": 5,
          "metadata": {},
          "output_type": "execute_result"
        }
      ],
      "source": [
        "tags_df.head()"
      ]
    },
    {
      "cell_type": "code",
      "execution_count": 6,
      "metadata": {
        "colab": {
          "base_uri": "https://localhost:8080/",
          "height": 206
        },
        "id": "lk9s4k0y25zh",
        "outputId": "4164b1e0-ea6f-48ac-a7aa-e041911a0df6"
      },
      "outputs": [
        {
          "data": {
            "text/html": [
              "<div>\n",
              "<style scoped>\n",
              "    .dataframe tbody tr th:only-of-type {\n",
              "        vertical-align: middle;\n",
              "    }\n",
              "\n",
              "    .dataframe tbody tr th {\n",
              "        vertical-align: top;\n",
              "    }\n",
              "\n",
              "    .dataframe thead th {\n",
              "        text-align: right;\n",
              "    }\n",
              "</style>\n",
              "<table border=\"1\" class=\"dataframe\">\n",
              "  <thead>\n",
              "    <tr style=\"text-align: right;\">\n",
              "      <th></th>\n",
              "      <th>movieId</th>\n",
              "      <th>title</th>\n",
              "      <th>genres</th>\n",
              "    </tr>\n",
              "  </thead>\n",
              "  <tbody>\n",
              "    <tr>\n",
              "      <th>0</th>\n",
              "      <td>1</td>\n",
              "      <td>Toy Story (1995)</td>\n",
              "      <td>Adventure|Animation|Children|Comedy|Fantasy</td>\n",
              "    </tr>\n",
              "    <tr>\n",
              "      <th>1</th>\n",
              "      <td>2</td>\n",
              "      <td>Jumanji (1995)</td>\n",
              "      <td>Adventure|Children|Fantasy</td>\n",
              "    </tr>\n",
              "    <tr>\n",
              "      <th>2</th>\n",
              "      <td>3</td>\n",
              "      <td>Grumpier Old Men (1995)</td>\n",
              "      <td>Comedy|Romance</td>\n",
              "    </tr>\n",
              "    <tr>\n",
              "      <th>3</th>\n",
              "      <td>4</td>\n",
              "      <td>Waiting to Exhale (1995)</td>\n",
              "      <td>Comedy|Drama|Romance</td>\n",
              "    </tr>\n",
              "    <tr>\n",
              "      <th>4</th>\n",
              "      <td>5</td>\n",
              "      <td>Father of the Bride Part II (1995)</td>\n",
              "      <td>Comedy</td>\n",
              "    </tr>\n",
              "  </tbody>\n",
              "</table>\n",
              "</div>"
            ],
            "text/plain": [
              "   movieId                               title  \\\n",
              "0        1                    Toy Story (1995)   \n",
              "1        2                      Jumanji (1995)   \n",
              "2        3             Grumpier Old Men (1995)   \n",
              "3        4            Waiting to Exhale (1995)   \n",
              "4        5  Father of the Bride Part II (1995)   \n",
              "\n",
              "                                        genres  \n",
              "0  Adventure|Animation|Children|Comedy|Fantasy  \n",
              "1                   Adventure|Children|Fantasy  \n",
              "2                               Comedy|Romance  \n",
              "3                         Comedy|Drama|Romance  \n",
              "4                                       Comedy  "
            ]
          },
          "execution_count": 6,
          "metadata": {},
          "output_type": "execute_result"
        }
      ],
      "source": [
        "movies_df.head()"
      ]
    },
    {
      "cell_type": "code",
      "execution_count": 7,
      "metadata": {
        "colab": {
          "base_uri": "https://localhost:8080/"
        },
        "id": "LzgpMQiovEjx",
        "outputId": "95557d82-44be-4c30-8354-6759024295f7"
      },
      "outputs": [
        {
          "data": {
            "text/plain": [
              "movieId    0\n",
              "title      0\n",
              "genres     0\n",
              "dtype: int64"
            ]
          },
          "execution_count": 7,
          "metadata": {},
          "output_type": "execute_result"
        }
      ],
      "source": [
        "movies_df = movies_df.replace([np.inf, -np.inf], np.nan)\n",
        "movies_df.isna().sum() #nan 없음."
      ]
    },
    {
      "cell_type": "code",
      "execution_count": 8,
      "metadata": {},
      "outputs": [
        {
          "data": {
            "text/html": [
              "<div>\n",
              "<style scoped>\n",
              "    .dataframe tbody tr th:only-of-type {\n",
              "        vertical-align: middle;\n",
              "    }\n",
              "\n",
              "    .dataframe tbody tr th {\n",
              "        vertical-align: top;\n",
              "    }\n",
              "\n",
              "    .dataframe thead th {\n",
              "        text-align: right;\n",
              "    }\n",
              "</style>\n",
              "<table border=\"1\" class=\"dataframe\">\n",
              "  <thead>\n",
              "    <tr style=\"text-align: right;\">\n",
              "      <th></th>\n",
              "      <th>movieId</th>\n",
              "      <th>title</th>\n",
              "      <th>genres</th>\n",
              "      <th>userId</th>\n",
              "      <th>rating</th>\n",
              "      <th>timestamp</th>\n",
              "    </tr>\n",
              "  </thead>\n",
              "  <tbody>\n",
              "    <tr>\n",
              "      <th>0</th>\n",
              "      <td>1</td>\n",
              "      <td>Toy Story (1995)</td>\n",
              "      <td>Adventure|Animation|Children|Comedy|Fantasy</td>\n",
              "      <td>1</td>\n",
              "      <td>4.0</td>\n",
              "      <td>964982703</td>\n",
              "    </tr>\n",
              "    <tr>\n",
              "      <th>1</th>\n",
              "      <td>1</td>\n",
              "      <td>Toy Story (1995)</td>\n",
              "      <td>Adventure|Animation|Children|Comedy|Fantasy</td>\n",
              "      <td>5</td>\n",
              "      <td>4.0</td>\n",
              "      <td>847434962</td>\n",
              "    </tr>\n",
              "    <tr>\n",
              "      <th>2</th>\n",
              "      <td>1</td>\n",
              "      <td>Toy Story (1995)</td>\n",
              "      <td>Adventure|Animation|Children|Comedy|Fantasy</td>\n",
              "      <td>7</td>\n",
              "      <td>4.5</td>\n",
              "      <td>1106635946</td>\n",
              "    </tr>\n",
              "    <tr>\n",
              "      <th>3</th>\n",
              "      <td>1</td>\n",
              "      <td>Toy Story (1995)</td>\n",
              "      <td>Adventure|Animation|Children|Comedy|Fantasy</td>\n",
              "      <td>15</td>\n",
              "      <td>2.5</td>\n",
              "      <td>1510577970</td>\n",
              "    </tr>\n",
              "    <tr>\n",
              "      <th>4</th>\n",
              "      <td>1</td>\n",
              "      <td>Toy Story (1995)</td>\n",
              "      <td>Adventure|Animation|Children|Comedy|Fantasy</td>\n",
              "      <td>17</td>\n",
              "      <td>4.5</td>\n",
              "      <td>1305696483</td>\n",
              "    </tr>\n",
              "    <tr>\n",
              "      <th>...</th>\n",
              "      <td>...</td>\n",
              "      <td>...</td>\n",
              "      <td>...</td>\n",
              "      <td>...</td>\n",
              "      <td>...</td>\n",
              "      <td>...</td>\n",
              "    </tr>\n",
              "    <tr>\n",
              "      <th>100831</th>\n",
              "      <td>193581</td>\n",
              "      <td>Black Butler: Book of the Atlantic (2017)</td>\n",
              "      <td>Action|Animation|Comedy|Fantasy</td>\n",
              "      <td>184</td>\n",
              "      <td>4.0</td>\n",
              "      <td>1537109082</td>\n",
              "    </tr>\n",
              "    <tr>\n",
              "      <th>100832</th>\n",
              "      <td>193583</td>\n",
              "      <td>No Game No Life: Zero (2017)</td>\n",
              "      <td>Animation|Comedy|Fantasy</td>\n",
              "      <td>184</td>\n",
              "      <td>3.5</td>\n",
              "      <td>1537109545</td>\n",
              "    </tr>\n",
              "    <tr>\n",
              "      <th>100833</th>\n",
              "      <td>193585</td>\n",
              "      <td>Flint (2017)</td>\n",
              "      <td>Drama</td>\n",
              "      <td>184</td>\n",
              "      <td>3.5</td>\n",
              "      <td>1537109805</td>\n",
              "    </tr>\n",
              "    <tr>\n",
              "      <th>100834</th>\n",
              "      <td>193587</td>\n",
              "      <td>Bungo Stray Dogs: Dead Apple (2018)</td>\n",
              "      <td>Action|Animation</td>\n",
              "      <td>184</td>\n",
              "      <td>3.5</td>\n",
              "      <td>1537110021</td>\n",
              "    </tr>\n",
              "    <tr>\n",
              "      <th>100835</th>\n",
              "      <td>193609</td>\n",
              "      <td>Andrew Dice Clay: Dice Rules (1991)</td>\n",
              "      <td>Comedy</td>\n",
              "      <td>331</td>\n",
              "      <td>4.0</td>\n",
              "      <td>1537157606</td>\n",
              "    </tr>\n",
              "  </tbody>\n",
              "</table>\n",
              "<p>100836 rows × 6 columns</p>\n",
              "</div>"
            ],
            "text/plain": [
              "        movieId                                      title  \\\n",
              "0             1                           Toy Story (1995)   \n",
              "1             1                           Toy Story (1995)   \n",
              "2             1                           Toy Story (1995)   \n",
              "3             1                           Toy Story (1995)   \n",
              "4             1                           Toy Story (1995)   \n",
              "...         ...                                        ...   \n",
              "100831   193581  Black Butler: Book of the Atlantic (2017)   \n",
              "100832   193583               No Game No Life: Zero (2017)   \n",
              "100833   193585                               Flint (2017)   \n",
              "100834   193587        Bungo Stray Dogs: Dead Apple (2018)   \n",
              "100835   193609        Andrew Dice Clay: Dice Rules (1991)   \n",
              "\n",
              "                                             genres  userId  rating  \\\n",
              "0       Adventure|Animation|Children|Comedy|Fantasy       1     4.0   \n",
              "1       Adventure|Animation|Children|Comedy|Fantasy       5     4.0   \n",
              "2       Adventure|Animation|Children|Comedy|Fantasy       7     4.5   \n",
              "3       Adventure|Animation|Children|Comedy|Fantasy      15     2.5   \n",
              "4       Adventure|Animation|Children|Comedy|Fantasy      17     4.5   \n",
              "...                                             ...     ...     ...   \n",
              "100831              Action|Animation|Comedy|Fantasy     184     4.0   \n",
              "100832                     Animation|Comedy|Fantasy     184     3.5   \n",
              "100833                                        Drama     184     3.5   \n",
              "100834                             Action|Animation     184     3.5   \n",
              "100835                                       Comedy     331     4.0   \n",
              "\n",
              "         timestamp  \n",
              "0        964982703  \n",
              "1        847434962  \n",
              "2       1106635946  \n",
              "3       1510577970  \n",
              "4       1305696483  \n",
              "...            ...  \n",
              "100831  1537109082  \n",
              "100832  1537109545  \n",
              "100833  1537109805  \n",
              "100834  1537110021  \n",
              "100835  1537157606  \n",
              "\n",
              "[100836 rows x 6 columns]"
            ]
          },
          "execution_count": 8,
          "metadata": {},
          "output_type": "execute_result"
        }
      ],
      "source": [
        "# 기본이 되는 병합: Rating 기준.\n",
        "\n",
        "merge_df = pd.merge(movies_df, ratings_df)\n",
        "merge_df"
      ]
    },
    {
      "cell_type": "code",
      "execution_count": 9,
      "metadata": {
        "id": "tk3lGnx-wQ8V"
      },
      "outputs": [
        {
          "data": {
            "text/plain": [
              "{'0000',\n",
              " '1900',\n",
              " '1910',\n",
              " '1920',\n",
              " '1930',\n",
              " '1940',\n",
              " '1950',\n",
              " '1960',\n",
              " '1970',\n",
              " '1980',\n",
              " '1990',\n",
              " '2000',\n",
              " '2010'}"
            ]
          },
          "execution_count": 9,
          "metadata": {},
          "output_type": "execute_result"
        }
      ],
      "source": [
        "#https://moojuksublime.tistory.com/13 참고.\n",
        "year = merge_df[\"title\"].apply(lambda x : x.strip()[-5:-1] if (x[-6] == '(' and x[-1] == ')') else '0000')\n",
        "\n",
        "# 10년주기로 묶고, era라는 칼럼으로 생성한다.\n",
        "merge_df['era'] = year.apply(lambda x : x[:3] + '0')\n",
        "set(merge_df['era'])"
      ]
    },
    {
      "cell_type": "code",
      "execution_count": 10,
      "metadata": {},
      "outputs": [
        {
          "data": {
            "text/plain": [
              "era\n",
              "0000       31\n",
              "1900        8\n",
              "1910        8\n",
              "1920      125\n",
              "1930      687\n",
              "1940     1101\n",
              "1950     1784\n",
              "1960     2858\n",
              "1970     4994\n",
              "1980    12912\n",
              "1990    37084\n",
              "2000    29762\n",
              "2010     9482\n",
              "Name: rating, dtype: int64"
            ]
          },
          "execution_count": 10,
          "metadata": {},
          "output_type": "execute_result"
        }
      ],
      "source": [
        "merge_df.groupby(['era']).count()['rating']"
      ]
    },
    {
      "cell_type": "code",
      "execution_count": 11,
      "metadata": {},
      "outputs": [
        {
          "name": "stderr",
          "output_type": "stream",
          "text": [
            "C:\\Users\\PC\\AppData\\Local\\Temp\\ipykernel_21776\\2365327029.py:1: FutureWarning: The default value of numeric_only in DataFrameGroupBy.mean is deprecated. In a future version, numeric_only will default to False. Either specify numeric_only or select only columns which should be valid for the function.\n",
            "  plt.plot(merge_df.groupby(['era']).mean()['rating'])\n"
          ]
        },
        {
          "data": {
            "text/plain": [
              "[<matplotlib.lines.Line2D at 0x19bcd84ab90>]"
            ]
          },
          "execution_count": 11,
          "metadata": {},
          "output_type": "execute_result"
        },
        {
          "data": {
            "image/png": "[encoded data removed]",
            "text/plain": [
              "<Figure size 640x480 with 1 Axes>"
            ]
          },
          "metadata": {},
          "output_type": "display_data"
        }
      ],
      "source": [
        "plt.plot(merge_df.groupby(['era']).mean()['rating'])"
      ]
    },
    {
      "attachments": {},
      "cell_type": "markdown",
      "metadata": {},
      "source": [
        "- 평균 평점은 1950년~1960년대 영화일수록 높아지고, 양 끝으로 갈수록 낮아지는 경향이 있다.\n",
        "- 1950~1960년대 영화는 1980년대 이후 영화에 비해 수가 적다는 점을 함께 보자.\n",
        "- 세울 수 있는 가설 중 하나는 오래 전 영화일수록 관람되고 평점을 매길 만하기 위해선 그만큼 명작이거나 고전으로 인정받아야 한다는 것이다.\n",
        "- 즉 오래 전 영화라서 평점이 높았다기보단, 평점이 높을 만한 영화였기에 데이터로 남을 만했다는 가설이다.\n",
        "- 1900~1930년대 영화는 사례수가 예외적으로 부족할뿐더러, 영화의 태동기로 실험적 영화가 많았기 때문에 평점이 낮을 수 있다."
      ]
    },
    {
      "attachments": {},
      "cell_type": "markdown",
      "metadata": {},
      "source": [
        "- 연도가 기록되지 않거나, 1920년대까지 발매된 영화는 무시할 수 있을 만큼 사례수가 적다."
      ]
    },
    {
      "cell_type": "code",
      "execution_count": 12,
      "metadata": {
        "colab": {
          "base_uri": "https://localhost:8080/"
        },
        "id": "uXAvZgSFwthu",
        "outputId": "b477e04d-174b-4083-9523-40504f38a9ee"
      },
      "outputs": [
        {
          "data": {
            "text/html": [
              "<div>\n",
              "<style scoped>\n",
              "    .dataframe tbody tr th:only-of-type {\n",
              "        vertical-align: middle;\n",
              "    }\n",
              "\n",
              "    .dataframe tbody tr th {\n",
              "        vertical-align: top;\n",
              "    }\n",
              "\n",
              "    .dataframe thead th {\n",
              "        text-align: right;\n",
              "    }\n",
              "</style>\n",
              "<table border=\"1\" class=\"dataframe\">\n",
              "  <thead>\n",
              "    <tr style=\"text-align: right;\">\n",
              "      <th></th>\n",
              "      <th>movieId</th>\n",
              "      <th>title</th>\n",
              "      <th>genres</th>\n",
              "      <th>userId</th>\n",
              "      <th>rating</th>\n",
              "      <th>timestamp</th>\n",
              "      <th>era</th>\n",
              "      <th>genreCount</th>\n",
              "    </tr>\n",
              "  </thead>\n",
              "  <tbody>\n",
              "    <tr>\n",
              "      <th>0</th>\n",
              "      <td>1</td>\n",
              "      <td>Toy Story (1995)</td>\n",
              "      <td>Adventure|Animation|Children|Comedy|Fantasy</td>\n",
              "      <td>1</td>\n",
              "      <td>4.0</td>\n",
              "      <td>964982703</td>\n",
              "      <td>1990</td>\n",
              "      <td>5</td>\n",
              "    </tr>\n",
              "    <tr>\n",
              "      <th>1</th>\n",
              "      <td>1</td>\n",
              "      <td>Toy Story (1995)</td>\n",
              "      <td>Adventure|Animation|Children|Comedy|Fantasy</td>\n",
              "      <td>5</td>\n",
              "      <td>4.0</td>\n",
              "      <td>847434962</td>\n",
              "      <td>1990</td>\n",
              "      <td>5</td>\n",
              "    </tr>\n",
              "    <tr>\n",
              "      <th>2</th>\n",
              "      <td>1</td>\n",
              "      <td>Toy Story (1995)</td>\n",
              "      <td>Adventure|Animation|Children|Comedy|Fantasy</td>\n",
              "      <td>7</td>\n",
              "      <td>4.5</td>\n",
              "      <td>1106635946</td>\n",
              "      <td>1990</td>\n",
              "      <td>5</td>\n",
              "    </tr>\n",
              "    <tr>\n",
              "      <th>3</th>\n",
              "      <td>1</td>\n",
              "      <td>Toy Story (1995)</td>\n",
              "      <td>Adventure|Animation|Children|Comedy|Fantasy</td>\n",
              "      <td>15</td>\n",
              "      <td>2.5</td>\n",
              "      <td>1510577970</td>\n",
              "      <td>1990</td>\n",
              "      <td>5</td>\n",
              "    </tr>\n",
              "    <tr>\n",
              "      <th>4</th>\n",
              "      <td>1</td>\n",
              "      <td>Toy Story (1995)</td>\n",
              "      <td>Adventure|Animation|Children|Comedy|Fantasy</td>\n",
              "      <td>17</td>\n",
              "      <td>4.5</td>\n",
              "      <td>1305696483</td>\n",
              "      <td>1990</td>\n",
              "      <td>5</td>\n",
              "    </tr>\n",
              "  </tbody>\n",
              "</table>\n",
              "</div>"
            ],
            "text/plain": [
              "   movieId             title                                       genres  \\\n",
              "0        1  Toy Story (1995)  Adventure|Animation|Children|Comedy|Fantasy   \n",
              "1        1  Toy Story (1995)  Adventure|Animation|Children|Comedy|Fantasy   \n",
              "2        1  Toy Story (1995)  Adventure|Animation|Children|Comedy|Fantasy   \n",
              "3        1  Toy Story (1995)  Adventure|Animation|Children|Comedy|Fantasy   \n",
              "4        1  Toy Story (1995)  Adventure|Animation|Children|Comedy|Fantasy   \n",
              "\n",
              "   userId  rating   timestamp   era  genreCount  \n",
              "0       1     4.0   964982703  1990           5  \n",
              "1       5     4.0   847434962  1990           5  \n",
              "2       7     4.5  1106635946  1990           5  \n",
              "3      15     2.5  1510577970  1990           5  \n",
              "4      17     4.5  1305696483  1990           5  "
            ]
          },
          "execution_count": 12,
          "metadata": {},
          "output_type": "execute_result"
        }
      ],
      "source": [
        "#genres를 list로 변환한 후, genres의 set을 도출한다.\n",
        "\n",
        "genres_df = merge_df[\"genres\"].apply(lambda x : x.split('|'))\n",
        "merge_df['genreCount'] = genres_df.apply(lambda x : len(x))\n",
        "merge_df.head()"
      ]
    },
    {
      "cell_type": "code",
      "execution_count": 13,
      "metadata": {},
      "outputs": [
        {
          "data": {
            "text/plain": [
              "genreCount\n",
              "1     16414\n",
              "2     28562\n",
              "3     31889\n",
              "4     16701\n",
              "5      5519\n",
              "6      1388\n",
              "7       360\n",
              "8         1\n",
              "10        2\n",
              "Name: rating, dtype: int64"
            ]
          },
          "execution_count": 13,
          "metadata": {},
          "output_type": "execute_result"
        }
      ],
      "source": [
        "merge_df.groupby(['genreCount']).count()['rating']"
      ]
    },
    {
      "attachments": {},
      "cell_type": "markdown",
      "metadata": {},
      "source": [
        "- genreCount가 8, 10인 데이터는 버리고 plot을 만들겠다."
      ]
    },
    {
      "cell_type": "code",
      "execution_count": 14,
      "metadata": {},
      "outputs": [
        {
          "name": "stderr",
          "output_type": "stream",
          "text": [
            "C:\\Users\\PC\\AppData\\Local\\Temp\\ipykernel_21776\\1838381061.py:1: FutureWarning: The default value of numeric_only in DataFrameGroupBy.mean is deprecated. In a future version, numeric_only will default to False. Either specify numeric_only or select only columns which should be valid for the function.\n",
            "  plt.plot(merge_df.groupby(['genreCount']).mean()['rating'][:7])\n",
            "C:\\Users\\PC\\AppData\\Local\\Temp\\ipykernel_21776\\1838381061.py:1: FutureWarning: The behavior of `series[i:j]` with an integer-dtype index is deprecated. In a future version, this will be treated as *label-based* indexing, consistent with e.g. `series[i]` lookups. To retain the old behavior, use `series.iloc[i:j]`. To get the future behavior, use `series.loc[i:j]`.\n",
            "  plt.plot(merge_df.groupby(['genreCount']).mean()['rating'][:7])\n"
          ]
        },
        {
          "data": {
            "text/plain": [
              "[<matplotlib.lines.Line2D at 0x19bd1bfe1a0>]"
            ]
          },
          "execution_count": 14,
          "metadata": {},
          "output_type": "execute_result"
        },
        {
          "data": {
            "image/png": "[encoded data removed]",
            "text/plain": [
              "<Figure size 640x480 with 1 Axes>"
            ]
          },
          "metadata": {},
          "output_type": "display_data"
        }
      ],
      "source": [
        "plt.plot(merge_df.groupby(['genreCount']).mean()['rating'][:7])"
      ]
    },
    {
      "attachments": {},
      "cell_type": "markdown",
      "metadata": {},
      "source": [
        "- 부여된 genre의 수가 많을수록 명확히 상승하는 추세가 발견된다.\n",
        "- genre가 너무 많아 영화가 난잡해지거나 메세지가 희석되는 효과보다,\n",
        "- 다양한 기호를 가진 시청자를 만족시키는 효과가 더 높다는 주장을 뒷받침하는 결과이다."
      ]
    },
    {
      "cell_type": "code",
      "execution_count": 15,
      "metadata": {},
      "outputs": [
        {
          "data": {
            "text/plain": [
              "['Comedy',\n",
              " 'Action',\n",
              " 'Crime',\n",
              " 'IMAX',\n",
              " 'Drama',\n",
              " 'Animation',\n",
              " 'Documentary',\n",
              " 'Thriller',\n",
              " 'Western',\n",
              " '(no genres listed)',\n",
              " 'War',\n",
              " 'Adventure',\n",
              " 'Fantasy',\n",
              " 'Romance',\n",
              " 'Film-Noir',\n",
              " 'Mystery',\n",
              " 'Horror',\n",
              " 'Musical',\n",
              " 'Sci-Fi',\n",
              " 'Children']"
            ]
          },
          "execution_count": 15,
          "metadata": {},
          "output_type": "execute_result"
        }
      ],
      "source": [
        "genres_set = list({genre for genres in genres_df for genre in genres})\n",
        "genres_set"
      ]
    },
    {
      "cell_type": "code",
      "execution_count": 16,
      "metadata": {
        "colab": {
          "base_uri": "https://localhost:8080/",
          "height": 351
        },
        "id": "PXzkqiyrwkaX",
        "outputId": "47ae6491-558c-4790-f774-ffe19eadb7c3"
      },
      "outputs": [
        {
          "name": "stderr",
          "output_type": "stream",
          "text": [
            "C:\\Users\\PC\\AppData\\Local\\Temp\\ipykernel_21776\\1483049991.py:4: UserWarning: This pattern is interpreted as a regular expression, and has match groups. To actually get the groups, use str.extract.\n",
            "  merge_df[genre] = merge_df['genres'].str.contains(genre).apply(int)\n"
          ]
        },
        {
          "data": {
            "text/html": [
              "<div>\n",
              "<style scoped>\n",
              "    .dataframe tbody tr th:only-of-type {\n",
              "        vertical-align: middle;\n",
              "    }\n",
              "\n",
              "    .dataframe tbody tr th {\n",
              "        vertical-align: top;\n",
              "    }\n",
              "\n",
              "    .dataframe thead th {\n",
              "        text-align: right;\n",
              "    }\n",
              "</style>\n",
              "<table border=\"1\" class=\"dataframe\">\n",
              "  <thead>\n",
              "    <tr style=\"text-align: right;\">\n",
              "      <th></th>\n",
              "      <th>movieId</th>\n",
              "      <th>title</th>\n",
              "      <th>genres</th>\n",
              "      <th>userId</th>\n",
              "      <th>rating</th>\n",
              "      <th>timestamp</th>\n",
              "      <th>era</th>\n",
              "      <th>genreCount</th>\n",
              "      <th>Comedy</th>\n",
              "      <th>Action</th>\n",
              "      <th>...</th>\n",
              "      <th>War</th>\n",
              "      <th>Adventure</th>\n",
              "      <th>Fantasy</th>\n",
              "      <th>Romance</th>\n",
              "      <th>Film-Noir</th>\n",
              "      <th>Mystery</th>\n",
              "      <th>Horror</th>\n",
              "      <th>Musical</th>\n",
              "      <th>Sci-Fi</th>\n",
              "      <th>Children</th>\n",
              "    </tr>\n",
              "  </thead>\n",
              "  <tbody>\n",
              "    <tr>\n",
              "      <th>0</th>\n",
              "      <td>1</td>\n",
              "      <td>Toy Story (1995)</td>\n",
              "      <td>Adventure|Animation|Children|Comedy|Fantasy</td>\n",
              "      <td>1</td>\n",
              "      <td>4.0</td>\n",
              "      <td>964982703</td>\n",
              "      <td>1990</td>\n",
              "      <td>5</td>\n",
              "      <td>1</td>\n",
              "      <td>0</td>\n",
              "      <td>...</td>\n",
              "      <td>0</td>\n",
              "      <td>1</td>\n",
              "      <td>1</td>\n",
              "      <td>0</td>\n",
              "      <td>0</td>\n",
              "      <td>0</td>\n",
              "      <td>0</td>\n",
              "      <td>0</td>\n",
              "      <td>0</td>\n",
              "      <td>1</td>\n",
              "    </tr>\n",
              "    <tr>\n",
              "      <th>1</th>\n",
              "      <td>1</td>\n",
              "      <td>Toy Story (1995)</td>\n",
              "      <td>Adventure|Animation|Children|Comedy|Fantasy</td>\n",
              "      <td>5</td>\n",
              "      <td>4.0</td>\n",
              "      <td>847434962</td>\n",
              "      <td>1990</td>\n",
              "      <td>5</td>\n",
              "      <td>1</td>\n",
              "      <td>0</td>\n",
              "      <td>...</td>\n",
              "      <td>0</td>\n",
              "      <td>1</td>\n",
              "      <td>1</td>\n",
              "      <td>0</td>\n",
              "      <td>0</td>\n",
              "      <td>0</td>\n",
              "      <td>0</td>\n",
              "      <td>0</td>\n",
              "      <td>0</td>\n",
              "      <td>1</td>\n",
              "    </tr>\n",
              "    <tr>\n",
              "      <th>2</th>\n",
              "      <td>1</td>\n",
              "      <td>Toy Story (1995)</td>\n",
              "      <td>Adventure|Animation|Children|Comedy|Fantasy</td>\n",
              "      <td>7</td>\n",
              "      <td>4.5</td>\n",
              "      <td>1106635946</td>\n",
              "      <td>1990</td>\n",
              "      <td>5</td>\n",
              "      <td>1</td>\n",
              "      <td>0</td>\n",
              "      <td>...</td>\n",
              "      <td>0</td>\n",
              "      <td>1</td>\n",
              "      <td>1</td>\n",
              "      <td>0</td>\n",
              "      <td>0</td>\n",
              "      <td>0</td>\n",
              "      <td>0</td>\n",
              "      <td>0</td>\n",
              "      <td>0</td>\n",
              "      <td>1</td>\n",
              "    </tr>\n",
              "    <tr>\n",
              "      <th>3</th>\n",
              "      <td>1</td>\n",
              "      <td>Toy Story (1995)</td>\n",
              "      <td>Adventure|Animation|Children|Comedy|Fantasy</td>\n",
              "      <td>15</td>\n",
              "      <td>2.5</td>\n",
              "      <td>1510577970</td>\n",
              "      <td>1990</td>\n",
              "      <td>5</td>\n",
              "      <td>1</td>\n",
              "      <td>0</td>\n",
              "      <td>...</td>\n",
              "      <td>0</td>\n",
              "      <td>1</td>\n",
              "      <td>1</td>\n",
              "      <td>0</td>\n",
              "      <td>0</td>\n",
              "      <td>0</td>\n",
              "      <td>0</td>\n",
              "      <td>0</td>\n",
              "      <td>0</td>\n",
              "      <td>1</td>\n",
              "    </tr>\n",
              "    <tr>\n",
              "      <th>4</th>\n",
              "      <td>1</td>\n",
              "      <td>Toy Story (1995)</td>\n",
              "      <td>Adventure|Animation|Children|Comedy|Fantasy</td>\n",
              "      <td>17</td>\n",
              "      <td>4.5</td>\n",
              "      <td>1305696483</td>\n",
              "      <td>1990</td>\n",
              "      <td>5</td>\n",
              "      <td>1</td>\n",
              "      <td>0</td>\n",
              "      <td>...</td>\n",
              "      <td>0</td>\n",
              "      <td>1</td>\n",
              "      <td>1</td>\n",
              "      <td>0</td>\n",
              "      <td>0</td>\n",
              "      <td>0</td>\n",
              "      <td>0</td>\n",
              "      <td>0</td>\n",
              "      <td>0</td>\n",
              "      <td>1</td>\n",
              "    </tr>\n",
              "  </tbody>\n",
              "</table>\n",
              "<p>5 rows × 28 columns</p>\n",
              "</div>"
            ],
            "text/plain": [
              "   movieId             title                                       genres  \\\n",
              "0        1  Toy Story (1995)  Adventure|Animation|Children|Comedy|Fantasy   \n",
              "1        1  Toy Story (1995)  Adventure|Animation|Children|Comedy|Fantasy   \n",
              "2        1  Toy Story (1995)  Adventure|Animation|Children|Comedy|Fantasy   \n",
              "3        1  Toy Story (1995)  Adventure|Animation|Children|Comedy|Fantasy   \n",
              "4        1  Toy Story (1995)  Adventure|Animation|Children|Comedy|Fantasy   \n",
              "\n",
              "   userId  rating   timestamp   era  genreCount  Comedy  Action  ...  War  \\\n",
              "0       1     4.0   964982703  1990           5       1       0  ...    0   \n",
              "1       5     4.0   847434962  1990           5       1       0  ...    0   \n",
              "2       7     4.5  1106635946  1990           5       1       0  ...    0   \n",
              "3      15     2.5  1510577970  1990           5       1       0  ...    0   \n",
              "4      17     4.5  1305696483  1990           5       1       0  ...    0   \n",
              "\n",
              "   Adventure  Fantasy  Romance  Film-Noir  Mystery  Horror  Musical  Sci-Fi  \\\n",
              "0          1        1        0          0        0       0        0       0   \n",
              "1          1        1        0          0        0       0        0       0   \n",
              "2          1        1        0          0        0       0        0       0   \n",
              "3          1        1        0          0        0       0        0       0   \n",
              "4          1        1        0          0        0       0        0       0   \n",
              "\n",
              "   Children  \n",
              "0         1  \n",
              "1         1  \n",
              "2         1  \n",
              "3         1  \n",
              "4         1  \n",
              "\n",
              "[5 rows x 28 columns]"
            ]
          },
          "execution_count": 16,
          "metadata": {},
          "output_type": "execute_result"
        }
      ],
      "source": [
        "#genres를 binary column으로 변환하기 위한 작업.\n",
        "\n",
        "for genre in genres_set:\n",
        "  merge_df[genre] = merge_df['genres'].str.contains(genre).apply(int)\n",
        "\n",
        "merge_df.head()"
      ]
    },
    {
      "cell_type": "code",
      "execution_count": 35,
      "metadata": {},
      "outputs": [
        {
          "data": {
            "text/plain": [
              "<AxesSubplot: >"
            ]
          },
          "execution_count": 35,
          "metadata": {},
          "output_type": "execute_result"
        },
        {
          "data": {
            "image/png": "[encoded data removed]",
            "text/plain": [
              "<Figure size 640x480 with 1 Axes>"
            ]
          },
          "metadata": {},
          "output_type": "display_data"
        }
      ],
      "source": [
        "# 장르별 보편성을 알아보기 위해 '건수'를 분석하겠다.\n",
        "\n",
        "genre_sum = (merge_df.drop(['movieId', 'title', 'genres', 'userId', 'rating', 'timestamp', 'era', 'genreCount'], axis = 1)).sum()\n",
        "genre_sum = genre_sum.sort_values()\n",
        "genre_sum.plot.bar()"
      ]
    },
    {
      "attachments": {},
      "cell_type": "markdown",
      "metadata": {},
      "source": [
        "- Rating 건수에 따라 정렬했을 때 Drama, Comedy, Action 등의 건수가 가장 많았으며,\n",
        "- Film-Noir, Documentary, War 등은 건수가 가장 적은 축에 속했다.\n",
        "- 그러나 장르별 평점을 분석하면 다른 양상이 나타난다."
      ]
    },
    {
      "cell_type": "code",
      "execution_count": 17,
      "metadata": {},
      "outputs": [
        {
          "data": {
            "text/plain": [
              "20"
            ]
          },
          "execution_count": 17,
          "metadata": {},
          "output_type": "execute_result"
        }
      ],
      "source": [
        "#각 장르별로, 구분이 있을 때와 없을 때를 비교하겠다.\n",
        "\n",
        "len(genres_set)"
      ]
    },
    {
      "cell_type": "code",
      "execution_count": 23,
      "metadata": {},
      "outputs": [
        {
          "name": "stderr",
          "output_type": "stream",
          "text": [
            "C:\\Users\\PC\\AppData\\Local\\Temp\\ipykernel_21776\\3414554271.py:7: FutureWarning: The default value of numeric_only in DataFrameGroupBy.mean is deprecated. In a future version, numeric_only will default to False. Either specify numeric_only or select only columns which should be valid for the function.\n",
            "  axes[(i//5), (i%5)].bar([0, 1], merge_df.groupby(genres_set[i]).mean()['rating'])\n",
            "C:\\Users\\PC\\AppData\\Local\\Temp\\ipykernel_21776\\3414554271.py:7: FutureWarning: The default value of numeric_only in DataFrameGroupBy.mean is deprecated. In a future version, numeric_only will default to False. Either specify numeric_only or select only columns which should be valid for the function.\n",
            "  axes[(i//5), (i%5)].bar([0, 1], merge_df.groupby(genres_set[i]).mean()['rating'])\n",
            "C:\\Users\\PC\\AppData\\Local\\Temp\\ipykernel_21776\\3414554271.py:7: FutureWarning: The default value of numeric_only in DataFrameGroupBy.mean is deprecated. In a future version, numeric_only will default to False. Either specify numeric_only or select only columns which should be valid for the function.\n",
            "  axes[(i//5), (i%5)].bar([0, 1], merge_df.groupby(genres_set[i]).mean()['rating'])\n",
            "C:\\Users\\PC\\AppData\\Local\\Temp\\ipykernel_21776\\3414554271.py:7: FutureWarning: The default value of numeric_only in DataFrameGroupBy.mean is deprecated. In a future version, numeric_only will default to False. Either specify numeric_only or select only columns which should be valid for the function.\n",
            "  axes[(i//5), (i%5)].bar([0, 1], merge_df.groupby(genres_set[i]).mean()['rating'])\n",
            "C:\\Users\\PC\\AppData\\Local\\Temp\\ipykernel_21776\\3414554271.py:7: FutureWarning: The default value of numeric_only in DataFrameGroupBy.mean is deprecated. In a future version, numeric_only will default to False. Either specify numeric_only or select only columns which should be valid for the function.\n",
            "  axes[(i//5), (i%5)].bar([0, 1], merge_df.groupby(genres_set[i]).mean()['rating'])\n",
            "C:\\Users\\PC\\AppData\\Local\\Temp\\ipykernel_21776\\3414554271.py:7: FutureWarning: The default value of numeric_only in DataFrameGroupBy.mean is deprecated. In a future version, numeric_only will default to False. Either specify numeric_only or select only columns which should be valid for the function.\n",
            "  axes[(i//5), (i%5)].bar([0, 1], merge_df.groupby(genres_set[i]).mean()['rating'])\n",
            "C:\\Users\\PC\\AppData\\Local\\Temp\\ipykernel_21776\\3414554271.py:7: FutureWarning: The default value of numeric_only in DataFrameGroupBy.mean is deprecated. In a future version, numeric_only will default to False. Either specify numeric_only or select only columns which should be valid for the function.\n",
            "  axes[(i//5), (i%5)].bar([0, 1], merge_df.groupby(genres_set[i]).mean()['rating'])\n",
            "C:\\Users\\PC\\AppData\\Local\\Temp\\ipykernel_21776\\3414554271.py:7: FutureWarning: The default value of numeric_only in DataFrameGroupBy.mean is deprecated. In a future version, numeric_only will default to False. Either specify numeric_only or select only columns which should be valid for the function.\n",
            "  axes[(i//5), (i%5)].bar([0, 1], merge_df.groupby(genres_set[i]).mean()['rating'])\n",
            "C:\\Users\\PC\\AppData\\Local\\Temp\\ipykernel_21776\\3414554271.py:7: FutureWarning: The default value of numeric_only in DataFrameGroupBy.mean is deprecated. In a future version, numeric_only will default to False. Either specify numeric_only or select only columns which should be valid for the function.\n",
            "  axes[(i//5), (i%5)].bar([0, 1], merge_df.groupby(genres_set[i]).mean()['rating'])\n",
            "C:\\Users\\PC\\AppData\\Local\\Temp\\ipykernel_21776\\3414554271.py:7: FutureWarning: The default value of numeric_only in DataFrameGroupBy.mean is deprecated. In a future version, numeric_only will default to False. Either specify numeric_only or select only columns which should be valid for the function.\n",
            "  axes[(i//5), (i%5)].bar([0, 1], merge_df.groupby(genres_set[i]).mean()['rating'])\n",
            "C:\\Users\\PC\\AppData\\Local\\Temp\\ipykernel_21776\\3414554271.py:7: FutureWarning: The default value of numeric_only in DataFrameGroupBy.mean is deprecated. In a future version, numeric_only will default to False. Either specify numeric_only or select only columns which should be valid for the function.\n",
            "  axes[(i//5), (i%5)].bar([0, 1], merge_df.groupby(genres_set[i]).mean()['rating'])\n",
            "C:\\Users\\PC\\AppData\\Local\\Temp\\ipykernel_21776\\3414554271.py:7: FutureWarning: The default value of numeric_only in DataFrameGroupBy.mean is deprecated. In a future version, numeric_only will default to False. Either specify numeric_only or select only columns which should be valid for the function.\n",
            "  axes[(i//5), (i%5)].bar([0, 1], merge_df.groupby(genres_set[i]).mean()['rating'])\n",
            "C:\\Users\\PC\\AppData\\Local\\Temp\\ipykernel_21776\\3414554271.py:7: FutureWarning: The default value of numeric_only in DataFrameGroupBy.mean is deprecated. In a future version, numeric_only will default to False. Either specify numeric_only or select only columns which should be valid for the function.\n",
            "  axes[(i//5), (i%5)].bar([0, 1], merge_df.groupby(genres_set[i]).mean()['rating'])\n",
            "C:\\Users\\PC\\AppData\\Local\\Temp\\ipykernel_21776\\3414554271.py:7: FutureWarning: The default value of numeric_only in DataFrameGroupBy.mean is deprecated. In a future version, numeric_only will default to False. Either specify numeric_only or select only columns which should be valid for the function.\n",
            "  axes[(i//5), (i%5)].bar([0, 1], merge_df.groupby(genres_set[i]).mean()['rating'])\n",
            "C:\\Users\\PC\\AppData\\Local\\Temp\\ipykernel_21776\\3414554271.py:7: FutureWarning: The default value of numeric_only in DataFrameGroupBy.mean is deprecated. In a future version, numeric_only will default to False. Either specify numeric_only or select only columns which should be valid for the function.\n",
            "  axes[(i//5), (i%5)].bar([0, 1], merge_df.groupby(genres_set[i]).mean()['rating'])\n",
            "C:\\Users\\PC\\AppData\\Local\\Temp\\ipykernel_21776\\3414554271.py:7: FutureWarning: The default value of numeric_only in DataFrameGroupBy.mean is deprecated. In a future version, numeric_only will default to False. Either specify numeric_only or select only columns which should be valid for the function.\n",
            "  axes[(i//5), (i%5)].bar([0, 1], merge_df.groupby(genres_set[i]).mean()['rating'])\n",
            "C:\\Users\\PC\\AppData\\Local\\Temp\\ipykernel_21776\\3414554271.py:7: FutureWarning: The default value of numeric_only in DataFrameGroupBy.mean is deprecated. In a future version, numeric_only will default to False. Either specify numeric_only or select only columns which should be valid for the function.\n",
            "  axes[(i//5), (i%5)].bar([0, 1], merge_df.groupby(genres_set[i]).mean()['rating'])\n",
            "C:\\Users\\PC\\AppData\\Local\\Temp\\ipykernel_21776\\3414554271.py:7: FutureWarning: The default value of numeric_only in DataFrameGroupBy.mean is deprecated. In a future version, numeric_only will default to False. Either specify numeric_only or select only columns which should be valid for the function.\n",
            "  axes[(i//5), (i%5)].bar([0, 1], merge_df.groupby(genres_set[i]).mean()['rating'])\n",
            "C:\\Users\\PC\\AppData\\Local\\Temp\\ipykernel_21776\\3414554271.py:7: FutureWarning: The default value of numeric_only in DataFrameGroupBy.mean is deprecated. In a future version, numeric_only will default to False. Either specify numeric_only or select only columns which should be valid for the function.\n",
            "  axes[(i//5), (i%5)].bar([0, 1], merge_df.groupby(genres_set[i]).mean()['rating'])\n",
            "C:\\Users\\PC\\AppData\\Local\\Temp\\ipykernel_21776\\3414554271.py:7: FutureWarning: The default value of numeric_only in DataFrameGroupBy.mean is deprecated. In a future version, numeric_only will default to False. Either specify numeric_only or select only columns which should be valid for the function.\n",
            "  axes[(i//5), (i%5)].bar([0, 1], merge_df.groupby(genres_set[i]).mean()['rating'])\n"
          ]
        },
        {
          "data": {
            "image/png": "[encoded data removed]",
            "text/plain": [
              "<Figure size 2000x1500 with 20 Axes>"
            ]
          },
          "metadata": {},
          "output_type": "display_data"
        }
      ],
      "source": [
        "f, axes = plt.subplots(4, 5)\n",
        "f.set_size_inches((20, 15))\n",
        "\n",
        "for i in range(len(genres_set)):\n",
        "  axes[(i//5), (i%5)].set_ylim([3.0, 4.0])\n",
        "  axes[(i//5), (i%5)].set_title(genres_set[i])\n",
        "  axes[(i//5), (i%5)].bar([0, 1], merge_df.groupby(genres_set[i]).mean()['rating'])"
      ]
    },
    {
      "attachments": {},
      "cell_type": "markdown",
      "metadata": {},
      "source": [
        "- Comedy, Action, Horror, Sci-Fi, Children 장르가 부여된 영화는 그렇지 않은 영화보다 평균 평점이 유의하게 더 낮았다.\n",
        "- Crime, IMAX, Drama, Animation, Documentary, Western, War, Film-Noir, Mystery, Musical 장르가 부여된 영화는 그렇지 않은 영화보다 평균 평점이 유의하게 더 높았다.\n",
        "- Thriller, Adventure, Fantasy, Romance 장르가 부여된 영화는 그렇지 않은 영화와 평균 평점이 비슷했다."
      ]
    },
    {
      "cell_type": "code",
      "execution_count": 50,
      "metadata": {
        "id": "207DT7PdvPUG"
      },
      "outputs": [
        {
          "data": {
            "text/plain": [
              "<AxesSubplot: xlabel='hour'>"
            ]
          },
          "execution_count": 50,
          "metadata": {},
          "output_type": "execute_result"
        },
        {
          "data": {
            "image/png": "[encoded data removed]",
            "text/plain": [
              "<Figure size 640x480 with 1 Axes>"
            ]
          },
          "metadata": {},
          "output_type": "display_data"
        }
      ],
      "source": [
        "# 평점을 매긴 시간대에 따라서도 평균 평점이 달라지는가?\n",
        "# 우선 시간대별 건수를 먼저 보자.\n",
        "\n",
        "import datetime\n",
        "\n",
        "timestamp = merge_df['timestamp'].apply(datetime.datetime.fromtimestamp)\n",
        "timestamp = timestamp.apply(lambda x : x.hour)\n",
        "merge_df['hour'] = timestamp\n",
        "merge_df.groupby(['hour']).count()['rating'].plot()\n"
      ]
    },
    {
      "cell_type": "code",
      "execution_count": 51,
      "metadata": {},
      "outputs": [
        {
          "name": "stderr",
          "output_type": "stream",
          "text": [
            "C:\\Users\\PC\\AppData\\Local\\Temp\\ipykernel_21776\\253234681.py:3: FutureWarning: The default value of numeric_only in DataFrameGroupBy.mean is deprecated. In a future version, numeric_only will default to False. Either specify numeric_only or select only columns which should be valid for the function.\n",
            "  merge_df.groupby(['hour']).mean()['rating'].plot()\n"
          ]
        },
        {
          "data": {
            "text/plain": [
              "<AxesSubplot: xlabel='hour'>"
            ]
          },
          "execution_count": 51,
          "metadata": {},
          "output_type": "execute_result"
        },
        {
          "data": {
            "image/png": "[encoded data removed]",
            "text/plain": [
              "<Figure size 640x480 with 1 Axes>"
            ]
          },
          "metadata": {},
          "output_type": "display_data"
        }
      ],
      "source": [
        "#평균평점을 보겠다.\n",
        "\n",
        "merge_df.groupby(['hour']).mean()['rating'].plot()"
      ]
    },
    {
      "attachments": {},
      "cell_type": "markdown",
      "metadata": {},
      "source": [
        "- 평점이 업로드된 시간대에 따라 명확한 경향이 발생하는 것을 확인했다. \n",
        "- GMT 기준 0~6시에 업로드된 평점의 건수가 가장 많지만,\n",
        "- 평균 평점은 5~6시에 가장 낮아져 오히려 15시에 가장 높아지는 경향을 확인하였다.\n",
        "- 그러나 이것이 낮과 밤에 정확히 대응하는지 알기 위해선 사용자의 국가를 정확히 알아야 하기 때문에 이상의 분석은 어렵다.\n",
        "- 만약 평점을 업로드한 시간을 유저의 위치정보와 함께 활용한다면, 인간의 생체 리듬에 따라 평점이 어떻게 바뀌는지에 관한 더 자세한 분석이 가능할 것이다. "
      ]
    },
    {
      "cell_type": "code",
      "execution_count": 71,
      "metadata": {},
      "outputs": [],
      "source": [
        "from surprise import Dataset, Reader\n",
        "from surprise import accuracy"
      ]
    },
    {
      "cell_type": "code",
      "execution_count": 53,
      "metadata": {},
      "outputs": [
        {
          "data": {
            "text/html": [
              "<div>\n",
              "<style scoped>\n",
              "    .dataframe tbody tr th:only-of-type {\n",
              "        vertical-align: middle;\n",
              "    }\n",
              "\n",
              "    .dataframe tbody tr th {\n",
              "        vertical-align: top;\n",
              "    }\n",
              "\n",
              "    .dataframe thead th {\n",
              "        text-align: right;\n",
              "    }\n",
              "</style>\n",
              "<table border=\"1\" class=\"dataframe\">\n",
              "  <thead>\n",
              "    <tr style=\"text-align: right;\">\n",
              "      <th></th>\n",
              "      <th>movieId</th>\n",
              "      <th>title</th>\n",
              "      <th>genres</th>\n",
              "      <th>userId</th>\n",
              "      <th>rating</th>\n",
              "      <th>timestamp</th>\n",
              "      <th>era</th>\n",
              "      <th>genreCount</th>\n",
              "      <th>Comedy</th>\n",
              "      <th>Action</th>\n",
              "      <th>...</th>\n",
              "      <th>Adventure</th>\n",
              "      <th>Fantasy</th>\n",
              "      <th>Romance</th>\n",
              "      <th>Film-Noir</th>\n",
              "      <th>Mystery</th>\n",
              "      <th>Horror</th>\n",
              "      <th>Musical</th>\n",
              "      <th>Sci-Fi</th>\n",
              "      <th>Children</th>\n",
              "      <th>hour</th>\n",
              "    </tr>\n",
              "  </thead>\n",
              "  <tbody>\n",
              "    <tr>\n",
              "      <th>0</th>\n",
              "      <td>1</td>\n",
              "      <td>Toy Story (1995)</td>\n",
              "      <td>Adventure|Animation|Children|Comedy|Fantasy</td>\n",
              "      <td>1</td>\n",
              "      <td>4.0</td>\n",
              "      <td>964982703</td>\n",
              "      <td>1990</td>\n",
              "      <td>5</td>\n",
              "      <td>1</td>\n",
              "      <td>0</td>\n",
              "      <td>...</td>\n",
              "      <td>1</td>\n",
              "      <td>1</td>\n",
              "      <td>0</td>\n",
              "      <td>0</td>\n",
              "      <td>0</td>\n",
              "      <td>0</td>\n",
              "      <td>0</td>\n",
              "      <td>0</td>\n",
              "      <td>1</td>\n",
              "      <td>3</td>\n",
              "    </tr>\n",
              "    <tr>\n",
              "      <th>1</th>\n",
              "      <td>1</td>\n",
              "      <td>Toy Story (1995)</td>\n",
              "      <td>Adventure|Animation|Children|Comedy|Fantasy</td>\n",
              "      <td>5</td>\n",
              "      <td>4.0</td>\n",
              "      <td>847434962</td>\n",
              "      <td>1990</td>\n",
              "      <td>5</td>\n",
              "      <td>1</td>\n",
              "      <td>0</td>\n",
              "      <td>...</td>\n",
              "      <td>1</td>\n",
              "      <td>1</td>\n",
              "      <td>0</td>\n",
              "      <td>0</td>\n",
              "      <td>0</td>\n",
              "      <td>0</td>\n",
              "      <td>0</td>\n",
              "      <td>0</td>\n",
              "      <td>1</td>\n",
              "      <td>15</td>\n",
              "    </tr>\n",
              "    <tr>\n",
              "      <th>2</th>\n",
              "      <td>1</td>\n",
              "      <td>Toy Story (1995)</td>\n",
              "      <td>Adventure|Animation|Children|Comedy|Fantasy</td>\n",
              "      <td>7</td>\n",
              "      <td>4.5</td>\n",
              "      <td>1106635946</td>\n",
              "      <td>1990</td>\n",
              "      <td>5</td>\n",
              "      <td>1</td>\n",
              "      <td>0</td>\n",
              "      <td>...</td>\n",
              "      <td>1</td>\n",
              "      <td>1</td>\n",
              "      <td>0</td>\n",
              "      <td>0</td>\n",
              "      <td>0</td>\n",
              "      <td>0</td>\n",
              "      <td>0</td>\n",
              "      <td>0</td>\n",
              "      <td>1</td>\n",
              "      <td>15</td>\n",
              "    </tr>\n",
              "    <tr>\n",
              "      <th>3</th>\n",
              "      <td>1</td>\n",
              "      <td>Toy Story (1995)</td>\n",
              "      <td>Adventure|Animation|Children|Comedy|Fantasy</td>\n",
              "      <td>15</td>\n",
              "      <td>2.5</td>\n",
              "      <td>1510577970</td>\n",
              "      <td>1990</td>\n",
              "      <td>5</td>\n",
              "      <td>1</td>\n",
              "      <td>0</td>\n",
              "      <td>...</td>\n",
              "      <td>1</td>\n",
              "      <td>1</td>\n",
              "      <td>0</td>\n",
              "      <td>0</td>\n",
              "      <td>0</td>\n",
              "      <td>0</td>\n",
              "      <td>0</td>\n",
              "      <td>0</td>\n",
              "      <td>1</td>\n",
              "      <td>21</td>\n",
              "    </tr>\n",
              "    <tr>\n",
              "      <th>4</th>\n",
              "      <td>1</td>\n",
              "      <td>Toy Story (1995)</td>\n",
              "      <td>Adventure|Animation|Children|Comedy|Fantasy</td>\n",
              "      <td>17</td>\n",
              "      <td>4.5</td>\n",
              "      <td>1305696483</td>\n",
              "      <td>1990</td>\n",
              "      <td>5</td>\n",
              "      <td>1</td>\n",
              "      <td>0</td>\n",
              "      <td>...</td>\n",
              "      <td>1</td>\n",
              "      <td>1</td>\n",
              "      <td>0</td>\n",
              "      <td>0</td>\n",
              "      <td>0</td>\n",
              "      <td>0</td>\n",
              "      <td>0</td>\n",
              "      <td>0</td>\n",
              "      <td>1</td>\n",
              "      <td>14</td>\n",
              "    </tr>\n",
              "  </tbody>\n",
              "</table>\n",
              "<p>5 rows × 29 columns</p>\n",
              "</div>"
            ],
            "text/plain": [
              "   movieId             title                                       genres  \\\n",
              "0        1  Toy Story (1995)  Adventure|Animation|Children|Comedy|Fantasy   \n",
              "1        1  Toy Story (1995)  Adventure|Animation|Children|Comedy|Fantasy   \n",
              "2        1  Toy Story (1995)  Adventure|Animation|Children|Comedy|Fantasy   \n",
              "3        1  Toy Story (1995)  Adventure|Animation|Children|Comedy|Fantasy   \n",
              "4        1  Toy Story (1995)  Adventure|Animation|Children|Comedy|Fantasy   \n",
              "\n",
              "   userId  rating   timestamp   era  genreCount  Comedy  Action  ...  \\\n",
              "0       1     4.0   964982703  1990           5       1       0  ...   \n",
              "1       5     4.0   847434962  1990           5       1       0  ...   \n",
              "2       7     4.5  1106635946  1990           5       1       0  ...   \n",
              "3      15     2.5  1510577970  1990           5       1       0  ...   \n",
              "4      17     4.5  1305696483  1990           5       1       0  ...   \n",
              "\n",
              "   Adventure  Fantasy  Romance  Film-Noir  Mystery  Horror  Musical  Sci-Fi  \\\n",
              "0          1        1        0          0        0       0        0       0   \n",
              "1          1        1        0          0        0       0        0       0   \n",
              "2          1        1        0          0        0       0        0       0   \n",
              "3          1        1        0          0        0       0        0       0   \n",
              "4          1        1        0          0        0       0        0       0   \n",
              "\n",
              "   Children  hour  \n",
              "0         1     3  \n",
              "1         1    15  \n",
              "2         1    15  \n",
              "3         1    21  \n",
              "4         1    14  \n",
              "\n",
              "[5 rows x 29 columns]"
            ]
          },
          "execution_count": 53,
          "metadata": {},
          "output_type": "execute_result"
        }
      ],
      "source": [
        "merge_df.head()"
      ]
    },
    {
      "cell_type": "code",
      "execution_count": 57,
      "metadata": {},
      "outputs": [
        {
          "data": {
            "text/html": [
              "<div>\n",
              "<style scoped>\n",
              "    .dataframe tbody tr th:only-of-type {\n",
              "        vertical-align: middle;\n",
              "    }\n",
              "\n",
              "    .dataframe tbody tr th {\n",
              "        vertical-align: top;\n",
              "    }\n",
              "\n",
              "    .dataframe thead th {\n",
              "        text-align: right;\n",
              "    }\n",
              "</style>\n",
              "<table border=\"1\" class=\"dataframe\">\n",
              "  <thead>\n",
              "    <tr style=\"text-align: right;\">\n",
              "      <th></th>\n",
              "      <th>user_id</th>\n",
              "      <th>item_id</th>\n",
              "      <th>rating</th>\n",
              "    </tr>\n",
              "  </thead>\n",
              "  <tbody>\n",
              "    <tr>\n",
              "      <th>count</th>\n",
              "      <td>100836.000000</td>\n",
              "      <td>100836.000000</td>\n",
              "      <td>100836.000000</td>\n",
              "    </tr>\n",
              "    <tr>\n",
              "      <th>mean</th>\n",
              "      <td>326.127564</td>\n",
              "      <td>19435.295718</td>\n",
              "      <td>3.501557</td>\n",
              "    </tr>\n",
              "    <tr>\n",
              "      <th>std</th>\n",
              "      <td>182.618491</td>\n",
              "      <td>35530.987199</td>\n",
              "      <td>1.042529</td>\n",
              "    </tr>\n",
              "    <tr>\n",
              "      <th>min</th>\n",
              "      <td>1.000000</td>\n",
              "      <td>1.000000</td>\n",
              "      <td>0.500000</td>\n",
              "    </tr>\n",
              "    <tr>\n",
              "      <th>25%</th>\n",
              "      <td>177.000000</td>\n",
              "      <td>1199.000000</td>\n",
              "      <td>3.000000</td>\n",
              "    </tr>\n",
              "    <tr>\n",
              "      <th>50%</th>\n",
              "      <td>325.000000</td>\n",
              "      <td>2991.000000</td>\n",
              "      <td>3.500000</td>\n",
              "    </tr>\n",
              "    <tr>\n",
              "      <th>75%</th>\n",
              "      <td>477.000000</td>\n",
              "      <td>8122.000000</td>\n",
              "      <td>4.000000</td>\n",
              "    </tr>\n",
              "    <tr>\n",
              "      <th>max</th>\n",
              "      <td>610.000000</td>\n",
              "      <td>193609.000000</td>\n",
              "      <td>5.000000</td>\n",
              "    </tr>\n",
              "  </tbody>\n",
              "</table>\n",
              "</div>"
            ],
            "text/plain": [
              "             user_id        item_id         rating\n",
              "count  100836.000000  100836.000000  100836.000000\n",
              "mean      326.127564   19435.295718       3.501557\n",
              "std       182.618491   35530.987199       1.042529\n",
              "min         1.000000       1.000000       0.500000\n",
              "25%       177.000000    1199.000000       3.000000\n",
              "50%       325.000000    2991.000000       3.500000\n",
              "75%       477.000000    8122.000000       4.000000\n",
              "max       610.000000  193609.000000       5.000000"
            ]
          },
          "execution_count": 57,
          "metadata": {},
          "output_type": "execute_result"
        }
      ],
      "source": [
        "#데이터를 'user_id', 'item_id', 'rating' 으로 재정렬한다.\n",
        "\n",
        "df = merge_df[['userId', 'movieId', 'rating']]\n",
        "df = df.rename(columns={'userId':'user_id', 'movieId':'item_id'})\n",
        "df.describe()"
      ]
    },
    {
      "cell_type": "code",
      "execution_count": 58,
      "metadata": {},
      "outputs": [],
      "source": [
        "reader = Reader(rating_scale = (0.5, 5))\n",
        "data = Dataset.load_from_df(df = df, reader = reader)"
      ]
    },
    {
      "cell_type": "code",
      "execution_count": 68,
      "metadata": {},
      "outputs": [],
      "source": [
        "from surprise.model_selection import train_test_split\n",
        "train_data, test_data = train_test_split(data, test_size=0.25, random_state=0)"
      ]
    },
    {
      "cell_type": "code",
      "execution_count": 74,
      "metadata": {},
      "outputs": [
        {
          "name": "stdout",
          "output_type": "stream",
          "text": [
            "Computing the msd similarity matrix...\n",
            "Done computing similarity matrix.\n",
            "RMSE: 0.9457\n",
            "Computing the msd similarity matrix...\n",
            "Done computing similarity matrix.\n",
            "RMSE: 0.8942\n",
            "Computing the msd similarity matrix...\n",
            "Done computing similarity matrix.\n",
            "RMSE: 0.8935\n",
            "Estimating biases using als...\n",
            "Computing the msd similarity matrix...\n",
            "Done computing similarity matrix.\n",
            "RMSE: 0.8719\n"
          ]
        }
      ],
      "source": [
        "# https://data-science-hi.tistory.com/80 코드 참고.\n",
        "# Memory-based CF 모델\n",
        "\n",
        "from surprise import KNNWithMeans, KNNWithZScore, KNNBasic, KNNBaseline\n",
        "for algorithm in [KNNBasic(), KNNWithMeans(), KNNWithZScore(), KNNBaseline()]:    \n",
        "    #Cross-validate 수행.\n",
        "    algorithm.fit(train_data)\n",
        "    predictions = algorithm.test(test_data)\n",
        "    accuracy.rmse(predictions)\n"
      ]
    },
    {
      "attachments": {},
      "cell_type": "markdown",
      "metadata": {},
      "source": [
        "- KNNBaseLine 모델과 KNNWithZScore 모델의 RMSE 값이 가장 낮았다."
      ]
    },
    {
      "cell_type": "code",
      "execution_count": 75,
      "metadata": {},
      "outputs": [
        {
          "name": "stdout",
          "output_type": "stream",
          "text": [
            "RMSE: 0.8712\n",
            "RMSE: 0.8585\n",
            "RMSE: 0.9229\n"
          ]
        }
      ],
      "source": [
        "# Model-based CF 모델\n",
        "\n",
        "from surprise import SVD, SVDpp, NMF\n",
        "for algorithm in [SVD(), SVDpp(), NMF()]:    \n",
        "    #Cross-validate 수행.\n",
        "    algorithm.fit(train_data)\n",
        "    predictions2 = algorithm.test(test_data)\n",
        "    accuracy.rmse(predictions2)"
      ]
    },
    {
      "attachments": {},
      "cell_type": "markdown",
      "metadata": {},
      "source": [
        "- SVDpp 모델과 SVD 모델의 RSME 값이 가장 낮았다."
      ]
    },
    {
      "cell_type": "code",
      "execution_count": 112,
      "metadata": {},
      "outputs": [],
      "source": [
        "# 추천 함수를 만들겠다.\n",
        "\n",
        "def recommend(userid, model):\n",
        "    model.fit(train_data)\n",
        "    pred = model.test(test_data)\n",
        "    pred = list(filter(lambda x : x.uid == userid, pred))\n",
        "    pred = sorted(pred, key = lambda x : x.est, reverse=True)[:10]\n",
        "\n",
        "    pred = list(map(\n",
        "        lambda x : \n",
        "        (movies_df['title'][movies_df.index[movies_df['movieId'] == x.iid]], x.est), \n",
        "        pred))\n",
        "    \n",
        "    return pred"
      ]
    },
    {
      "cell_type": "code",
      "execution_count": 116,
      "metadata": {},
      "outputs": [
        {
          "name": "stdout",
          "output_type": "stream",
          "text": [
            "Estimating biases using als...\n",
            "Computing the msd similarity matrix...\n",
            "Done computing similarity matrix.\n",
            "[(461    Schindler's List (1993)\n",
            "Name: title, dtype: object, 4.347638351031437), (4909    Eternal Sunshine of the Spotless Mind (2004)\n",
            "Name: title, dtype: object, 4.341902825348531), (1734    American History X (1998)\n",
            "Name: title, dtype: object, 4.323549463691681), (863    Monty Python and the Holy Grail (1975)\n",
            "Name: title, dtype: object, 4.30965976103704), (7989    Hunt, The (Jagten) (2012)\n",
            "Name: title, dtype: object, 4.262582383252604), (474    Blade Runner (1982)\n",
            "Name: title, dtype: object, 4.227585529089629), (7180    Fantastic Mr. Fox (2009)\n",
            "Name: title, dtype: object, 4.131448029733406), (7372    Inception (2010)\n",
            "Name: title, dtype: object, 4.0991459009431885), (8550    Ex Machina (2015)\n",
            "Name: title, dtype: object, 4.073204808654436), (7688    Moneyball (2011)\n",
            "Name: title, dtype: object, 3.9046204685306987)]\n"
          ]
        }
      ],
      "source": [
        "#152번 유저에 대한 KNNBaseLine의 추천 결과\n",
        "\n",
        "print(recommend(152, KNNBaseline()))"
      ]
    },
    {
      "cell_type": "code",
      "execution_count": 117,
      "metadata": {},
      "outputs": [
        {
          "name": "stdout",
          "output_type": "stream",
          "text": [
            "Computing the msd similarity matrix...\n",
            "Done computing similarity matrix.\n",
            "[(4909    Eternal Sunshine of the Spotless Mind (2004)\n",
            "Name: title, dtype: object, 4.431609652609857), (7180    Fantastic Mr. Fox (2009)\n",
            "Name: title, dtype: object, 4.429015397157246), (863    Monty Python and the Holy Grail (1975)\n",
            "Name: title, dtype: object, 4.418355000828606), (7989    Hunt, The (Jagten) (2012)\n",
            "Name: title, dtype: object, 4.4056522456943625), (1734    American History X (1998)\n",
            "Name: title, dtype: object, 4.400405056857275), (461    Schindler's List (1993)\n",
            "Name: title, dtype: object, 4.386805532680349), (474    Blade Runner (1982)\n",
            "Name: title, dtype: object, 4.3498451145743715), (8550    Ex Machina (2015)\n",
            "Name: title, dtype: object, 4.234760512022467), (7372    Inception (2010)\n",
            "Name: title, dtype: object, 4.229207259636121), (7688    Moneyball (2011)\n",
            "Name: title, dtype: object, 4.103739170925161)]\n"
          ]
        }
      ],
      "source": [
        "#152번 유저에 대한 KNNWithZScore의 추천 결과\n",
        "\n",
        "\n",
        "print(recommend(152, KNNWithZScore()))"
      ]
    },
    {
      "cell_type": "code",
      "execution_count": 118,
      "metadata": {},
      "outputs": [
        {
          "name": "stdout",
          "output_type": "stream",
          "text": [
            "[(4909    Eternal Sunshine of the Spotless Mind (2004)\n",
            "Name: title, dtype: object, 4.3083563199467205), (461    Schindler's List (1993)\n",
            "Name: title, dtype: object, 4.269970217656702), (863    Monty Python and the Holy Grail (1975)\n",
            "Name: title, dtype: object, 4.132974205364281), (1734    American History X (1998)\n",
            "Name: title, dtype: object, 4.131887087892698), (474    Blade Runner (1982)\n",
            "Name: title, dtype: object, 4.130633319053177), (7180    Fantastic Mr. Fox (2009)\n",
            "Name: title, dtype: object, 4.01013416739613), (7372    Inception (2010)\n",
            "Name: title, dtype: object, 3.936041842619026), (7989    Hunt, The (Jagten) (2012)\n",
            "Name: title, dtype: object, 3.8850047508748955), (8550    Ex Machina (2015)\n",
            "Name: title, dtype: object, 3.839523564749298), (7688    Moneyball (2011)\n",
            "Name: title, dtype: object, 3.7912711772714593)]\n"
          ]
        }
      ],
      "source": [
        "#SVD의 추천 결과\n",
        "print(recommend(152, SVD()))"
      ]
    },
    {
      "cell_type": "code",
      "execution_count": 119,
      "metadata": {},
      "outputs": [
        {
          "name": "stdout",
          "output_type": "stream",
          "text": [
            "[(474    Blade Runner (1982)\n",
            "Name: title, dtype: object, 4.397585522756143), (4909    Eternal Sunshine of the Spotless Mind (2004)\n",
            "Name: title, dtype: object, 4.212520763023675), (1734    American History X (1998)\n",
            "Name: title, dtype: object, 4.080097715807373), (7989    Hunt, The (Jagten) (2012)\n",
            "Name: title, dtype: object, 4.078314321640443), (461    Schindler's List (1993)\n",
            "Name: title, dtype: object, 4.065521425760932), (863    Monty Python and the Holy Grail (1975)\n",
            "Name: title, dtype: object, 3.9631835369363833), (8550    Ex Machina (2015)\n",
            "Name: title, dtype: object, 3.9344961837756642), (7180    Fantastic Mr. Fox (2009)\n",
            "Name: title, dtype: object, 3.9338428674327637), (7372    Inception (2010)\n",
            "Name: title, dtype: object, 3.9328122999992106), (6836    Burn After Reading (2008)\n",
            "Name: title, dtype: object, 3.7603625192412333)]\n"
          ]
        }
      ],
      "source": [
        "#SVDpp의 추천 결과\n",
        "print(recommend(152, SVDpp()))"
      ]
    }
  ],
  "metadata": {
    "colab": {
      "provenance": []
    },
    "kernelspec": {
      "display_name": "Python 3",
      "name": "python3"
    },
    "language_info": {
      "codemirror_mode": {
        "name": "ipython",
        "version": 3
      },
      "file_extension": ".py",
      "mimetype": "text/x-python",
      "name": "python",
      "nbconvert_exporter": "python",
      "pygments_lexer": "ipython3",
      "version": "3.10.10"
    }
  },
  "nbformat": 4,
  "nbformat_minor": 0
}
