{
  "cells": [
    {
      "cell_type": "markdown",
      "metadata": {
        "id": "fRw64n6nt0wG"
      },
      "source": [
        "# NLP Basic Assignment\n",
        "## NLP 맛보기 - spam.csv를 가지고 유의미한 해석을 도출해주세요!"
      ]
    },
    {
      "cell_type": "code",
      "source": [
        "from google.colab import drive\n",
        "drive.mount('/content/drive')"
      ],
      "metadata": {
        "colab": {
          "base_uri": "https://localhost:8080/"
        },
        "id": "K-Iw8vDiuE5z",
        "outputId": "23fefccb-09d3-475d-fd57-938b1b0bdaed"
      },
      "execution_count": 32,
      "outputs": [
        {
          "output_type": "stream",
          "name": "stdout",
          "text": [
            "Drive already mounted at /content/drive; to attempt to forcibly remount, call drive.mount(\"/content/drive\", force_remount=True).\n"
          ]
        }
      ]
    },
    {
      "cell_type": "code",
      "execution_count": 33,
      "metadata": {
        "id": "LuWCYpcQt0wJ"
      },
      "outputs": [],
      "source": [
        "# 필요한 모듈 불러오기\n",
        "import pandas as pd"
      ]
    },
    {
      "cell_type": "code",
      "source": [
        "%cd /content/drive/MyDrive/deeplearning"
      ],
      "metadata": {
        "colab": {
          "base_uri": "https://localhost:8080/"
        },
        "id": "QyN1UqVbuL8B",
        "outputId": "e0321ec6-73a3-4258-f539-bf47ffaffb41"
      },
      "execution_count": 34,
      "outputs": [
        {
          "output_type": "stream",
          "name": "stdout",
          "text": [
            "/content/drive/MyDrive/deeplearning\n"
          ]
        }
      ]
    },
    {
      "cell_type": "markdown",
      "metadata": {
        "id": "yhqKQWnEt0wK"
      },
      "source": [
        "## Load Data\n",
        "- 보시면 아시다시피 spam.csv는 라벨이 있는 데이터입니다. 물론 7주차 주제가 텍스트 기초인만큼 텍스트만 활용하셔도 되고, 라벨까지 활용하셔서 모델을 돌려보셔도 좋습니다 :)"
      ]
    },
    {
      "cell_type": "code",
      "execution_count": 35,
      "metadata": {
        "id": "QyP2LgHJt0wL"
      },
      "outputs": [],
      "source": [
        "spam = pd.read_csv('spam.csv')"
      ]
    },
    {
      "cell_type": "code",
      "execution_count": 36,
      "metadata": {
        "colab": {
          "base_uri": "https://localhost:8080/",
          "height": 53
        },
        "id": "BJXcT4Xzt0wL",
        "outputId": "ed67dd3e-6b5c-464b-f682-86bbe35b886f"
      },
      "outputs": [
        {
          "output_type": "execute_result",
          "data": {
            "text/plain": [
              "\"FreeMsg Hey there darling it's been 3 week's now and no word back! I'd like some fun you up for it still? Tb ok! XxX std chgs to send, å£1.50 to rcv\""
            ],
            "application/vnd.google.colaboratory.intrinsic+json": {
              "type": "string"
            }
          },
          "metadata": {},
          "execution_count": 36
        }
      ],
      "source": [
        "spam.iloc[5]['v2']"
      ]
    },
    {
      "cell_type": "code",
      "execution_count": 38,
      "metadata": {
        "colab": {
          "base_uri": "https://localhost:8080/"
        },
        "id": "ATC75yi4t0wL",
        "outputId": "79040afc-7b24-4482-82e9-8a6cf435032b"
      },
      "outputs": [
        {
          "output_type": "execute_result",
          "data": {
            "text/plain": [
              "(5572, 2)"
            ]
          },
          "metadata": {},
          "execution_count": 38
        }
      ],
      "source": [
        "spam.shape"
      ]
    },
    {
      "cell_type": "markdown",
      "metadata": {
        "id": "rIRQRTRkt0wM"
      },
      "source": [
        "## Tokenizing\n"
      ]
    },
    {
      "cell_type": "code",
      "execution_count": 104,
      "metadata": {
        "id": "siUz2NKFt0wM"
      },
      "outputs": [],
      "source": [
        "import nltk"
      ]
    },
    {
      "cell_type": "code",
      "execution_count": 105,
      "metadata": {
        "colab": {
          "base_uri": "https://localhost:8080/"
        },
        "id": "ulbJrU4st0wM",
        "outputId": "e6e94e1f-0af8-4722-a78c-972f1e947fa6"
      },
      "outputs": [
        {
          "output_type": "stream",
          "name": "stderr",
          "text": [
            "[nltk_data] Downloading package punkt to /root/nltk_data...\n",
            "[nltk_data]   Package punkt is already up-to-date!\n"
          ]
        },
        {
          "output_type": "execute_result",
          "data": {
            "text/plain": [
              "['FreeMsg',\n",
              " 'Hey',\n",
              " 'there',\n",
              " 'darling',\n",
              " 'it',\n",
              " \"'s\",\n",
              " 'been',\n",
              " '3',\n",
              " 'week',\n",
              " \"'s\",\n",
              " 'now',\n",
              " 'and',\n",
              " 'no',\n",
              " 'word',\n",
              " 'back',\n",
              " '!',\n",
              " 'I',\n",
              " \"'d\",\n",
              " 'like',\n",
              " 'some',\n",
              " 'fun',\n",
              " 'you',\n",
              " 'up',\n",
              " 'for',\n",
              " 'it',\n",
              " 'still',\n",
              " '?',\n",
              " 'Tb',\n",
              " 'ok',\n",
              " '!',\n",
              " 'XxX',\n",
              " 'std',\n",
              " 'chgs',\n",
              " 'to',\n",
              " 'send',\n",
              " ',',\n",
              " 'å£1.50',\n",
              " 'to',\n",
              " 'rcv']"
            ]
          },
          "metadata": {},
          "execution_count": 105
        }
      ],
      "source": [
        "# 예시 코드 코드\n",
        "from nltk.tokenize import word_tokenize\n",
        "nltk.download('punkt')\n",
        "word_tokenize(spam.iloc[5]['v2'])"
      ]
    },
    {
      "cell_type": "code",
      "execution_count": 106,
      "metadata": {
        "id": "hIwPxVmtt0wN"
      },
      "outputs": [],
      "source": [
        "spam['tk_sentence'] = spam.apply(lambda row: nltk.word_tokenize(row['v2']), axis=1)"
      ]
    },
    {
      "cell_type": "code",
      "execution_count": 107,
      "metadata": {
        "colab": {
          "base_uri": "https://localhost:8080/",
          "height": 267
        },
        "id": "899eg2Jft0wN",
        "outputId": "6ce37298-0eaf-4ced-accf-d1538126eacd"
      },
      "outputs": [
        {
          "output_type": "execute_result",
          "data": {
            "text/plain": [
              "     v1                                                 v2  \\\n",
              "0   ham  Go until jurong point, crazy.. Available only ...   \n",
              "1   ham                      Ok lar... Joking wif u oni...   \n",
              "2  spam  Free entry in 2 a wkly comp to win FA Cup fina...   \n",
              "3   ham  U dun say so early hor... U c already then say...   \n",
              "4   ham  Nah I don't think he goes to usf, he lives aro...   \n",
              "\n",
              "                                         tk_sentence  \n",
              "0  [Go, until, jurong, point, ,, crazy, .., Avail...  \n",
              "1           [Ok, lar, ..., Joking, wif, u, oni, ...]  \n",
              "2  [Free, entry, in, 2, a, wkly, comp, to, win, F...  \n",
              "3  [U, dun, say, so, early, hor, ..., U, c, alrea...  \n",
              "4  [Nah, I, do, n't, think, he, goes, to, usf, ,,...  "
            ],
            "text/html": [
              "\n",
              "  <div id=\"df-6f0e2d19-3690-47e3-b685-ba919259cbd9\">\n",
              "    <div class=\"colab-df-container\">\n",
              "      <div>\n",
              "<style scoped>\n",
              "    .dataframe tbody tr th:only-of-type {\n",
              "        vertical-align: middle;\n",
              "    }\n",
              "\n",
              "    .dataframe tbody tr th {\n",
              "        vertical-align: top;\n",
              "    }\n",
              "\n",
              "    .dataframe thead th {\n",
              "        text-align: right;\n",
              "    }\n",
              "</style>\n",
              "<table border=\"1\" class=\"dataframe\">\n",
              "  <thead>\n",
              "    <tr style=\"text-align: right;\">\n",
              "      <th></th>\n",
              "      <th>v1</th>\n",
              "      <th>v2</th>\n",
              "      <th>tk_sentence</th>\n",
              "    </tr>\n",
              "  </thead>\n",
              "  <tbody>\n",
              "    <tr>\n",
              "      <th>0</th>\n",
              "      <td>ham</td>\n",
              "      <td>Go until jurong point, crazy.. Available only ...</td>\n",
              "      <td>[Go, until, jurong, point, ,, crazy, .., Avail...</td>\n",
              "    </tr>\n",
              "    <tr>\n",
              "      <th>1</th>\n",
              "      <td>ham</td>\n",
              "      <td>Ok lar... Joking wif u oni...</td>\n",
              "      <td>[Ok, lar, ..., Joking, wif, u, oni, ...]</td>\n",
              "    </tr>\n",
              "    <tr>\n",
              "      <th>2</th>\n",
              "      <td>spam</td>\n",
              "      <td>Free entry in 2 a wkly comp to win FA Cup fina...</td>\n",
              "      <td>[Free, entry, in, 2, a, wkly, comp, to, win, F...</td>\n",
              "    </tr>\n",
              "    <tr>\n",
              "      <th>3</th>\n",
              "      <td>ham</td>\n",
              "      <td>U dun say so early hor... U c already then say...</td>\n",
              "      <td>[U, dun, say, so, early, hor, ..., U, c, alrea...</td>\n",
              "    </tr>\n",
              "    <tr>\n",
              "      <th>4</th>\n",
              "      <td>ham</td>\n",
              "      <td>Nah I don't think he goes to usf, he lives aro...</td>\n",
              "      <td>[Nah, I, do, n't, think, he, goes, to, usf, ,,...</td>\n",
              "    </tr>\n",
              "  </tbody>\n",
              "</table>\n",
              "</div>\n",
              "      <button class=\"colab-df-convert\" onclick=\"convertToInteractive('df-6f0e2d19-3690-47e3-b685-ba919259cbd9')\"\n",
              "              title=\"Convert this dataframe to an interactive table.\"\n",
              "              style=\"display:none;\">\n",
              "        \n",
              "  <svg xmlns=\"http://www.w3.org/2000/svg\" height=\"24px\"viewBox=\"0 0 24 24\"\n",
              "       width=\"24px\">\n",
              "    <path d=\"M0 0h24v24H0V0z\" fill=\"none\"/>\n",
              "    <path d=\"M18.56 5.44l.94 2.06.94-2.06 2.06-.94-2.06-.94-.94-2.06-.94 2.06-2.06.94zm-11 1L8.5 8.5l.94-2.06 2.06-.94-2.06-.94L8.5 2.5l-.94 2.06-2.06.94zm10 10l.94 2.06.94-2.06 2.06-.94-2.06-.94-.94-2.06-.94 2.06-2.06.94z\"/><path d=\"M17.41 7.96l-1.37-1.37c-.4-.4-.92-.59-1.43-.59-.52 0-1.04.2-1.43.59L10.3 9.45l-7.72 7.72c-.78.78-.78 2.05 0 2.83L4 21.41c.39.39.9.59 1.41.59.51 0 1.02-.2 1.41-.59l7.78-7.78 2.81-2.81c.8-.78.8-2.07 0-2.86zM5.41 20L4 18.59l7.72-7.72 1.47 1.35L5.41 20z\"/>\n",
              "  </svg>\n",
              "      </button>\n",
              "      \n",
              "  <style>\n",
              "    .colab-df-container {\n",
              "      display:flex;\n",
              "      flex-wrap:wrap;\n",
              "      gap: 12px;\n",
              "    }\n",
              "\n",
              "    .colab-df-convert {\n",
              "      background-color: #E8F0FE;\n",
              "      border: none;\n",
              "      border-radius: 50%;\n",
              "      cursor: pointer;\n",
              "      display: none;\n",
              "      fill: #1967D2;\n",
              "      height: 32px;\n",
              "      padding: 0 0 0 0;\n",
              "      width: 32px;\n",
              "    }\n",
              "\n",
              "    .colab-df-convert:hover {\n",
              "      background-color: #E2EBFA;\n",
              "      box-shadow: 0px 1px 2px rgba(60, 64, 67, 0.3), 0px 1px 3px 1px rgba(60, 64, 67, 0.15);\n",
              "      fill: #174EA6;\n",
              "    }\n",
              "\n",
              "    [theme=dark] .colab-df-convert {\n",
              "      background-color: #3B4455;\n",
              "      fill: #D2E3FC;\n",
              "    }\n",
              "\n",
              "    [theme=dark] .colab-df-convert:hover {\n",
              "      background-color: #434B5C;\n",
              "      box-shadow: 0px 1px 3px 1px rgba(0, 0, 0, 0.15);\n",
              "      filter: drop-shadow(0px 1px 2px rgba(0, 0, 0, 0.3));\n",
              "      fill: #FFFFFF;\n",
              "    }\n",
              "  </style>\n",
              "\n",
              "      <script>\n",
              "        const buttonEl =\n",
              "          document.querySelector('#df-6f0e2d19-3690-47e3-b685-ba919259cbd9 button.colab-df-convert');\n",
              "        buttonEl.style.display =\n",
              "          google.colab.kernel.accessAllowed ? 'block' : 'none';\n",
              "\n",
              "        async function convertToInteractive(key) {\n",
              "          const element = document.querySelector('#df-6f0e2d19-3690-47e3-b685-ba919259cbd9');\n",
              "          const dataTable =\n",
              "            await google.colab.kernel.invokeFunction('convertToInteractive',\n",
              "                                                     [key], {});\n",
              "          if (!dataTable) return;\n",
              "\n",
              "          const docLinkHtml = 'Like what you see? Visit the ' +\n",
              "            '<a target=\"_blank\" href=https://colab.research.google.com/notebooks/data_table.ipynb>data table notebook</a>'\n",
              "            + ' to learn more about interactive tables.';\n",
              "          element.innerHTML = '';\n",
              "          dataTable['output_type'] = 'display_data';\n",
              "          await google.colab.output.renderOutput(dataTable, element);\n",
              "          const docLink = document.createElement('div');\n",
              "          docLink.innerHTML = docLinkHtml;\n",
              "          element.appendChild(docLink);\n",
              "        }\n",
              "      </script>\n",
              "    </div>\n",
              "  </div>\n",
              "  "
            ]
          },
          "metadata": {},
          "execution_count": 107
        }
      ],
      "source": [
        "spam.head()"
      ]
    },
    {
      "cell_type": "code",
      "execution_count": 108,
      "metadata": {
        "colab": {
          "base_uri": "https://localhost:8080/",
          "height": 53
        },
        "id": "WIpAOn2Xt0wN",
        "outputId": "37c504e4-f488-49d2-96a1-4f54c388cced"
      },
      "outputs": [
        {
          "output_type": "execute_result",
          "data": {
            "text/plain": [
              "'\\n단어를 나타내기 위해 11519 차원의 벡터를 써야 한다는 것은 상당한 메모리 낭비다.\\n이에 아래의 Word Embedding 기법을 활용하겠다.\\n'"
            ],
            "application/vnd.google.colaboratory.intrinsic+json": {
              "type": "string"
            }
          },
          "metadata": {},
          "execution_count": 108
        }
      ],
      "source": [
        "#원핫인코딩\n",
        "\n",
        "corpus = set()\n",
        "for sentence in spam['tk_sentence']:\n",
        "    corpus.update(sentence)\n",
        "corpus = pd.DataFrame(list(corpus))\n",
        "pd.get_dummies(corpus)\n",
        "\n",
        "'''\n",
        "단어를 나타내기 위해 11519 차원의 벡터를 써야 한다는 것은 상당한 메모리 낭비다.\n",
        "이에 아래의 Word Embedding 기법을 활용하겠다.\n",
        "'''"
      ]
    },
    {
      "cell_type": "code",
      "source": [
        "!pip install glove-python-binary"
      ],
      "metadata": {
        "colab": {
          "base_uri": "https://localhost:8080/"
        },
        "id": "1ADRwrRDt4_r",
        "outputId": "49ed0e6b-eb87-49eb-eb08-ef9ba2b88482"
      },
      "execution_count": 109,
      "outputs": [
        {
          "output_type": "stream",
          "name": "stdout",
          "text": [
            "Looking in indexes: https://pypi.org/simple, https://us-python.pkg.dev/colab-wheels/public/simple/\n",
            "Requirement already satisfied: glove-python-binary in /usr/local/lib/python3.8/dist-packages (0.2.0)\n",
            "Requirement already satisfied: scipy in /usr/local/lib/python3.8/dist-packages (from glove-python-binary) (1.10.1)\n",
            "Requirement already satisfied: numpy in /usr/local/lib/python3.8/dist-packages (from glove-python-binary) (1.22.4)\n"
          ]
        }
      ]
    },
    {
      "cell_type": "markdown",
      "metadata": {
        "id": "30SrKAkDt0wN"
      },
      "source": [
        "## Embedding\n",
        "\n",
        "- 수업에서 다룬 임베딩 방법에는 One-hot encoding, CBOW, Skip-gram, GloVe, FastText가 있었습니다. 다양한 시도와 '비교' 결과를 함께 적어주세요! 파라미터를 조정해가는 과정도 해석에 도움이 될 수 있겠죠 :)"
      ]
    },
    {
      "cell_type": "code",
      "execution_count": 110,
      "metadata": {
        "colab": {
          "base_uri": "https://localhost:8080/"
        },
        "id": "hwXH9M0Kt0wO",
        "outputId": "de627d2b-e05e-4f5e-c1c7-2e5b8d48e0ce"
      },
      "outputs": [
        {
          "output_type": "stream",
          "name": "stderr",
          "text": [
            "[nltk_data] Downloading package punkt to /root/nltk_data...\n",
            "[nltk_data]   Package punkt is already up-to-date!\n"
          ]
        }
      ],
      "source": [
        "# 필요한 라이브러리들 올리기\n",
        "# 사용할 라이브러리들이 import되어있어야 사용할 수 있습니다. \n",
        "\n",
        "import gensim\n",
        "from gensim.models import Word2Vec, FastText\n",
        "from glove import Corpus, Glove\n",
        "import scipy.stats as st\n",
        "\n",
        "import matplotlib.pyplot as plt\n",
        "import seaborn as sns\n",
        "\n",
        "import pandas as pd\n",
        "import re\n",
        "import nltk\n",
        "nltk.download('punkt')\n",
        "from nltk import word_tokenize"
      ]
    },
    {
      "cell_type": "code",
      "source": [
        "corpus = spam['tk_sentence']\n",
        "corpus.head()"
      ],
      "metadata": {
        "colab": {
          "base_uri": "https://localhost:8080/"
        },
        "id": "aywrEOuHOsSj",
        "outputId": "dcfb91c9-860b-4a20-c9ac-4f0460a6a407"
      },
      "execution_count": 111,
      "outputs": [
        {
          "output_type": "execute_result",
          "data": {
            "text/plain": [
              "0    [Go, until, jurong, point, ,, crazy, .., Avail...\n",
              "1             [Ok, lar, ..., Joking, wif, u, oni, ...]\n",
              "2    [Free, entry, in, 2, a, wkly, comp, to, win, F...\n",
              "3    [U, dun, say, so, early, hor, ..., U, c, alrea...\n",
              "4    [Nah, I, do, n't, think, he, goes, to, usf, ,,...\n",
              "Name: tk_sentence, dtype: object"
            ]
          },
          "metadata": {},
          "execution_count": 111
        }
      ]
    },
    {
      "cell_type": "markdown",
      "source": [
        "## Word2Vec"
      ],
      "metadata": {
        "id": "N1xMwqFhND9e"
      }
    },
    {
      "cell_type": "code",
      "source": [
        "#Skip-gram\n",
        "wv_cb = Word2Vec(corpus, min_count = 5, size = 100, window = 2, iter = 200, sg = 0)\n",
        "wv_sg = Word2Vec(corpus, min_count = 5, size = 100, window = 2, iter = 200, sg = 1)"
      ],
      "metadata": {
        "id": "DVPZmpY38hzf"
      },
      "execution_count": 69,
      "outputs": []
    },
    {
      "cell_type": "code",
      "source": [
        "wv_cb.save('w2v_cb')\n",
        "wv_sg.save('w2v_sg')\n",
        "w2v_cb = Word2Vec.load('w2v_cb')\n",
        "w2v_sg = Word2Vec.load('w2v_sg')"
      ],
      "metadata": {
        "id": "z_wXfaIFO8uR"
      },
      "execution_count": 70,
      "outputs": []
    },
    {
      "cell_type": "code",
      "source": [
        "w2v_cb.similarity('movie', 'see')"
      ],
      "metadata": {
        "colab": {
          "base_uri": "https://localhost:8080/"
        },
        "id": "9wmclvBXPG0Z",
        "outputId": "a57f9746-b285-4f7e-8964-0a2aa5a98ff3"
      },
      "execution_count": 73,
      "outputs": [
        {
          "output_type": "stream",
          "name": "stderr",
          "text": [
            "<ipython-input-73-4e9867b9301e>:1: DeprecationWarning: Call to deprecated `similarity` (Method will be removed in 4.0.0, use self.wv.similarity() instead).\n",
            "  w2v_cb.similarity('movie', 'see')\n"
          ]
        },
        {
          "output_type": "execute_result",
          "data": {
            "text/plain": [
              "-0.0059598098"
            ]
          },
          "metadata": {},
          "execution_count": 73
        }
      ]
    },
    {
      "cell_type": "code",
      "source": [
        "w2v_sg.similarity('movie', 'see')"
      ],
      "metadata": {
        "colab": {
          "base_uri": "https://localhost:8080/"
        },
        "outputId": "192b83a2-9b25-4879-a58a-e5a16b64192b",
        "id": "JaI0ts12R0Qb"
      },
      "execution_count": 74,
      "outputs": [
        {
          "output_type": "stream",
          "name": "stderr",
          "text": [
            "<ipython-input-74-a1d18e194a07>:1: DeprecationWarning: Call to deprecated `similarity` (Method will be removed in 4.0.0, use self.wv.similarity() instead).\n",
            "  w2v_sg.similarity('movie', 'see')\n"
          ]
        },
        {
          "output_type": "execute_result",
          "data": {
            "text/plain": [
              "0.150385"
            ]
          },
          "metadata": {},
          "execution_count": 74
        }
      ]
    },
    {
      "cell_type": "code",
      "source": [
        "w2v_cb.similarity('movie', 'ticket')"
      ],
      "metadata": {
        "colab": {
          "base_uri": "https://localhost:8080/"
        },
        "id": "qii3yEJ1PSeo",
        "outputId": "53a61d65-7e24-41fe-dcfe-942bafd7f1fd"
      },
      "execution_count": 75,
      "outputs": [
        {
          "output_type": "stream",
          "name": "stderr",
          "text": [
            "<ipython-input-75-0f3b33ce1608>:1: DeprecationWarning: Call to deprecated `similarity` (Method will be removed in 4.0.0, use self.wv.similarity() instead).\n",
            "  w2v_cb.similarity('movie', 'ticket')\n"
          ]
        },
        {
          "output_type": "execute_result",
          "data": {
            "text/plain": [
              "0.13024682"
            ]
          },
          "metadata": {},
          "execution_count": 75
        }
      ]
    },
    {
      "cell_type": "code",
      "source": [
        "w2v_sg.similarity('movie', 'ticket')"
      ],
      "metadata": {
        "colab": {
          "base_uri": "https://localhost:8080/"
        },
        "outputId": "c5ef5ff6-a54b-4063-8be6-d4792f4b0850",
        "id": "RqgQZVxSR_d2"
      },
      "execution_count": 77,
      "outputs": [
        {
          "output_type": "stream",
          "name": "stderr",
          "text": [
            "<ipython-input-77-7a6d4e1eae65>:1: DeprecationWarning: Call to deprecated `similarity` (Method will be removed in 4.0.0, use self.wv.similarity() instead).\n",
            "  w2v_sg.similarity('movie', 'ticket')\n"
          ]
        },
        {
          "output_type": "execute_result",
          "data": {
            "text/plain": [
              "0.22314718"
            ]
          },
          "metadata": {},
          "execution_count": 77
        }
      ]
    },
    {
      "cell_type": "code",
      "source": [
        "w2v_cb.most_similar(positive=['movie'], topn=10)"
      ],
      "metadata": {
        "colab": {
          "base_uri": "https://localhost:8080/"
        },
        "id": "rdlMrHwiPgRS",
        "outputId": "0953a036-c23a-42d6-c566-72870e2f18fa"
      },
      "execution_count": 95,
      "outputs": [
        {
          "output_type": "stream",
          "name": "stderr",
          "text": [
            "<ipython-input-95-e8f505fb08c1>:1: DeprecationWarning: Call to deprecated `most_similar` (Method will be removed in 4.0.0, use self.wv.most_similar() instead).\n",
            "  w2v_cb.most_similar(positive=['movie'], topn=10)\n"
          ]
        },
        {
          "output_type": "execute_result",
          "data": {
            "text/plain": [
              "[('0870', 0.4610329866409302),\n",
              " ('5WB', 0.41685542464256287),\n",
              " ('kano', 0.3931582570075989),\n",
              " ('mode', 0.37799161672592163),\n",
              " ('kb', 0.37133944034576416),\n",
              " ('minute', 0.3660106956958771),\n",
              " ('tv', 0.36023983359336853),\n",
              " ('Landline', 0.34422561526298523),\n",
              " ('Croydon', 0.3400481343269348),\n",
              " ('Friendship', 0.33448660373687744)]"
            ]
          },
          "metadata": {},
          "execution_count": 95
        }
      ]
    },
    {
      "cell_type": "code",
      "source": [
        "w2v_sg.most_similar(positive=['movie'], topn=10)"
      ],
      "metadata": {
        "colab": {
          "base_uri": "https://localhost:8080/"
        },
        "outputId": "35c27196-b57e-47b7-a7ef-baa028200cfa",
        "id": "XcMRqL6xSNlV"
      },
      "execution_count": 96,
      "outputs": [
        {
          "output_type": "stream",
          "name": "stderr",
          "text": [
            "<ipython-input-96-08aa315a7fda>:1: DeprecationWarning: Call to deprecated `most_similar` (Method will be removed in 4.0.0, use self.wv.most_similar() instead).\n",
            "  w2v_sg.most_similar(positive=['movie'], topn=10)\n"
          ]
        },
        {
          "output_type": "execute_result",
          "data": {
            "text/plain": [
              "[('fantastic', 0.41554486751556396),\n",
              " ('0870', 0.3986990749835968),\n",
              " ('office', 0.3984825015068054),\n",
              " ('guaranteed', 0.3978520631790161),\n",
              " ('theatre', 0.38776224851608276),\n",
              " ('kb', 0.38281095027923584),\n",
              " ('bf', 0.3812482953071594),\n",
              " ('slow', 0.3785945177078247),\n",
              " ('sounds', 0.37666481733322144),\n",
              " ('K.k', 0.37643083930015564)]"
            ]
          },
          "metadata": {},
          "execution_count": 96
        }
      ]
    },
    {
      "cell_type": "code",
      "source": [
        "w2v_cb.most_similar(positive=['crazy', 'gym'], negative= ['man'], topn=10)"
      ],
      "metadata": {
        "colab": {
          "base_uri": "https://localhost:8080/"
        },
        "id": "7C30jjaIPt4K",
        "outputId": "72637126-5d94-4249-8503-7470871acdd8"
      },
      "execution_count": 80,
      "outputs": [
        {
          "output_type": "stream",
          "name": "stderr",
          "text": [
            "<ipython-input-80-e6c0c6611666>:1: DeprecationWarning: Call to deprecated `most_similar` (Method will be removed in 4.0.0, use self.wv.most_similar() instead).\n",
            "  w2v_cb.most_similar(positive=['crazy', 'gym'], negative= ['man'], topn=10)\n"
          ]
        },
        {
          "output_type": "execute_result",
          "data": {
            "text/plain": [
              "[('ice', 0.3782382607460022),\n",
              " ('delivery', 0.36538463830947876),\n",
              " ('eve', 0.3549254536628723),\n",
              " ('auction', 0.3428378701210022),\n",
              " ('bill', 0.3410114645957947),\n",
              " ('Reply', 0.3214362561702728),\n",
              " ('8007', 0.3209819197654724),\n",
              " ('shopping', 0.3193211555480957),\n",
              " ('http', 0.3153645992279053),\n",
              " ('myself', 0.31443601846694946)]"
            ]
          },
          "metadata": {},
          "execution_count": 80
        }
      ]
    },
    {
      "cell_type": "code",
      "source": [
        "w2v_sg.most_similar(positive=['crazy', 'gym'], negative= ['man'], topn=10)"
      ],
      "metadata": {
        "colab": {
          "base_uri": "https://localhost:8080/"
        },
        "outputId": "14619937-c71b-49a2-d98f-2127342e6794",
        "id": "2L6ZULzgSUnB"
      },
      "execution_count": 81,
      "outputs": [
        {
          "output_type": "stream",
          "name": "stderr",
          "text": [
            "<ipython-input-81-40010b8fb9fe>:1: DeprecationWarning: Call to deprecated `most_similar` (Method will be removed in 4.0.0, use self.wv.most_similar() instead).\n",
            "  w2v_sg.most_similar(positive=['crazy', 'gym'], negative= ['man'], topn=10)\n"
          ]
        },
        {
          "output_type": "execute_result",
          "data": {
            "text/plain": [
              "[('ice', 0.42895302176475525),\n",
              " ('comp', 0.3687867522239685),\n",
              " ('Tomorrow', 0.356628954410553),\n",
              " ('whatever', 0.3543817698955536),\n",
              " ('8007', 0.3534223437309265),\n",
              " ('Fancy', 0.3495965301990509),\n",
              " ('waking', 0.34870272874832153),\n",
              " ('TONE', 0.34230923652648926),\n",
              " ('NOKIA', 0.33800023794174194),\n",
              " ('pilates', 0.33496204018592834)]"
            ]
          },
          "metadata": {},
          "execution_count": 81
        }
      ]
    },
    {
      "cell_type": "code",
      "source": [
        "w2v_cb.wv.doesnt_match('hotel movie see'.split())"
      ],
      "metadata": {
        "colab": {
          "base_uri": "https://localhost:8080/",
          "height": 91
        },
        "id": "Mh_1Mdg9QEb0",
        "outputId": "b8e7309e-b30d-4bca-a2b7-118bf701089c"
      },
      "execution_count": 82,
      "outputs": [
        {
          "output_type": "stream",
          "name": "stderr",
          "text": [
            "/usr/local/lib/python3.8/dist-packages/gensim/models/keyedvectors.py:895: FutureWarning: arrays to stack must be passed as a \"sequence\" type such as list or tuple. Support for non-sequence iterables such as generators is deprecated as of NumPy 1.16 and will raise an error in the future.\n",
            "  vectors = vstack(self.word_vec(word, use_norm=True) for word in used_words).astype(REAL)\n"
          ]
        },
        {
          "output_type": "execute_result",
          "data": {
            "text/plain": [
              "'hotel'"
            ],
            "application/vnd.google.colaboratory.intrinsic+json": {
              "type": "string"
            }
          },
          "metadata": {},
          "execution_count": 82
        }
      ]
    },
    {
      "cell_type": "code",
      "source": [
        "w2v_sg.wv.doesnt_match('hotel movie see'.split())"
      ],
      "metadata": {
        "colab": {
          "base_uri": "https://localhost:8080/",
          "height": 35
        },
        "outputId": "e1a6b485-a073-411c-a915-4dee49fecb24",
        "id": "P5XUatZTSdad"
      },
      "execution_count": 83,
      "outputs": [
        {
          "output_type": "execute_result",
          "data": {
            "text/plain": [
              "'hotel'"
            ],
            "application/vnd.google.colaboratory.intrinsic+json": {
              "type": "string"
            }
          },
          "metadata": {},
          "execution_count": 83
        }
      ]
    },
    {
      "cell_type": "code",
      "source": [
        "model = FastText(size=100, window=2)"
      ],
      "metadata": {
        "id": "XnkzQQojTMpB"
      },
      "execution_count": 84,
      "outputs": []
    },
    {
      "cell_type": "code",
      "source": [
        "model.build_vocab(corpus)"
      ],
      "metadata": {
        "id": "AGwYu-SRT4vF"
      },
      "execution_count": 87,
      "outputs": []
    },
    {
      "cell_type": "code",
      "source": [
        "model.train(corpus, epochs = 200, \n",
        "            total_examples = model.corpus_count, \n",
        "            total_words = model.corpus_total_words)"
      ],
      "metadata": {
        "id": "fkjvmJZeTO_E"
      },
      "execution_count": 88,
      "outputs": []
    },
    {
      "cell_type": "code",
      "source": [
        "print(model)"
      ],
      "metadata": {
        "colab": {
          "base_uri": "https://localhost:8080/"
        },
        "id": "C35cqubTT_BK",
        "outputId": "154bf21f-44ae-4944-dcb4-36dabaa7902d"
      },
      "execution_count": 89,
      "outputs": [
        {
          "output_type": "stream",
          "name": "stdout",
          "text": [
            "FastText(vocab=2150, size=100, alpha=0.025)\n"
          ]
        }
      ]
    },
    {
      "cell_type": "code",
      "source": [
        "model.save('ft_model')\n",
        "ft_model = FastText.load('ft_model')"
      ],
      "metadata": {
        "id": "q0fQcHnaUILW"
      },
      "execution_count": 90,
      "outputs": []
    },
    {
      "cell_type": "code",
      "source": [
        "ft_model.similarity('movie', 'see')"
      ],
      "metadata": {
        "colab": {
          "base_uri": "https://localhost:8080/"
        },
        "id": "7_6AUgzhUMFs",
        "outputId": "2a9c793b-0509-4e6c-88fe-de5a76df3a92"
      },
      "execution_count": 91,
      "outputs": [
        {
          "output_type": "stream",
          "name": "stderr",
          "text": [
            "<ipython-input-91-f56992d7d781>:1: DeprecationWarning: Call to deprecated `similarity` (Method will be removed in 4.0.0, use self.wv.similarity() instead).\n",
            "  ft_model.similarity('movie', 'see')\n"
          ]
        },
        {
          "output_type": "execute_result",
          "data": {
            "text/plain": [
              "0.057544973"
            ]
          },
          "metadata": {},
          "execution_count": 91
        }
      ]
    },
    {
      "cell_type": "code",
      "source": [
        "ft_model.similarity('movie', 'ticket')"
      ],
      "metadata": {
        "colab": {
          "base_uri": "https://localhost:8080/"
        },
        "outputId": "9c1947b6-53d1-47f2-99eb-78e8b06329f2",
        "id": "3vWewqpDUlRf"
      },
      "execution_count": 92,
      "outputs": [
        {
          "output_type": "stream",
          "name": "stderr",
          "text": [
            "<ipython-input-92-1e782fcc4a75>:1: DeprecationWarning: Call to deprecated `similarity` (Method will be removed in 4.0.0, use self.wv.similarity() instead).\n",
            "  ft_model.similarity('movie', 'ticket')\n"
          ]
        },
        {
          "output_type": "execute_result",
          "data": {
            "text/plain": [
              "0.07243433"
            ]
          },
          "metadata": {},
          "execution_count": 92
        }
      ]
    },
    {
      "cell_type": "code",
      "source": [
        "ft_model.most_similar(positive=['movie'], topn=10)"
      ],
      "metadata": {
        "colab": {
          "base_uri": "https://localhost:8080/"
        },
        "id": "9QN4ejgJUWGt",
        "outputId": "bf27af67-3897-4f75-de51-0c6ebf3235ef"
      },
      "execution_count": 97,
      "outputs": [
        {
          "output_type": "stream",
          "name": "stderr",
          "text": [
            "<ipython-input-97-52f3313db99a>:1: DeprecationWarning: Call to deprecated `most_similar` (Method will be removed in 4.0.0, use self.wv.most_similar() instead).\n",
            "  ft_model.most_similar(positive=['movie'], topn=10)\n"
          ]
        },
        {
          "output_type": "execute_result",
          "data": {
            "text/plain": [
              "[('movies', 0.7296054363250732),\n",
              " ('reason', 0.3493194580078125),\n",
              " ('mode', 0.34851136803627014),\n",
              " ('booked', 0.34083861112594604),\n",
              " ('move', 0.3400346040725708),\n",
              " ('sign', 0.33449041843414307),\n",
              " ('book', 0.3252932131290436),\n",
              " ('nite', 0.3203623294830322),\n",
              " ('ex', 0.31381338834762573),\n",
              " ('mrt', 0.3130566477775574)]"
            ]
          },
          "metadata": {},
          "execution_count": 97
        }
      ]
    },
    {
      "cell_type": "code",
      "source": [
        "ft_model.doesnt_match('hotel movie see'.split())"
      ],
      "metadata": {
        "colab": {
          "base_uri": "https://localhost:8080/",
          "height": 128
        },
        "id": "ubV_AibYVEIi",
        "outputId": "7c3c4748-75fc-46a9-a409-514f8b16cc7b"
      },
      "execution_count": 98,
      "outputs": [
        {
          "output_type": "stream",
          "name": "stderr",
          "text": [
            "<ipython-input-98-90e3dd9578b8>:1: DeprecationWarning: Call to deprecated `doesnt_match` (Method will be removed in 4.0.0, use self.wv.doesnt_match() instead).\n",
            "  ft_model.doesnt_match('hotel movie see'.split())\n",
            "/usr/local/lib/python3.8/dist-packages/gensim/models/keyedvectors.py:895: FutureWarning: arrays to stack must be passed as a \"sequence\" type such as list or tuple. Support for non-sequence iterables such as generators is deprecated as of NumPy 1.16 and will raise an error in the future.\n",
            "  vectors = vstack(self.word_vec(word, use_norm=True) for word in used_words).astype(REAL)\n"
          ]
        },
        {
          "output_type": "execute_result",
          "data": {
            "text/plain": [
              "'hotel'"
            ],
            "application/vnd.google.colaboratory.intrinsic+json": {
              "type": "string"
            }
          },
          "metadata": {},
          "execution_count": 98
        }
      ]
    },
    {
      "cell_type": "markdown",
      "source": [
        "## GloVe"
      ],
      "metadata": {
        "id": "I-hAaqj5ZtbC"
      }
    },
    {
      "cell_type": "code",
      "source": [
        "corPus = Corpus()\n",
        "corPus.fit(corpus, window = 2)"
      ],
      "metadata": {
        "id": "YU5r2EH2Zvc4"
      },
      "execution_count": 112,
      "outputs": []
    },
    {
      "cell_type": "code",
      "source": [
        "model5 = Glove(no_components=5, learning_rate = 0.05)\n",
        "model10 = Glove(no_components=10, learning_rate = 0.05)\n",
        "model15 = Glove(no_components=15, learning_rate = 0.05)\n",
        "model20 = Glove(no_components=15, learning_rate = 0.05)\n",
        "\n",
        "model5.fit(corPus.matrix, epochs = 200, no_threads = 4, verbose = False)\n",
        "model10.fit(corPus.matrix, epochs = 200, no_threads = 4, verbose = False)\n",
        "model15.fit(corPus.matrix, epochs = 200, no_threads = 4, verbose = False)\n",
        "model20.fit(corPus.matrix, epochs = 200, no_threads = 4, verbose = False)\n"
      ],
      "metadata": {
        "id": "Yzqf3tGvZFTu"
      },
      "execution_count": 117,
      "outputs": []
    },
    {
      "cell_type": "code",
      "source": [
        "model5.add_dictionary(corPus.dictionary)\n",
        "model10.add_dictionary(corPus.dictionary)\n",
        "model15.add_dictionary(corPus.dictionary)\n",
        "model20.add_dictionary(corPus.dictionary)\n"
      ],
      "metadata": {
        "id": "om9UWYDEaiS-"
      },
      "execution_count": 118,
      "outputs": []
    },
    {
      "cell_type": "code",
      "source": [
        "model5.save('gv_model5')\n",
        "model10.save('gv_model10')\n",
        "model15.save('gv_model15')\n",
        "model20.save('gv_model20')\n",
        "\n",
        "gv_model5 = Glove.load('gv_model5')\n",
        "gv_model10 = Glove.load('gv_model10')\n",
        "gv_model15 = Glove.load('gv_model15')\n",
        "gv_model20 = Glove.load('gv_model20')\n"
      ],
      "metadata": {
        "id": "dV_VYZbpalu6"
      },
      "execution_count": 119,
      "outputs": []
    },
    {
      "cell_type": "code",
      "source": [
        "gv_model5.most_similar('movie', 10)"
      ],
      "metadata": {
        "colab": {
          "base_uri": "https://localhost:8080/"
        },
        "id": "b_F8IJ1banDe",
        "outputId": "aa88ae87-6dfc-4e24-bd0b-ebd47744b2f5"
      },
      "execution_count": 123,
      "outputs": [
        {
          "output_type": "execute_result",
          "data": {
            "text/plain": [
              "[('Top', 0.9871927444204255),\n",
              " ('nice', 0.9757830037482578),\n",
              " ('else', 0.9742977579770828),\n",
              " ('thin', 0.9704362291905584),\n",
              " (\"'RE\", 0.9685899553588682),\n",
              " ('1956669', 0.961457650723103),\n",
              " ('1st', 0.9585824706919105),\n",
              " ('while', 0.9556759575040119),\n",
              " ('10am-7pm', 0.955660630173496)]"
            ]
          },
          "metadata": {},
          "execution_count": 123
        }
      ]
    },
    {
      "cell_type": "code",
      "source": [
        "gv_model10.most_similar('movie', 10)"
      ],
      "metadata": {
        "colab": {
          "base_uri": "https://localhost:8080/"
        },
        "id": "3Ng4QJBDbX79",
        "outputId": "e77c68c7-f63c-4230-940a-dc6bf5ae6993"
      },
      "execution_count": 124,
      "outputs": [
        {
          "output_type": "execute_result",
          "data": {
            "text/plain": [
              "[('s.', 0.9101416181579829),\n",
              " ('09066362231', 0.8722131350269072),\n",
              " ('waste', 0.8664514131729659),\n",
              " ('First', 0.8598902906374971),\n",
              " ('girls', 0.839650727610254),\n",
              " ('chop', 0.8339501812337751),\n",
              " ('Gud', 0.8281268221451711),\n",
              " ('Got\\\\', 0.8250791603707965),\n",
              " ('urself', 0.8250351145056675)]"
            ]
          },
          "metadata": {},
          "execution_count": 124
        }
      ]
    },
    {
      "cell_type": "code",
      "source": [
        "gv_model15.most_similar('movie', 10)"
      ],
      "metadata": {
        "colab": {
          "base_uri": "https://localhost:8080/"
        },
        "id": "7Br_dSvjanOy",
        "outputId": "3a9f2725-9a97-419c-c6c3-da88bb9cf5ac"
      },
      "execution_count": 125,
      "outputs": [
        {
          "output_type": "execute_result",
          "data": {
            "text/plain": [
              "[('belong', 0.7857127335830257),\n",
              " ('Diwali', 0.778627194080653),\n",
              " ('laugh', 0.7741810178066513),\n",
              " ('friend', 0.7623505704117834),\n",
              " ('girls', 0.7586926763108448),\n",
              " ('fantastic', 0.7582625488428045),\n",
              " ('\\\\Happy', 0.7569189482794692),\n",
              " ('line', 0.7528254601103544),\n",
              " ('demand', 0.7477724094974215)]"
            ]
          },
          "metadata": {},
          "execution_count": 125
        }
      ]
    },
    {
      "cell_type": "code",
      "source": [
        "gv_model20.most_similar('movie', 10)"
      ],
      "metadata": {
        "colab": {
          "base_uri": "https://localhost:8080/"
        },
        "id": "vbTprDQ_bmmh",
        "outputId": "4ae8ac57-e8ae-4515-8bb4-9e552f6799b7"
      },
      "execution_count": 126,
      "outputs": [
        {
          "output_type": "execute_result",
          "data": {
            "text/plain": [
              "[('6.Cruel', 0.7845278526355287),\n",
              " ('whole', 0.7669024002459081),\n",
              " ('girls', 0.756042844482221),\n",
              " ('laugh', 0.7522803727357406),\n",
              " ('second', 0.7337064689274742),\n",
              " ('Macha', 0.732868512014703),\n",
              " ('line', 0.717557136647909),\n",
              " ('friend', 0.716850502564981),\n",
              " ('big', 0.7125950477680346)]"
            ]
          },
          "metadata": {},
          "execution_count": 126
        }
      ]
    },
    {
      "cell_type": "markdown",
      "metadata": {
        "id": "Ta9uSlfDt0wO"
      },
      "source": [
        "## 본인이 도출해낸 해석을 적어주세요!\n",
        "\n",
        "- 유사도, Wordcloud, 이진 분류 모델, Plot 뭐든 상관없으니 분명하고 인상적인 해석을 적어주시면 됩니다."
      ]
    },
    {
      "cell_type": "code",
      "execution_count": null,
      "metadata": {
        "id": "RYKZhFEvt0wO"
      },
      "outputs": [],
      "source": [
        "'''\n",
        "1. Word2Vec의 사용에 관하여\n",
        "일반적으로 SkipGram을 통한 훈련이 CBOW를 통한 훈련보다 성능이 더 좋아짐을 확인했다.\n",
        "\n",
        "2. WordEmbedding에 의해 측정되는 단어 간 유사도가\n",
        "인간의 직관에 100% 들어맞는 것은 아니다.\n",
        "이것이 Word Embedding 성능의 문제일 수도 있지만,\n",
        "근본적으로 인간의 뇌가 작동하는 방식이 단어와 단어 사이의 '의미적 관계'를 중심으로 생각하는 반면\n",
        "Word Embedding은 데이터에 의해 드러나는 수리적 frequency를 기준으로 측정되는 부분이 있을 것으로 생각된다.\n",
        "\n",
        "3. GloVe의 사용에 관하여\n",
        "일반적으로 n_components의 값이 클수록 인간의 직관과 유사한 결과가 나타남을 확인했다.\n",
        "Dimension이 클수록 더 많은 정보를 참고할 수 있기에, 확률기반 모델이 인간 뇌가 참고하는 '의미적 관계'를\n",
        "보다 더 정확히 추론하는 것으로 보인다.\n",
        "그러나 이 데이터셋은 말뭉치의 크기가 비교적 작기 때문에,\n",
        "더 큰 말뭉치를 사용할 경우우 오히려 너무 큰 Dimension이 성능을 저하할 가능성도 배제할 수 없다.\n",
        "'''"
      ]
    }
  ],
  "metadata": {
    "kernelspec": {
      "display_name": "Python 3 (ipykernel)",
      "language": "python",
      "name": "python3"
    },
    "language_info": {
      "codemirror_mode": {
        "name": "ipython",
        "version": 3
      },
      "file_extension": ".py",
      "mimetype": "text/x-python",
      "name": "python",
      "nbconvert_exporter": "python",
      "pygments_lexer": "ipython3",
      "version": "3.10.10"
    },
    "colab": {
      "provenance": []
    }
  },
  "nbformat": 4,
  "nbformat_minor": 0
}