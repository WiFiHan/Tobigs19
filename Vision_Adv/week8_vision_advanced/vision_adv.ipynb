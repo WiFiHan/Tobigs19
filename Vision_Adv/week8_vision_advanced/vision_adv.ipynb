{
  "cells": [
    {
      "cell_type": "markdown",
      "source": [
        "## 과제 요약\n",
        "- Case 9의 마지막 에포크에서 val accuracy가 0.6018을 기록하여, 과제 수행에 성공하였다. Val Accuracy를 높였던 결정적인 요소로는 \n",
        "> - 4 Layer로 이루어진 Convolutional Block을 4개까지 직렬로 쌓는 것(그 이상의 Block은 유의미한 영향이 없었다)\n",
        "> - Adam Optimizer가 아닌 Momentum 계열 Optimizer를 사용하는 것(Adaptive Gradient 계열을 사용하면 학습이 이루어지지 않는 버그가 있었다)\n",
        "> - Convolution Filter의 수가 64 -> 128 -> 256 -> 512 순으로 늘어나 풍부한 수의 feature를 확보하는 것(filter 수가 6 -> 16 -> 32 -> 64 에 불과하면 정확도 43%를 벗어나지 못했다)<br><br>\n",
        "> 를 들 수 있다."
      ],
      "metadata": {
        "id": "k3Fm27QfuUKd"
      }
    },
    {
      "cell_type": "code",
      "execution_count": 4,
      "metadata": {
        "id": "LXw1gssjz9yj"
      },
      "outputs": [],
      "source": [
        "import pandas as pd\n",
        "from tqdm import tqdm\n",
        "\n",
        "import torch\n",
        "import torchvision\n",
        "import torch.nn as nn\n",
        "import torch.nn.functional as F\n",
        "import torch.optim as optim\n",
        "import torchvision.transforms as transforms\n",
        "\n",
        "\n",
        "# 코드 다시 돌리기 위한 seed 고정\n",
        "import random\n",
        "import numpy as np\n",
        "random.seed(0)\n",
        "np.random.seed(0)\n",
        "torch.manual_seed(0)\n",
        "torch.cuda.manual_seed(0)\n",
        "torch.cuda.manual_seed_all(0)\n",
        "\n",
        "device = torch.device('cuda') if torch.cuda.is_available() else torch.device('cpu')"
      ]
    },
    {
      "cell_type": "code",
      "source": [
        "device"
      ],
      "metadata": {
        "id": "cvpPxeMrdw8g",
        "colab": {
          "base_uri": "https://localhost:8080/"
        },
        "outputId": "be155e90-808a-4dbb-abde-ea5f7b8eeea2"
      },
      "execution_count": 5,
      "outputs": [
        {
          "output_type": "execute_result",
          "data": {
            "text/plain": [
              "device(type='cuda')"
            ]
          },
          "metadata": {},
          "execution_count": 5
        }
      ]
    },
    {
      "cell_type": "code",
      "execution_count": 6,
      "metadata": {
        "colab": {
          "base_uri": "https://localhost:8080/"
        },
        "id": "GLoE5PSzcGNb",
        "outputId": "6d7576fa-33f6-4876-c62c-3c14531b8935"
      },
      "outputs": [
        {
          "output_type": "stream",
          "name": "stdout",
          "text": [
            "Files already downloaded and verified\n",
            "Files already downloaded and verified\n"
          ]
        }
      ],
      "source": [
        "train_transform = transforms.Compose([    \n",
        "    transforms.AutoAugment(transforms.autoaugment.AutoAugmentPolicy.CIFAR10),\n",
        "    transforms.ToTensor(),\n",
        "    transforms.Normalize((0.5, 0.5, 0.5),(0.5, 0.5, 0.5)),\n",
        "])        \n",
        "\n",
        "test_transform = transforms.Compose([\n",
        "    transforms.ToTensor(),\n",
        "    transforms.Normalize((0.5, 0.5, 0.5),(0.5, 0.5, 0.5))\n",
        "])    \n",
        "\n",
        "train = torchvision.datasets.CIFAR100(root=\"./\", train=True, download=True, transform=train_transform)\n",
        "test = torchvision.datasets.CIFAR100(root=\"./\", train=False, download=True, transform=test_transform)\n",
        "\n",
        "train_loader = torch.utils.data.DataLoader(train, batch_size=256,\n",
        "                                           shuffle=True, num_workers=2)\n",
        "test_loader = torch.utils.data.DataLoader(test, batch_size=256,\n",
        "                                          shuffle=False, num_workers=2)\n",
        "criterion = nn.CrossEntropyLoss()"
      ]
    },
    {
      "cell_type": "code",
      "execution_count": null,
      "metadata": {
        "id": "PMUR2HB6z_xc",
        "outputId": "94daf21b-a579-41f9-d9dd-d0d831a5818f"
      },
      "outputs": [
        {
          "data": {
            "text/plain": [
              "MyModel(\n",
              "  (conv1): Conv2d(3, 6, kernel_size=(5, 5), stride=(1, 1))\n",
              "  (pool): MaxPool2d(kernel_size=2, stride=2, padding=0, dilation=1, ceil_mode=False)\n",
              "  (conv2): Conv2d(6, 16, kernel_size=(5, 5), stride=(1, 1))\n",
              "  (fc1): Linear(in_features=400, out_features=120, bias=True)\n",
              "  (fc2): Linear(in_features=120, out_features=84, bias=True)\n",
              "  (fc3): Linear(in_features=84, out_features=100, bias=True)\n",
              ")"
            ]
          },
          "execution_count": 12,
          "metadata": {},
          "output_type": "execute_result"
        }
      ],
      "source": [
        "class MyModel(nn.Module):\n",
        "    #Cifar100 Shape: [Batch, Channel(3), 32, 32]\n",
        "    def __init__(self, in_channels, num_classes):\n",
        "        super(MyModel, self).__init__()\n",
        "        \"\"\"Base Model\"\"\"\n",
        "        self.conv1 = nn.Conv2d(3, 6, 5)\n",
        "        self.pool = nn.MaxPool2d(2, 2)\n",
        "        \n",
        "        self.conv2 = nn.Conv2d(6, 16, 5)\n",
        "        \n",
        "        self.fc1 = nn.Linear(16 * 5 * 5, 120)\n",
        "        self.fc2 = nn.Linear(120, 84)\n",
        "        self.fc3 = nn.Linear(84, 100)\n",
        "        \n",
        "        \n",
        "\n",
        "    def forward(self, x):\n",
        "        \"\"\"Base Model\"\"\"\n",
        "        x = self.pool(F.relu(self.conv1(x)))\n",
        "        x = self.pool(F.relu(self.conv2(x)))\n",
        "\n",
        "        x = torch.flatten(x, 1) # flatten all dimensions except batch\n",
        "        x = F.relu(self.fc1(x))\n",
        "        x = F.relu(self.fc2(x))\n",
        "        x = self.fc3(x)\n",
        "        return x\n",
        "\n",
        "model = MyModel(3, 100).to(device)\n",
        "optimizer = optim.SGD(model.parameters(), lr=0.1, momentum=0.9)\n",
        "\n",
        "model\n"
      ]
    },
    {
      "cell_type": "code",
      "execution_count": null,
      "metadata": {
        "colab": {
          "base_uri": "https://localhost:8080/",
          "height": 1000
        },
        "id": "ajWcg7oo0DCD",
        "outputId": "c63fe0c2-3026-4227-a48f-2a98f7508576"
      },
      "outputs": [
        {
          "name": "stdout",
          "output_type": "stream",
          "text": [
            "train epoch: 1----------------\n"
          ]
        },
        {
          "name": "stderr",
          "output_type": "stream",
          "text": [
            "100%|██████████| 196/196 [00:14<00:00, 13.52it/s]\n"
          ]
        },
        {
          "name": "stdout",
          "output_type": "stream",
          "text": [
            "\n",
            "train_loss :  4.527656900639436\n",
            "val_acc :  0.0707\n",
            "train epoch: 2----------------\n"
          ]
        },
        {
          "name": "stderr",
          "output_type": "stream",
          "text": [
            "100%|██████████| 196/196 [00:14<00:00, 13.65it/s]\n"
          ]
        },
        {
          "name": "stdout",
          "output_type": "stream",
          "text": [
            "\n",
            "train_loss :  4.233913866841063\n",
            "val_acc :  0.1173\n",
            "train epoch: 3----------------\n"
          ]
        },
        {
          "name": "stderr",
          "output_type": "stream",
          "text": [
            "100%|██████████| 196/196 [00:14<00:00, 13.48it/s]\n"
          ]
        },
        {
          "name": "stdout",
          "output_type": "stream",
          "text": [
            "\n",
            "train_loss :  4.021952615708721\n",
            "val_acc :  0.1501\n",
            "train epoch: 4----------------\n"
          ]
        },
        {
          "name": "stderr",
          "output_type": "stream",
          "text": [
            "100%|██████████| 196/196 [00:14<00:00, 13.71it/s]\n"
          ]
        },
        {
          "name": "stdout",
          "output_type": "stream",
          "text": [
            "\n",
            "train_loss :  3.9045823398901494\n",
            "val_acc :  0.1499\n",
            "train epoch: 5----------------\n"
          ]
        },
        {
          "name": "stderr",
          "output_type": "stream",
          "text": [
            "100%|██████████| 196/196 [00:14<00:00, 13.42it/s]\n"
          ]
        },
        {
          "name": "stdout",
          "output_type": "stream",
          "text": [
            "\n",
            "train_loss :  3.83749518954024\n",
            "val_acc :  0.1402\n",
            "train epoch: 6----------------\n"
          ]
        },
        {
          "name": "stderr",
          "output_type": "stream",
          "text": [
            "100%|██████████| 196/196 [00:14<00:00, 13.21it/s]\n"
          ]
        },
        {
          "name": "stdout",
          "output_type": "stream",
          "text": [
            "\n",
            "train_loss :  3.7911516355008494\n",
            "val_acc :  0.1651\n",
            "train epoch: 7----------------\n"
          ]
        },
        {
          "name": "stderr",
          "output_type": "stream",
          "text": [
            "100%|██████████| 196/196 [00:14<00:00, 13.16it/s]\n"
          ]
        },
        {
          "name": "stdout",
          "output_type": "stream",
          "text": [
            "\n",
            "train_loss :  3.76611359387028\n",
            "val_acc :  0.1851\n",
            "train epoch: 8----------------\n"
          ]
        },
        {
          "name": "stderr",
          "output_type": "stream",
          "text": [
            "100%|██████████| 196/196 [00:14<00:00, 13.26it/s]\n"
          ]
        },
        {
          "name": "stdout",
          "output_type": "stream",
          "text": [
            "\n",
            "train_loss :  3.747718228369343\n",
            "val_acc :  0.181\n",
            "train epoch: 9----------------\n"
          ]
        },
        {
          "name": "stderr",
          "output_type": "stream",
          "text": [
            "100%|██████████| 196/196 [00:14<00:00, 13.50it/s]\n"
          ]
        },
        {
          "name": "stdout",
          "output_type": "stream",
          "text": [
            "\n",
            "train_loss :  3.714530322016502\n",
            "val_acc :  0.1924\n",
            "train epoch: 10----------------\n"
          ]
        },
        {
          "name": "stderr",
          "output_type": "stream",
          "text": [
            " 25%|██▌       | 49/196 [00:05<00:17,  8.21it/s]\n"
          ]
        },
        {
          "ename": "KeyboardInterrupt",
          "evalue": "",
          "output_type": "error",
          "traceback": [
            "\u001b[1;31m---------------------------------------------------------------------------\u001b[0m",
            "\u001b[1;31mKeyboardInterrupt\u001b[0m                         Traceback (most recent call last)",
            "\u001b[1;32mc:\\Users\\PC\\Desktop\\tobigs_assignment\\Vision_Adv\\week8_vision_advanced\\vision_adv.ipynb Cell 4\u001b[0m in \u001b[0;36m1\n\u001b[0;32m      <a href='vscode-notebook-cell:/c%3A/Users/PC/Desktop/tobigs_assignment/Vision_Adv/week8_vision_advanced/vision_adv.ipynb#W3sZmlsZQ%3D%3D?line=8'>9</a>\u001b[0m label \u001b[39m=\u001b[39m label\u001b[39m.\u001b[39mto(device)\n\u001b[0;32m     <a href='vscode-notebook-cell:/c%3A/Users/PC/Desktop/tobigs_assignment/Vision_Adv/week8_vision_advanced/vision_adv.ipynb#W3sZmlsZQ%3D%3D?line=9'>10</a>\u001b[0m optimizer\u001b[39m.\u001b[39mzero_grad()\n\u001b[1;32m---> <a href='vscode-notebook-cell:/c%3A/Users/PC/Desktop/tobigs_assignment/Vision_Adv/week8_vision_advanced/vision_adv.ipynb#W3sZmlsZQ%3D%3D?line=10'>11</a>\u001b[0m output \u001b[39m=\u001b[39m model(img)\n\u001b[0;32m     <a href='vscode-notebook-cell:/c%3A/Users/PC/Desktop/tobigs_assignment/Vision_Adv/week8_vision_advanced/vision_adv.ipynb#W3sZmlsZQ%3D%3D?line=11'>12</a>\u001b[0m loss \u001b[39m=\u001b[39m criterion(output, label)\n\u001b[0;32m     <a href='vscode-notebook-cell:/c%3A/Users/PC/Desktop/tobigs_assignment/Vision_Adv/week8_vision_advanced/vision_adv.ipynb#W3sZmlsZQ%3D%3D?line=12'>13</a>\u001b[0m running_loss \u001b[39m+\u001b[39m\u001b[39m=\u001b[39m loss\u001b[39m.\u001b[39mitem()\n",
            "File \u001b[1;32mc:\\Users\\PC\\AppData\\Local\\Programs\\Python\\Python310\\lib\\site-packages\\torch\\nn\\modules\\module.py:1130\u001b[0m, in \u001b[0;36mModule._call_impl\u001b[1;34m(self, *input, **kwargs)\u001b[0m\n\u001b[0;32m   1126\u001b[0m \u001b[39m# If we don't have any hooks, we want to skip the rest of the logic in\u001b[39;00m\n\u001b[0;32m   1127\u001b[0m \u001b[39m# this function, and just call forward.\u001b[39;00m\n\u001b[0;32m   1128\u001b[0m \u001b[39mif\u001b[39;00m \u001b[39mnot\u001b[39;00m (\u001b[39mself\u001b[39m\u001b[39m.\u001b[39m_backward_hooks \u001b[39mor\u001b[39;00m \u001b[39mself\u001b[39m\u001b[39m.\u001b[39m_forward_hooks \u001b[39mor\u001b[39;00m \u001b[39mself\u001b[39m\u001b[39m.\u001b[39m_forward_pre_hooks \u001b[39mor\u001b[39;00m _global_backward_hooks\n\u001b[0;32m   1129\u001b[0m         \u001b[39mor\u001b[39;00m _global_forward_hooks \u001b[39mor\u001b[39;00m _global_forward_pre_hooks):\n\u001b[1;32m-> 1130\u001b[0m     \u001b[39mreturn\u001b[39;00m forward_call(\u001b[39m*\u001b[39m\u001b[39minput\u001b[39m, \u001b[39m*\u001b[39m\u001b[39m*\u001b[39mkwargs)\n\u001b[0;32m   1131\u001b[0m \u001b[39m# Do not call functions when jit is used\u001b[39;00m\n\u001b[0;32m   1132\u001b[0m full_backward_hooks, non_full_backward_hooks \u001b[39m=\u001b[39m [], []\n",
            "\u001b[1;32mc:\\Users\\PC\\Desktop\\tobigs_assignment\\Vision_Adv\\week8_vision_advanced\\vision_adv.ipynb Cell 4\u001b[0m in \u001b[0;36m1\n\u001b[0;32m     <a href='vscode-notebook-cell:/c%3A/Users/PC/Desktop/tobigs_assignment/Vision_Adv/week8_vision_advanced/vision_adv.ipynb#W3sZmlsZQ%3D%3D?line=16'>17</a>\u001b[0m \u001b[39mdef\u001b[39;00m \u001b[39mforward\u001b[39m(\u001b[39mself\u001b[39m, x):\n\u001b[0;32m     <a href='vscode-notebook-cell:/c%3A/Users/PC/Desktop/tobigs_assignment/Vision_Adv/week8_vision_advanced/vision_adv.ipynb#W3sZmlsZQ%3D%3D?line=17'>18</a>\u001b[0m     \u001b[39m\"\"\"Base Model\"\"\"\u001b[39;00m\n\u001b[1;32m---> <a href='vscode-notebook-cell:/c%3A/Users/PC/Desktop/tobigs_assignment/Vision_Adv/week8_vision_advanced/vision_adv.ipynb#W3sZmlsZQ%3D%3D?line=18'>19</a>\u001b[0m     x \u001b[39m=\u001b[39m \u001b[39mself\u001b[39m\u001b[39m.\u001b[39mpool(F\u001b[39m.\u001b[39mrelu(\u001b[39mself\u001b[39;49m\u001b[39m.\u001b[39;49mconv1(x)))\n\u001b[0;32m     <a href='vscode-notebook-cell:/c%3A/Users/PC/Desktop/tobigs_assignment/Vision_Adv/week8_vision_advanced/vision_adv.ipynb#W3sZmlsZQ%3D%3D?line=19'>20</a>\u001b[0m     x \u001b[39m=\u001b[39m \u001b[39mself\u001b[39m\u001b[39m.\u001b[39mpool(F\u001b[39m.\u001b[39mrelu(\u001b[39mself\u001b[39m\u001b[39m.\u001b[39mconv2(x)))\n\u001b[0;32m     <a href='vscode-notebook-cell:/c%3A/Users/PC/Desktop/tobigs_assignment/Vision_Adv/week8_vision_advanced/vision_adv.ipynb#W3sZmlsZQ%3D%3D?line=21'>22</a>\u001b[0m     x \u001b[39m=\u001b[39m torch\u001b[39m.\u001b[39mflatten(x, \u001b[39m1\u001b[39m) \u001b[39m# flatten all dimensions except batch\u001b[39;00m\n",
            "File \u001b[1;32mc:\\Users\\PC\\AppData\\Local\\Programs\\Python\\Python310\\lib\\site-packages\\torch\\nn\\modules\\module.py:1130\u001b[0m, in \u001b[0;36mModule._call_impl\u001b[1;34m(self, *input, **kwargs)\u001b[0m\n\u001b[0;32m   1126\u001b[0m \u001b[39m# If we don't have any hooks, we want to skip the rest of the logic in\u001b[39;00m\n\u001b[0;32m   1127\u001b[0m \u001b[39m# this function, and just call forward.\u001b[39;00m\n\u001b[0;32m   1128\u001b[0m \u001b[39mif\u001b[39;00m \u001b[39mnot\u001b[39;00m (\u001b[39mself\u001b[39m\u001b[39m.\u001b[39m_backward_hooks \u001b[39mor\u001b[39;00m \u001b[39mself\u001b[39m\u001b[39m.\u001b[39m_forward_hooks \u001b[39mor\u001b[39;00m \u001b[39mself\u001b[39m\u001b[39m.\u001b[39m_forward_pre_hooks \u001b[39mor\u001b[39;00m _global_backward_hooks\n\u001b[0;32m   1129\u001b[0m         \u001b[39mor\u001b[39;00m _global_forward_hooks \u001b[39mor\u001b[39;00m _global_forward_pre_hooks):\n\u001b[1;32m-> 1130\u001b[0m     \u001b[39mreturn\u001b[39;00m forward_call(\u001b[39m*\u001b[39m\u001b[39minput\u001b[39m, \u001b[39m*\u001b[39m\u001b[39m*\u001b[39mkwargs)\n\u001b[0;32m   1131\u001b[0m \u001b[39m# Do not call functions when jit is used\u001b[39;00m\n\u001b[0;32m   1132\u001b[0m full_backward_hooks, non_full_backward_hooks \u001b[39m=\u001b[39m [], []\n",
            "File \u001b[1;32mc:\\Users\\PC\\AppData\\Local\\Programs\\Python\\Python310\\lib\\site-packages\\torch\\nn\\modules\\conv.py:457\u001b[0m, in \u001b[0;36mConv2d.forward\u001b[1;34m(self, input)\u001b[0m\n\u001b[0;32m    456\u001b[0m \u001b[39mdef\u001b[39;00m \u001b[39mforward\u001b[39m(\u001b[39mself\u001b[39m, \u001b[39minput\u001b[39m: Tensor) \u001b[39m-\u001b[39m\u001b[39m>\u001b[39m Tensor:\n\u001b[1;32m--> 457\u001b[0m     \u001b[39mreturn\u001b[39;00m \u001b[39mself\u001b[39;49m\u001b[39m.\u001b[39;49m_conv_forward(\u001b[39minput\u001b[39;49m, \u001b[39mself\u001b[39;49m\u001b[39m.\u001b[39;49mweight, \u001b[39mself\u001b[39;49m\u001b[39m.\u001b[39;49mbias)\n",
            "File \u001b[1;32mc:\\Users\\PC\\AppData\\Local\\Programs\\Python\\Python310\\lib\\site-packages\\torch\\nn\\modules\\conv.py:453\u001b[0m, in \u001b[0;36mConv2d._conv_forward\u001b[1;34m(self, input, weight, bias)\u001b[0m\n\u001b[0;32m    449\u001b[0m \u001b[39mif\u001b[39;00m \u001b[39mself\u001b[39m\u001b[39m.\u001b[39mpadding_mode \u001b[39m!=\u001b[39m \u001b[39m'\u001b[39m\u001b[39mzeros\u001b[39m\u001b[39m'\u001b[39m:\n\u001b[0;32m    450\u001b[0m     \u001b[39mreturn\u001b[39;00m F\u001b[39m.\u001b[39mconv2d(F\u001b[39m.\u001b[39mpad(\u001b[39minput\u001b[39m, \u001b[39mself\u001b[39m\u001b[39m.\u001b[39m_reversed_padding_repeated_twice, mode\u001b[39m=\u001b[39m\u001b[39mself\u001b[39m\u001b[39m.\u001b[39mpadding_mode),\n\u001b[0;32m    451\u001b[0m                     weight, bias, \u001b[39mself\u001b[39m\u001b[39m.\u001b[39mstride,\n\u001b[0;32m    452\u001b[0m                     _pair(\u001b[39m0\u001b[39m), \u001b[39mself\u001b[39m\u001b[39m.\u001b[39mdilation, \u001b[39mself\u001b[39m\u001b[39m.\u001b[39mgroups)\n\u001b[1;32m--> 453\u001b[0m \u001b[39mreturn\u001b[39;00m F\u001b[39m.\u001b[39;49mconv2d(\u001b[39minput\u001b[39;49m, weight, bias, \u001b[39mself\u001b[39;49m\u001b[39m.\u001b[39;49mstride,\n\u001b[0;32m    454\u001b[0m                 \u001b[39mself\u001b[39;49m\u001b[39m.\u001b[39;49mpadding, \u001b[39mself\u001b[39;49m\u001b[39m.\u001b[39;49mdilation, \u001b[39mself\u001b[39;49m\u001b[39m.\u001b[39;49mgroups)\n",
            "\u001b[1;31mKeyboardInterrupt\u001b[0m: "
          ]
        }
      ],
      "source": [
        "for epoch in range(10):\n",
        "    model.train()\n",
        "    running_loss = 0.0\n",
        "    best_acc = 0.0\n",
        "    best_model_wts = model.state_dict()\n",
        "    print(f\"train epoch: {epoch+1}----------------\")\n",
        "    for img, label in tqdm(train_loader):\n",
        "        img = img.to(device)\n",
        "        label = label.to(device)\n",
        "        optimizer.zero_grad()\n",
        "        output = model(img)\n",
        "        loss = criterion(output, label)\n",
        "        running_loss += loss.item()\n",
        "        loss.backward()\n",
        "        optimizer.step()\n",
        "    correct, all_data = 0,0\n",
        "    print(\"\\ntrain_loss : \", running_loss / len(train_loader))\n",
        "    model.eval()\n",
        "    for img, label in test_loader:\n",
        "        with torch.no_grad():\n",
        "            img = img.to(device)\n",
        "            label = label.to(device)\n",
        "            output = model(img)\n",
        "\n",
        "            correct += torch.sum(torch.argmax(output, dim=1) == label).item()\n",
        "            all_data += len(label)\n",
        "    print(\"val_acc : \", correct / all_data)\n",
        "    if correct / all_data > best_acc:\n",
        "      best_acc = correct / all_data\n",
        "      best_model_wts = model.state_dict()"
      ]
    },
    {
      "cell_type": "markdown",
      "metadata": {
        "id": "c39pRsi2cGNe"
      },
      "source": [
        "# Case1. \n",
        "- Conv 계층을 5계층으로 하여 깊이를 더한다.\n",
        "- Channel 수는 3 -> 64 -> 64 -> 32 -> 16 -> 16 로 하여 더 많은 feature map을 뽑아내겠다.\n",
        "- Kernel의 크기는 처음 3계층 3 x 3, 마지막 2계층 2 x 2로 하여 국소적 맥락에만 집중하도록 하겠다.\n",
        "- image size는 32 -> 16 -> 8 -> 4 -> 2\n",
        "- FC Node는 36 -> 180 -> 140 -> 100\n",
        "- Optimizer Adam, learning rate 0.01"
      ]
    },
    {
      "cell_type": "code",
      "execution_count": null,
      "metadata": {
        "id": "iuBEgpHHcGNg"
      },
      "outputs": [],
      "source": [
        "class Case1Model(nn.Module):\n",
        "    #Cifar100 Shape: [Batch, Channel(3), 32, 32]\n",
        "    def __init__(self, in_channels, num_classes):\n",
        "        super(Case1Model, self).__init__()\n",
        "        \"\"\"Base Model\"\"\"\n",
        "        self.conv1 = nn.Conv2d(3, 64, 3)\n",
        "        self.pool1 = nn.MaxPool2d(2, 2, 1)\n",
        "        \n",
        "        self.conv2 = nn.Conv2d(64, 64, 3)\n",
        "        self.pool2 = nn.MaxPool2d(2, 2, 1)\n",
        "\n",
        "        self.conv3 = nn.Conv2d(64, 32, 3)\n",
        "        self.pool3 = nn.MaxPool2d(2, 2, 1)\n",
        "\n",
        "        self.conv4 = nn.Conv2d(32, 16, 2)\n",
        "        self.pool4 = nn.MaxPool2d(2, 2, 1)\n",
        "\n",
        "        self.conv5 = nn.Conv2d(16, 16, 2)\n",
        "        self.pool5 = nn.MaxPool2d(2, 1, 1)\n",
        "        \n",
        "        self.fc1 = nn.Linear(16 * 2 * 2, 180)\n",
        "        self.fc2 = nn.Linear(180, 140)\n",
        "        self.fc3 = nn.Linear(140, 100)\n",
        "        \n",
        "        \n",
        "\n",
        "    def forward(self, x):\n",
        "        \"\"\"Base Model\"\"\"\n",
        "        x = self.pool1(F.relu(self.conv1(x)))\n",
        "        x = self.pool2(F.relu(self.conv2(x)))\n",
        "        x = self.pool3(F.relu(self.conv3(x)))\n",
        "        x = self.pool4(F.relu(self.conv4(x)))\n",
        "        x = self.pool5(F.relu(self.conv5(x)))\n",
        "\n",
        "        x = torch.flatten(x, 1) # flatten all dimensions except batch\n",
        "        x = F.relu(self.fc1(x))\n",
        "        x = F.relu(self.fc2(x))\n",
        "        x = self.fc3(x)\n",
        "        return x\n",
        "\n",
        "model1 = Case1Model(3, 100).to(device)\n",
        "optimizer = optim.Adam(model.parameters(), lr=0.01)\n",
        "\n",
        "model1\n"
      ]
    },
    {
      "cell_type": "code",
      "execution_count": null,
      "metadata": {
        "id": "wXam07mOcGNh"
      },
      "outputs": [],
      "source": [
        "for epoch in range(10):\n",
        "    model1.train()\n",
        "    running_loss = 0.0\n",
        "    best_acc = 0.0\n",
        "    best_model_wts = model1.state_dict()\n",
        "    print(f\"train epoch: {epoch+1}----------------\")\n",
        "    for img, label in tqdm(train_loader):\n",
        "        img = img.to(device)\n",
        "        label = label.to(device)\n",
        "        optimizer.zero_grad()\n",
        "        output = model1(img)\n",
        "        loss = criterion(output, label)\n",
        "        running_loss += loss.item()\n",
        "        loss.backward()\n",
        "        optimizer.step()\n",
        "    correct, all_data = 0,0\n",
        "    print(\"\\ntrain_loss : \", running_loss / len(train_loader))\n",
        "    model1.eval()\n",
        "    for img, label in test_loader:\n",
        "        with torch.no_grad():\n",
        "            img = img.to(device)\n",
        "            label = label.to(device)\n",
        "            output = model1(img)\n",
        "\n",
        "            correct += torch.sum(torch.argmax(output, dim=1) == label).item()\n",
        "            all_data += len(label)\n",
        "    print(\"val_acc : \", correct / all_data)\n",
        "    if correct / all_data > best_acc:\n",
        "      best_acc = correct / all_data\n",
        "      best_model_wts = model1.state_dict()"
      ]
    },
    {
      "cell_type": "markdown",
      "metadata": {
        "id": "zChk__eucGNh"
      },
      "source": [
        "# Case 2\n",
        "- 앞선 Case 1에선 Gradient Vanishing이 일어난 것으로 보인다.\n",
        "- 이에 BatchNormalization으로 이를 해소하고, Learning Rate도 0.1로 다시 높이겠다."
      ]
    },
    {
      "cell_type": "code",
      "execution_count": null,
      "metadata": {
        "id": "QkGaY6f0cGNh",
        "outputId": "1dc9d2c0-44ed-4d02-f221-d1b6a5eb70e5"
      },
      "outputs": [
        {
          "data": {
            "text/plain": [
              "Case2Model(\n",
              "  (conv1): Conv2d(3, 64, kernel_size=(3, 3), stride=(1, 1))\n",
              "  (pool1): MaxPool2d(kernel_size=2, stride=2, padding=1, dilation=1, ceil_mode=False)\n",
              "  (batchNorm1): BatchNorm2d(64, eps=1e-05, momentum=0.1, affine=True, track_running_stats=True)\n",
              "  (conv2): Conv2d(64, 64, kernel_size=(3, 3), stride=(1, 1))\n",
              "  (pool2): MaxPool2d(kernel_size=2, stride=2, padding=1, dilation=1, ceil_mode=False)\n",
              "  (batchNorm2): BatchNorm2d(64, eps=1e-05, momentum=0.1, affine=True, track_running_stats=True)\n",
              "  (conv3): Conv2d(64, 32, kernel_size=(3, 3), stride=(1, 1))\n",
              "  (pool3): MaxPool2d(kernel_size=2, stride=2, padding=1, dilation=1, ceil_mode=False)\n",
              "  (batchNorm3): BatchNorm2d(32, eps=1e-05, momentum=0.1, affine=True, track_running_stats=True)\n",
              "  (conv4): Conv2d(32, 16, kernel_size=(2, 2), stride=(1, 1))\n",
              "  (pool4): MaxPool2d(kernel_size=2, stride=2, padding=1, dilation=1, ceil_mode=False)\n",
              "  (batchNorm4): BatchNorm2d(16, eps=1e-05, momentum=0.1, affine=True, track_running_stats=True)\n",
              "  (conv5): Conv2d(16, 16, kernel_size=(2, 2), stride=(1, 1))\n",
              "  (pool5): MaxPool2d(kernel_size=2, stride=1, padding=1, dilation=1, ceil_mode=False)\n",
              "  (fc1): Linear(in_features=64, out_features=180, bias=True)\n",
              "  (fc2): Linear(in_features=180, out_features=140, bias=True)\n",
              "  (fc3): Linear(in_features=140, out_features=100, bias=True)\n",
              ")"
            ]
          },
          "execution_count": 22,
          "metadata": {},
          "output_type": "execute_result"
        }
      ],
      "source": [
        "class Case2Model(nn.Module):\n",
        "    #Cifar100 Shape: [Batch, Channel(3), 32, 32]\n",
        "    def __init__(self, in_channels, num_classes):\n",
        "        super(Case2Model, self).__init__()\n",
        "        \"\"\"Base Model\"\"\"\n",
        "        self.conv1 = nn.Conv2d(3, 64, 3)\n",
        "        self.pool1 = nn.MaxPool2d(2, 2, 1)\n",
        "        self.batchNorm1 = nn.BatchNorm2d(64)\n",
        "        \n",
        "        self.conv2 = nn.Conv2d(64, 64, 3)\n",
        "        self.pool2 = nn.MaxPool2d(2, 2, 1)\n",
        "        self.batchNorm2 = nn.BatchNorm2d(64)\n",
        "\n",
        "\n",
        "        self.conv3 = nn.Conv2d(64, 32, 3)\n",
        "        self.pool3 = nn.MaxPool2d(2, 2, 1)\n",
        "        self.batchNorm3 = nn.BatchNorm2d(32)\n",
        "\n",
        "        self.conv4 = nn.Conv2d(32, 16, 2)\n",
        "        self.pool4 = nn.MaxPool2d(2, 2, 1)\n",
        "        self.batchNorm4 = nn.BatchNorm2d(16)\n",
        "\n",
        "\n",
        "        self.conv5 = nn.Conv2d(16, 16, 2)\n",
        "        self.pool5 = nn.MaxPool2d(2, 1, 1)\n",
        "\n",
        "        \n",
        "        self.fc1 = nn.Linear(16 * 2 * 2, 180)\n",
        "        self.fc2 = nn.Linear(180, 140)\n",
        "        self.fc3 = nn.Linear(140, 100)\n",
        "        \n",
        "        \n",
        "\n",
        "    def forward(self, x):\n",
        "        \"\"\"Base Model\"\"\"\n",
        "        x1 = self.batchNorm1(self.pool1(F.relu(self.conv1(x))))\n",
        "        x2 = self.batchNorm2(self.pool2(F.relu(self.conv2(x1))))\n",
        "        x3 = self.batchNorm3(self.pool3(F.relu(self.conv3(x2))))\n",
        "        x4 = self.batchNorm4(self.pool4(F.relu(self.conv4(x3))))\n",
        "        x5 = self.pool5(F.relu(self.conv5(x4)))\n",
        "\n",
        "        x = torch.flatten(x5, 1) # flatten all dimensions except batch\n",
        "        x = F.relu(self.fc1(x))\n",
        "        x = F.relu(self.fc2(x))\n",
        "        x = self.fc3(x)\n",
        "        return x\n",
        "\n",
        "model2 = Case2Model(3, 100).to(device)\n",
        "optimizer = optim.Adam(model2.parameters(), lr=0.1)\n",
        "\n",
        "model2\n"
      ]
    },
    {
      "cell_type": "code",
      "execution_count": null,
      "metadata": {
        "id": "f7xcgmircGNi",
        "outputId": "6734e2c6-7522-4644-b6d1-55499575860e"
      },
      "outputs": [
        {
          "name": "stdout",
          "output_type": "stream",
          "text": [
            "train epoch: 1----------------\n"
          ]
        },
        {
          "name": "stderr",
          "output_type": "stream",
          "text": [
            "100%|██████████| 196/196 [00:36<00:00,  5.37it/s]\n"
          ]
        },
        {
          "name": "stdout",
          "output_type": "stream",
          "text": [
            "\n",
            "train_loss :  4.499614194947846\n",
            "val_acc :  0.0273\n",
            "train epoch: 2----------------\n"
          ]
        },
        {
          "name": "stderr",
          "output_type": "stream",
          "text": [
            "100%|██████████| 196/196 [00:38<00:00,  5.15it/s]\n"
          ]
        },
        {
          "name": "stdout",
          "output_type": "stream",
          "text": [
            "\n",
            "train_loss :  4.066124045118993\n",
            "val_acc :  0.0573\n",
            "train epoch: 3----------------\n"
          ]
        },
        {
          "name": "stderr",
          "output_type": "stream",
          "text": [
            " 37%|███▋      | 73/196 [00:16<00:27,  4.50it/s]\n"
          ]
        },
        {
          "ename": "KeyboardInterrupt",
          "evalue": "",
          "output_type": "error",
          "traceback": [
            "\u001b[1;31m---------------------------------------------------------------------------\u001b[0m",
            "\u001b[1;31mKeyboardInterrupt\u001b[0m                         Traceback (most recent call last)",
            "\u001b[1;32mc:\\Users\\PC\\Desktop\\tobigs_assignment\\Vision_Adv\\week8_vision_advanced\\vision_adv.ipynb Cell 10\u001b[0m in \u001b[0;36m1\n\u001b[0;32m     <a href='vscode-notebook-cell:/c%3A/Users/PC/Desktop/tobigs_assignment/Vision_Adv/week8_vision_advanced/vision_adv.ipynb#X12sZmlsZQ%3D%3D?line=11'>12</a>\u001b[0m     loss \u001b[39m=\u001b[39m criterion(output, label)\n\u001b[0;32m     <a href='vscode-notebook-cell:/c%3A/Users/PC/Desktop/tobigs_assignment/Vision_Adv/week8_vision_advanced/vision_adv.ipynb#X12sZmlsZQ%3D%3D?line=12'>13</a>\u001b[0m     running_loss \u001b[39m+\u001b[39m\u001b[39m=\u001b[39m loss\u001b[39m.\u001b[39mitem()\n\u001b[1;32m---> <a href='vscode-notebook-cell:/c%3A/Users/PC/Desktop/tobigs_assignment/Vision_Adv/week8_vision_advanced/vision_adv.ipynb#X12sZmlsZQ%3D%3D?line=13'>14</a>\u001b[0m     loss\u001b[39m.\u001b[39;49mbackward()\n\u001b[0;32m     <a href='vscode-notebook-cell:/c%3A/Users/PC/Desktop/tobigs_assignment/Vision_Adv/week8_vision_advanced/vision_adv.ipynb#X12sZmlsZQ%3D%3D?line=14'>15</a>\u001b[0m     optimizer\u001b[39m.\u001b[39mstep()\n\u001b[0;32m     <a href='vscode-notebook-cell:/c%3A/Users/PC/Desktop/tobigs_assignment/Vision_Adv/week8_vision_advanced/vision_adv.ipynb#X12sZmlsZQ%3D%3D?line=15'>16</a>\u001b[0m correct, all_data \u001b[39m=\u001b[39m \u001b[39m0\u001b[39m,\u001b[39m0\u001b[39m\n",
            "File \u001b[1;32mc:\\Users\\PC\\AppData\\Local\\Programs\\Python\\Python310\\lib\\site-packages\\torch\\_tensor.py:396\u001b[0m, in \u001b[0;36mTensor.backward\u001b[1;34m(self, gradient, retain_graph, create_graph, inputs)\u001b[0m\n\u001b[0;32m    387\u001b[0m \u001b[39mif\u001b[39;00m has_torch_function_unary(\u001b[39mself\u001b[39m):\n\u001b[0;32m    388\u001b[0m     \u001b[39mreturn\u001b[39;00m handle_torch_function(\n\u001b[0;32m    389\u001b[0m         Tensor\u001b[39m.\u001b[39mbackward,\n\u001b[0;32m    390\u001b[0m         (\u001b[39mself\u001b[39m,),\n\u001b[1;32m   (...)\u001b[0m\n\u001b[0;32m    394\u001b[0m         create_graph\u001b[39m=\u001b[39mcreate_graph,\n\u001b[0;32m    395\u001b[0m         inputs\u001b[39m=\u001b[39minputs)\n\u001b[1;32m--> 396\u001b[0m torch\u001b[39m.\u001b[39;49mautograd\u001b[39m.\u001b[39;49mbackward(\u001b[39mself\u001b[39;49m, gradient, retain_graph, create_graph, inputs\u001b[39m=\u001b[39;49minputs)\n",
            "File \u001b[1;32mc:\\Users\\PC\\AppData\\Local\\Programs\\Python\\Python310\\lib\\site-packages\\torch\\autograd\\__init__.py:173\u001b[0m, in \u001b[0;36mbackward\u001b[1;34m(tensors, grad_tensors, retain_graph, create_graph, grad_variables, inputs)\u001b[0m\n\u001b[0;32m    168\u001b[0m     retain_graph \u001b[39m=\u001b[39m create_graph\n\u001b[0;32m    170\u001b[0m \u001b[39m# The reason we repeat same the comment below is that\u001b[39;00m\n\u001b[0;32m    171\u001b[0m \u001b[39m# some Python versions print out the first line of a multi-line function\u001b[39;00m\n\u001b[0;32m    172\u001b[0m \u001b[39m# calls in the traceback and some print out the last line\u001b[39;00m\n\u001b[1;32m--> 173\u001b[0m Variable\u001b[39m.\u001b[39;49m_execution_engine\u001b[39m.\u001b[39;49mrun_backward(  \u001b[39m# Calls into the C++ engine to run the backward pass\u001b[39;49;00m\n\u001b[0;32m    174\u001b[0m     tensors, grad_tensors_, retain_graph, create_graph, inputs,\n\u001b[0;32m    175\u001b[0m     allow_unreachable\u001b[39m=\u001b[39;49m\u001b[39mTrue\u001b[39;49;00m, accumulate_grad\u001b[39m=\u001b[39;49m\u001b[39mTrue\u001b[39;49;00m)\n",
            "\u001b[1;31mKeyboardInterrupt\u001b[0m: "
          ]
        }
      ],
      "source": [
        "for epoch in range(10):\n",
        "    model2.train()\n",
        "    running_loss = 0.0\n",
        "    best_acc = 0.0\n",
        "    best_model_wts = model2.state_dict()\n",
        "    print(f\"train epoch: {epoch+1}----------------\")\n",
        "    for img, label in tqdm(train_loader):\n",
        "        img = img.to(device)\n",
        "        label = label.to(device)\n",
        "        optimizer.zero_grad()\n",
        "        output = model2(img)\n",
        "        loss = criterion(output, label)\n",
        "        running_loss += loss.item()\n",
        "        loss.backward()\n",
        "        optimizer.step()\n",
        "    correct, all_data = 0,0\n",
        "    print(\"\\ntrain_loss : \", running_loss / len(train_loader))\n",
        "    model2.eval()\n",
        "    for img, label in test_loader:\n",
        "        with torch.no_grad():\n",
        "            img = img.to(device)\n",
        "            label = label.to(device)\n",
        "            output = model2(img)\n",
        "\n",
        "            correct += torch.sum(torch.argmax(output, dim=1) == label).item()\n",
        "            all_data += len(label)\n",
        "    print(\"val_acc : \", correct / all_data)\n",
        "    if correct / all_data > best_acc:\n",
        "      best_acc = correct / all_data\n",
        "      best_model_wts = model2.state_dict()"
      ]
    },
    {
      "cell_type": "markdown",
      "metadata": {
        "id": "j2drqrMacGNj"
      },
      "source": [
        "# Case 3\n",
        "- Optimizer를 원래의 SGD로 바꾸어보겠다."
      ]
    },
    {
      "cell_type": "code",
      "execution_count": null,
      "metadata": {
        "id": "4MMPPVNfcGNj",
        "outputId": "1cd9867e-6147-4ef8-f7bc-d5707fbe3364"
      },
      "outputs": [
        {
          "data": {
            "text/plain": [
              "MyModel(\n",
              "  (conv1): Conv2d(3, 6, kernel_size=(5, 5), stride=(1, 1))\n",
              "  (pool): MaxPool2d(kernel_size=2, stride=2, padding=0, dilation=1, ceil_mode=False)\n",
              "  (conv2): Conv2d(6, 16, kernel_size=(5, 5), stride=(1, 1))\n",
              "  (fc1): Linear(in_features=400, out_features=120, bias=True)\n",
              "  (fc2): Linear(in_features=120, out_features=84, bias=True)\n",
              "  (fc3): Linear(in_features=84, out_features=100, bias=True)\n",
              ")"
            ]
          },
          "execution_count": 26,
          "metadata": {},
          "output_type": "execute_result"
        }
      ],
      "source": [
        "class Case3Model(nn.Module):\n",
        "    #Cifar100 Shape: [Batch, Channel(3), 32, 32]\n",
        "    def __init__(self, in_channels, num_classes):\n",
        "        super(Case2Model, self).__init__()\n",
        "        \"\"\"Base Model\"\"\"\n",
        "        self.conv1 = nn.Conv2d(3, 64, 3)\n",
        "        self.pool1 = nn.MaxPool2d(2, 2, 1)\n",
        "        self.batchNorm1 = nn.BatchNorm2d(64)\n",
        "        \n",
        "        self.conv2 = nn.Conv2d(64, 64, 3)\n",
        "        self.pool2 = nn.MaxPool2d(2, 2, 1)\n",
        "        self.batchNorm2 = nn.BatchNorm2d(64)\n",
        "\n",
        "\n",
        "        self.conv3 = nn.Conv2d(64, 32, 3)\n",
        "        self.pool3 = nn.MaxPool2d(2, 2, 1)\n",
        "        self.batchNorm3 = nn.BatchNorm2d(32)\n",
        "\n",
        "        self.conv4 = nn.Conv2d(32, 16, 2)\n",
        "        self.pool4 = nn.MaxPool2d(2, 2, 1)\n",
        "        self.batchNorm4 = nn.BatchNorm2d(16)\n",
        "\n",
        "\n",
        "        self.conv5 = nn.Conv2d(16, 16, 2)\n",
        "        self.pool5 = nn.MaxPool2d(2, 1, 1)\n",
        "\n",
        "        \n",
        "        self.fc1 = nn.Linear(16 * 2 * 2, 180)\n",
        "        self.fc2 = nn.Linear(180, 140)\n",
        "        self.fc3 = nn.Linear(140, 100)\n",
        "        \n",
        "        \n",
        "\n",
        "    def forward(self, x):\n",
        "        \"\"\"Base Model\"\"\"\n",
        "        x1 = self.batchNorm1(self.pool1(F.relu(self.conv1(x))))\n",
        "        x2 = self.batchNorm2(self.pool2(F.relu(self.conv2(x1))))\n",
        "        x3 = self.batchNorm3(self.pool3(F.relu(self.conv3(x2))))\n",
        "        x4 = self.batchNorm4(self.pool4(F.relu(self.conv4(x3))))\n",
        "        x5 = self.pool5(F.relu(self.conv5(x4)))\n",
        "\n",
        "        x = torch.flatten(x5, 1) # flatten all dimensions except batch\n",
        "        x = F.relu(self.fc1(x))\n",
        "        x = F.relu(self.fc2(x))\n",
        "        x = self.fc3(x)\n",
        "        return x\n",
        "\n",
        "model3 = Case3Model(3, 100).to(device)\n",
        "optimizer = optim.SGD(model3.parameters(), lr=0.1)\n",
        "\n",
        "model3\n"
      ]
    },
    {
      "cell_type": "code",
      "execution_count": null,
      "metadata": {
        "id": "JwTDKyLdcGNk",
        "outputId": "61ff9a80-e827-4292-de5b-5d56e1f08366"
      },
      "outputs": [
        {
          "name": "stdout",
          "output_type": "stream",
          "text": [
            "train epoch: 1----------------\n"
          ]
        },
        {
          "name": "stderr",
          "output_type": "stream",
          "text": [
            "  0%|          | 0/196 [00:03<?, ?it/s]\n"
          ]
        },
        {
          "ename": "RuntimeError",
          "evalue": "running_mean should contain 256 elements not 64",
          "output_type": "error",
          "traceback": [
            "\u001b[1;31m---------------------------------------------------------------------------\u001b[0m",
            "\u001b[1;31mRuntimeError\u001b[0m                              Traceback (most recent call last)",
            "\u001b[1;32mc:\\Users\\PC\\Desktop\\tobigs_assignment\\Vision_Adv\\week8_vision_advanced\\vision_adv.ipynb Cell 13\u001b[0m in \u001b[0;36m1\n\u001b[0;32m      <a href='vscode-notebook-cell:/c%3A/Users/PC/Desktop/tobigs_assignment/Vision_Adv/week8_vision_advanced/vision_adv.ipynb#X15sZmlsZQ%3D%3D?line=8'>9</a>\u001b[0m label \u001b[39m=\u001b[39m label\u001b[39m.\u001b[39mto(device)\n\u001b[0;32m     <a href='vscode-notebook-cell:/c%3A/Users/PC/Desktop/tobigs_assignment/Vision_Adv/week8_vision_advanced/vision_adv.ipynb#X15sZmlsZQ%3D%3D?line=9'>10</a>\u001b[0m optimizer\u001b[39m.\u001b[39mzero_grad()\n\u001b[1;32m---> <a href='vscode-notebook-cell:/c%3A/Users/PC/Desktop/tobigs_assignment/Vision_Adv/week8_vision_advanced/vision_adv.ipynb#X15sZmlsZQ%3D%3D?line=10'>11</a>\u001b[0m output \u001b[39m=\u001b[39m model3(img)\n\u001b[0;32m     <a href='vscode-notebook-cell:/c%3A/Users/PC/Desktop/tobigs_assignment/Vision_Adv/week8_vision_advanced/vision_adv.ipynb#X15sZmlsZQ%3D%3D?line=11'>12</a>\u001b[0m loss \u001b[39m=\u001b[39m criterion(output, label)\n\u001b[0;32m     <a href='vscode-notebook-cell:/c%3A/Users/PC/Desktop/tobigs_assignment/Vision_Adv/week8_vision_advanced/vision_adv.ipynb#X15sZmlsZQ%3D%3D?line=12'>13</a>\u001b[0m running_loss \u001b[39m+\u001b[39m\u001b[39m=\u001b[39m loss\u001b[39m.\u001b[39mitem()\n",
            "File \u001b[1;32mc:\\Users\\PC\\AppData\\Local\\Programs\\Python\\Python310\\lib\\site-packages\\torch\\nn\\modules\\module.py:1130\u001b[0m, in \u001b[0;36mModule._call_impl\u001b[1;34m(self, *input, **kwargs)\u001b[0m\n\u001b[0;32m   1126\u001b[0m \u001b[39m# If we don't have any hooks, we want to skip the rest of the logic in\u001b[39;00m\n\u001b[0;32m   1127\u001b[0m \u001b[39m# this function, and just call forward.\u001b[39;00m\n\u001b[0;32m   1128\u001b[0m \u001b[39mif\u001b[39;00m \u001b[39mnot\u001b[39;00m (\u001b[39mself\u001b[39m\u001b[39m.\u001b[39m_backward_hooks \u001b[39mor\u001b[39;00m \u001b[39mself\u001b[39m\u001b[39m.\u001b[39m_forward_hooks \u001b[39mor\u001b[39;00m \u001b[39mself\u001b[39m\u001b[39m.\u001b[39m_forward_pre_hooks \u001b[39mor\u001b[39;00m _global_backward_hooks\n\u001b[0;32m   1129\u001b[0m         \u001b[39mor\u001b[39;00m _global_forward_hooks \u001b[39mor\u001b[39;00m _global_forward_pre_hooks):\n\u001b[1;32m-> 1130\u001b[0m     \u001b[39mreturn\u001b[39;00m forward_call(\u001b[39m*\u001b[39m\u001b[39minput\u001b[39m, \u001b[39m*\u001b[39m\u001b[39m*\u001b[39mkwargs)\n\u001b[0;32m   1131\u001b[0m \u001b[39m# Do not call functions when jit is used\u001b[39;00m\n\u001b[0;32m   1132\u001b[0m full_backward_hooks, non_full_backward_hooks \u001b[39m=\u001b[39m [], []\n",
            "\u001b[1;32mc:\\Users\\PC\\Desktop\\tobigs_assignment\\Vision_Adv\\week8_vision_advanced\\vision_adv.ipynb Cell 13\u001b[0m in \u001b[0;36m2\n\u001b[0;32m     <a href='vscode-notebook-cell:/c%3A/Users/PC/Desktop/tobigs_assignment/Vision_Adv/week8_vision_advanced/vision_adv.ipynb#X15sZmlsZQ%3D%3D?line=24'>25</a>\u001b[0m \u001b[39mdef\u001b[39;00m \u001b[39mforward\u001b[39m(\u001b[39mself\u001b[39m, x):\n\u001b[0;32m     <a href='vscode-notebook-cell:/c%3A/Users/PC/Desktop/tobigs_assignment/Vision_Adv/week8_vision_advanced/vision_adv.ipynb#X15sZmlsZQ%3D%3D?line=25'>26</a>\u001b[0m     \u001b[39m\"\"\"Base Model\"\"\"\u001b[39;00m\n\u001b[1;32m---> <a href='vscode-notebook-cell:/c%3A/Users/PC/Desktop/tobigs_assignment/Vision_Adv/week8_vision_advanced/vision_adv.ipynb#X15sZmlsZQ%3D%3D?line=26'>27</a>\u001b[0m     x1 \u001b[39m=\u001b[39m \u001b[39mself\u001b[39;49m\u001b[39m.\u001b[39;49mbatchNorm1(\u001b[39mself\u001b[39;49m\u001b[39m.\u001b[39;49mpool1(F\u001b[39m.\u001b[39;49mrelu(\u001b[39mself\u001b[39;49m\u001b[39m.\u001b[39;49mconv1(x))))\n\u001b[0;32m     <a href='vscode-notebook-cell:/c%3A/Users/PC/Desktop/tobigs_assignment/Vision_Adv/week8_vision_advanced/vision_adv.ipynb#X15sZmlsZQ%3D%3D?line=27'>28</a>\u001b[0m     x2 \u001b[39m=\u001b[39m \u001b[39mself\u001b[39m\u001b[39m.\u001b[39mbatchNorm2(\u001b[39mself\u001b[39m\u001b[39m.\u001b[39mpool2(F\u001b[39m.\u001b[39mrelu(\u001b[39mself\u001b[39m\u001b[39m.\u001b[39mconv2(x1))))\n\u001b[0;32m     <a href='vscode-notebook-cell:/c%3A/Users/PC/Desktop/tobigs_assignment/Vision_Adv/week8_vision_advanced/vision_adv.ipynb#X15sZmlsZQ%3D%3D?line=28'>29</a>\u001b[0m     x3 \u001b[39m=\u001b[39m \u001b[39mself\u001b[39m\u001b[39m.\u001b[39mpool3(F\u001b[39m.\u001b[39mrelu(\u001b[39mself\u001b[39m\u001b[39m.\u001b[39mconv3(x2)))\n",
            "File \u001b[1;32mc:\\Users\\PC\\AppData\\Local\\Programs\\Python\\Python310\\lib\\site-packages\\torch\\nn\\modules\\module.py:1130\u001b[0m, in \u001b[0;36mModule._call_impl\u001b[1;34m(self, *input, **kwargs)\u001b[0m\n\u001b[0;32m   1126\u001b[0m \u001b[39m# If we don't have any hooks, we want to skip the rest of the logic in\u001b[39;00m\n\u001b[0;32m   1127\u001b[0m \u001b[39m# this function, and just call forward.\u001b[39;00m\n\u001b[0;32m   1128\u001b[0m \u001b[39mif\u001b[39;00m \u001b[39mnot\u001b[39;00m (\u001b[39mself\u001b[39m\u001b[39m.\u001b[39m_backward_hooks \u001b[39mor\u001b[39;00m \u001b[39mself\u001b[39m\u001b[39m.\u001b[39m_forward_hooks \u001b[39mor\u001b[39;00m \u001b[39mself\u001b[39m\u001b[39m.\u001b[39m_forward_pre_hooks \u001b[39mor\u001b[39;00m _global_backward_hooks\n\u001b[0;32m   1129\u001b[0m         \u001b[39mor\u001b[39;00m _global_forward_hooks \u001b[39mor\u001b[39;00m _global_forward_pre_hooks):\n\u001b[1;32m-> 1130\u001b[0m     \u001b[39mreturn\u001b[39;00m forward_call(\u001b[39m*\u001b[39m\u001b[39minput\u001b[39m, \u001b[39m*\u001b[39m\u001b[39m*\u001b[39mkwargs)\n\u001b[0;32m   1131\u001b[0m \u001b[39m# Do not call functions when jit is used\u001b[39;00m\n\u001b[0;32m   1132\u001b[0m full_backward_hooks, non_full_backward_hooks \u001b[39m=\u001b[39m [], []\n",
            "File \u001b[1;32mc:\\Users\\PC\\AppData\\Local\\Programs\\Python\\Python310\\lib\\site-packages\\torch\\nn\\modules\\batchnorm.py:168\u001b[0m, in \u001b[0;36m_BatchNorm.forward\u001b[1;34m(self, input)\u001b[0m\n\u001b[0;32m    161\u001b[0m     bn_training \u001b[39m=\u001b[39m (\u001b[39mself\u001b[39m\u001b[39m.\u001b[39mrunning_mean \u001b[39mis\u001b[39;00m \u001b[39mNone\u001b[39;00m) \u001b[39mand\u001b[39;00m (\u001b[39mself\u001b[39m\u001b[39m.\u001b[39mrunning_var \u001b[39mis\u001b[39;00m \u001b[39mNone\u001b[39;00m)\n\u001b[0;32m    163\u001b[0m \u001b[39mr\u001b[39m\u001b[39m\"\"\"\u001b[39;00m\n\u001b[0;32m    164\u001b[0m \u001b[39mBuffers are only updated if they are to be tracked and we are in training mode. Thus they only need to be\u001b[39;00m\n\u001b[0;32m    165\u001b[0m \u001b[39mpassed when the update should occur (i.e. in training mode when they are tracked), or when buffer stats are\u001b[39;00m\n\u001b[0;32m    166\u001b[0m \u001b[39mused for normalization (i.e. in eval mode when buffers are not None).\u001b[39;00m\n\u001b[0;32m    167\u001b[0m \u001b[39m\"\"\"\u001b[39;00m\n\u001b[1;32m--> 168\u001b[0m \u001b[39mreturn\u001b[39;00m F\u001b[39m.\u001b[39;49mbatch_norm(\n\u001b[0;32m    169\u001b[0m     \u001b[39minput\u001b[39;49m,\n\u001b[0;32m    170\u001b[0m     \u001b[39m# If buffers are not to be tracked, ensure that they won't be updated\u001b[39;49;00m\n\u001b[0;32m    171\u001b[0m     \u001b[39mself\u001b[39;49m\u001b[39m.\u001b[39;49mrunning_mean\n\u001b[0;32m    172\u001b[0m     \u001b[39mif\u001b[39;49;00m \u001b[39mnot\u001b[39;49;00m \u001b[39mself\u001b[39;49m\u001b[39m.\u001b[39;49mtraining \u001b[39mor\u001b[39;49;00m \u001b[39mself\u001b[39;49m\u001b[39m.\u001b[39;49mtrack_running_stats\n\u001b[0;32m    173\u001b[0m     \u001b[39melse\u001b[39;49;00m \u001b[39mNone\u001b[39;49;00m,\n\u001b[0;32m    174\u001b[0m     \u001b[39mself\u001b[39;49m\u001b[39m.\u001b[39;49mrunning_var \u001b[39mif\u001b[39;49;00m \u001b[39mnot\u001b[39;49;00m \u001b[39mself\u001b[39;49m\u001b[39m.\u001b[39;49mtraining \u001b[39mor\u001b[39;49;00m \u001b[39mself\u001b[39;49m\u001b[39m.\u001b[39;49mtrack_running_stats \u001b[39melse\u001b[39;49;00m \u001b[39mNone\u001b[39;49;00m,\n\u001b[0;32m    175\u001b[0m     \u001b[39mself\u001b[39;49m\u001b[39m.\u001b[39;49mweight,\n\u001b[0;32m    176\u001b[0m     \u001b[39mself\u001b[39;49m\u001b[39m.\u001b[39;49mbias,\n\u001b[0;32m    177\u001b[0m     bn_training,\n\u001b[0;32m    178\u001b[0m     exponential_average_factor,\n\u001b[0;32m    179\u001b[0m     \u001b[39mself\u001b[39;49m\u001b[39m.\u001b[39;49meps,\n\u001b[0;32m    180\u001b[0m )\n",
            "File \u001b[1;32mc:\\Users\\PC\\AppData\\Local\\Programs\\Python\\Python310\\lib\\site-packages\\torch\\nn\\functional.py:2438\u001b[0m, in \u001b[0;36mbatch_norm\u001b[1;34m(input, running_mean, running_var, weight, bias, training, momentum, eps)\u001b[0m\n\u001b[0;32m   2435\u001b[0m \u001b[39mif\u001b[39;00m training:\n\u001b[0;32m   2436\u001b[0m     _verify_batch_size(\u001b[39minput\u001b[39m\u001b[39m.\u001b[39msize())\n\u001b[1;32m-> 2438\u001b[0m \u001b[39mreturn\u001b[39;00m torch\u001b[39m.\u001b[39;49mbatch_norm(\n\u001b[0;32m   2439\u001b[0m     \u001b[39minput\u001b[39;49m, weight, bias, running_mean, running_var, training, momentum, eps, torch\u001b[39m.\u001b[39;49mbackends\u001b[39m.\u001b[39;49mcudnn\u001b[39m.\u001b[39;49menabled\n\u001b[0;32m   2440\u001b[0m )\n",
            "\u001b[1;31mRuntimeError\u001b[0m: running_mean should contain 256 elements not 64"
          ]
        }
      ],
      "source": [
        "for epoch in range(10):\n",
        "    model3.train()\n",
        "    running_loss = 0.0\n",
        "    best_acc = 0.0\n",
        "    best_model_wts = model3.state_dict()\n",
        "    print(f\"train epoch: {epoch+1}----------------\")\n",
        "    for img, label in tqdm(train_loader):\n",
        "        img = img.to(device)\n",
        "        label = label.to(device)\n",
        "        optimizer.zero_grad()\n",
        "        output = model3(img)\n",
        "        loss = criterion(output, label)\n",
        "        running_loss += loss.item()\n",
        "        loss.backward()\n",
        "        optimizer.step()\n",
        "    correct, all_data = 0,0\n",
        "    print(\"\\ntrain_loss : \", running_loss / len(train_loader))\n",
        "    model3.eval()\n",
        "    for img, label in test_loader:\n",
        "        with torch.no_grad():\n",
        "            img = img.to(device)\n",
        "            label = label.to(device)\n",
        "            output = model3(img)\n",
        "\n",
        "            correct += torch.sum(torch.argmax(output, dim=1) == label).item()\n",
        "            all_data += len(label)\n",
        "    print(\"val_acc : \", correct / all_data)\n",
        "    if correct / all_data > best_acc:\n",
        "      best_acc = correct / all_data\n",
        "      best_model_wts = model3.state_dict()"
      ]
    },
    {
      "cell_type": "markdown",
      "metadata": {
        "id": "4Koa6V_xcGNk"
      },
      "source": [
        "## Case 4\n",
        "- Residual Connection을 추가한다.\n",
        "- Optimizer를 Nesterov Momentum으로 변경한다."
      ]
    },
    {
      "cell_type": "code",
      "execution_count": null,
      "metadata": {
        "id": "52euUzl2cGNk",
        "outputId": "7355733e-3094-4d8b-9d7e-c774ac0a6029"
      },
      "outputs": [
        {
          "data": {
            "text/plain": [
              "Case4Model(\n",
              "  (conv1): Conv2d(3, 6, kernel_size=(3, 3), stride=(1, 1), padding=(1, 1))\n",
              "  (pool1): MaxPool2d(kernel_size=2, stride=2, padding=0, dilation=1, ceil_mode=False)\n",
              "  (batchNorm1): BatchNorm2d(6, eps=1e-05, momentum=0.1, affine=True, track_running_stats=True)\n",
              "  (conv2): Conv2d(6, 6, kernel_size=(3, 3), stride=(1, 1), padding=(1, 1))\n",
              "  (batchNorm2): BatchNorm2d(6, eps=1e-05, momentum=0.1, affine=True, track_running_stats=True)\n",
              "  (conv3): Conv2d(6, 6, kernel_size=(3, 3), stride=(1, 1), padding=(1, 1))\n",
              "  (batchNorm3): BatchNorm2d(6, eps=1e-05, momentum=0.1, affine=True, track_running_stats=True)\n",
              "  (conv4): Conv2d(6, 16, kernel_size=(3, 3), stride=(1, 1), padding=(1, 1))\n",
              "  (pool2): MaxPool2d(kernel_size=2, stride=2, padding=0, dilation=1, ceil_mode=False)\n",
              "  (batchNorm4): BatchNorm2d(16, eps=1e-05, momentum=0.1, affine=True, track_running_stats=True)\n",
              "  (conv5): Conv2d(16, 16, kernel_size=(3, 3), stride=(1, 1), padding=(1, 1))\n",
              "  (batchNorm5): BatchNorm2d(16, eps=1e-05, momentum=0.1, affine=True, track_running_stats=True)\n",
              "  (conv6): Conv2d(16, 16, kernel_size=(3, 3), stride=(1, 1), padding=(1, 1))\n",
              "  (batchNorm6): BatchNorm2d(16, eps=1e-05, momentum=0.1, affine=True, track_running_stats=True)\n",
              "  (fc1): Linear(in_features=1024, out_features=256, bias=True)\n",
              "  (fc2): Linear(in_features=256, out_features=128, bias=True)\n",
              "  (fc3): Linear(in_features=128, out_features=100, bias=True)\n",
              ")"
            ]
          },
          "execution_count": 30,
          "metadata": {},
          "output_type": "execute_result"
        }
      ],
      "source": [
        "class Case4Model(nn.Module):\n",
        "    #Cifar100 Shape: [Batch, Channel(3), 32, 32]\n",
        "    def __init__(self, in_channels, num_classes):\n",
        "        super(Case4Model, self).__init__()\n",
        "        \"\"\"Base Model\"\"\"\n",
        "        self.conv1 = nn.Conv2d(3, 6, 3, 1, 1)\n",
        "        self.pool1 = nn.MaxPool2d(2, 2)\n",
        "        self.batchNorm1 = nn.BatchNorm2d(6)\n",
        "        #6 * (16 * 16)\n",
        "\n",
        "        self.conv2 = nn.Conv2d(6, 6, 3, 1, 1)\n",
        "        self.batchNorm2 = nn.BatchNorm2d(6)\n",
        "        self.conv3 = nn.Conv2d(6, 6, 3, 1, 1)\n",
        "        self.batchNorm3 = nn.BatchNorm2d(6)\n",
        "        #6 * (16 * 16)\n",
        "        \n",
        "        self.conv4 = nn.Conv2d(6, 16, 3, 1, 1)\n",
        "        self.pool2 = nn.MaxPool2d(2, 2)\n",
        "        self.batchNorm4 = nn.BatchNorm2d(16)\n",
        "        #16 * (8 * 8)\n",
        "\n",
        "        self.conv5 = nn.Conv2d(16, 16, 3, 1, 1)\n",
        "        self.batchNorm5 = nn.BatchNorm2d(16)\n",
        "        self.conv6 = nn.Conv2d(16, 16, 3, 1, 1)\n",
        "        self.batchNorm6 = nn.BatchNorm2d(16)\n",
        "        #16 * (8 * 8)\n",
        "        \n",
        "        self.fc1 = nn.Linear(1024, 256)\n",
        "        self.fc2 = nn.Linear(256, 128)\n",
        "        self.fc3 = nn.Linear(128, 100)\n",
        "        \n",
        "        \n",
        "\n",
        "    def forward(self, x):\n",
        "        \"\"\"Base Model\"\"\"\n",
        "        x1 = self.batchNorm1(self.pool1(F.relu(self.conv1(x))))\n",
        "        \n",
        "        x2 = self.batchNorm2(F.relu(self.conv2(x1)))\n",
        "        x3 = self.batchNorm3(F.relu(F.relu(self.conv3(x2)) + x1))\n",
        "\n",
        "        x4 = self.batchNorm4(self.pool2(F.relu(self.conv4(x3))))\n",
        "\n",
        "        x5 = self.batchNorm5(F.relu(self.conv5(x4)))\n",
        "        x6 = self.batchNorm6(F.relu(F.relu(self.conv6(x5)) + x4))\n",
        "\n",
        "        x = torch.flatten(x6, 1) # flatten all dimensions except batch\n",
        "        x = F.relu(self.fc1(x))\n",
        "        x = F.relu(self.fc2(x))\n",
        "        x = self.fc3(x)\n",
        "        return x\n",
        "\n",
        "model4 = Case4Model(3, 100).to(device)\n",
        "optimizer = optim.SGD(model4.parameters(), momentum=0.9, nesterov=True, lr=0.1)\n",
        "\n",
        "model4\n"
      ]
    },
    {
      "cell_type": "code",
      "execution_count": null,
      "metadata": {
        "id": "OpTrHnibcGNl",
        "outputId": "4aff4c60-e4ed-4423-d731-83088904f497"
      },
      "outputs": [
        {
          "name": "stdout",
          "output_type": "stream",
          "text": [
            "train epoch: 1----------------\n"
          ]
        },
        {
          "name": "stderr",
          "output_type": "stream",
          "text": [
            "100%|██████████| 196/196 [00:19<00:00,  9.81it/s]\n"
          ]
        },
        {
          "name": "stdout",
          "output_type": "stream",
          "text": [
            "\n",
            "train_loss :  3.5816236235657515\n",
            "val_acc :  0.2176\n",
            "train epoch: 2----------------\n"
          ]
        },
        {
          "name": "stderr",
          "output_type": "stream",
          "text": [
            "100%|██████████| 196/196 [00:20<00:00,  9.78it/s]\n"
          ]
        },
        {
          "name": "stdout",
          "output_type": "stream",
          "text": [
            "\n",
            "train_loss :  2.7541073645864214\n",
            "val_acc :  0.2833\n",
            "train epoch: 3----------------\n"
          ]
        },
        {
          "name": "stderr",
          "output_type": "stream",
          "text": [
            "100%|██████████| 196/196 [00:19<00:00,  9.81it/s]\n"
          ]
        },
        {
          "name": "stdout",
          "output_type": "stream",
          "text": [
            "\n",
            "train_loss :  2.3736668691343192\n",
            "val_acc :  0.3376\n",
            "train epoch: 4----------------\n"
          ]
        },
        {
          "name": "stderr",
          "output_type": "stream",
          "text": [
            "100%|██████████| 196/196 [00:19<00:00,  9.97it/s]\n"
          ]
        },
        {
          "name": "stdout",
          "output_type": "stream",
          "text": [
            "\n",
            "train_loss :  2.116758614170308\n",
            "val_acc :  0.3468\n",
            "train epoch: 5----------------\n"
          ]
        },
        {
          "name": "stderr",
          "output_type": "stream",
          "text": [
            "100%|██████████| 196/196 [00:20<00:00,  9.80it/s]\n"
          ]
        },
        {
          "name": "stdout",
          "output_type": "stream",
          "text": [
            "\n",
            "train_loss :  1.9030459693499975\n",
            "val_acc :  0.3412\n",
            "train epoch: 6----------------\n"
          ]
        },
        {
          "name": "stderr",
          "output_type": "stream",
          "text": [
            "100%|██████████| 196/196 [00:19<00:00,  9.88it/s]\n"
          ]
        },
        {
          "name": "stdout",
          "output_type": "stream",
          "text": [
            "\n",
            "train_loss :  1.7153010654206178\n",
            "val_acc :  0.3498\n",
            "train epoch: 7----------------\n"
          ]
        },
        {
          "name": "stderr",
          "output_type": "stream",
          "text": [
            "100%|██████████| 196/196 [00:19<00:00,  9.95it/s]\n"
          ]
        },
        {
          "name": "stdout",
          "output_type": "stream",
          "text": [
            "\n",
            "train_loss :  1.5490733731766135\n",
            "val_acc :  0.3458\n",
            "train epoch: 8----------------\n"
          ]
        },
        {
          "name": "stderr",
          "output_type": "stream",
          "text": [
            "100%|██████████| 196/196 [00:19<00:00,  9.92it/s]\n"
          ]
        },
        {
          "name": "stdout",
          "output_type": "stream",
          "text": [
            "\n",
            "train_loss :  1.393361126281777\n",
            "val_acc :  0.3473\n",
            "train epoch: 9----------------\n"
          ]
        },
        {
          "name": "stderr",
          "output_type": "stream",
          "text": [
            "100%|██████████| 196/196 [00:19<00:00,  9.83it/s]\n"
          ]
        },
        {
          "name": "stdout",
          "output_type": "stream",
          "text": [
            "\n",
            "train_loss :  1.2683219334908895\n",
            "val_acc :  0.3244\n",
            "train epoch: 10----------------\n"
          ]
        },
        {
          "name": "stderr",
          "output_type": "stream",
          "text": [
            "  0%|          | 0/196 [00:01<?, ?it/s]\n"
          ]
        },
        {
          "ename": "KeyboardInterrupt",
          "evalue": "",
          "output_type": "error",
          "traceback": [
            "\u001b[1;31m---------------------------------------------------------------------------\u001b[0m",
            "\u001b[1;31mKeyboardInterrupt\u001b[0m                         Traceback (most recent call last)",
            "\u001b[1;32mc:\\Users\\PC\\Desktop\\tobigs_assignment\\Vision_Adv\\week8_vision_advanced\\vision_adv.ipynb Cell 16\u001b[0m in \u001b[0;36m7\n\u001b[0;32m      <a href='vscode-notebook-cell:/c%3A/Users/PC/Desktop/tobigs_assignment/Vision_Adv/week8_vision_advanced/vision_adv.ipynb#X21sZmlsZQ%3D%3D?line=4'>5</a>\u001b[0m best_model_wts \u001b[39m=\u001b[39m model4\u001b[39m.\u001b[39mstate_dict()\n\u001b[0;32m      <a href='vscode-notebook-cell:/c%3A/Users/PC/Desktop/tobigs_assignment/Vision_Adv/week8_vision_advanced/vision_adv.ipynb#X21sZmlsZQ%3D%3D?line=5'>6</a>\u001b[0m \u001b[39mprint\u001b[39m(\u001b[39mf\u001b[39m\u001b[39m\"\u001b[39m\u001b[39mtrain epoch: \u001b[39m\u001b[39m{\u001b[39;00mepoch\u001b[39m+\u001b[39m\u001b[39m1\u001b[39m\u001b[39m}\u001b[39;00m\u001b[39m----------------\u001b[39m\u001b[39m\"\u001b[39m)\n\u001b[1;32m----> <a href='vscode-notebook-cell:/c%3A/Users/PC/Desktop/tobigs_assignment/Vision_Adv/week8_vision_advanced/vision_adv.ipynb#X21sZmlsZQ%3D%3D?line=6'>7</a>\u001b[0m \u001b[39mfor\u001b[39;00m img, label \u001b[39min\u001b[39;00m tqdm(train_loader):\n\u001b[0;32m      <a href='vscode-notebook-cell:/c%3A/Users/PC/Desktop/tobigs_assignment/Vision_Adv/week8_vision_advanced/vision_adv.ipynb#X21sZmlsZQ%3D%3D?line=7'>8</a>\u001b[0m     img \u001b[39m=\u001b[39m img\u001b[39m.\u001b[39mto(device)\n\u001b[0;32m      <a href='vscode-notebook-cell:/c%3A/Users/PC/Desktop/tobigs_assignment/Vision_Adv/week8_vision_advanced/vision_adv.ipynb#X21sZmlsZQ%3D%3D?line=8'>9</a>\u001b[0m     label \u001b[39m=\u001b[39m label\u001b[39m.\u001b[39mto(device)\n",
            "File \u001b[1;32mc:\\Users\\PC\\AppData\\Local\\Programs\\Python\\Python310\\lib\\site-packages\\tqdm\\std.py:1195\u001b[0m, in \u001b[0;36mtqdm.__iter__\u001b[1;34m(self)\u001b[0m\n\u001b[0;32m   1192\u001b[0m time \u001b[39m=\u001b[39m \u001b[39mself\u001b[39m\u001b[39m.\u001b[39m_time\n\u001b[0;32m   1194\u001b[0m \u001b[39mtry\u001b[39;00m:\n\u001b[1;32m-> 1195\u001b[0m     \u001b[39mfor\u001b[39;00m obj \u001b[39min\u001b[39;00m iterable:\n\u001b[0;32m   1196\u001b[0m         \u001b[39myield\u001b[39;00m obj\n\u001b[0;32m   1197\u001b[0m         \u001b[39m# Update and possibly print the progressbar.\u001b[39;00m\n\u001b[0;32m   1198\u001b[0m         \u001b[39m# Note: does not call self.update(1) for speed optimisation.\u001b[39;00m\n",
            "File \u001b[1;32mc:\\Users\\PC\\AppData\\Local\\Programs\\Python\\Python310\\lib\\site-packages\\torch\\utils\\data\\dataloader.py:444\u001b[0m, in \u001b[0;36mDataLoader.__iter__\u001b[1;34m(self)\u001b[0m\n\u001b[0;32m    442\u001b[0m     \u001b[39mreturn\u001b[39;00m \u001b[39mself\u001b[39m\u001b[39m.\u001b[39m_iterator\n\u001b[0;32m    443\u001b[0m \u001b[39melse\u001b[39;00m:\n\u001b[1;32m--> 444\u001b[0m     \u001b[39mreturn\u001b[39;00m \u001b[39mself\u001b[39;49m\u001b[39m.\u001b[39;49m_get_iterator()\n",
            "File \u001b[1;32mc:\\Users\\PC\\AppData\\Local\\Programs\\Python\\Python310\\lib\\site-packages\\torch\\utils\\data\\dataloader.py:390\u001b[0m, in \u001b[0;36mDataLoader._get_iterator\u001b[1;34m(self)\u001b[0m\n\u001b[0;32m    388\u001b[0m \u001b[39melse\u001b[39;00m:\n\u001b[0;32m    389\u001b[0m     \u001b[39mself\u001b[39m\u001b[39m.\u001b[39mcheck_worker_number_rationality()\n\u001b[1;32m--> 390\u001b[0m     \u001b[39mreturn\u001b[39;00m _MultiProcessingDataLoaderIter(\u001b[39mself\u001b[39;49m)\n",
            "File \u001b[1;32mc:\\Users\\PC\\AppData\\Local\\Programs\\Python\\Python310\\lib\\site-packages\\torch\\utils\\data\\dataloader.py:1077\u001b[0m, in \u001b[0;36m_MultiProcessingDataLoaderIter.__init__\u001b[1;34m(self, loader)\u001b[0m\n\u001b[0;32m   1070\u001b[0m w\u001b[39m.\u001b[39mdaemon \u001b[39m=\u001b[39m \u001b[39mTrue\u001b[39;00m\n\u001b[0;32m   1071\u001b[0m \u001b[39m# NB: Process.start() actually take some time as it needs to\u001b[39;00m\n\u001b[0;32m   1072\u001b[0m \u001b[39m#     start a process and pass the arguments over via a pipe.\u001b[39;00m\n\u001b[0;32m   1073\u001b[0m \u001b[39m#     Therefore, we only add a worker to self._workers list after\u001b[39;00m\n\u001b[0;32m   1074\u001b[0m \u001b[39m#     it started, so that we do not call .join() if program dies\u001b[39;00m\n\u001b[0;32m   1075\u001b[0m \u001b[39m#     before it starts, and __del__ tries to join but will get:\u001b[39;00m\n\u001b[0;32m   1076\u001b[0m \u001b[39m#     AssertionError: can only join a started process.\u001b[39;00m\n\u001b[1;32m-> 1077\u001b[0m w\u001b[39m.\u001b[39;49mstart()\n\u001b[0;32m   1078\u001b[0m \u001b[39mself\u001b[39m\u001b[39m.\u001b[39m_index_queues\u001b[39m.\u001b[39mappend(index_queue)\n\u001b[0;32m   1079\u001b[0m \u001b[39mself\u001b[39m\u001b[39m.\u001b[39m_workers\u001b[39m.\u001b[39mappend(w)\n",
            "File \u001b[1;32mc:\\Users\\PC\\AppData\\Local\\Programs\\Python\\Python310\\lib\\multiprocessing\\process.py:121\u001b[0m, in \u001b[0;36mBaseProcess.start\u001b[1;34m(self)\u001b[0m\n\u001b[0;32m    118\u001b[0m \u001b[39massert\u001b[39;00m \u001b[39mnot\u001b[39;00m _current_process\u001b[39m.\u001b[39m_config\u001b[39m.\u001b[39mget(\u001b[39m'\u001b[39m\u001b[39mdaemon\u001b[39m\u001b[39m'\u001b[39m), \\\n\u001b[0;32m    119\u001b[0m        \u001b[39m'\u001b[39m\u001b[39mdaemonic processes are not allowed to have children\u001b[39m\u001b[39m'\u001b[39m\n\u001b[0;32m    120\u001b[0m _cleanup()\n\u001b[1;32m--> 121\u001b[0m \u001b[39mself\u001b[39m\u001b[39m.\u001b[39m_popen \u001b[39m=\u001b[39m \u001b[39mself\u001b[39;49m\u001b[39m.\u001b[39;49m_Popen(\u001b[39mself\u001b[39;49m)\n\u001b[0;32m    122\u001b[0m \u001b[39mself\u001b[39m\u001b[39m.\u001b[39m_sentinel \u001b[39m=\u001b[39m \u001b[39mself\u001b[39m\u001b[39m.\u001b[39m_popen\u001b[39m.\u001b[39msentinel\n\u001b[0;32m    123\u001b[0m \u001b[39m# Avoid a refcycle if the target function holds an indirect\u001b[39;00m\n\u001b[0;32m    124\u001b[0m \u001b[39m# reference to the process object (see bpo-30775)\u001b[39;00m\n",
            "File \u001b[1;32mc:\\Users\\PC\\AppData\\Local\\Programs\\Python\\Python310\\lib\\multiprocessing\\context.py:224\u001b[0m, in \u001b[0;36mProcess._Popen\u001b[1;34m(process_obj)\u001b[0m\n\u001b[0;32m    222\u001b[0m \u001b[39m@staticmethod\u001b[39m\n\u001b[0;32m    223\u001b[0m \u001b[39mdef\u001b[39;00m \u001b[39m_Popen\u001b[39m(process_obj):\n\u001b[1;32m--> 224\u001b[0m     \u001b[39mreturn\u001b[39;00m _default_context\u001b[39m.\u001b[39;49mget_context()\u001b[39m.\u001b[39;49mProcess\u001b[39m.\u001b[39;49m_Popen(process_obj)\n",
            "File \u001b[1;32mc:\\Users\\PC\\AppData\\Local\\Programs\\Python\\Python310\\lib\\multiprocessing\\context.py:336\u001b[0m, in \u001b[0;36mSpawnProcess._Popen\u001b[1;34m(process_obj)\u001b[0m\n\u001b[0;32m    333\u001b[0m \u001b[39m@staticmethod\u001b[39m\n\u001b[0;32m    334\u001b[0m \u001b[39mdef\u001b[39;00m \u001b[39m_Popen\u001b[39m(process_obj):\n\u001b[0;32m    335\u001b[0m     \u001b[39mfrom\u001b[39;00m \u001b[39m.\u001b[39;00m\u001b[39mpopen_spawn_win32\u001b[39;00m \u001b[39mimport\u001b[39;00m Popen\n\u001b[1;32m--> 336\u001b[0m     \u001b[39mreturn\u001b[39;00m Popen(process_obj)\n",
            "File \u001b[1;32mc:\\Users\\PC\\AppData\\Local\\Programs\\Python\\Python310\\lib\\multiprocessing\\popen_spawn_win32.py:93\u001b[0m, in \u001b[0;36mPopen.__init__\u001b[1;34m(self, process_obj)\u001b[0m\n\u001b[0;32m     91\u001b[0m \u001b[39mtry\u001b[39;00m:\n\u001b[0;32m     92\u001b[0m     reduction\u001b[39m.\u001b[39mdump(prep_data, to_child)\n\u001b[1;32m---> 93\u001b[0m     reduction\u001b[39m.\u001b[39;49mdump(process_obj, to_child)\n\u001b[0;32m     94\u001b[0m \u001b[39mfinally\u001b[39;00m:\n\u001b[0;32m     95\u001b[0m     set_spawning_popen(\u001b[39mNone\u001b[39;00m)\n",
            "File \u001b[1;32mc:\\Users\\PC\\AppData\\Local\\Programs\\Python\\Python310\\lib\\multiprocessing\\reduction.py:60\u001b[0m, in \u001b[0;36mdump\u001b[1;34m(obj, file, protocol)\u001b[0m\n\u001b[0;32m     58\u001b[0m \u001b[39mdef\u001b[39;00m \u001b[39mdump\u001b[39m(obj, file, protocol\u001b[39m=\u001b[39m\u001b[39mNone\u001b[39;00m):\n\u001b[0;32m     59\u001b[0m     \u001b[39m'''Replacement for pickle.dump() using ForkingPickler.'''\u001b[39;00m\n\u001b[1;32m---> 60\u001b[0m     ForkingPickler(file, protocol)\u001b[39m.\u001b[39;49mdump(obj)\n",
            "\u001b[1;31mKeyboardInterrupt\u001b[0m: "
          ]
        }
      ],
      "source": [
        "for epoch in range(10):\n",
        "    model4.train()\n",
        "    running_loss = 0.0\n",
        "    best_acc = 0.0\n",
        "    best_model_wts = model4.state_dict()\n",
        "    print(f\"train epoch: {epoch+1}----------------\")\n",
        "    for img, label in tqdm(train_loader):\n",
        "        img = img.to(device)\n",
        "        label = label.to(device)\n",
        "        optimizer.zero_grad()\n",
        "        output = model4(img)\n",
        "        loss = criterion(output, label)\n",
        "        running_loss += loss.item()\n",
        "        loss.backward()\n",
        "        optimizer.step()\n",
        "    correct, all_data = 0,0\n",
        "    print(\"\\ntrain_loss : \", running_loss / len(train_loader))\n",
        "    model4.eval()\n",
        "    for img, label in test_loader:\n",
        "        with torch.no_grad():\n",
        "            img = img.to(device)\n",
        "            label = label.to(device)\n",
        "            output = model4(img)\n",
        "\n",
        "            correct += torch.sum(torch.argmax(output, dim=1) == label).item()\n",
        "            all_data += len(label)\n",
        "    print(\"val_acc : \", correct / all_data)\n",
        "    if correct / all_data > best_acc:\n",
        "      best_acc = correct / all_data\n",
        "      best_model_wts = model4.state_dict()"
      ]
    },
    {
      "cell_type": "markdown",
      "metadata": {
        "id": "i6FBEqLecGNl"
      },
      "source": [
        "## Case 6\n",
        "- Layer를 더 deep하게 쌓겠다."
      ]
    },
    {
      "cell_type": "code",
      "execution_count": null,
      "metadata": {
        "id": "h3FK_s4wcGNl",
        "outputId": "7539d319-22af-4db5-82a2-a257800278cc"
      },
      "outputs": [
        {
          "data": {
            "text/plain": [
              "Case5Model(\n",
              "  (conv1_0): Conv2d(3, 6, kernel_size=(3, 3), stride=(1, 1), padding=(1, 1))\n",
              "  (pool1): MaxPool2d(kernel_size=2, stride=2, padding=0, dilation=1, ceil_mode=False)\n",
              "  (batchNorm1_0): BatchNorm2d(6, eps=1e-05, momentum=0.1, affine=True, track_running_stats=True)\n",
              "  (conv1_1): Conv2d(6, 6, kernel_size=(3, 3), stride=(1, 1), padding=(1, 1))\n",
              "  (batchNorm1_1): BatchNorm2d(6, eps=1e-05, momentum=0.1, affine=True, track_running_stats=True)\n",
              "  (conv1_2): Conv2d(6, 6, kernel_size=(3, 3), stride=(1, 1), padding=(1, 1))\n",
              "  (batchNorm1_2): BatchNorm2d(6, eps=1e-05, momentum=0.1, affine=True, track_running_stats=True)\n",
              "  (conv1_3): Conv2d(6, 6, kernel_size=(3, 3), stride=(1, 1), padding=(1, 1))\n",
              "  (batchNorm1_3): BatchNorm2d(6, eps=1e-05, momentum=0.1, affine=True, track_running_stats=True)\n",
              "  (conv1_4): Conv2d(6, 6, kernel_size=(3, 3), stride=(1, 1), padding=(1, 1))\n",
              "  (batchNorm1_4): BatchNorm2d(6, eps=1e-05, momentum=0.1, affine=True, track_running_stats=True)\n",
              "  (conv2_0): Conv2d(6, 16, kernel_size=(3, 3), stride=(1, 1), padding=(1, 1))\n",
              "  (pool2): MaxPool2d(kernel_size=2, stride=2, padding=0, dilation=1, ceil_mode=False)\n",
              "  (batchNorm2_0): BatchNorm2d(16, eps=1e-05, momentum=0.1, affine=True, track_running_stats=True)\n",
              "  (conv2_1): Conv2d(16, 16, kernel_size=(3, 3), stride=(1, 1), padding=(1, 1))\n",
              "  (batchNorm2_1): BatchNorm2d(16, eps=1e-05, momentum=0.1, affine=True, track_running_stats=True)\n",
              "  (conv2_2): Conv2d(16, 16, kernel_size=(3, 3), stride=(1, 1), padding=(1, 1))\n",
              "  (batchNorm2_2): BatchNorm2d(16, eps=1e-05, momentum=0.1, affine=True, track_running_stats=True)\n",
              "  (conv2_3): Conv2d(16, 16, kernel_size=(3, 3), stride=(1, 1), padding=(1, 1))\n",
              "  (batchNorm2_3): BatchNorm2d(16, eps=1e-05, momentum=0.1, affine=True, track_running_stats=True)\n",
              "  (conv2_4): Conv2d(16, 16, kernel_size=(3, 3), stride=(1, 1), padding=(1, 1))\n",
              "  (batchNorm2_4): BatchNorm2d(16, eps=1e-05, momentum=0.1, affine=True, track_running_stats=True)\n",
              "  (conv3_0): Conv2d(16, 32, kernel_size=(3, 3), stride=(1, 1), padding=(1, 1))\n",
              "  (pool3): MaxPool2d(kernel_size=2, stride=2, padding=0, dilation=1, ceil_mode=False)\n",
              "  (batchNorm3_0): BatchNorm2d(32, eps=1e-05, momentum=0.1, affine=True, track_running_stats=True)\n",
              "  (conv3_1): Conv2d(32, 32, kernel_size=(3, 3), stride=(1, 1), padding=(1, 1))\n",
              "  (batchNorm3_1): BatchNorm2d(32, eps=1e-05, momentum=0.1, affine=True, track_running_stats=True)\n",
              "  (conv3_2): Conv2d(32, 32, kernel_size=(3, 3), stride=(1, 1), padding=(1, 1))\n",
              "  (batchNorm3_2): BatchNorm2d(32, eps=1e-05, momentum=0.1, affine=True, track_running_stats=True)\n",
              "  (conv3_3): Conv2d(32, 32, kernel_size=(3, 3), stride=(1, 1), padding=(1, 1))\n",
              "  (batchNorm3_3): BatchNorm2d(32, eps=1e-05, momentum=0.1, affine=True, track_running_stats=True)\n",
              "  (conv3_4): Conv2d(32, 32, kernel_size=(3, 3), stride=(1, 1), padding=(1, 1))\n",
              "  (batchNorm3_4): BatchNorm2d(32, eps=1e-05, momentum=0.1, affine=True, track_running_stats=True)\n",
              "  (fc1): Linear(in_features=512, out_features=256, bias=True)\n",
              "  (fc2): Linear(in_features=256, out_features=128, bias=True)\n",
              "  (fc3): Linear(in_features=128, out_features=100, bias=True)\n",
              ")"
            ]
          },
          "execution_count": 46,
          "metadata": {},
          "output_type": "execute_result"
        }
      ],
      "source": [
        "class Case5Model(nn.Module):\n",
        "    #Cifar100 Shape: [Batch, Channel(3), 32, 32]\n",
        "    def __init__(self, in_channels, num_classes):\n",
        "        super(Case5Model, self).__init__()\n",
        "        \"\"\"Base Model\"\"\"\n",
        "        self.conv1_0 = nn.Conv2d(3, 6, 3, 1, 1)\n",
        "        self.pool1 = nn.MaxPool2d(2, 2)\n",
        "        self.batchNorm1_0 = nn.BatchNorm2d(6)\n",
        "        #6 * (16 * 16)\n",
        "\n",
        "        self.conv1_1 = nn.Conv2d(6, 6, 3, 1, 1)\n",
        "        self.batchNorm1_1 = nn.BatchNorm2d(6)\n",
        "        self.conv1_2 = nn.Conv2d(6, 6, 3, 1, 1)\n",
        "        self.batchNorm1_2 = nn.BatchNorm2d(6)\n",
        "        self.conv1_3 = nn.Conv2d(6, 6, 3, 1, 1)\n",
        "        self.batchNorm1_3 = nn.BatchNorm2d(6)\n",
        "        self.conv1_4 = nn.Conv2d(6, 6, 3, 1, 1)\n",
        "        self.batchNorm1_4 = nn.BatchNorm2d(6)\n",
        "        #6 * (16 * 16)\n",
        "        \n",
        "        self.conv2_0 = nn.Conv2d(6, 16, 3, 1, 1)\n",
        "        self.pool2 = nn.MaxPool2d(2, 2)\n",
        "        self.batchNorm2_0 = nn.BatchNorm2d(16)\n",
        "        #16 * (8 * 8)\n",
        "\n",
        "        self.conv2_1 = nn.Conv2d(16, 16, 3, 1, 1)\n",
        "        self.batchNorm2_1 = nn.BatchNorm2d(16)\n",
        "        self.conv2_2 = nn.Conv2d(16, 16, 3, 1, 1)\n",
        "        self.batchNorm2_2 = nn.BatchNorm2d(16)\n",
        "        self.conv2_3 = nn.Conv2d(16, 16, 3, 1, 1)\n",
        "        self.batchNorm2_3 = nn.BatchNorm2d(16)\n",
        "        self.conv2_4 = nn.Conv2d(16, 16, 3, 1, 1)\n",
        "        self.batchNorm2_4 = nn.BatchNorm2d(16)\n",
        "        #16 * (8 * 8)\n",
        "        \n",
        "        self.conv3_0 = nn.Conv2d(16, 32, 3, 1, 1)\n",
        "        self.pool3 = nn.MaxPool2d(2, 2)\n",
        "        self.batchNorm3_0 = nn.BatchNorm2d(32)\n",
        "        #32 * (4 * 4)\n",
        "\n",
        "        self.conv3_1 = nn.Conv2d(32, 32, 3, 1, 1)\n",
        "        self.batchNorm3_1 = nn.BatchNorm2d(32)\n",
        "        self.conv3_2 = nn.Conv2d(32, 32, 3, 1, 1)\n",
        "        self.batchNorm3_2 = nn.BatchNorm2d(32)\n",
        "        self.conv3_3 = nn.Conv2d(32, 32, 3, 1, 1)\n",
        "        self.batchNorm3_3 = nn.BatchNorm2d(32)\n",
        "        self.conv3_4 = nn.Conv2d(32, 32, 3, 1, 1)\n",
        "        self.batchNorm3_4 = nn.BatchNorm2d(32)\n",
        "        #32 * (4 * 4)\n",
        "\n",
        "        # self.conv4_0 = nn.Conv2d(32, 64, 3, 1, 1)\n",
        "        # self.pool4 = nn.MaxPool2d(2, 2)\n",
        "        # self.batchNorm4_0 = nn.BatchNorm2d(64)\n",
        "        # #64 * (2 * 2)\n",
        "\n",
        "        # self.conv4_1 = nn.Conv2d(64, 64, 3, 1, 1)\n",
        "        # self.batchNorm4_1 = nn.BatchNorm2d(64)\n",
        "        # self.conv4_2 = nn.Conv2d(64, 64, 3, 1, 1)\n",
        "        # self.batchNorm4_2 = nn.BatchNorm2d(64)\n",
        "        # self.conv4_3 = nn.Conv2d(64, 64, 3, 1, 1)\n",
        "        # self.batchNorm4_3 = nn.BatchNorm2d(64)\n",
        "        # self.conv4_4 = nn.Conv2d(64, 64, 3, 1, 1)\n",
        "        # self.batchNorm4_4 = nn.BatchNorm2d(64)\n",
        "\n",
        "        self.fc1 = nn.Linear(512, 256)\n",
        "        self.fc2 = nn.Linear(256, 128)\n",
        "        self.fc3 = nn.Linear(128, 100)\n",
        "        \n",
        "        \n",
        "\n",
        "    def forward(self, x):\n",
        "        \"\"\"Base Model\"\"\"\n",
        "        x1_0 = self.batchNorm1_0(self.pool1(F.relu(self.conv1_0(x))))\n",
        "        x1_1 = self.batchNorm1_1(F.relu(self.conv1_1(x1_0)))\n",
        "        x1_2 = self.batchNorm1_2(F.relu(self.conv1_2(x1_1)) + x1_0)\n",
        "        x1_3 = self.batchNorm1_3(F.relu(self.conv1_3(x1_2)) + x1_0 + x1_1)\n",
        "        x1_4 = self.batchNorm1_4(F.relu(self.conv1_4(x1_3)) + x1_0 + x1_1 + x1_2)\n",
        "\n",
        "        x2_0 = self.batchNorm2_0(self.pool2(F.relu(self.conv2_0(x1_4))))\n",
        "        x2_1 = self.batchNorm2_1(F.relu(self.conv2_1(x2_0)))\n",
        "        x2_2 = self.batchNorm2_2(F.relu(self.conv2_2(x2_1)) + x2_0)\n",
        "        x2_3 = self.batchNorm2_3(F.relu(self.conv2_3(x2_2)) + x2_0 + x2_1)\n",
        "        x2_4 = self.batchNorm2_4(F.relu(self.conv2_4(x2_3)) + x2_0 + x2_1 + x2_2)\n",
        "\n",
        "\n",
        "        x3_0 = self.batchNorm3_0(self.pool3(F.relu(self.conv3_0(x2_4))))\n",
        "        x3_1 = self.batchNorm3_1(F.relu(self.conv3_1(x3_0)))\n",
        "        x3_2 = self.batchNorm3_2(F.relu(self.conv3_2(x3_1)) + x3_0)\n",
        "        x3_3 = self.batchNorm3_3(F.relu(self.conv3_3(x3_2)) + x3_0 + x3_1)\n",
        "        x3_4 = self.batchNorm3_4(F.relu(self.conv3_4(x3_3)) + x3_0 + x3_1 + x3_2)\n",
        "\n",
        "        x = torch.flatten(x3_4, 1) # flatten all dimensions except batch\n",
        "        x = F.relu(self.fc1(x))\n",
        "        x = F.relu(self.fc2(x))\n",
        "        x = self.fc3(x)\n",
        "        return x\n",
        "\n",
        "model5 = Case5Model(3, 100).to(device)\n",
        "optimizer = optim.Adam(model5.parameters(), momentum=0.9, nesterov=True, lr=0.1)\n",
        "\n",
        "model5\n"
      ]
    },
    {
      "cell_type": "code",
      "execution_count": null,
      "metadata": {
        "id": "gNTFzu2WcGNm",
        "outputId": "766fcabb-b951-4522-f7f4-b6d1d5a44006"
      },
      "outputs": [
        {
          "name": "stdout",
          "output_type": "stream",
          "text": [
            "train epoch: 1----------------\n"
          ]
        },
        {
          "name": "stderr",
          "output_type": "stream",
          "text": [
            "100%|██████████| 196/196 [00:34<00:00,  5.74it/s]\n"
          ]
        },
        {
          "name": "stdout",
          "output_type": "stream",
          "text": [
            "\n",
            "train_loss :  3.592560725552695\n",
            "val_acc :  0.2312\n",
            "train epoch: 2----------------\n"
          ]
        },
        {
          "name": "stderr",
          "output_type": "stream",
          "text": [
            "100%|██████████| 196/196 [00:42<00:00,  4.66it/s]\n"
          ]
        },
        {
          "name": "stdout",
          "output_type": "stream",
          "text": [
            "\n",
            "train_loss :  2.759140508515494\n",
            "val_acc :  0.3129\n",
            "train epoch: 3----------------\n"
          ]
        },
        {
          "name": "stderr",
          "output_type": "stream",
          "text": [
            "100%|██████████| 196/196 [00:42<00:00,  4.62it/s]\n"
          ]
        },
        {
          "name": "stdout",
          "output_type": "stream",
          "text": [
            "\n",
            "train_loss :  2.383287867721246\n",
            "val_acc :  0.3253\n",
            "train epoch: 4----------------\n"
          ]
        },
        {
          "name": "stderr",
          "output_type": "stream",
          "text": [
            "100%|██████████| 196/196 [00:43<00:00,  4.52it/s]\n"
          ]
        },
        {
          "name": "stdout",
          "output_type": "stream",
          "text": [
            "\n",
            "train_loss :  2.136520119954129\n",
            "val_acc :  0.3699\n",
            "train epoch: 5----------------\n"
          ]
        },
        {
          "name": "stderr",
          "output_type": "stream",
          "text": [
            "100%|██████████| 196/196 [00:43<00:00,  4.47it/s]\n"
          ]
        },
        {
          "name": "stdout",
          "output_type": "stream",
          "text": [
            "\n",
            "train_loss :  1.9362358377904307\n",
            "val_acc :  0.384\n",
            "train epoch: 6----------------\n"
          ]
        },
        {
          "name": "stderr",
          "output_type": "stream",
          "text": [
            "100%|██████████| 196/196 [00:42<00:00,  4.65it/s]\n"
          ]
        },
        {
          "name": "stdout",
          "output_type": "stream",
          "text": [
            "\n",
            "train_loss :  1.765207861151014\n",
            "val_acc :  0.3785\n",
            "train epoch: 7----------------\n"
          ]
        },
        {
          "name": "stderr",
          "output_type": "stream",
          "text": [
            "100%|██████████| 196/196 [00:42<00:00,  4.62it/s]\n"
          ]
        },
        {
          "name": "stdout",
          "output_type": "stream",
          "text": [
            "\n",
            "train_loss :  1.6179643115218805\n",
            "val_acc :  0.3889\n",
            "train epoch: 8----------------\n"
          ]
        },
        {
          "name": "stderr",
          "output_type": "stream",
          "text": [
            "100%|██████████| 196/196 [00:42<00:00,  4.57it/s]\n"
          ]
        },
        {
          "name": "stdout",
          "output_type": "stream",
          "text": [
            "\n",
            "train_loss :  1.491591241894936\n",
            "val_acc :  0.3942\n",
            "train epoch: 9----------------\n"
          ]
        },
        {
          "name": "stderr",
          "output_type": "stream",
          "text": [
            "100%|██████████| 196/196 [00:42<00:00,  4.66it/s]\n"
          ]
        },
        {
          "name": "stdout",
          "output_type": "stream",
          "text": [
            "\n",
            "train_loss :  1.370022299946571\n",
            "val_acc :  0.3848\n",
            "train epoch: 10----------------\n"
          ]
        },
        {
          "name": "stderr",
          "output_type": "stream",
          "text": [
            "100%|██████████| 196/196 [00:43<00:00,  4.55it/s]\n"
          ]
        },
        {
          "name": "stdout",
          "output_type": "stream",
          "text": [
            "\n",
            "train_loss :  1.259012725584361\n",
            "val_acc :  0.3879\n",
            "train epoch: 11----------------\n"
          ]
        },
        {
          "name": "stderr",
          "output_type": "stream",
          "text": [
            "100%|██████████| 196/196 [00:42<00:00,  4.57it/s]\n"
          ]
        },
        {
          "name": "stdout",
          "output_type": "stream",
          "text": [
            "\n",
            "train_loss :  1.1516789432082857\n",
            "val_acc :  0.3819\n",
            "train epoch: 12----------------\n"
          ]
        },
        {
          "name": "stderr",
          "output_type": "stream",
          "text": [
            "100%|██████████| 196/196 [00:43<00:00,  4.50it/s]\n"
          ]
        },
        {
          "name": "stdout",
          "output_type": "stream",
          "text": [
            "\n",
            "train_loss :  1.0802965167225624\n",
            "val_acc :  0.3754\n",
            "train epoch: 13----------------\n"
          ]
        },
        {
          "name": "stderr",
          "output_type": "stream",
          "text": [
            "100%|██████████| 196/196 [00:42<00:00,  4.58it/s]\n"
          ]
        },
        {
          "name": "stdout",
          "output_type": "stream",
          "text": [
            "\n",
            "train_loss :  1.0095387980037807\n",
            "val_acc :  0.3756\n",
            "train epoch: 14----------------\n"
          ]
        },
        {
          "name": "stderr",
          "output_type": "stream",
          "text": [
            "100%|██████████| 196/196 [00:42<00:00,  4.57it/s]\n"
          ]
        },
        {
          "name": "stdout",
          "output_type": "stream",
          "text": [
            "\n",
            "train_loss :  0.9324508902369714\n",
            "val_acc :  0.3811\n",
            "train epoch: 15----------------\n"
          ]
        },
        {
          "name": "stderr",
          "output_type": "stream",
          "text": [
            "100%|██████████| 196/196 [00:43<00:00,  4.54it/s]\n"
          ]
        },
        {
          "name": "stdout",
          "output_type": "stream",
          "text": [
            "\n",
            "train_loss :  0.8691854738459295\n",
            "val_acc :  0.3735\n",
            "train epoch: 16----------------\n"
          ]
        },
        {
          "name": "stderr",
          "output_type": "stream",
          "text": [
            "100%|██████████| 196/196 [00:43<00:00,  4.54it/s]\n"
          ]
        },
        {
          "name": "stdout",
          "output_type": "stream",
          "text": [
            "\n",
            "train_loss :  0.8357868602081221\n",
            "val_acc :  0.358\n",
            "train epoch: 17----------------\n"
          ]
        },
        {
          "name": "stderr",
          "output_type": "stream",
          "text": [
            "100%|██████████| 196/196 [00:42<00:00,  4.63it/s]\n"
          ]
        },
        {
          "name": "stdout",
          "output_type": "stream",
          "text": [
            "\n",
            "train_loss :  0.7819894166017065\n",
            "val_acc :  0.367\n",
            "train epoch: 18----------------\n"
          ]
        },
        {
          "name": "stderr",
          "output_type": "stream",
          "text": [
            "100%|██████████| 196/196 [00:43<00:00,  4.55it/s]\n"
          ]
        },
        {
          "name": "stdout",
          "output_type": "stream",
          "text": [
            "\n",
            "train_loss :  0.7257013089802801\n",
            "val_acc :  0.3705\n",
            "train epoch: 19----------------\n"
          ]
        },
        {
          "name": "stderr",
          "output_type": "stream",
          "text": [
            "100%|██████████| 196/196 [00:42<00:00,  4.62it/s]\n"
          ]
        },
        {
          "name": "stdout",
          "output_type": "stream",
          "text": [
            "\n",
            "train_loss :  0.7070928875889096\n",
            "val_acc :  0.3654\n",
            "train epoch: 20----------------\n"
          ]
        },
        {
          "name": "stderr",
          "output_type": "stream",
          "text": [
            "100%|██████████| 196/196 [00:42<00:00,  4.56it/s]\n"
          ]
        },
        {
          "name": "stdout",
          "output_type": "stream",
          "text": [
            "\n",
            "train_loss :  0.6760953521850158\n",
            "val_acc :  0.3589\n",
            "train epoch: 21----------------\n"
          ]
        },
        {
          "name": "stderr",
          "output_type": "stream",
          "text": [
            "100%|██████████| 196/196 [00:42<00:00,  4.62it/s]\n"
          ]
        },
        {
          "name": "stdout",
          "output_type": "stream",
          "text": [
            "\n",
            "train_loss :  0.6544220050682827\n",
            "val_acc :  0.3566\n",
            "train epoch: 22----------------\n"
          ]
        },
        {
          "name": "stderr",
          "output_type": "stream",
          "text": [
            "100%|██████████| 196/196 [00:42<00:00,  4.62it/s]\n"
          ]
        },
        {
          "name": "stdout",
          "output_type": "stream",
          "text": [
            "\n",
            "train_loss :  0.6276933642066255\n",
            "val_acc :  0.3631\n",
            "train epoch: 23----------------\n"
          ]
        },
        {
          "name": "stderr",
          "output_type": "stream",
          "text": [
            "100%|██████████| 196/196 [00:43<00:00,  4.55it/s]\n"
          ]
        },
        {
          "name": "stdout",
          "output_type": "stream",
          "text": [
            "\n",
            "train_loss :  0.6179578876008793\n",
            "val_acc :  0.3501\n",
            "train epoch: 24----------------\n"
          ]
        },
        {
          "name": "stderr",
          "output_type": "stream",
          "text": [
            "100%|██████████| 196/196 [00:43<00:00,  4.54it/s]\n"
          ]
        },
        {
          "name": "stdout",
          "output_type": "stream",
          "text": [
            "\n",
            "train_loss :  0.5943349186255007\n",
            "val_acc :  0.3556\n",
            "train epoch: 25----------------\n"
          ]
        },
        {
          "name": "stderr",
          "output_type": "stream",
          "text": [
            "100%|██████████| 196/196 [00:42<00:00,  4.59it/s]\n"
          ]
        },
        {
          "name": "stdout",
          "output_type": "stream",
          "text": [
            "\n",
            "train_loss :  0.5715004283250594\n",
            "val_acc :  0.3567\n",
            "train epoch: 26----------------\n"
          ]
        },
        {
          "name": "stderr",
          "output_type": "stream",
          "text": [
            "100%|██████████| 196/196 [00:46<00:00,  4.22it/s]\n"
          ]
        },
        {
          "name": "stdout",
          "output_type": "stream",
          "text": [
            "\n",
            "train_loss :  0.5711106054332792\n",
            "val_acc :  0.3479\n",
            "train epoch: 27----------------\n"
          ]
        },
        {
          "name": "stderr",
          "output_type": "stream",
          "text": [
            "100%|██████████| 196/196 [00:47<00:00,  4.16it/s]\n"
          ]
        },
        {
          "name": "stdout",
          "output_type": "stream",
          "text": [
            "\n",
            "train_loss :  0.5499459740762808\n",
            "val_acc :  0.3458\n",
            "train epoch: 28----------------\n"
          ]
        },
        {
          "name": "stderr",
          "output_type": "stream",
          "text": [
            "100%|██████████| 196/196 [01:29<00:00,  2.19it/s]\n"
          ]
        },
        {
          "name": "stdout",
          "output_type": "stream",
          "text": [
            "\n",
            "train_loss :  0.5449669713876686\n",
            "val_acc :  0.3566\n",
            "train epoch: 29----------------\n"
          ]
        },
        {
          "name": "stderr",
          "output_type": "stream",
          "text": [
            "100%|██████████| 196/196 [01:30<00:00,  2.18it/s]\n"
          ]
        },
        {
          "name": "stdout",
          "output_type": "stream",
          "text": [
            "\n",
            "train_loss :  0.5189416296019846\n",
            "val_acc :  0.3454\n",
            "train epoch: 30----------------\n"
          ]
        },
        {
          "name": "stderr",
          "output_type": "stream",
          "text": [
            "  0%|          | 0/196 [00:00<?, ?it/s]"
          ]
        }
      ],
      "source": [
        "for epoch in range(50):\n",
        "    model5.train()\n",
        "    running_loss = 0.0\n",
        "    best_acc = 0.0\n",
        "    best_model_wts = model5.state_dict()\n",
        "    print(f\"train epoch: {epoch+1}----------------\")\n",
        "    for img, label in tqdm(train_loader):\n",
        "        img = img.to(device)\n",
        "        label = label.to(device)\n",
        "        optimizer.zero_grad()\n",
        "        output = model5(img)\n",
        "        loss = criterion(output, label)\n",
        "        running_loss += loss.item()\n",
        "        loss.backward()\n",
        "        optimizer.step()\n",
        "    correct, all_data = 0,0\n",
        "    print(\"\\ntrain_loss : \", running_loss / len(train_loader))\n",
        "    model5.eval()\n",
        "    for img, label in test_loader:\n",
        "        with torch.no_grad():\n",
        "            img = img.to(device)\n",
        "            label = label.to(device)\n",
        "            output = model5(img)\n",
        "\n",
        "            correct += torch.sum(torch.argmax(output, dim=1) == label).item()\n",
        "            all_data += len(label)\n",
        "    print(\"val_acc : \", correct / all_data)\n",
        "    if correct / all_data > best_acc:\n",
        "      best_acc = correct / all_data\n",
        "      best_model_wts = model5.state_dict()"
      ]
    },
    {
      "cell_type": "markdown",
      "metadata": {
        "id": "UFN_usXwcGNm"
      },
      "source": [
        "## Case 7\n",
        "- Linear Layer를 더 Deep하게 쌓아보겠다.\n",
        "- DropOut을 적용한다."
      ]
    },
    {
      "cell_type": "code",
      "execution_count": null,
      "metadata": {
        "id": "p6g-jGHwcGNm"
      },
      "outputs": [],
      "source": [
        "class Case7Model(nn.Module):\n",
        "    #Cifar100 Shape: [Batch, Channel(3), 32, 32]\n",
        "    def __init__(self, in_channels, num_classes):\n",
        "        super(Case7Model, self).__init__()\n",
        "        \"\"\"Base Model\"\"\"\n",
        "        self.conv1_0 = nn.Conv2d(3, 6, 3, 1, 1)\n",
        "        self.pool1 = nn.MaxPool2d(2, 2)\n",
        "        self.batchNorm1_0 = nn.BatchNorm2d(6)\n",
        "        #6 * (16 * 16)\n",
        "\n",
        "        self.conv1_1 = nn.Conv2d(6, 6, 3, 1, 1)\n",
        "        self.batchNorm1_1 = nn.BatchNorm2d(6)\n",
        "        self.conv1_2 = nn.Conv2d(6, 6, 3, 1, 1)\n",
        "        self.batchNorm1_2 = nn.BatchNorm2d(6)\n",
        "        self.conv1_3 = nn.Conv2d(6, 6, 3, 1, 1)\n",
        "        self.batchNorm1_3 = nn.BatchNorm2d(6)\n",
        "        self.conv1_4 = nn.Conv2d(6, 6, 3, 1, 1)\n",
        "        self.batchNorm1_4 = nn.BatchNorm2d(6)\n",
        "        #6 * (16 * 16)\n",
        "        \n",
        "        self.conv2_0 = nn.Conv2d(6, 16, 3, 1, 1)\n",
        "        self.pool2 = nn.MaxPool2d(2, 2)\n",
        "        self.batchNorm2_0 = nn.BatchNorm2d(16)\n",
        "        #16 * (8 * 8)\n",
        "\n",
        "        self.conv2_1 = nn.Conv2d(16, 16, 3, 1, 1)\n",
        "        self.batchNorm2_1 = nn.BatchNorm2d(16)\n",
        "        self.conv2_2 = nn.Conv2d(16, 16, 3, 1, 1)\n",
        "        self.batchNorm2_2 = nn.BatchNorm2d(16)\n",
        "        self.conv2_3 = nn.Conv2d(16, 16, 3, 1, 1)\n",
        "        self.batchNorm2_3 = nn.BatchNorm2d(16)\n",
        "        self.conv2_4 = nn.Conv2d(16, 16, 3, 1, 1)\n",
        "        self.batchNorm2_4 = nn.BatchNorm2d(16)\n",
        "        #16 * (8 * 8)\n",
        "        \n",
        "        self.conv3_0 = nn.Conv2d(16, 32, 3, 1, 1)\n",
        "        self.pool3 = nn.MaxPool2d(2, 2)\n",
        "        self.batchNorm3_0 = nn.BatchNorm2d(32)\n",
        "        #32 * (4 * 4)\n",
        "\n",
        "        self.conv3_1 = nn.Conv2d(32, 32, 3, 1, 1)\n",
        "        self.batchNorm3_1 = nn.BatchNorm2d(32)\n",
        "        self.conv3_2 = nn.Conv2d(32, 32, 3, 1, 1)\n",
        "        self.batchNorm3_2 = nn.BatchNorm2d(32)\n",
        "        self.conv3_3 = nn.Conv2d(32, 32, 3, 1, 1)\n",
        "        self.batchNorm3_3 = nn.BatchNorm2d(32)\n",
        "        self.conv3_4 = nn.Conv2d(32, 32, 3, 1, 1)\n",
        "        self.batchNorm3_4 = nn.BatchNorm2d(32)\n",
        "        #32 * (4 * 4)\n",
        "\n",
        "        self.conv4_0 = nn.Conv2d(32, 128, 3, 1, 1)\n",
        "        self.pool4 = nn.MaxPool2d(2, 2)\n",
        "        self.batchNorm4_0 = nn.BatchNorm2d(128)\n",
        "        #128 * (2 * 2)\n",
        "\n",
        "        self.conv4_1 = nn.Conv2d(128, 128, 3, 1, 1)\n",
        "        self.batchNorm4_1 = nn.BatchNorm2d(128)\n",
        "        self.conv4_2 = nn.Conv2d(128, 128, 3, 1, 1)\n",
        "        self.batchNorm4_2 = nn.BatchNorm2d(128)\n",
        "        self.conv4_3 = nn.Conv2d(128, 128, 3, 1, 1)\n",
        "        self.batchNorm4_3 = nn.BatchNorm2d(128)\n",
        "        self.conv4_4 = nn.Conv2d(128, 128, 3, 1, 1)\n",
        "        self.batchNorm4_4 = nn.BatchNorm2d(128)\n",
        "        #128 * (2 * 2)\n",
        "\n",
        "        self.fc1 = nn.Linear(512, 256)\n",
        "        self.batchNormL_1 = nn.BatchNorm1d(256)\n",
        "        self.fc2 = nn.Linear(256, 256)\n",
        "        self.batchNormL_2 = nn.BatchNorm1d(256)\n",
        "        self.fc3 = nn.Linear(256, 128)\n",
        "        self.batchNormL_3 = nn.BatchNorm1d(128)\n",
        "        self.fc4 = nn.Linear(128, 128)\n",
        "        self.batchNormL_4 = nn.BatchNorm1d(128)\n",
        "        self.fc5 = nn.Linear(128, 100)\n",
        "        \n",
        "        self.dropout = nn.Dropout(0.2)        \n",
        "\n",
        "    def forward(self, x):\n",
        "        \"\"\"Base Model\"\"\"\n",
        "        x1_0 = self.batchNorm1_0(self.pool1(F.relu(self.conv1_0(x))))\n",
        "        x1_1 = self.batchNorm1_1(F.relu(self.conv1_1(x1_0)))\n",
        "        x1_2 = self.batchNorm1_2(F.relu(self.conv1_2(x1_1)) + x1_0)\n",
        "        x1_3 = self.batchNorm1_3(F.relu(self.conv1_3(x1_2)) + x1_0 + x1_1)\n",
        "        x1_4 = self.batchNorm1_4(F.relu(self.conv1_4(x1_3)) + x1_0 + x1_1 + x1_2)\n",
        "\n",
        "        x2_0 = self.batchNorm2_0(self.pool2(F.relu(self.conv2_0(x1_4))))\n",
        "        x2_1 = self.batchNorm2_1(F.relu(self.conv2_1(x2_0)))\n",
        "        x2_2 = self.batchNorm2_2(F.relu(self.conv2_2(x2_1)) + x2_0)\n",
        "        x2_3 = self.batchNorm2_3(F.relu(self.conv2_3(x2_2)) + x2_0 + x2_1)\n",
        "        x2_4 = self.batchNorm2_4(F.relu(self.conv2_4(x2_3)) + x2_0 + x2_1 + x2_2)\n",
        "\n",
        "        x3_0 = self.batchNorm3_0(self.pool3(F.relu(self.conv3_0(x2_4))))\n",
        "        x3_1 = self.batchNorm3_1(F.relu(self.conv3_1(x3_0)))\n",
        "        x3_2 = self.batchNorm3_2(F.relu(self.conv3_2(x3_1)) + x3_0)\n",
        "        x3_3 = self.batchNorm3_3(F.relu(self.conv3_3(x3_2)) + x3_0 + x3_1)\n",
        "        x3_4 = self.batchNorm3_4(F.relu(self.conv3_4(x3_3)) + x3_0 + x3_1 + x3_2)\n",
        "\n",
        "        x4_0 = self.batchNorm4_0(self.pool4(F.relu(self.conv4_0(x3_4))))\n",
        "        x4_1 = self.batchNorm4_1(F.relu(self.conv4_1(x4_0)))\n",
        "        x4_2 = self.batchNorm4_2(F.relu(self.conv4_2(x4_1)) + x4_0)\n",
        "        x4_3 = self.batchNorm4_3(F.relu(self.conv4_3(x4_2)) + x4_0 + x4_1)\n",
        "        x4_4 = self.batchNorm4_4(F.relu(self.conv4_4(x4_3)) + x4_0 + x4_1 + x4_2)\n",
        "\n",
        "        x = torch.flatten(x4_4, 1) # flatten all dimensions except batch\n",
        "        x = self.dropout(x)\n",
        "        x = self.batchNormL_1(F.relu(self.fc1(x)))\n",
        "        x = self.dropout(x)\n",
        "        x = self.batchNormL_2(F.relu(self.fc2(x)))\n",
        "        x = self.dropout(x)\n",
        "        x = self.batchNormL_3(F.relu(self.fc3(x)))\n",
        "        x = self.dropout(x)\n",
        "        x = self.batchNormL_4(F.relu(self.fc4(x)))\n",
        "        x = self.dropout(x)\n",
        "        x = self.fc5(x)\n",
        "        return x\n",
        "\n",
        "model7 = Case7Model(3, 100).to(device)\n",
        "optimizer = optim.SGD(model7.parameters(), momentum=0.9, nesterov=True, lr=0.05)\n"
      ]
    },
    {
      "cell_type": "code",
      "execution_count": null,
      "metadata": {
        "colab": {
          "base_uri": "https://localhost:8080/"
        },
        "id": "DylGdRmmcGNn",
        "outputId": "3eb84db5-ccde-496b-ffcc-0b6ae61770d3"
      },
      "outputs": [
        {
          "metadata": {
            "tags": null
          },
          "name": "stdout",
          "output_type": "stream",
          "text": [
            "train epoch: 1----------------\n"
          ]
        },
        {
          "metadata": {
            "tags": null
          },
          "name": "stderr",
          "output_type": "stream",
          "text": [
            "100%|██████████| 196/196 [00:37<00:00,  5.21it/s]"
          ]
        },
        {
          "metadata": {
            "tags": null
          },
          "name": "stdout",
          "output_type": "stream",
          "text": [
            "\n",
            "train_loss :  4.369052942918271\n"
          ]
        },
        {
          "metadata": {
            "tags": null
          },
          "name": "stderr",
          "output_type": "stream",
          "text": [
            "\n"
          ]
        },
        {
          "metadata": {
            "tags": null
          },
          "name": "stdout",
          "output_type": "stream",
          "text": [
            "val_acc :  0.0863\n",
            "train epoch: 2----------------\n"
          ]
        },
        {
          "metadata": {
            "tags": null
          },
          "name": "stderr",
          "output_type": "stream",
          "text": [
            "100%|██████████| 196/196 [00:33<00:00,  5.82it/s]"
          ]
        },
        {
          "metadata": {
            "tags": null
          },
          "name": "stdout",
          "output_type": "stream",
          "text": [
            "\n",
            "train_loss :  4.034760343785188\n"
          ]
        },
        {
          "metadata": {
            "tags": null
          },
          "name": "stderr",
          "output_type": "stream",
          "text": [
            "\n"
          ]
        },
        {
          "metadata": {
            "tags": null
          },
          "name": "stdout",
          "output_type": "stream",
          "text": [
            "val_acc :  0.1474\n",
            "train epoch: 3----------------\n"
          ]
        },
        {
          "metadata": {
            "tags": null
          },
          "name": "stderr",
          "output_type": "stream",
          "text": [
            "100%|██████████| 196/196 [00:36<00:00,  5.43it/s]"
          ]
        },
        {
          "metadata": {
            "tags": null
          },
          "name": "stdout",
          "output_type": "stream",
          "text": [
            "\n",
            "train_loss :  3.812810238526792\n"
          ]
        },
        {
          "metadata": {
            "tags": null
          },
          "name": "stderr",
          "output_type": "stream",
          "text": [
            "\n"
          ]
        },
        {
          "metadata": {
            "tags": null
          },
          "name": "stdout",
          "output_type": "stream",
          "text": [
            "val_acc :  0.1927\n",
            "train epoch: 4----------------\n"
          ]
        },
        {
          "metadata": {
            "tags": null
          },
          "name": "stderr",
          "output_type": "stream",
          "text": [
            "100%|██████████| 196/196 [00:32<00:00,  6.10it/s]"
          ]
        },
        {
          "metadata": {
            "tags": null
          },
          "name": "stdout",
          "output_type": "stream",
          "text": [
            "\n",
            "train_loss :  3.641325555285629\n"
          ]
        },
        {
          "metadata": {
            "tags": null
          },
          "name": "stderr",
          "output_type": "stream",
          "text": [
            "\n"
          ]
        },
        {
          "metadata": {
            "tags": null
          },
          "name": "stdout",
          "output_type": "stream",
          "text": [
            "val_acc :  0.2124\n",
            "train epoch: 5----------------\n"
          ]
        },
        {
          "metadata": {
            "tags": null
          },
          "name": "stderr",
          "output_type": "stream",
          "text": [
            "100%|██████████| 196/196 [00:37<00:00,  5.23it/s]"
          ]
        },
        {
          "metadata": {
            "tags": null
          },
          "name": "stdout",
          "output_type": "stream",
          "text": [
            "\n",
            "train_loss :  3.504164600858883\n"
          ]
        },
        {
          "metadata": {
            "tags": null
          },
          "name": "stderr",
          "output_type": "stream",
          "text": [
            "\n"
          ]
        },
        {
          "metadata": {
            "tags": null
          },
          "name": "stdout",
          "output_type": "stream",
          "text": [
            "val_acc :  0.2543\n",
            "train epoch: 6----------------\n"
          ]
        },
        {
          "metadata": {
            "tags": null
          },
          "name": "stderr",
          "output_type": "stream",
          "text": [
            "100%|██████████| 196/196 [00:33<00:00,  5.84it/s]"
          ]
        },
        {
          "metadata": {
            "tags": null
          },
          "name": "stdout",
          "output_type": "stream",
          "text": [
            "\n",
            "train_loss :  3.38158426965986\n"
          ]
        },
        {
          "metadata": {
            "tags": null
          },
          "name": "stderr",
          "output_type": "stream",
          "text": [
            "\n"
          ]
        },
        {
          "metadata": {
            "tags": null
          },
          "name": "stdout",
          "output_type": "stream",
          "text": [
            "val_acc :  0.2616\n",
            "train epoch: 7----------------\n"
          ]
        },
        {
          "metadata": {
            "tags": null
          },
          "name": "stderr",
          "output_type": "stream",
          "text": [
            "100%|██████████| 196/196 [00:31<00:00,  6.16it/s]"
          ]
        },
        {
          "metadata": {
            "tags": null
          },
          "name": "stdout",
          "output_type": "stream",
          "text": [
            "\n",
            "train_loss :  3.2728307660745113\n"
          ]
        },
        {
          "metadata": {
            "tags": null
          },
          "name": "stderr",
          "output_type": "stream",
          "text": [
            "\n"
          ]
        },
        {
          "metadata": {
            "tags": null
          },
          "name": "stdout",
          "output_type": "stream",
          "text": [
            "val_acc :  0.2873\n",
            "train epoch: 8----------------\n"
          ]
        },
        {
          "metadata": {
            "tags": null
          },
          "name": "stderr",
          "output_type": "stream",
          "text": [
            "100%|██████████| 196/196 [00:33<00:00,  5.89it/s]"
          ]
        },
        {
          "metadata": {
            "tags": null
          },
          "name": "stdout",
          "output_type": "stream",
          "text": [
            "\n",
            "train_loss :  3.1866535325439607\n"
          ]
        },
        {
          "metadata": {
            "tags": null
          },
          "name": "stderr",
          "output_type": "stream",
          "text": [
            "\n"
          ]
        },
        {
          "metadata": {
            "tags": null
          },
          "name": "stdout",
          "output_type": "stream",
          "text": [
            "val_acc :  0.3075\n",
            "train epoch: 9----------------\n"
          ]
        },
        {
          "output_type": "stream",
          "name": "stderr",
          "text": [
            "100%|██████████| 196/196 [00:32<00:00,  5.97it/s]"
          ]
        },
        {
          "output_type": "stream",
          "name": "stdout",
          "text": [
            "\n",
            "train_loss :  3.1088798167754192\n"
          ]
        },
        {
          "output_type": "stream",
          "name": "stderr",
          "text": [
            "\n"
          ]
        },
        {
          "output_type": "stream",
          "name": "stdout",
          "text": [
            "val_acc :  0.3202\n",
            "train epoch: 10----------------\n"
          ]
        },
        {
          "output_type": "stream",
          "name": "stderr",
          "text": [
            "100%|██████████| 196/196 [00:33<00:00,  5.90it/s]"
          ]
        },
        {
          "output_type": "stream",
          "name": "stdout",
          "text": [
            "\n",
            "train_loss :  3.0445684668969135\n"
          ]
        },
        {
          "output_type": "stream",
          "name": "stderr",
          "text": [
            "\n"
          ]
        },
        {
          "output_type": "stream",
          "name": "stdout",
          "text": [
            "val_acc :  0.3398\n",
            "train epoch: 11----------------\n"
          ]
        },
        {
          "output_type": "stream",
          "name": "stderr",
          "text": [
            "100%|██████████| 196/196 [00:34<00:00,  5.76it/s]"
          ]
        },
        {
          "output_type": "stream",
          "name": "stdout",
          "text": [
            "\n",
            "train_loss :  2.9840864016085256\n"
          ]
        },
        {
          "output_type": "stream",
          "name": "stderr",
          "text": [
            "\n"
          ]
        },
        {
          "output_type": "stream",
          "name": "stdout",
          "text": [
            "val_acc :  0.3554\n",
            "train epoch: 12----------------\n"
          ]
        },
        {
          "output_type": "stream",
          "name": "stderr",
          "text": [
            "100%|██████████| 196/196 [00:32<00:00,  6.12it/s]"
          ]
        },
        {
          "output_type": "stream",
          "name": "stdout",
          "text": [
            "\n",
            "train_loss :  2.9337891753838985\n"
          ]
        },
        {
          "output_type": "stream",
          "name": "stderr",
          "text": [
            "\n"
          ]
        },
        {
          "output_type": "stream",
          "name": "stdout",
          "text": [
            "val_acc :  0.3486\n",
            "train epoch: 13----------------\n"
          ]
        },
        {
          "output_type": "stream",
          "name": "stderr",
          "text": [
            "100%|██████████| 196/196 [00:33<00:00,  5.90it/s]"
          ]
        },
        {
          "output_type": "stream",
          "name": "stdout",
          "text": [
            "\n",
            "train_loss :  2.8874661010138842\n"
          ]
        },
        {
          "output_type": "stream",
          "name": "stderr",
          "text": [
            "\n"
          ]
        },
        {
          "output_type": "stream",
          "name": "stdout",
          "text": [
            "val_acc :  0.3497\n",
            "train epoch: 14----------------\n"
          ]
        },
        {
          "output_type": "stream",
          "name": "stderr",
          "text": [
            "100%|██████████| 196/196 [00:32<00:00,  5.97it/s]"
          ]
        },
        {
          "output_type": "stream",
          "name": "stdout",
          "text": [
            "\n",
            "train_loss :  2.8363275807731005\n"
          ]
        },
        {
          "output_type": "stream",
          "name": "stderr",
          "text": [
            "\n"
          ]
        },
        {
          "output_type": "stream",
          "name": "stdout",
          "text": [
            "val_acc :  0.3545\n",
            "train epoch: 15----------------\n"
          ]
        },
        {
          "output_type": "stream",
          "name": "stderr",
          "text": [
            "100%|██████████| 196/196 [00:33<00:00,  5.90it/s]"
          ]
        },
        {
          "output_type": "stream",
          "name": "stdout",
          "text": [
            "\n",
            "train_loss :  2.7977877818808263\n"
          ]
        },
        {
          "output_type": "stream",
          "name": "stderr",
          "text": [
            "\n"
          ]
        },
        {
          "output_type": "stream",
          "name": "stdout",
          "text": [
            "val_acc :  0.3595\n",
            "train epoch: 16----------------\n"
          ]
        },
        {
          "output_type": "stream",
          "name": "stderr",
          "text": [
            "100%|██████████| 196/196 [00:33<00:00,  5.83it/s]"
          ]
        },
        {
          "output_type": "stream",
          "name": "stdout",
          "text": [
            "\n",
            "train_loss :  2.7617962068440964\n"
          ]
        },
        {
          "output_type": "stream",
          "name": "stderr",
          "text": [
            "\n"
          ]
        },
        {
          "output_type": "stream",
          "name": "stdout",
          "text": [
            "val_acc :  0.3799\n",
            "train epoch: 17----------------\n"
          ]
        },
        {
          "output_type": "stream",
          "name": "stderr",
          "text": [
            "100%|██████████| 196/196 [00:31<00:00,  6.24it/s]"
          ]
        },
        {
          "output_type": "stream",
          "name": "stdout",
          "text": [
            "\n",
            "train_loss :  2.717761229495613\n"
          ]
        },
        {
          "output_type": "stream",
          "name": "stderr",
          "text": [
            "\n"
          ]
        },
        {
          "output_type": "stream",
          "name": "stdout",
          "text": [
            "val_acc :  0.3709\n",
            "train epoch: 18----------------\n"
          ]
        },
        {
          "output_type": "stream",
          "name": "stderr",
          "text": [
            "100%|██████████| 196/196 [00:33<00:00,  5.89it/s]"
          ]
        },
        {
          "output_type": "stream",
          "name": "stdout",
          "text": [
            "\n",
            "train_loss :  2.6854435083817463\n"
          ]
        },
        {
          "output_type": "stream",
          "name": "stderr",
          "text": [
            "\n"
          ]
        },
        {
          "output_type": "stream",
          "name": "stdout",
          "text": [
            "val_acc :  0.3925\n",
            "train epoch: 19----------------\n"
          ]
        },
        {
          "output_type": "stream",
          "name": "stderr",
          "text": [
            "100%|██████████| 196/196 [00:32<00:00,  6.11it/s]"
          ]
        },
        {
          "output_type": "stream",
          "name": "stdout",
          "text": [
            "\n",
            "train_loss :  2.664245616416542\n"
          ]
        },
        {
          "output_type": "stream",
          "name": "stderr",
          "text": [
            "\n"
          ]
        },
        {
          "output_type": "stream",
          "name": "stdout",
          "text": [
            "val_acc :  0.3962\n",
            "train epoch: 20----------------\n"
          ]
        },
        {
          "output_type": "stream",
          "name": "stderr",
          "text": [
            "100%|██████████| 196/196 [00:32<00:00,  5.96it/s]"
          ]
        },
        {
          "output_type": "stream",
          "name": "stdout",
          "text": [
            "\n",
            "train_loss :  2.6256759604629205\n"
          ]
        },
        {
          "output_type": "stream",
          "name": "stderr",
          "text": [
            "\n"
          ]
        },
        {
          "output_type": "stream",
          "name": "stdout",
          "text": [
            "val_acc :  0.4009\n",
            "train epoch: 21----------------\n"
          ]
        },
        {
          "output_type": "stream",
          "name": "stderr",
          "text": [
            "100%|██████████| 196/196 [00:34<00:00,  5.75it/s]"
          ]
        },
        {
          "output_type": "stream",
          "name": "stdout",
          "text": [
            "\n",
            "train_loss :  2.5973594565780793\n"
          ]
        },
        {
          "output_type": "stream",
          "name": "stderr",
          "text": [
            "\n"
          ]
        },
        {
          "output_type": "stream",
          "name": "stdout",
          "text": [
            "val_acc :  0.394\n",
            "train epoch: 22----------------\n"
          ]
        },
        {
          "output_type": "stream",
          "name": "stderr",
          "text": [
            "100%|██████████| 196/196 [00:31<00:00,  6.27it/s]"
          ]
        },
        {
          "output_type": "stream",
          "name": "stdout",
          "text": [
            "\n",
            "train_loss :  2.5681124670164928\n"
          ]
        },
        {
          "output_type": "stream",
          "name": "stderr",
          "text": [
            "\n"
          ]
        },
        {
          "output_type": "stream",
          "name": "stdout",
          "text": [
            "val_acc :  0.3935\n",
            "train epoch: 23----------------\n"
          ]
        },
        {
          "output_type": "stream",
          "name": "stderr",
          "text": [
            "100%|██████████| 196/196 [00:32<00:00,  5.99it/s]"
          ]
        },
        {
          "output_type": "stream",
          "name": "stdout",
          "text": [
            "\n",
            "train_loss :  2.5451538939865266\n"
          ]
        },
        {
          "output_type": "stream",
          "name": "stderr",
          "text": [
            "\n"
          ]
        },
        {
          "output_type": "stream",
          "name": "stdout",
          "text": [
            "val_acc :  0.4027\n",
            "train epoch: 24----------------\n"
          ]
        },
        {
          "output_type": "stream",
          "name": "stderr",
          "text": [
            "100%|██████████| 196/196 [00:32<00:00,  6.12it/s]"
          ]
        },
        {
          "output_type": "stream",
          "name": "stdout",
          "text": [
            "\n",
            "train_loss :  2.518684503983478\n"
          ]
        },
        {
          "output_type": "stream",
          "name": "stderr",
          "text": [
            "\n"
          ]
        },
        {
          "output_type": "stream",
          "name": "stdout",
          "text": [
            "val_acc :  0.4045\n",
            "train epoch: 25----------------\n"
          ]
        },
        {
          "output_type": "stream",
          "name": "stderr",
          "text": [
            "100%|██████████| 196/196 [00:32<00:00,  6.04it/s]"
          ]
        },
        {
          "output_type": "stream",
          "name": "stdout",
          "text": [
            "\n",
            "train_loss :  2.491119079443873\n"
          ]
        },
        {
          "output_type": "stream",
          "name": "stderr",
          "text": [
            "\n"
          ]
        },
        {
          "output_type": "stream",
          "name": "stdout",
          "text": [
            "val_acc :  0.4109\n",
            "train epoch: 26----------------\n"
          ]
        },
        {
          "output_type": "stream",
          "name": "stderr",
          "text": [
            "100%|██████████| 196/196 [00:34<00:00,  5.70it/s]"
          ]
        },
        {
          "output_type": "stream",
          "name": "stdout",
          "text": [
            "\n",
            "train_loss :  2.4623010036896686\n"
          ]
        },
        {
          "output_type": "stream",
          "name": "stderr",
          "text": [
            "\n"
          ]
        },
        {
          "output_type": "stream",
          "name": "stdout",
          "text": [
            "val_acc :  0.4181\n",
            "train epoch: 27----------------\n"
          ]
        },
        {
          "output_type": "stream",
          "name": "stderr",
          "text": [
            "100%|██████████| 196/196 [00:30<00:00,  6.34it/s]"
          ]
        },
        {
          "output_type": "stream",
          "name": "stdout",
          "text": [
            "\n",
            "train_loss :  2.4436387626492246\n"
          ]
        },
        {
          "output_type": "stream",
          "name": "stderr",
          "text": [
            "\n"
          ]
        },
        {
          "output_type": "stream",
          "name": "stdout",
          "text": [
            "val_acc :  0.4158\n",
            "train epoch: 28----------------\n"
          ]
        },
        {
          "output_type": "stream",
          "name": "stderr",
          "text": [
            "100%|██████████| 196/196 [00:32<00:00,  6.04it/s]"
          ]
        },
        {
          "output_type": "stream",
          "name": "stdout",
          "text": [
            "\n",
            "train_loss :  2.4127305429808947\n"
          ]
        },
        {
          "output_type": "stream",
          "name": "stderr",
          "text": [
            "\n"
          ]
        },
        {
          "output_type": "stream",
          "name": "stdout",
          "text": [
            "val_acc :  0.4223\n",
            "train epoch: 29----------------\n"
          ]
        },
        {
          "output_type": "stream",
          "name": "stderr",
          "text": [
            "100%|██████████| 196/196 [00:30<00:00,  6.37it/s]"
          ]
        },
        {
          "output_type": "stream",
          "name": "stdout",
          "text": [
            "\n",
            "train_loss :  2.404890990987116\n"
          ]
        },
        {
          "output_type": "stream",
          "name": "stderr",
          "text": [
            "\n"
          ]
        },
        {
          "output_type": "stream",
          "name": "stdout",
          "text": [
            "val_acc :  0.4248\n",
            "train epoch: 30----------------\n"
          ]
        },
        {
          "output_type": "stream",
          "name": "stderr",
          "text": [
            "100%|██████████| 196/196 [00:32<00:00,  6.05it/s]"
          ]
        },
        {
          "output_type": "stream",
          "name": "stdout",
          "text": [
            "\n",
            "train_loss :  2.360597147017109\n"
          ]
        },
        {
          "output_type": "stream",
          "name": "stderr",
          "text": [
            "\n"
          ]
        },
        {
          "output_type": "stream",
          "name": "stdout",
          "text": [
            "val_acc :  0.4242\n",
            "train epoch: 31----------------\n"
          ]
        },
        {
          "output_type": "stream",
          "name": "stderr",
          "text": [
            "100%|██████████| 196/196 [00:33<00:00,  5.84it/s]"
          ]
        },
        {
          "output_type": "stream",
          "name": "stdout",
          "text": [
            "\n",
            "train_loss :  2.3292069155342725\n"
          ]
        },
        {
          "output_type": "stream",
          "name": "stderr",
          "text": [
            "\n"
          ]
        },
        {
          "output_type": "stream",
          "name": "stdout",
          "text": [
            "val_acc :  0.4229\n",
            "train epoch: 32----------------\n"
          ]
        },
        {
          "output_type": "stream",
          "name": "stderr",
          "text": [
            "100%|██████████| 196/196 [00:30<00:00,  6.36it/s]"
          ]
        },
        {
          "output_type": "stream",
          "name": "stdout",
          "text": [
            "\n",
            "train_loss :  2.313345493710771\n"
          ]
        },
        {
          "output_type": "stream",
          "name": "stderr",
          "text": [
            "\n"
          ]
        },
        {
          "output_type": "stream",
          "name": "stdout",
          "text": [
            "val_acc :  0.4237\n",
            "train epoch: 33----------------\n"
          ]
        },
        {
          "output_type": "stream",
          "name": "stderr",
          "text": [
            "100%|██████████| 196/196 [00:32<00:00,  5.95it/s]"
          ]
        },
        {
          "output_type": "stream",
          "name": "stdout",
          "text": [
            "\n",
            "train_loss :  2.295609267390504\n"
          ]
        },
        {
          "output_type": "stream",
          "name": "stderr",
          "text": [
            "\n"
          ]
        },
        {
          "output_type": "stream",
          "name": "stdout",
          "text": [
            "val_acc :  0.4258\n",
            "train epoch: 34----------------\n"
          ]
        },
        {
          "output_type": "stream",
          "name": "stderr",
          "text": [
            "100%|██████████| 196/196 [00:30<00:00,  6.34it/s]"
          ]
        },
        {
          "output_type": "stream",
          "name": "stdout",
          "text": [
            "\n",
            "train_loss :  2.2735633497335472\n"
          ]
        },
        {
          "output_type": "stream",
          "name": "stderr",
          "text": [
            "\n"
          ]
        },
        {
          "output_type": "stream",
          "name": "stdout",
          "text": [
            "val_acc :  0.429\n",
            "train epoch: 35----------------\n"
          ]
        },
        {
          "output_type": "stream",
          "name": "stderr",
          "text": [
            "100%|██████████| 196/196 [00:32<00:00,  6.04it/s]"
          ]
        },
        {
          "output_type": "stream",
          "name": "stdout",
          "text": [
            "\n",
            "train_loss :  2.252590447664261\n"
          ]
        },
        {
          "output_type": "stream",
          "name": "stderr",
          "text": [
            "\n"
          ]
        },
        {
          "output_type": "stream",
          "name": "stdout",
          "text": [
            "val_acc :  0.4318\n",
            "train epoch: 36----------------\n"
          ]
        },
        {
          "output_type": "stream",
          "name": "stderr",
          "text": [
            "100%|██████████| 196/196 [00:33<00:00,  5.85it/s]"
          ]
        },
        {
          "output_type": "stream",
          "name": "stdout",
          "text": [
            "\n",
            "train_loss :  2.245071849652699\n"
          ]
        },
        {
          "output_type": "stream",
          "name": "stderr",
          "text": [
            "\n"
          ]
        },
        {
          "output_type": "stream",
          "name": "stdout",
          "text": [
            "val_acc :  0.4246\n",
            "train epoch: 37----------------\n"
          ]
        },
        {
          "output_type": "stream",
          "name": "stderr",
          "text": [
            "100%|██████████| 196/196 [00:30<00:00,  6.44it/s]"
          ]
        },
        {
          "output_type": "stream",
          "name": "stdout",
          "text": [
            "\n",
            "train_loss :  2.212303559390866\n"
          ]
        },
        {
          "output_type": "stream",
          "name": "stderr",
          "text": [
            "\n"
          ]
        },
        {
          "output_type": "stream",
          "name": "stdout",
          "text": [
            "val_acc :  0.4283\n",
            "train epoch: 38----------------\n"
          ]
        },
        {
          "output_type": "stream",
          "name": "stderr",
          "text": [
            "100%|██████████| 196/196 [00:33<00:00,  5.81it/s]"
          ]
        },
        {
          "output_type": "stream",
          "name": "stdout",
          "text": [
            "\n",
            "train_loss :  2.1978605541647696\n"
          ]
        },
        {
          "output_type": "stream",
          "name": "stderr",
          "text": [
            "\n"
          ]
        },
        {
          "output_type": "stream",
          "name": "stdout",
          "text": [
            "val_acc :  0.4308\n",
            "train epoch: 39----------------\n"
          ]
        },
        {
          "output_type": "stream",
          "name": "stderr",
          "text": [
            "100%|██████████| 196/196 [00:30<00:00,  6.41it/s]"
          ]
        },
        {
          "output_type": "stream",
          "name": "stdout",
          "text": [
            "\n",
            "train_loss :  2.1870881975913536\n"
          ]
        },
        {
          "output_type": "stream",
          "name": "stderr",
          "text": [
            "\n"
          ]
        },
        {
          "output_type": "stream",
          "name": "stdout",
          "text": [
            "val_acc :  0.4294\n",
            "train epoch: 40----------------\n"
          ]
        },
        {
          "output_type": "stream",
          "name": "stderr",
          "text": [
            "100%|██████████| 196/196 [00:32<00:00,  6.00it/s]"
          ]
        },
        {
          "output_type": "stream",
          "name": "stdout",
          "text": [
            "\n",
            "train_loss :  2.1592212136910884\n"
          ]
        },
        {
          "output_type": "stream",
          "name": "stderr",
          "text": [
            "\n"
          ]
        },
        {
          "output_type": "stream",
          "name": "stdout",
          "text": [
            "val_acc :  0.4306\n",
            "train epoch: 41----------------\n"
          ]
        },
        {
          "output_type": "stream",
          "name": "stderr",
          "text": [
            "100%|██████████| 196/196 [00:32<00:00,  6.10it/s]"
          ]
        },
        {
          "output_type": "stream",
          "name": "stdout",
          "text": [
            "\n",
            "train_loss :  2.150691258055823\n"
          ]
        },
        {
          "output_type": "stream",
          "name": "stderr",
          "text": [
            "\n"
          ]
        },
        {
          "output_type": "stream",
          "name": "stdout",
          "text": [
            "val_acc :  0.4321\n",
            "train epoch: 42----------------\n"
          ]
        },
        {
          "output_type": "stream",
          "name": "stderr",
          "text": [
            "100%|██████████| 196/196 [00:31<00:00,  6.21it/s]"
          ]
        },
        {
          "output_type": "stream",
          "name": "stdout",
          "text": [
            "\n",
            "train_loss :  2.1219109302880814\n"
          ]
        },
        {
          "output_type": "stream",
          "name": "stderr",
          "text": [
            "\n"
          ]
        },
        {
          "output_type": "stream",
          "name": "stdout",
          "text": [
            "val_acc :  0.4341\n",
            "train epoch: 43----------------\n"
          ]
        },
        {
          "output_type": "stream",
          "name": "stderr",
          "text": [
            "100%|██████████| 196/196 [00:32<00:00,  6.11it/s]"
          ]
        },
        {
          "output_type": "stream",
          "name": "stdout",
          "text": [
            "\n",
            "train_loss :  2.1072700206114323\n"
          ]
        },
        {
          "output_type": "stream",
          "name": "stderr",
          "text": [
            "\n"
          ]
        },
        {
          "output_type": "stream",
          "name": "stdout",
          "text": [
            "val_acc :  0.4397\n",
            "train epoch: 44----------------\n"
          ]
        },
        {
          "output_type": "stream",
          "name": "stderr",
          "text": [
            "100%|██████████| 196/196 [00:32<00:00,  6.11it/s]"
          ]
        },
        {
          "output_type": "stream",
          "name": "stdout",
          "text": [
            "\n",
            "train_loss :  2.102964518021564\n"
          ]
        },
        {
          "output_type": "stream",
          "name": "stderr",
          "text": [
            "\n"
          ]
        },
        {
          "output_type": "stream",
          "name": "stdout",
          "text": [
            "val_acc :  0.4318\n",
            "train epoch: 45----------------\n"
          ]
        },
        {
          "output_type": "stream",
          "name": "stderr",
          "text": [
            "100%|██████████| 196/196 [00:32<00:00,  6.09it/s]"
          ]
        },
        {
          "output_type": "stream",
          "name": "stdout",
          "text": [
            "\n",
            "train_loss :  2.071079203060695\n"
          ]
        },
        {
          "output_type": "stream",
          "name": "stderr",
          "text": [
            "\n"
          ]
        },
        {
          "output_type": "stream",
          "name": "stdout",
          "text": [
            "val_acc :  0.4365\n",
            "train epoch: 46----------------\n"
          ]
        },
        {
          "output_type": "stream",
          "name": "stderr",
          "text": [
            "100%|██████████| 196/196 [00:32<00:00,  6.01it/s]"
          ]
        },
        {
          "output_type": "stream",
          "name": "stdout",
          "text": [
            "\n",
            "train_loss :  2.052137487396902\n"
          ]
        },
        {
          "output_type": "stream",
          "name": "stderr",
          "text": [
            "\n"
          ]
        },
        {
          "output_type": "stream",
          "name": "stdout",
          "text": [
            "val_acc :  0.4369\n",
            "train epoch: 47----------------\n"
          ]
        },
        {
          "output_type": "stream",
          "name": "stderr",
          "text": [
            "100%|██████████| 196/196 [00:30<00:00,  6.44it/s]"
          ]
        },
        {
          "output_type": "stream",
          "name": "stdout",
          "text": [
            "\n",
            "train_loss :  2.0417079408558045\n"
          ]
        },
        {
          "output_type": "stream",
          "name": "stderr",
          "text": [
            "\n"
          ]
        },
        {
          "output_type": "stream",
          "name": "stdout",
          "text": [
            "val_acc :  0.4391\n",
            "train epoch: 48----------------\n"
          ]
        },
        {
          "output_type": "stream",
          "name": "stderr",
          "text": [
            "100%|██████████| 196/196 [00:33<00:00,  5.87it/s]"
          ]
        },
        {
          "output_type": "stream",
          "name": "stdout",
          "text": [
            "\n",
            "train_loss :  2.023634799280945\n"
          ]
        },
        {
          "output_type": "stream",
          "name": "stderr",
          "text": [
            "\n"
          ]
        },
        {
          "output_type": "stream",
          "name": "stdout",
          "text": [
            "val_acc :  0.4403\n",
            "train epoch: 49----------------\n"
          ]
        },
        {
          "output_type": "stream",
          "name": "stderr",
          "text": [
            "100%|██████████| 196/196 [00:30<00:00,  6.38it/s]"
          ]
        },
        {
          "output_type": "stream",
          "name": "stdout",
          "text": [
            "\n",
            "train_loss :  2.013939844710486\n"
          ]
        },
        {
          "output_type": "stream",
          "name": "stderr",
          "text": [
            "\n"
          ]
        },
        {
          "output_type": "stream",
          "name": "stdout",
          "text": [
            "val_acc :  0.4358\n",
            "train epoch: 50----------------\n"
          ]
        },
        {
          "output_type": "stream",
          "name": "stderr",
          "text": [
            "100%|██████████| 196/196 [00:33<00:00,  5.91it/s]"
          ]
        },
        {
          "output_type": "stream",
          "name": "stdout",
          "text": [
            "\n",
            "train_loss :  1.9825612093721117\n"
          ]
        },
        {
          "output_type": "stream",
          "name": "stderr",
          "text": [
            "\n"
          ]
        },
        {
          "output_type": "stream",
          "name": "stdout",
          "text": [
            "val_acc :  0.442\n"
          ]
        }
      ],
      "source": [
        "for epoch in range(50):\n",
        "    model7.train()\n",
        "    running_loss = 0.0\n",
        "    best_acc = 0.0\n",
        "    best_model_wts = model7.state_dict()\n",
        "    print(f\"train epoch: {epoch+1}----------------\")\n",
        "    for img, label in tqdm(train_loader):\n",
        "        img = img.to(device)\n",
        "        label = label.to(device)\n",
        "        optimizer.zero_grad()\n",
        "        output = model7(img)\n",
        "        loss = criterion(output, label)\n",
        "        running_loss += loss.item()\n",
        "        loss.backward()\n",
        "        optimizer.step()\n",
        "    correct, all_data = 0,0\n",
        "    print(\"\\ntrain_loss : \", running_loss / len(train_loader))\n",
        "    model7.eval()\n",
        "    for img, label in test_loader:\n",
        "        with torch.no_grad():\n",
        "            img = img.to(device)\n",
        "            label = label.to(device)\n",
        "            output = model7(img)\n",
        "\n",
        "            correct += torch.sum(torch.argmax(output, dim=1) == label).item()\n",
        "            all_data += len(label)\n",
        "    print(\"val_acc : \", correct / all_data)\n",
        "    if correct / all_data > best_acc:\n",
        "      best_acc = correct / all_data\n",
        "      best_model_wts = model7.state_dict()"
      ]
    },
    {
      "cell_type": "markdown",
      "metadata": {
        "id": "NrIIGs-icGNn"
      },
      "source": [
        "## Case 8\n",
        "- BottleNeck 구조를 만들겠다."
      ]
    },
    {
      "cell_type": "code",
      "execution_count": null,
      "metadata": {
        "id": "-5uZtzl4cGNn"
      },
      "outputs": [],
      "source": [
        "class Case8Model(nn.Module):\n",
        "    #Cifar100 Shape: [Batch, Channel(3), 32, 32]\n",
        "    def __init__(self, in_channels, num_classes):\n",
        "        super(Case8Model, self).__init__()\n",
        "        \"\"\"Base Model\"\"\"\n",
        "        self.conv1_0 = nn.Conv2d(3, 6, 3, 1, 1)\n",
        "        self.pool1 = nn.MaxPool2d(2, 2)\n",
        "        self.batchNorm1_0 = nn.BatchNorm2d(6)\n",
        "        #6 * (16 * 16)\n",
        "\n",
        "        self.conv1_1 = nn.Conv2d(6, 6, 3, 1, 1)\n",
        "        self.batchNorm1_1 = nn.BatchNorm2d(6)\n",
        "        self.conv1_2 = nn.Conv2d(6, 6, 3, 1, 1)\n",
        "        self.batchNorm1_2 = nn.BatchNorm2d(6)\n",
        "        self.conv1_3 = nn.Conv2d(6, 6, 3, 1, 1)\n",
        "        self.batchNorm1_3 = nn.BatchNorm2d(6)\n",
        "        self.conv1_4 = nn.Conv2d(6, 6, 3, 1, 1)\n",
        "        self.batchNorm1_4 = nn.BatchNorm2d(6)\n",
        "        #6 * (16 * 16)\n",
        "        \n",
        "        self.conv1_5 = nn.Conv2d(6, 6, 3, 1, 1)\n",
        "        self.batchNorm1_5 = nn.BatchNorm2d(6)\n",
        "        self.conv1_6 = nn.Conv2d(6, 6, 3, 1, 1)\n",
        "        self.batchNorm1_6 = nn.BatchNorm2d(6)\n",
        "        self.conv1_7 = nn.Conv2d(6, 6, 3, 1, 1)\n",
        "        self.batchNorm1_7 = nn.BatchNorm2d(6)\n",
        "        self.conv1_8 = nn.Conv2d(6, 6, 3, 1, 1)\n",
        "        self.batchNorm1_8 = nn.BatchNorm2d(6)\n",
        "        #6 * (16 * 16)\n",
        "\n",
        "        self.conv1_9 = nn.Conv2d(6, 6, 3, 1, 1)\n",
        "        self.batchNorm1_9 = nn.BatchNorm2d(6)\n",
        "        self.conv1_10 = nn.Conv2d(6, 6, 3, 1, 1)\n",
        "        self.batchNorm1_10 = nn.BatchNorm2d(6)\n",
        "        self.conv1_11 = nn.Conv2d(6, 6, 3, 1, 1)\n",
        "        self.batchNorm1_11 = nn.BatchNorm2d(6)\n",
        "        self.conv1_12 = nn.Conv2d(6, 6, 3, 1, 1)\n",
        "        self.batchNorm1_12 = nn.BatchNorm2d(6)\n",
        "        #6 * (16 * 16)\n",
        "\n",
        "        self.conv2_0 = nn.Conv2d(6, 16, 3, 1, 1)\n",
        "        self.pool2 = nn.MaxPool2d(2, 2)\n",
        "        self.batchNorm2_0 = nn.BatchNorm2d(16)\n",
        "        #16 * (8 * 8)\n",
        "\n",
        "        self.conv2_1 = nn.Conv2d(16, 16, 3, 1, 1)\n",
        "        self.batchNorm2_1 = nn.BatchNorm2d(16)\n",
        "        self.conv2_2 = nn.Conv2d(16, 16, 3, 1, 1)\n",
        "        self.batchNorm2_2 = nn.BatchNorm2d(16)\n",
        "        self.conv2_3 = nn.Conv2d(16, 16, 3, 1, 1)\n",
        "        self.batchNorm2_3 = nn.BatchNorm2d(16)\n",
        "        self.conv2_4 = nn.Conv2d(16, 16, 3, 1, 1)\n",
        "        self.batchNorm2_4 = nn.BatchNorm2d(16)\n",
        "        #16 * (8 * 8)\n",
        "\n",
        "        self.conv2_5 = nn.Conv2d(16, 16, 3, 1, 1)\n",
        "        self.batchNorm2_5 = nn.BatchNorm2d(16)\n",
        "        self.conv2_6 = nn.Conv2d(16, 16, 3, 1, 1)\n",
        "        self.batchNorm2_6 = nn.BatchNorm2d(16)\n",
        "        self.conv2_7 = nn.Conv2d(16, 16, 3, 1, 1)\n",
        "        self.batchNorm2_7 = nn.BatchNorm2d(16)\n",
        "        self.conv2_8 = nn.Conv2d(16, 16, 3, 1, 1)\n",
        "        self.batchNorm2_8 = nn.BatchNorm2d(16)\n",
        "        #16 * (8 * 8)\n",
        "\n",
        "        self.conv2_9 = nn.Conv2d(16, 16, 3, 1, 1)\n",
        "        self.batchNorm2_9 = nn.BatchNorm2d(16)\n",
        "        self.conv2_10 = nn.Conv2d(16, 16, 3, 1, 1)\n",
        "        self.batchNorm2_10 = nn.BatchNorm2d(16)\n",
        "        self.conv2_11 = nn.Conv2d(16, 16, 3, 1, 1)\n",
        "        self.batchNorm2_11 = nn.BatchNorm2d(16)\n",
        "        self.conv2_12 = nn.Conv2d(16, 16, 3, 1, 1)\n",
        "        self.batchNorm2_12 = nn.BatchNorm2d(16)\n",
        "        #16 * (8 * 8)\n",
        "\n",
        "\n",
        "        self.conv3_0 = nn.Conv2d(16, 32, 3, 1, 1)\n",
        "        self.pool3 = nn.MaxPool2d(2, 2)\n",
        "        self.batchNorm3_0 = nn.BatchNorm2d(32)\n",
        "        #32 * (4 * 4)\n",
        "\n",
        "        self.conv3_1 = nn.Conv2d(32, 32, 3, 1, 1)\n",
        "        self.batchNorm3_1 = nn.BatchNorm2d(32)\n",
        "        self.conv3_2 = nn.Conv2d(32, 32, 3, 1, 1)\n",
        "        self.batchNorm3_2 = nn.BatchNorm2d(32)\n",
        "        self.conv3_3 = nn.Conv2d(32, 32, 3, 1, 1)\n",
        "        self.batchNorm3_3 = nn.BatchNorm2d(32)\n",
        "        self.conv3_4 = nn.Conv2d(32, 32, 3, 1, 1)\n",
        "        self.batchNorm3_4 = nn.BatchNorm2d(32)\n",
        "        #32 * (4 * 4)\n",
        "\n",
        "        self.conv3_5 = nn.Conv2d(32, 32, 3, 1, 1)\n",
        "        self.batchNorm3_5 = nn.BatchNorm2d(32)\n",
        "        self.conv3_6 = nn.Conv2d(32, 32, 3, 1, 1)\n",
        "        self.batchNorm3_6 = nn.BatchNorm2d(32)\n",
        "        self.conv3_7 = nn.Conv2d(32, 32, 3, 1, 1)\n",
        "        self.batchNorm3_7 = nn.BatchNorm2d(32)\n",
        "        self.conv3_8 = nn.Conv2d(32, 32, 3, 1, 1)\n",
        "        self.batchNorm3_8 = nn.BatchNorm2d(32)\n",
        "        #32 * (4 * 4)\n",
        "\n",
        "        self.conv3_9 = nn.Conv2d(32, 32, 3, 1, 1)\n",
        "        self.batchNorm3_9 = nn.BatchNorm2d(32)\n",
        "        self.conv3_10 = nn.Conv2d(32, 32, 3, 1, 1)\n",
        "        self.batchNorm3_10 = nn.BatchNorm2d(32)\n",
        "        self.conv3_11 = nn.Conv2d(32, 32, 3, 1, 1)\n",
        "        self.batchNorm3_11 = nn.BatchNorm2d(32)\n",
        "        self.conv3_12 = nn.Conv2d(32, 32, 3, 1, 1)\n",
        "        self.batchNorm3_12 = nn.BatchNorm2d(32)\n",
        "        #32 * (4 * 4)\n",
        "\n",
        "        self.fc1 = nn.Linear(512, 256)\n",
        "        self.batchNormL_1 = nn.BatchNorm1d(256)\n",
        "        self.fc2 = nn.Linear(256, 256)\n",
        "        self.batchNormL_2 = nn.BatchNorm1d(256)\n",
        "        self.fc3 = nn.Linear(256, 128)\n",
        "        self.batchNormL_3 = nn.BatchNorm1d(128)\n",
        "        self.fc4 = nn.Linear(128, 128)\n",
        "        self.batchNormL_4 = nn.BatchNorm1d(128)\n",
        "        self.fc5 = nn.Linear(128, 100)\n",
        "        \n",
        "        self.dropout = nn.Dropout(0.2)        \n",
        "\n",
        "    def forward(self, x):\n",
        "        \"\"\"Base Model\"\"\"\n",
        "        x1_0 = self.batchNorm1_0(self.pool1(F.relu(self.conv1_0(x))))\n",
        "        \n",
        "        x1_1 = self.batchNorm1_1(F.relu(self.conv1_1(x1_0)))\n",
        "        x1_2 = self.batchNorm1_2(F.relu(self.conv1_2(x1_1)) + x1_0)\n",
        "        x1_3 = self.batchNorm1_3(F.relu(self.conv1_3(x1_2)) + x1_0 + x1_1)\n",
        "        x1_4 = self.batchNorm1_4(F.relu(self.conv1_4(x1_3)) + x1_0 + x1_1 + x1_2)\n",
        "\n",
        "        x1_5 = self.batchNorm1_1(F.relu(self.conv1_5(x1_0)))\n",
        "        x1_6 = self.batchNorm1_2(F.relu(self.conv1_6(x1_5)) + x1_0)\n",
        "        x1_7 = self.batchNorm1_3(F.relu(self.conv1_7(x1_6)) + x1_0 + x1_5)\n",
        "        x1_8 = self.batchNorm1_4(F.relu(self.conv1_8(x1_7)) + x1_0 + x1_5 + x1_6)\n",
        "\n",
        "        x1_9 = self.batchNorm1_1(F.relu(self.conv1_9(x1_0)))\n",
        "        x1_10 = self.batchNorm1_2(F.relu(self.conv1_10(x1_9)) + x1_0)\n",
        "        x1_11 = self.batchNorm1_3(F.relu(self.conv1_11(x1_10)) + x1_0 + x1_9)\n",
        "        x1_12 = self.batchNorm1_4(F.relu(self.conv1_12(x1_11)) + x1_0 + x1_9 + x1_10)\n",
        "\n",
        "        x1 = x1_4 + x1_8 + x1_12\n",
        "        x2_0 = self.batchNorm2_0(self.pool2(F.relu(self.conv2_0(x1))))\n",
        "\n",
        "        x2_1 = self.batchNorm2_1(F.relu(self.conv2_1(x2_0)))\n",
        "        x2_2 = self.batchNorm2_2(F.relu(self.conv2_2(x2_1)) + x2_0)\n",
        "        x2_3 = self.batchNorm2_3(F.relu(self.conv2_3(x2_2)) + x2_0 + x2_1)\n",
        "        x2_4 = self.batchNorm2_4(F.relu(self.conv2_4(x2_3)) + x2_0 + x2_1 + x2_2)\n",
        "\n",
        "        x2_5 = self.batchNorm2_5(F.relu(self.conv2_1(x2_0)))\n",
        "        x2_6 = self.batchNorm2_6(F.relu(self.conv2_2(x2_5)) + x2_0)\n",
        "        x2_7 = self.batchNorm2_7(F.relu(self.conv2_3(x2_6)) + x2_0 + x2_5)\n",
        "        x2_8 = self.batchNorm2_8(F.relu(self.conv2_4(x2_7)) + x2_0 + x2_5 + x2_6)\n",
        "\n",
        "        x2_9 = self.batchNorm2_9(F.relu(self.conv2_1(x2_0)))\n",
        "        x2_10 = self.batchNorm2_10(F.relu(self.conv2_2(x2_9)) + x2_0)\n",
        "        x2_11 = self.batchNorm2_11(F.relu(self.conv2_3(x2_10)) + x2_0 + x2_9)\n",
        "        x2_12 = self.batchNorm2_12(F.relu(self.conv2_4(x2_11)) + x2_0 + x2_9 + x2_10)\n",
        "\n",
        "        x2 = x2_4 + x2_8 + x2_12\n",
        "        x3_0 = self.batchNorm3_0(self.pool3(F.relu(self.conv3_0(x2))))\n",
        "\n",
        "        x3_1 = self.batchNorm3_1(F.relu(self.conv3_1(x3_0)))\n",
        "        x3_2 = self.batchNorm3_2(F.relu(self.conv3_2(x3_1)) + x3_0)\n",
        "        x3_3 = self.batchNorm3_3(F.relu(self.conv3_3(x3_2)) + x3_0 + x3_1)\n",
        "        x3_4 = self.batchNorm3_4(F.relu(self.conv3_4(x3_3)) + x3_0 + x3_1 + x3_2)\n",
        "\n",
        "        x3_5 = self.batchNorm3_5(F.relu(self.conv3_1(x3_0)))\n",
        "        x3_6 = self.batchNorm3_6(F.relu(self.conv3_2(x3_5)) + x3_0)\n",
        "        x3_7 = self.batchNorm3_7(F.relu(self.conv3_3(x3_6)) + x3_0 + x3_5)\n",
        "        x3_8 = self.batchNorm3_8(F.relu(self.conv3_4(x3_7)) + x3_0 + x3_5 + x3_6)\n",
        "\n",
        "        x3_9 = self.batchNorm3_9(F.relu(self.conv3_1(x3_0)))\n",
        "        x3_10 = self.batchNorm3_10(F.relu(self.conv3_2(x3_9)) + x3_0)\n",
        "        x3_11 = self.batchNorm3_11(F.relu(self.conv3_3(x3_10)) + x3_0 + x3_9)\n",
        "        x3_12 = self.batchNorm3_12(F.relu(self.conv3_4(x3_11)) + x3_0 + x3_9 + x3_10)\n",
        "        \n",
        "        x4 = x3_4 + x3_8 + x3_12\n",
        "\n",
        "        x = torch.flatten(x4, 1) # flatten all dimensions except batch\n",
        "        x = self.dropout(x)\n",
        "        x = self.batchNormL_1(F.relu(self.fc1(x)))\n",
        "        x = self.dropout(x)\n",
        "        x = self.batchNormL_2(F.relu(self.fc2(x)))\n",
        "        x = self.dropout(x)\n",
        "        x = self.batchNormL_3(F.relu(self.fc3(x)))\n",
        "        x = self.dropout(x)\n",
        "        x = self.batchNormL_4(F.relu(self.fc4(x)))\n",
        "        x = self.dropout(x)\n",
        "        x = self.fc5(x)\n",
        "        return x\n",
        "\n",
        "model8 = Case8Model(3, 100).to(device)\n",
        "optimizer = optim.SGD(model8.parameters(), momentum=0.9, nesterov=True, lr=0.1)\n"
      ]
    },
    {
      "cell_type": "code",
      "execution_count": null,
      "metadata": {
        "id": "mTrAOe7kcGNn",
        "outputId": "eb215de8-fb61-4935-cfc1-db579f150621"
      },
      "outputs": [
        {
          "name": "stdout",
          "output_type": "stream",
          "text": [
            "train epoch: 1----------------\n"
          ]
        },
        {
          "name": "stderr",
          "output_type": "stream",
          "text": [
            "100%|██████████| 196/196 [01:48<00:00,  1.81it/s]\n"
          ]
        },
        {
          "name": "stdout",
          "output_type": "stream",
          "text": [
            "\n",
            "train_loss :  3.940081620702938\n",
            "val_acc :  0.1493\n",
            "train epoch: 2----------------\n"
          ]
        },
        {
          "name": "stderr",
          "output_type": "stream",
          "text": [
            "100%|██████████| 196/196 [01:36<00:00,  2.02it/s]\n"
          ]
        },
        {
          "name": "stdout",
          "output_type": "stream",
          "text": [
            "\n",
            "train_loss :  3.4054188253928204\n",
            "val_acc :  0.2157\n",
            "train epoch: 3----------------\n"
          ]
        },
        {
          "name": "stderr",
          "output_type": "stream",
          "text": [
            "100%|██████████| 196/196 [01:37<00:00,  2.02it/s]\n"
          ]
        },
        {
          "name": "stdout",
          "output_type": "stream",
          "text": [
            "\n",
            "train_loss :  3.132105849227127\n",
            "val_acc :  0.2603\n",
            "train epoch: 4----------------\n"
          ]
        },
        {
          "name": "stderr",
          "output_type": "stream",
          "text": [
            "100%|██████████| 196/196 [01:35<00:00,  2.05it/s]\n"
          ]
        },
        {
          "name": "stdout",
          "output_type": "stream",
          "text": [
            "\n",
            "train_loss :  2.932823749221101\n",
            "val_acc :  0.3011\n",
            "train epoch: 5----------------\n"
          ]
        },
        {
          "name": "stderr",
          "output_type": "stream",
          "text": [
            "100%|██████████| 196/196 [01:37<00:00,  2.00it/s]\n"
          ]
        },
        {
          "name": "stdout",
          "output_type": "stream",
          "text": [
            "\n",
            "train_loss :  2.7736418222894472\n",
            "val_acc :  0.3208\n",
            "train epoch: 6----------------\n"
          ]
        },
        {
          "name": "stderr",
          "output_type": "stream",
          "text": [
            "100%|██████████| 196/196 [01:37<00:00,  2.02it/s]\n"
          ]
        },
        {
          "name": "stdout",
          "output_type": "stream",
          "text": [
            "\n",
            "train_loss :  2.644396791652757\n",
            "val_acc :  0.3406\n",
            "train epoch: 7----------------\n"
          ]
        },
        {
          "name": "stderr",
          "output_type": "stream",
          "text": [
            "100%|██████████| 196/196 [01:35<00:00,  2.06it/s]\n"
          ]
        },
        {
          "name": "stdout",
          "output_type": "stream",
          "text": [
            "\n",
            "train_loss :  2.5455608039486166\n",
            "val_acc :  0.351\n",
            "train epoch: 8----------------\n"
          ]
        },
        {
          "name": "stderr",
          "output_type": "stream",
          "text": [
            "100%|██████████| 196/196 [01:35<00:00,  2.06it/s]\n"
          ]
        },
        {
          "name": "stdout",
          "output_type": "stream",
          "text": [
            "\n",
            "train_loss :  2.456267210902\n",
            "val_acc :  0.3544\n",
            "train epoch: 9----------------\n"
          ]
        },
        {
          "name": "stderr",
          "output_type": "stream",
          "text": [
            "100%|██████████| 196/196 [01:35<00:00,  2.05it/s]\n"
          ]
        },
        {
          "name": "stdout",
          "output_type": "stream",
          "text": [
            "\n",
            "train_loss :  2.384217971441697\n",
            "val_acc :  0.3709\n",
            "train epoch: 10----------------\n"
          ]
        },
        {
          "name": "stderr",
          "output_type": "stream",
          "text": [
            "100%|██████████| 196/196 [01:36<00:00,  2.04it/s]\n"
          ]
        },
        {
          "name": "stdout",
          "output_type": "stream",
          "text": [
            "\n",
            "train_loss :  2.328522525271591\n",
            "val_acc :  0.3834\n",
            "train epoch: 11----------------\n"
          ]
        },
        {
          "name": "stderr",
          "output_type": "stream",
          "text": [
            "100%|██████████| 196/196 [01:48<00:00,  1.80it/s]\n"
          ]
        },
        {
          "name": "stdout",
          "output_type": "stream",
          "text": [
            "\n",
            "train_loss :  2.2693341076374054\n",
            "val_acc :  0.3874\n",
            "train epoch: 12----------------\n"
          ]
        },
        {
          "name": "stderr",
          "output_type": "stream",
          "text": [
            "100%|██████████| 196/196 [03:42<00:00,  1.13s/it]\n"
          ]
        },
        {
          "name": "stdout",
          "output_type": "stream",
          "text": [
            "\n",
            "train_loss :  2.22080831016813\n",
            "val_acc :  0.3939\n",
            "train epoch: 13----------------\n"
          ]
        },
        {
          "name": "stderr",
          "output_type": "stream",
          "text": [
            "100%|██████████| 196/196 [03:45<00:00,  1.15s/it]\n"
          ]
        },
        {
          "name": "stdout",
          "output_type": "stream",
          "text": [
            "\n",
            "train_loss :  2.177044711550888\n",
            "val_acc :  0.3975\n",
            "train epoch: 14----------------\n"
          ]
        },
        {
          "name": "stderr",
          "output_type": "stream",
          "text": [
            "100%|██████████| 196/196 [17:56<00:00,  5.49s/it]   \n"
          ]
        },
        {
          "name": "stdout",
          "output_type": "stream",
          "text": [
            "\n",
            "train_loss :  2.1406194038537083\n",
            "val_acc :  0.4012\n",
            "train epoch: 15----------------\n"
          ]
        },
        {
          "name": "stderr",
          "output_type": "stream",
          "text": [
            "100%|██████████| 196/196 [01:28<00:00,  2.22it/s]\n"
          ]
        },
        {
          "name": "stdout",
          "output_type": "stream",
          "text": [
            "\n",
            "train_loss :  2.1007614585818075\n",
            "val_acc :  0.4145\n",
            "train epoch: 16----------------\n"
          ]
        },
        {
          "name": "stderr",
          "output_type": "stream",
          "text": [
            "100%|██████████| 196/196 [01:22<00:00,  2.38it/s]\n"
          ]
        },
        {
          "name": "stdout",
          "output_type": "stream",
          "text": [
            "\n",
            "train_loss :  2.063572115435892\n",
            "val_acc :  0.4074\n",
            "train epoch: 17----------------\n"
          ]
        },
        {
          "name": "stderr",
          "output_type": "stream",
          "text": [
            "100%|██████████| 196/196 [01:28<00:00,  2.22it/s]\n"
          ]
        },
        {
          "name": "stdout",
          "output_type": "stream",
          "text": [
            "\n",
            "train_loss :  2.0305285405139535\n",
            "val_acc :  0.4045\n",
            "train epoch: 18----------------\n"
          ]
        },
        {
          "name": "stderr",
          "output_type": "stream",
          "text": [
            "100%|██████████| 196/196 [01:22<00:00,  2.37it/s]\n"
          ]
        },
        {
          "name": "stdout",
          "output_type": "stream",
          "text": [
            "\n",
            "train_loss :  1.999475038781458\n",
            "val_acc :  0.4046\n",
            "train epoch: 19----------------\n"
          ]
        },
        {
          "name": "stderr",
          "output_type": "stream",
          "text": [
            "100%|██████████| 196/196 [01:20<00:00,  2.45it/s]\n"
          ]
        },
        {
          "name": "stdout",
          "output_type": "stream",
          "text": [
            "\n",
            "train_loss :  1.9626066459684957\n",
            "val_acc :  0.4176\n",
            "train epoch: 20----------------\n"
          ]
        },
        {
          "name": "stderr",
          "output_type": "stream",
          "text": [
            "100%|██████████| 196/196 [01:21<00:00,  2.41it/s]\n"
          ]
        },
        {
          "name": "stdout",
          "output_type": "stream",
          "text": [
            "\n",
            "train_loss :  1.941057058621426\n",
            "val_acc :  0.4161\n",
            "train epoch: 21----------------\n"
          ]
        },
        {
          "name": "stderr",
          "output_type": "stream",
          "text": [
            "100%|██████████| 196/196 [01:19<00:00,  2.46it/s]\n"
          ]
        },
        {
          "name": "stdout",
          "output_type": "stream",
          "text": [
            "\n",
            "train_loss :  1.9152171994958604\n",
            "val_acc :  0.4158\n",
            "train epoch: 22----------------\n"
          ]
        },
        {
          "name": "stderr",
          "output_type": "stream",
          "text": [
            "100%|██████████| 196/196 [01:18<00:00,  2.48it/s]\n"
          ]
        },
        {
          "name": "stdout",
          "output_type": "stream",
          "text": [
            "\n",
            "train_loss :  1.889234109800689\n",
            "val_acc :  0.4207\n",
            "train epoch: 23----------------\n"
          ]
        },
        {
          "name": "stderr",
          "output_type": "stream",
          "text": [
            "100%|██████████| 196/196 [01:22<00:00,  2.36it/s]\n"
          ]
        },
        {
          "name": "stdout",
          "output_type": "stream",
          "text": [
            "\n",
            "train_loss :  1.873738379502783\n",
            "val_acc :  0.413\n",
            "train epoch: 24----------------\n"
          ]
        },
        {
          "name": "stderr",
          "output_type": "stream",
          "text": [
            "100%|██████████| 196/196 [01:23<00:00,  2.34it/s]\n"
          ]
        },
        {
          "name": "stdout",
          "output_type": "stream",
          "text": [
            "\n",
            "train_loss :  1.8458614264215742\n",
            "val_acc :  0.4249\n",
            "train epoch: 25----------------\n"
          ]
        },
        {
          "name": "stderr",
          "output_type": "stream",
          "text": [
            "100%|██████████| 196/196 [01:21<00:00,  2.40it/s]\n"
          ]
        },
        {
          "name": "stdout",
          "output_type": "stream",
          "text": [
            "\n",
            "train_loss :  1.8219819111483437\n",
            "val_acc :  0.4211\n",
            "train epoch: 26----------------\n"
          ]
        },
        {
          "name": "stderr",
          "output_type": "stream",
          "text": [
            "100%|██████████| 196/196 [01:21<00:00,  2.41it/s]\n"
          ]
        },
        {
          "name": "stdout",
          "output_type": "stream",
          "text": [
            "\n",
            "train_loss :  1.8016627449162153\n",
            "val_acc :  0.4254\n",
            "train epoch: 27----------------\n"
          ]
        },
        {
          "name": "stderr",
          "output_type": "stream",
          "text": [
            "100%|██████████| 196/196 [01:21<00:00,  2.40it/s]\n"
          ]
        },
        {
          "name": "stdout",
          "output_type": "stream",
          "text": [
            "\n",
            "train_loss :  1.7806600806664448\n",
            "val_acc :  0.4321\n",
            "train epoch: 28----------------\n"
          ]
        },
        {
          "name": "stderr",
          "output_type": "stream",
          "text": [
            "100%|██████████| 196/196 [01:22<00:00,  2.37it/s]\n"
          ]
        },
        {
          "name": "stdout",
          "output_type": "stream",
          "text": [
            "\n",
            "train_loss :  1.766119976432956\n",
            "val_acc :  0.4251\n",
            "train epoch: 29----------------\n"
          ]
        },
        {
          "name": "stderr",
          "output_type": "stream",
          "text": [
            "100%|██████████| 196/196 [01:22<00:00,  2.38it/s]\n"
          ]
        },
        {
          "name": "stdout",
          "output_type": "stream",
          "text": [
            "\n",
            "train_loss :  1.7461169276918684\n",
            "val_acc :  0.4318\n",
            "train epoch: 30----------------\n"
          ]
        },
        {
          "name": "stderr",
          "output_type": "stream",
          "text": [
            "100%|██████████| 196/196 [01:25<00:00,  2.30it/s]\n"
          ]
        },
        {
          "name": "stdout",
          "output_type": "stream",
          "text": [
            "\n",
            "train_loss :  1.7264555181775774\n",
            "val_acc :  0.4243\n",
            "train epoch: 31----------------\n"
          ]
        },
        {
          "name": "stderr",
          "output_type": "stream",
          "text": [
            "100%|██████████| 196/196 [01:22<00:00,  2.39it/s]\n"
          ]
        },
        {
          "name": "stdout",
          "output_type": "stream",
          "text": [
            "\n",
            "train_loss :  1.713503703170893\n",
            "val_acc :  0.4261\n",
            "train epoch: 32----------------\n"
          ]
        },
        {
          "name": "stderr",
          "output_type": "stream",
          "text": [
            "100%|██████████| 196/196 [01:22<00:00,  2.37it/s]\n"
          ]
        },
        {
          "name": "stdout",
          "output_type": "stream",
          "text": [
            "\n",
            "train_loss :  1.6842712966763242\n",
            "val_acc :  0.4245\n",
            "train epoch: 33----------------\n"
          ]
        },
        {
          "name": "stderr",
          "output_type": "stream",
          "text": [
            "100%|██████████| 196/196 [01:24<00:00,  2.31it/s]\n"
          ]
        },
        {
          "name": "stdout",
          "output_type": "stream",
          "text": [
            "\n",
            "train_loss :  1.6755872977023223\n",
            "val_acc :  0.4279\n",
            "train epoch: 34----------------\n"
          ]
        },
        {
          "name": "stderr",
          "output_type": "stream",
          "text": [
            "100%|██████████| 196/196 [01:55<00:00,  1.70it/s]\n"
          ]
        },
        {
          "name": "stdout",
          "output_type": "stream",
          "text": [
            "\n",
            "train_loss :  1.6642998894866632\n",
            "val_acc :  0.4272\n",
            "train epoch: 35----------------\n"
          ]
        },
        {
          "name": "stderr",
          "output_type": "stream",
          "text": [
            "100%|██████████| 196/196 [01:28<00:00,  2.22it/s]\n"
          ]
        },
        {
          "name": "stdout",
          "output_type": "stream",
          "text": [
            "\n",
            "train_loss :  1.6506329330862786\n",
            "val_acc :  0.4329\n",
            "train epoch: 36----------------\n"
          ]
        },
        {
          "name": "stderr",
          "output_type": "stream",
          "text": [
            "100%|██████████| 196/196 [01:28<00:00,  2.22it/s]\n"
          ]
        },
        {
          "name": "stdout",
          "output_type": "stream",
          "text": [
            "\n",
            "train_loss :  1.6324273834423142\n",
            "val_acc :  0.4371\n",
            "train epoch: 37----------------\n"
          ]
        },
        {
          "name": "stderr",
          "output_type": "stream",
          "text": [
            "100%|██████████| 196/196 [01:28<00:00,  2.21it/s]\n"
          ]
        },
        {
          "name": "stdout",
          "output_type": "stream",
          "text": [
            "\n",
            "train_loss :  1.6179396260757835\n",
            "val_acc :  0.4352\n",
            "train epoch: 38----------------\n"
          ]
        },
        {
          "name": "stderr",
          "output_type": "stream",
          "text": [
            "100%|██████████| 196/196 [01:26<00:00,  2.26it/s]\n"
          ]
        },
        {
          "name": "stdout",
          "output_type": "stream",
          "text": [
            "\n",
            "train_loss :  1.6113295001643044\n",
            "val_acc :  0.44\n",
            "train epoch: 39----------------\n"
          ]
        },
        {
          "name": "stderr",
          "output_type": "stream",
          "text": [
            "100%|██████████| 196/196 [01:24<00:00,  2.32it/s]\n"
          ]
        },
        {
          "name": "stdout",
          "output_type": "stream",
          "text": [
            "\n",
            "train_loss :  1.5909426765782493\n",
            "val_acc :  0.4332\n",
            "train epoch: 40----------------\n"
          ]
        },
        {
          "name": "stderr",
          "output_type": "stream",
          "text": [
            "100%|██████████| 196/196 [01:24<00:00,  2.31it/s]\n"
          ]
        },
        {
          "name": "stdout",
          "output_type": "stream",
          "text": [
            "\n",
            "train_loss :  1.5869165330517048\n",
            "val_acc :  0.4309\n",
            "train epoch: 41----------------\n"
          ]
        },
        {
          "name": "stderr",
          "output_type": "stream",
          "text": [
            "100%|██████████| 196/196 [01:24<00:00,  2.33it/s]\n"
          ]
        },
        {
          "name": "stdout",
          "output_type": "stream",
          "text": [
            "\n",
            "train_loss :  1.5825025202060232\n",
            "val_acc :  0.4379\n",
            "train epoch: 42----------------\n"
          ]
        },
        {
          "name": "stderr",
          "output_type": "stream",
          "text": [
            "100%|██████████| 196/196 [01:24<00:00,  2.31it/s]\n"
          ]
        },
        {
          "name": "stdout",
          "output_type": "stream",
          "text": [
            "\n",
            "train_loss :  1.562180974653789\n",
            "val_acc :  0.4335\n",
            "train epoch: 43----------------\n"
          ]
        },
        {
          "name": "stderr",
          "output_type": "stream",
          "text": [
            "100%|██████████| 196/196 [01:24<00:00,  2.32it/s]\n"
          ]
        },
        {
          "name": "stdout",
          "output_type": "stream",
          "text": [
            "\n",
            "train_loss :  1.5446532958624315\n",
            "val_acc :  0.4389\n",
            "train epoch: 44----------------\n"
          ]
        },
        {
          "name": "stderr",
          "output_type": "stream",
          "text": [
            "100%|██████████| 196/196 [01:25<00:00,  2.30it/s]\n"
          ]
        },
        {
          "name": "stdout",
          "output_type": "stream",
          "text": [
            "\n",
            "train_loss :  1.541101563949974\n",
            "val_acc :  0.433\n",
            "train epoch: 45----------------\n"
          ]
        },
        {
          "name": "stderr",
          "output_type": "stream",
          "text": [
            "100%|██████████| 196/196 [01:25<00:00,  2.29it/s]\n"
          ]
        },
        {
          "name": "stdout",
          "output_type": "stream",
          "text": [
            "\n",
            "train_loss :  1.533865446947059\n",
            "val_acc :  0.4359\n",
            "train epoch: 46----------------\n"
          ]
        },
        {
          "name": "stderr",
          "output_type": "stream",
          "text": [
            "100%|██████████| 196/196 [01:25<00:00,  2.29it/s]\n"
          ]
        },
        {
          "name": "stdout",
          "output_type": "stream",
          "text": [
            "\n",
            "train_loss :  1.5244523755141668\n",
            "val_acc :  0.4314\n",
            "train epoch: 47----------------\n"
          ]
        },
        {
          "name": "stderr",
          "output_type": "stream",
          "text": [
            "100%|██████████| 196/196 [01:25<00:00,  2.29it/s]\n"
          ]
        },
        {
          "name": "stdout",
          "output_type": "stream",
          "text": [
            "\n",
            "train_loss :  1.5140115880236333\n",
            "val_acc :  0.4364\n",
            "train epoch: 48----------------\n"
          ]
        },
        {
          "name": "stderr",
          "output_type": "stream",
          "text": [
            "100%|██████████| 196/196 [01:25<00:00,  2.29it/s]\n"
          ]
        },
        {
          "name": "stdout",
          "output_type": "stream",
          "text": [
            "\n",
            "train_loss :  1.4969278513168802\n",
            "val_acc :  0.4344\n",
            "train epoch: 49----------------\n"
          ]
        },
        {
          "name": "stderr",
          "output_type": "stream",
          "text": [
            "100%|██████████| 196/196 [01:25<00:00,  2.29it/s]\n"
          ]
        },
        {
          "name": "stdout",
          "output_type": "stream",
          "text": [
            "\n",
            "train_loss :  1.4873568829225035\n",
            "val_acc :  0.4345\n",
            "train epoch: 50----------------\n"
          ]
        },
        {
          "name": "stderr",
          "output_type": "stream",
          "text": [
            "100%|██████████| 196/196 [01:25<00:00,  2.28it/s]\n"
          ]
        },
        {
          "name": "stdout",
          "output_type": "stream",
          "text": [
            "\n",
            "train_loss :  1.4789557694172373\n",
            "val_acc :  0.4276\n",
            "train epoch: 51----------------\n"
          ]
        },
        {
          "name": "stderr",
          "output_type": "stream",
          "text": [
            "100%|██████████| 196/196 [01:25<00:00,  2.29it/s]\n"
          ]
        },
        {
          "name": "stdout",
          "output_type": "stream",
          "text": [
            "\n",
            "train_loss :  1.4691907465457916\n",
            "val_acc :  0.4291\n",
            "train epoch: 52----------------\n"
          ]
        },
        {
          "name": "stderr",
          "output_type": "stream",
          "text": [
            "100%|██████████| 196/196 [01:25<00:00,  2.28it/s]\n"
          ]
        },
        {
          "name": "stdout",
          "output_type": "stream",
          "text": [
            "\n",
            "train_loss :  1.4563981051347694\n",
            "val_acc :  0.434\n",
            "train epoch: 53----------------\n"
          ]
        },
        {
          "name": "stderr",
          "output_type": "stream",
          "text": [
            "100%|██████████| 196/196 [01:25<00:00,  2.28it/s]\n"
          ]
        },
        {
          "name": "stdout",
          "output_type": "stream",
          "text": [
            "\n",
            "train_loss :  1.4633850011290337\n",
            "val_acc :  0.4322\n",
            "train epoch: 54----------------\n"
          ]
        },
        {
          "name": "stderr",
          "output_type": "stream",
          "text": [
            "100%|██████████| 196/196 [01:26<00:00,  2.28it/s]\n"
          ]
        },
        {
          "name": "stdout",
          "output_type": "stream",
          "text": [
            "\n",
            "train_loss :  1.444185814687184\n",
            "val_acc :  0.4289\n",
            "train epoch: 55----------------\n"
          ]
        },
        {
          "name": "stderr",
          "output_type": "stream",
          "text": [
            "100%|██████████| 196/196 [01:26<00:00,  2.27it/s]\n"
          ]
        },
        {
          "name": "stdout",
          "output_type": "stream",
          "text": [
            "\n",
            "train_loss :  1.4416473732919108\n",
            "val_acc :  0.4276\n",
            "train epoch: 56----------------\n"
          ]
        },
        {
          "name": "stderr",
          "output_type": "stream",
          "text": [
            "100%|██████████| 196/196 [01:26<00:00,  2.26it/s]\n"
          ]
        },
        {
          "name": "stdout",
          "output_type": "stream",
          "text": [
            "\n",
            "train_loss :  1.4351510393376252\n",
            "val_acc :  0.4335\n",
            "train epoch: 57----------------\n"
          ]
        },
        {
          "name": "stderr",
          "output_type": "stream",
          "text": [
            "100%|██████████| 196/196 [01:27<00:00,  2.25it/s]\n"
          ]
        },
        {
          "name": "stdout",
          "output_type": "stream",
          "text": [
            "\n",
            "train_loss :  1.4198989174803909\n",
            "val_acc :  0.4387\n",
            "train epoch: 58----------------\n"
          ]
        },
        {
          "name": "stderr",
          "output_type": "stream",
          "text": [
            "100%|██████████| 196/196 [01:27<00:00,  2.25it/s]\n"
          ]
        },
        {
          "name": "stdout",
          "output_type": "stream",
          "text": [
            "\n",
            "train_loss :  1.4141125563456087\n",
            "val_acc :  0.4342\n",
            "train epoch: 59----------------\n"
          ]
        },
        {
          "name": "stderr",
          "output_type": "stream",
          "text": [
            "100%|██████████| 196/196 [01:27<00:00,  2.23it/s]\n"
          ]
        },
        {
          "name": "stdout",
          "output_type": "stream",
          "text": [
            "\n",
            "train_loss :  1.4019212187552939\n",
            "val_acc :  0.4312\n",
            "train epoch: 60----------------\n"
          ]
        },
        {
          "name": "stderr",
          "output_type": "stream",
          "text": [
            "100%|██████████| 196/196 [01:27<00:00,  2.24it/s]\n"
          ]
        },
        {
          "name": "stdout",
          "output_type": "stream",
          "text": [
            "\n",
            "train_loss :  1.4149662116352393\n",
            "val_acc :  0.4347\n",
            "train epoch: 61----------------\n"
          ]
        },
        {
          "name": "stderr",
          "output_type": "stream",
          "text": [
            "100%|██████████| 196/196 [01:28<00:00,  2.22it/s]\n"
          ]
        },
        {
          "name": "stdout",
          "output_type": "stream",
          "text": [
            "\n",
            "train_loss :  1.3933264096172489\n",
            "val_acc :  0.4304\n",
            "train epoch: 62----------------\n"
          ]
        },
        {
          "name": "stderr",
          "output_type": "stream",
          "text": [
            "100%|██████████| 196/196 [01:21<00:00,  2.40it/s]\n"
          ]
        },
        {
          "name": "stdout",
          "output_type": "stream",
          "text": [
            "\n",
            "train_loss :  1.3921307848424327\n",
            "val_acc :  0.4353\n",
            "train epoch: 63----------------\n"
          ]
        },
        {
          "name": "stderr",
          "output_type": "stream",
          "text": [
            "100%|██████████| 196/196 [01:19<00:00,  2.47it/s]\n"
          ]
        },
        {
          "name": "stdout",
          "output_type": "stream",
          "text": [
            "\n",
            "train_loss :  1.3793216226052265\n",
            "val_acc :  0.4316\n",
            "train epoch: 64----------------\n"
          ]
        },
        {
          "name": "stderr",
          "output_type": "stream",
          "text": [
            "100%|██████████| 196/196 [01:19<00:00,  2.48it/s]\n"
          ]
        },
        {
          "name": "stdout",
          "output_type": "stream",
          "text": [
            "\n",
            "train_loss :  1.38120009704512\n",
            "val_acc :  0.4301\n",
            "train epoch: 65----------------\n"
          ]
        },
        {
          "name": "stderr",
          "output_type": "stream",
          "text": [
            "100%|██████████| 196/196 [01:19<00:00,  2.46it/s]\n"
          ]
        },
        {
          "name": "stdout",
          "output_type": "stream",
          "text": [
            "\n",
            "train_loss :  1.3680388678093345\n",
            "val_acc :  0.4349\n",
            "train epoch: 66----------------\n"
          ]
        },
        {
          "name": "stderr",
          "output_type": "stream",
          "text": [
            "100%|██████████| 196/196 [01:19<00:00,  2.48it/s]\n"
          ]
        },
        {
          "name": "stdout",
          "output_type": "stream",
          "text": [
            "\n",
            "train_loss :  1.3597342420597465\n",
            "val_acc :  0.4377\n",
            "train epoch: 67----------------\n"
          ]
        },
        {
          "name": "stderr",
          "output_type": "stream",
          "text": [
            "100%|██████████| 196/196 [01:19<00:00,  2.48it/s]\n"
          ]
        },
        {
          "name": "stdout",
          "output_type": "stream",
          "text": [
            "\n",
            "train_loss :  1.3515896213297942\n",
            "val_acc :  0.4292\n",
            "train epoch: 68----------------\n"
          ]
        },
        {
          "name": "stderr",
          "output_type": "stream",
          "text": [
            "100%|██████████| 196/196 [01:18<00:00,  2.50it/s]\n"
          ]
        },
        {
          "name": "stdout",
          "output_type": "stream",
          "text": [
            "\n",
            "train_loss :  1.3456984843526567\n",
            "val_acc :  0.4362\n",
            "train epoch: 69----------------\n"
          ]
        },
        {
          "name": "stderr",
          "output_type": "stream",
          "text": [
            "  8%|▊         | 15/196 [00:09<01:55,  1.56it/s]\n"
          ]
        },
        {
          "ename": "KeyboardInterrupt",
          "evalue": "",
          "output_type": "error",
          "traceback": [
            "\u001b[1;31m---------------------------------------------------------------------------\u001b[0m",
            "\u001b[1;31mKeyboardInterrupt\u001b[0m                         Traceback (most recent call last)",
            "\u001b[1;32mc:\\Users\\PC\\Desktop\\tobigs_assignment\\Vision_Adv\\week8_vision_advanced\\vision_adv.ipynb Cell 25\u001b[0m in \u001b[0;36m1\n\u001b[0;32m     <a href='vscode-notebook-cell:/c%3A/Users/PC/Desktop/tobigs_assignment/Vision_Adv/week8_vision_advanced/vision_adv.ipynb#X33sZmlsZQ%3D%3D?line=11'>12</a>\u001b[0m     loss \u001b[39m=\u001b[39m criterion(output, label)\n\u001b[0;32m     <a href='vscode-notebook-cell:/c%3A/Users/PC/Desktop/tobigs_assignment/Vision_Adv/week8_vision_advanced/vision_adv.ipynb#X33sZmlsZQ%3D%3D?line=12'>13</a>\u001b[0m     running_loss \u001b[39m+\u001b[39m\u001b[39m=\u001b[39m loss\u001b[39m.\u001b[39mitem()\n\u001b[1;32m---> <a href='vscode-notebook-cell:/c%3A/Users/PC/Desktop/tobigs_assignment/Vision_Adv/week8_vision_advanced/vision_adv.ipynb#X33sZmlsZQ%3D%3D?line=13'>14</a>\u001b[0m     loss\u001b[39m.\u001b[39;49mbackward()\n\u001b[0;32m     <a href='vscode-notebook-cell:/c%3A/Users/PC/Desktop/tobigs_assignment/Vision_Adv/week8_vision_advanced/vision_adv.ipynb#X33sZmlsZQ%3D%3D?line=14'>15</a>\u001b[0m     optimizer\u001b[39m.\u001b[39mstep()\n\u001b[0;32m     <a href='vscode-notebook-cell:/c%3A/Users/PC/Desktop/tobigs_assignment/Vision_Adv/week8_vision_advanced/vision_adv.ipynb#X33sZmlsZQ%3D%3D?line=15'>16</a>\u001b[0m correct, all_data \u001b[39m=\u001b[39m \u001b[39m0\u001b[39m,\u001b[39m0\u001b[39m\n",
            "File \u001b[1;32mc:\\Users\\PC\\AppData\\Local\\Programs\\Python\\Python310\\lib\\site-packages\\torch\\_tensor.py:396\u001b[0m, in \u001b[0;36mTensor.backward\u001b[1;34m(self, gradient, retain_graph, create_graph, inputs)\u001b[0m\n\u001b[0;32m    387\u001b[0m \u001b[39mif\u001b[39;00m has_torch_function_unary(\u001b[39mself\u001b[39m):\n\u001b[0;32m    388\u001b[0m     \u001b[39mreturn\u001b[39;00m handle_torch_function(\n\u001b[0;32m    389\u001b[0m         Tensor\u001b[39m.\u001b[39mbackward,\n\u001b[0;32m    390\u001b[0m         (\u001b[39mself\u001b[39m,),\n\u001b[1;32m   (...)\u001b[0m\n\u001b[0;32m    394\u001b[0m         create_graph\u001b[39m=\u001b[39mcreate_graph,\n\u001b[0;32m    395\u001b[0m         inputs\u001b[39m=\u001b[39minputs)\n\u001b[1;32m--> 396\u001b[0m torch\u001b[39m.\u001b[39;49mautograd\u001b[39m.\u001b[39;49mbackward(\u001b[39mself\u001b[39;49m, gradient, retain_graph, create_graph, inputs\u001b[39m=\u001b[39;49minputs)\n",
            "File \u001b[1;32mc:\\Users\\PC\\AppData\\Local\\Programs\\Python\\Python310\\lib\\site-packages\\torch\\autograd\\__init__.py:173\u001b[0m, in \u001b[0;36mbackward\u001b[1;34m(tensors, grad_tensors, retain_graph, create_graph, grad_variables, inputs)\u001b[0m\n\u001b[0;32m    168\u001b[0m     retain_graph \u001b[39m=\u001b[39m create_graph\n\u001b[0;32m    170\u001b[0m \u001b[39m# The reason we repeat same the comment below is that\u001b[39;00m\n\u001b[0;32m    171\u001b[0m \u001b[39m# some Python versions print out the first line of a multi-line function\u001b[39;00m\n\u001b[0;32m    172\u001b[0m \u001b[39m# calls in the traceback and some print out the last line\u001b[39;00m\n\u001b[1;32m--> 173\u001b[0m Variable\u001b[39m.\u001b[39;49m_execution_engine\u001b[39m.\u001b[39;49mrun_backward(  \u001b[39m# Calls into the C++ engine to run the backward pass\u001b[39;49;00m\n\u001b[0;32m    174\u001b[0m     tensors, grad_tensors_, retain_graph, create_graph, inputs,\n\u001b[0;32m    175\u001b[0m     allow_unreachable\u001b[39m=\u001b[39;49m\u001b[39mTrue\u001b[39;49;00m, accumulate_grad\u001b[39m=\u001b[39;49m\u001b[39mTrue\u001b[39;49;00m)\n",
            "\u001b[1;31mKeyboardInterrupt\u001b[0m: "
          ]
        }
      ],
      "source": [
        "for epoch in range(100):\n",
        "    model8.train()\n",
        "    running_loss = 0.0\n",
        "    best_acc = 0.0\n",
        "    best_model_wts = model8.state_dict()\n",
        "    print(f\"train epoch: {epoch+1}----------------\")\n",
        "    for img, label in tqdm(train_loader):\n",
        "        img = img.to(device)\n",
        "        label = label.to(device)\n",
        "        optimizer.zero_grad()\n",
        "        output = model8(img)\n",
        "        loss = criterion(output, label)\n",
        "        running_loss += loss.item()\n",
        "        loss.backward()\n",
        "        optimizer.step()\n",
        "    correct, all_data = 0,0\n",
        "    print(\"\\ntrain_loss : \", running_loss / len(train_loader))\n",
        "    model8.eval()\n",
        "    for img, label in test_loader:\n",
        "        with torch.no_grad():\n",
        "            img = img.to(device)\n",
        "            label = label.to(device)\n",
        "            output = model8(img)\n",
        "\n",
        "            correct += torch.sum(torch.argmax(output, dim=1) == label).item()\n",
        "            all_data += len(label)\n",
        "    print(\"val_acc : \", correct / all_data)\n",
        "    if correct / all_data > best_acc:\n",
        "      best_acc = correct / all_data\n",
        "      best_model_wts = model8.state_dict()"
      ]
    },
    {
      "cell_type": "code",
      "execution_count": 7,
      "metadata": {
        "id": "qtrtmk3PcGNo"
      },
      "outputs": [],
      "source": [
        "class Case9Model(nn.Module):\n",
        "    #Cifar100 Shape: [Batch, Channel(3), 32, 32]\n",
        "    def __init__(self, in_channels, num_classes):\n",
        "        super(Case9Model, self).__init__()\n",
        "        \"\"\"Base Model\"\"\"\n",
        "        self.conv1_0 = nn.Conv2d(3, 64, 3, 1, 1)\n",
        "        self.pool1 = nn.MaxPool2d(2, 2)\n",
        "        self.batchNorm1_0 = nn.BatchNorm2d(64)\n",
        "        #64 * (16 * 16)\n",
        "\n",
        "        self.conv1_1 = nn.Conv2d(64, 64, 3, 1, 1)\n",
        "        self.batchNorm1_1 = nn.BatchNorm2d(64)\n",
        "        self.conv1_2 = nn.Conv2d(64, 64, 3, 1, 1)\n",
        "        self.batchNorm1_2 = nn.BatchNorm2d(64)\n",
        "        self.conv1_3 = nn.Conv2d(64, 64, 3, 1, 1)\n",
        "        self.batchNorm1_3 = nn.BatchNorm2d(64)\n",
        "        self.conv1_4 = nn.Conv2d(64, 64, 3, 1, 1)\n",
        "        self.batchNorm1_4 = nn.BatchNorm2d(64)\n",
        "        #64 * (16 * 16)\n",
        "        \n",
        "        self.conv2_0 = nn.Conv2d(64, 128, 3, 1, 1)\n",
        "        self.pool2 = nn.MaxPool2d(2, 2)\n",
        "        self.batchNorm2_0 = nn.BatchNorm2d(128)\n",
        "        #128 * (8 * 8)\n",
        "\n",
        "        self.conv2_1 = nn.Conv2d(128, 128, 3, 1, 1)\n",
        "        self.batchNorm2_1 = nn.BatchNorm2d(128)\n",
        "        self.conv2_2 = nn.Conv2d(128, 128, 3, 1, 1)\n",
        "        self.batchNorm2_2 = nn.BatchNorm2d(128)\n",
        "        self.conv2_3 = nn.Conv2d(128, 128, 3, 1, 1)\n",
        "        self.batchNorm2_3 = nn.BatchNorm2d(128)\n",
        "        self.conv2_4 = nn.Conv2d(128, 128, 3, 1, 1)\n",
        "        self.batchNorm2_4 = nn.BatchNorm2d(128)\n",
        "        #128 * (8 * 8)\n",
        "        \n",
        "        self.conv3_0 = nn.Conv2d(128, 256, 3, 1, 1)\n",
        "        self.pool3 = nn.MaxPool2d(2, 2)\n",
        "        self.batchNorm3_0 = nn.BatchNorm2d(256)\n",
        "        #256 * (4 * 4)\n",
        "\n",
        "        self.conv3_1 = nn.Conv2d(256, 256, 3, 1, 1)\n",
        "        self.batchNorm3_1 = nn.BatchNorm2d(256)\n",
        "        self.conv3_2 = nn.Conv2d(256, 256, 3, 1, 1)\n",
        "        self.batchNorm3_2 = nn.BatchNorm2d(256)\n",
        "        self.conv3_3 = nn.Conv2d(256, 256, 3, 1, 1)\n",
        "        self.batchNorm3_3 = nn.BatchNorm2d(256)\n",
        "        self.conv3_4 = nn.Conv2d(256, 256, 3, 1, 1)\n",
        "        self.batchNorm3_4 = nn.BatchNorm2d(256)\n",
        "        #256 * (4 * 4)\n",
        "\n",
        "        self.conv4_0 = nn.Conv2d(256, 512, 3, 1, 1)\n",
        "        self.pool4 = nn.MaxPool2d(2, 2)\n",
        "        self.batchNorm4_0 = nn.BatchNorm2d(512)\n",
        "        #512 * (2 * 2)\n",
        "\n",
        "        self.conv4_1 = nn.Conv2d(512, 512, 3, 1, 1)\n",
        "        self.batchNorm4_1 = nn.BatchNorm2d(512)\n",
        "        self.conv4_2 = nn.Conv2d(512, 512, 3, 1, 1)\n",
        "        self.batchNorm4_2 = nn.BatchNorm2d(512)\n",
        "        self.conv4_3 = nn.Conv2d(512, 512, 3, 1, 1)\n",
        "        self.batchNorm4_3 = nn.BatchNorm2d(512)\n",
        "        self.conv4_4 = nn.Conv2d(512, 512, 3, 1, 1)\n",
        "        self.batchNorm4_4 = nn.BatchNorm2d(512)\n",
        "        #512 * (2 * 2)\n",
        "\n",
        "        self.conv5_0 = nn.Conv2d(512, 512, 2)\n",
        "        self.batchNorm5_0 = nn.BatchNorm2d(512)\n",
        "        #512 * (1 * 1)\n",
        "\n",
        "        \n",
        "        self.fc1 = nn.Linear(512, 128)\n",
        "        self.batchNormL_1 = nn.BatchNorm1d(128)\n",
        "        self.fc2 = nn.Linear(128, 100)\n",
        "        \n",
        "        self.dropout = nn.Dropout(0.2)        \n",
        "\n",
        "    def forward(self, x):\n",
        "        \"\"\"Base Model\"\"\"\n",
        "        x1_0 = self.batchNorm1_0(self.pool1(F.relu(self.conv1_0(x))))\n",
        "        x1_1 = self.batchNorm1_1(F.relu(self.conv1_1(x1_0)))\n",
        "        x1_2 = self.batchNorm1_2(F.relu(self.conv1_2(x1_1)) + x1_0)\n",
        "        x1_3 = self.batchNorm1_3(F.relu(self.conv1_3(x1_2)) + x1_0 + x1_1)\n",
        "        x1_4 = self.batchNorm1_4(F.relu(self.conv1_4(x1_3)) + x1_0 + x1_1 + x1_2)\n",
        "\n",
        "        x2_0 = self.batchNorm2_0(self.pool2(F.relu(self.conv2_0(x1_4))))\n",
        "        x2_1 = self.batchNorm2_1(F.relu(self.conv2_1(x2_0)))\n",
        "        x2_2 = self.batchNorm2_2(F.relu(self.conv2_2(x2_1)) + x2_0)\n",
        "        x2_3 = self.batchNorm2_3(F.relu(self.conv2_3(x2_2)) + x2_0 + x2_1)\n",
        "        x2_4 = self.batchNorm2_4(F.relu(self.conv2_4(x2_3)) + x2_0 + x2_1 + x2_2)\n",
        "\n",
        "        x3_0 = self.batchNorm3_0(self.pool3(F.relu(self.conv3_0(x2_4))))\n",
        "        x3_1 = self.batchNorm3_1(F.relu(self.conv3_1(x3_0)))\n",
        "        x3_2 = self.batchNorm3_2(F.relu(self.conv3_2(x3_1)) + x3_0)\n",
        "        x3_3 = self.batchNorm3_3(F.relu(self.conv3_3(x3_2)) + x3_0 + x3_1)\n",
        "        x3_4 = self.batchNorm3_4(F.relu(self.conv3_4(x3_3)) + x3_0 + x3_1 + x3_2)\n",
        "\n",
        "        x4_0 = self.batchNorm4_0(self.pool4(F.relu(self.conv4_0(x3_4))))\n",
        "\n",
        "        x4_1 = self.batchNorm4_1(F.relu(self.conv4_1(x4_0)))\n",
        "        x4_2 = self.batchNorm4_2(F.relu(self.conv4_2(x4_1)) + x4_0)\n",
        "        x4_3 = self.batchNorm4_3(F.relu(self.conv4_3(x4_2)) + x4_0 + x4_1)\n",
        "        x4_4 = self.batchNorm4_4(F.relu(self.conv4_4(x4_3)) + x4_0 + x4_1 + x4_2)\n",
        "\n",
        "        x5 = self.batchNorm5_0(F.relu(self.conv5_0(x4_4)))\n",
        "\n",
        "        x = torch.flatten(x5, 1) # flatten all dimensions except batch\n",
        "        x = self.dropout(x)\n",
        "        x = self.batchNormL_1(F.relu(self.fc1(x)))\n",
        "        x = self.dropout(x)\n",
        "        x = self.fc2(x)\n",
        "        return x\n",
        "\n",
        "model9 = Case9Model(3, 100).to(device)\n",
        "optimizer = optim.SGD(model9.parameters(), momentum=0.9, nesterov=True, lr=0.05)\n"
      ]
    },
    {
      "cell_type": "code",
      "execution_count": 8,
      "metadata": {
        "id": "iPerQ_CXcGNo",
        "colab": {
          "base_uri": "https://localhost:8080/",
          "height": 1000
        },
        "outputId": "50d5568e-aa8c-45a4-ad84-568851a5fb7f"
      },
      "outputs": [
        {
          "metadata": {
            "tags": null
          },
          "name": "stdout",
          "output_type": "stream",
          "text": [
            "train epoch: 1----------------\n"
          ]
        },
        {
          "metadata": {
            "tags": null
          },
          "name": "stderr",
          "output_type": "stream",
          "text": [
            "100%|██████████| 196/196 [00:44<00:00,  4.39it/s]"
          ]
        },
        {
          "metadata": {
            "tags": null
          },
          "name": "stdout",
          "output_type": "stream",
          "text": [
            "\n",
            "train_loss :  3.987913574491228\n"
          ]
        },
        {
          "metadata": {
            "tags": null
          },
          "name": "stderr",
          "output_type": "stream",
          "text": [
            "\n"
          ]
        },
        {
          "metadata": {
            "tags": null
          },
          "name": "stdout",
          "output_type": "stream",
          "text": [
            "val_acc :  0.1985\n",
            "train epoch: 2----------------\n"
          ]
        },
        {
          "metadata": {
            "tags": null
          },
          "name": "stderr",
          "output_type": "stream",
          "text": [
            "100%|██████████| 196/196 [00:39<00:00,  4.93it/s]"
          ]
        },
        {
          "metadata": {
            "tags": null
          },
          "name": "stdout",
          "output_type": "stream",
          "text": [
            "\n",
            "train_loss :  3.230841867777766\n"
          ]
        },
        {
          "metadata": {
            "tags": null
          },
          "name": "stderr",
          "output_type": "stream",
          "text": [
            "\n"
          ]
        },
        {
          "metadata": {
            "tags": null
          },
          "name": "stdout",
          "output_type": "stream",
          "text": [
            "val_acc :  0.3237\n",
            "train epoch: 3----------------\n"
          ]
        },
        {
          "metadata": {
            "tags": null
          },
          "name": "stderr",
          "output_type": "stream",
          "text": [
            "100%|██████████| 196/196 [00:40<00:00,  4.86it/s]"
          ]
        },
        {
          "metadata": {
            "tags": null
          },
          "name": "stdout",
          "output_type": "stream",
          "text": [
            "\n",
            "train_loss :  2.8209230607869675\n"
          ]
        },
        {
          "metadata": {
            "tags": null
          },
          "name": "stderr",
          "output_type": "stream",
          "text": [
            "\n"
          ]
        },
        {
          "metadata": {
            "tags": null
          },
          "name": "stdout",
          "output_type": "stream",
          "text": [
            "val_acc :  0.3926\n",
            "train epoch: 4----------------\n"
          ]
        },
        {
          "metadata": {
            "tags": null
          },
          "name": "stderr",
          "output_type": "stream",
          "text": [
            "100%|██████████| 196/196 [00:38<00:00,  5.07it/s]"
          ]
        },
        {
          "metadata": {
            "tags": null
          },
          "name": "stdout",
          "output_type": "stream",
          "text": [
            "\n",
            "train_loss :  2.5141638797156665\n"
          ]
        },
        {
          "metadata": {
            "tags": null
          },
          "name": "stderr",
          "output_type": "stream",
          "text": [
            "\n"
          ]
        },
        {
          "metadata": {
            "tags": null
          },
          "name": "stdout",
          "output_type": "stream",
          "text": [
            "val_acc :  0.4093\n",
            "train epoch: 5----------------\n"
          ]
        },
        {
          "metadata": {
            "tags": null
          },
          "name": "stderr",
          "output_type": "stream",
          "text": [
            "100%|██████████| 196/196 [00:39<00:00,  4.93it/s]"
          ]
        },
        {
          "metadata": {
            "tags": null
          },
          "name": "stdout",
          "output_type": "stream",
          "text": [
            "\n",
            "train_loss :  2.297916546159861\n"
          ]
        },
        {
          "metadata": {
            "tags": null
          },
          "name": "stderr",
          "output_type": "stream",
          "text": [
            "\n"
          ]
        },
        {
          "metadata": {
            "tags": null
          },
          "name": "stdout",
          "output_type": "stream",
          "text": [
            "val_acc :  0.4671\n",
            "train epoch: 6----------------\n"
          ]
        },
        {
          "metadata": {
            "tags": null
          },
          "name": "stderr",
          "output_type": "stream",
          "text": [
            "100%|██████████| 196/196 [00:40<00:00,  4.82it/s]"
          ]
        },
        {
          "metadata": {
            "tags": null
          },
          "name": "stdout",
          "output_type": "stream",
          "text": [
            "\n",
            "train_loss :  2.099439494463862\n"
          ]
        },
        {
          "metadata": {
            "tags": null
          },
          "name": "stderr",
          "output_type": "stream",
          "text": [
            "\n"
          ]
        },
        {
          "metadata": {
            "tags": null
          },
          "name": "stdout",
          "output_type": "stream",
          "text": [
            "val_acc :  0.5087\n",
            "train epoch: 7----------------\n"
          ]
        },
        {
          "metadata": {
            "tags": null
          },
          "name": "stderr",
          "output_type": "stream",
          "text": [
            "100%|██████████| 196/196 [00:40<00:00,  4.80it/s]"
          ]
        },
        {
          "metadata": {
            "tags": null
          },
          "name": "stdout",
          "output_type": "stream",
          "text": [
            "\n",
            "train_loss :  1.9262938244002206\n"
          ]
        },
        {
          "metadata": {
            "tags": null
          },
          "name": "stderr",
          "output_type": "stream",
          "text": [
            "\n"
          ]
        },
        {
          "metadata": {
            "tags": null
          },
          "name": "stdout",
          "output_type": "stream",
          "text": [
            "val_acc :  0.5126\n",
            "train epoch: 8----------------\n"
          ]
        },
        {
          "metadata": {
            "tags": null
          },
          "name": "stderr",
          "output_type": "stream",
          "text": [
            "100%|██████████| 196/196 [00:39<00:00,  4.93it/s]"
          ]
        },
        {
          "metadata": {
            "tags": null
          },
          "name": "stdout",
          "output_type": "stream",
          "text": [
            "\n",
            "train_loss :  1.761614373752049\n"
          ]
        },
        {
          "metadata": {
            "tags": null
          },
          "name": "stderr",
          "output_type": "stream",
          "text": [
            "\n"
          ]
        },
        {
          "metadata": {
            "tags": null
          },
          "name": "stdout",
          "output_type": "stream",
          "text": [
            "val_acc :  0.532\n",
            "train epoch: 9----------------\n"
          ]
        },
        {
          "metadata": {
            "tags": null
          },
          "name": "stderr",
          "output_type": "stream",
          "text": [
            "100%|██████████| 196/196 [00:40<00:00,  4.81it/s]\n"
          ]
        },
        {
          "metadata": {
            "tags": null
          },
          "name": "stdout",
          "output_type": "stream",
          "text": [
            "\n",
            "train_loss :  1.625392028263637\n",
            "val_acc :  0.5152\n",
            "train epoch: 10----------------\n"
          ]
        },
        {
          "metadata": {
            "tags": null
          },
          "name": "stderr",
          "output_type": "stream",
          "text": [
            "100%|██████████| 196/196 [00:39<00:00,  5.01it/s]"
          ]
        },
        {
          "metadata": {
            "tags": null
          },
          "name": "stdout",
          "output_type": "stream",
          "text": [
            "\n",
            "train_loss :  1.4928053903336427\n"
          ]
        },
        {
          "metadata": {
            "tags": null
          },
          "name": "stderr",
          "output_type": "stream",
          "text": [
            "\n"
          ]
        },
        {
          "metadata": {
            "tags": null
          },
          "name": "stdout",
          "output_type": "stream",
          "text": [
            "val_acc :  0.5138\n",
            "train epoch: 11----------------\n"
          ]
        },
        {
          "metadata": {
            "tags": null
          },
          "name": "stderr",
          "output_type": "stream",
          "text": [
            "100%|██████████| 196/196 [00:40<00:00,  4.78it/s]"
          ]
        },
        {
          "metadata": {
            "tags": null
          },
          "name": "stdout",
          "output_type": "stream",
          "text": [
            "\n",
            "train_loss :  1.3701790522555917\n"
          ]
        },
        {
          "metadata": {
            "tags": null
          },
          "name": "stderr",
          "output_type": "stream",
          "text": [
            "\n"
          ]
        },
        {
          "metadata": {
            "tags": null
          },
          "name": "stdout",
          "output_type": "stream",
          "text": [
            "val_acc :  0.5398\n",
            "train epoch: 12----------------\n"
          ]
        },
        {
          "metadata": {
            "tags": null
          },
          "name": "stderr",
          "output_type": "stream",
          "text": [
            "100%|██████████| 196/196 [00:40<00:00,  4.83it/s]"
          ]
        },
        {
          "metadata": {
            "tags": null
          },
          "name": "stdout",
          "output_type": "stream",
          "text": [
            "\n",
            "train_loss :  1.2900031202909898\n"
          ]
        },
        {
          "metadata": {
            "tags": null
          },
          "name": "stderr",
          "output_type": "stream",
          "text": [
            "\n"
          ]
        },
        {
          "metadata": {
            "tags": null
          },
          "name": "stdout",
          "output_type": "stream",
          "text": [
            "val_acc :  0.5469\n",
            "train epoch: 13----------------\n"
          ]
        },
        {
          "metadata": {
            "tags": null
          },
          "name": "stderr",
          "output_type": "stream",
          "text": [
            "100%|██████████| 196/196 [00:41<00:00,  4.77it/s]"
          ]
        },
        {
          "metadata": {
            "tags": null
          },
          "name": "stdout",
          "output_type": "stream",
          "text": [
            "\n",
            "train_loss :  1.1870646723070923\n"
          ]
        },
        {
          "metadata": {
            "tags": null
          },
          "name": "stderr",
          "output_type": "stream",
          "text": [
            "\n"
          ]
        },
        {
          "metadata": {
            "tags": null
          },
          "name": "stdout",
          "output_type": "stream",
          "text": [
            "val_acc :  0.5449\n",
            "train epoch: 14----------------\n"
          ]
        },
        {
          "metadata": {
            "tags": null
          },
          "name": "stderr",
          "output_type": "stream",
          "text": [
            "100%|██████████| 196/196 [00:39<00:00,  5.00it/s]"
          ]
        },
        {
          "metadata": {
            "tags": null
          },
          "name": "stdout",
          "output_type": "stream",
          "text": [
            "\n",
            "train_loss :  1.1098429393403384\n"
          ]
        },
        {
          "metadata": {
            "tags": null
          },
          "name": "stderr",
          "output_type": "stream",
          "text": [
            "\n"
          ]
        },
        {
          "metadata": {
            "tags": null
          },
          "name": "stdout",
          "output_type": "stream",
          "text": [
            "val_acc :  0.5574\n",
            "train epoch: 15----------------\n"
          ]
        },
        {
          "metadata": {
            "tags": null
          },
          "name": "stderr",
          "output_type": "stream",
          "text": [
            "100%|██████████| 196/196 [00:40<00:00,  4.84it/s]"
          ]
        },
        {
          "metadata": {
            "tags": null
          },
          "name": "stdout",
          "output_type": "stream",
          "text": [
            "\n",
            "train_loss :  1.0277261989457267\n"
          ]
        },
        {
          "metadata": {
            "tags": null
          },
          "name": "stderr",
          "output_type": "stream",
          "text": [
            "\n"
          ]
        },
        {
          "metadata": {
            "tags": null
          },
          "name": "stdout",
          "output_type": "stream",
          "text": [
            "val_acc :  0.5554\n",
            "train epoch: 16----------------\n"
          ]
        },
        {
          "metadata": {
            "tags": null
          },
          "name": "stderr",
          "output_type": "stream",
          "text": [
            "100%|██████████| 196/196 [00:40<00:00,  4.83it/s]"
          ]
        },
        {
          "metadata": {
            "tags": null
          },
          "name": "stdout",
          "output_type": "stream",
          "text": [
            "\n",
            "train_loss :  0.9693375430545028\n"
          ]
        },
        {
          "metadata": {
            "tags": null
          },
          "name": "stderr",
          "output_type": "stream",
          "text": [
            "\n"
          ]
        },
        {
          "metadata": {
            "tags": null
          },
          "name": "stdout",
          "output_type": "stream",
          "text": [
            "val_acc :  0.5589\n",
            "train epoch: 17----------------\n"
          ]
        },
        {
          "metadata": {
            "tags": null
          },
          "name": "stderr",
          "output_type": "stream",
          "text": [
            "100%|██████████| 196/196 [00:41<00:00,  4.77it/s]"
          ]
        },
        {
          "metadata": {
            "tags": null
          },
          "name": "stdout",
          "output_type": "stream",
          "text": [
            "\n",
            "train_loss :  0.9074452650182101\n"
          ]
        },
        {
          "metadata": {
            "tags": null
          },
          "name": "stderr",
          "output_type": "stream",
          "text": [
            "\n"
          ]
        },
        {
          "metadata": {
            "tags": null
          },
          "name": "stdout",
          "output_type": "stream",
          "text": [
            "val_acc :  0.5506\n",
            "train epoch: 18----------------\n"
          ]
        },
        {
          "metadata": {
            "tags": null
          },
          "name": "stderr",
          "output_type": "stream",
          "text": [
            "100%|██████████| 196/196 [00:38<00:00,  5.09it/s]"
          ]
        },
        {
          "metadata": {
            "tags": null
          },
          "name": "stdout",
          "output_type": "stream",
          "text": [
            "\n",
            "train_loss :  0.8683177795337171\n"
          ]
        },
        {
          "metadata": {
            "tags": null
          },
          "name": "stderr",
          "output_type": "stream",
          "text": [
            "\n"
          ]
        },
        {
          "metadata": {
            "tags": null
          },
          "name": "stdout",
          "output_type": "stream",
          "text": [
            "val_acc :  0.5563\n",
            "train epoch: 19----------------\n"
          ]
        },
        {
          "metadata": {
            "tags": null
          },
          "name": "stderr",
          "output_type": "stream",
          "text": [
            "100%|██████████| 196/196 [00:41<00:00,  4.78it/s]"
          ]
        },
        {
          "metadata": {
            "tags": null
          },
          "name": "stdout",
          "output_type": "stream",
          "text": [
            "\n",
            "train_loss :  0.8221468146966429\n"
          ]
        },
        {
          "metadata": {
            "tags": null
          },
          "name": "stderr",
          "output_type": "stream",
          "text": [
            "\n"
          ]
        },
        {
          "metadata": {
            "tags": null
          },
          "name": "stdout",
          "output_type": "stream",
          "text": [
            "val_acc :  0.5561\n",
            "train epoch: 20----------------\n"
          ]
        },
        {
          "metadata": {
            "tags": null
          },
          "name": "stderr",
          "output_type": "stream",
          "text": [
            "100%|██████████| 196/196 [00:40<00:00,  4.83it/s]"
          ]
        },
        {
          "metadata": {
            "tags": null
          },
          "name": "stdout",
          "output_type": "stream",
          "text": [
            "\n",
            "train_loss :  0.7890330647327461\n"
          ]
        },
        {
          "metadata": {
            "tags": null
          },
          "name": "stderr",
          "output_type": "stream",
          "text": [
            "\n"
          ]
        },
        {
          "metadata": {
            "tags": null
          },
          "name": "stdout",
          "output_type": "stream",
          "text": [
            "val_acc :  0.5676\n",
            "train epoch: 21----------------\n"
          ]
        },
        {
          "metadata": {
            "tags": null
          },
          "name": "stderr",
          "output_type": "stream",
          "text": [
            "100%|██████████| 196/196 [00:41<00:00,  4.73it/s]"
          ]
        },
        {
          "metadata": {
            "tags": null
          },
          "name": "stdout",
          "output_type": "stream",
          "text": [
            "\n",
            "train_loss :  0.7464512586593628\n"
          ]
        },
        {
          "metadata": {
            "tags": null
          },
          "name": "stderr",
          "output_type": "stream",
          "text": [
            "\n"
          ]
        },
        {
          "metadata": {
            "tags": null
          },
          "name": "stdout",
          "output_type": "stream",
          "text": [
            "val_acc :  0.5606\n",
            "train epoch: 22----------------\n"
          ]
        },
        {
          "metadata": {
            "tags": null
          },
          "name": "stderr",
          "output_type": "stream",
          "text": [
            "100%|██████████| 196/196 [00:38<00:00,  5.05it/s]"
          ]
        },
        {
          "metadata": {
            "tags": null
          },
          "name": "stdout",
          "output_type": "stream",
          "text": [
            "\n",
            "train_loss :  0.740682060925328\n"
          ]
        },
        {
          "metadata": {
            "tags": null
          },
          "name": "stderr",
          "output_type": "stream",
          "text": [
            "\n"
          ]
        },
        {
          "metadata": {
            "tags": null
          },
          "name": "stdout",
          "output_type": "stream",
          "text": [
            "val_acc :  0.573\n",
            "train epoch: 23----------------\n"
          ]
        },
        {
          "metadata": {
            "tags": null
          },
          "name": "stderr",
          "output_type": "stream",
          "text": [
            "100%|██████████| 196/196 [00:40<00:00,  4.88it/s]"
          ]
        },
        {
          "metadata": {
            "tags": null
          },
          "name": "stdout",
          "output_type": "stream",
          "text": [
            "\n",
            "train_loss :  0.6962373049891725\n"
          ]
        },
        {
          "metadata": {
            "tags": null
          },
          "name": "stderr",
          "output_type": "stream",
          "text": [
            "\n"
          ]
        },
        {
          "metadata": {
            "tags": null
          },
          "name": "stdout",
          "output_type": "stream",
          "text": [
            "val_acc :  0.5664\n",
            "train epoch: 24----------------\n"
          ]
        },
        {
          "metadata": {
            "tags": null
          },
          "name": "stderr",
          "output_type": "stream",
          "text": [
            "100%|██████████| 196/196 [00:39<00:00,  4.90it/s]"
          ]
        },
        {
          "metadata": {
            "tags": null
          },
          "name": "stdout",
          "output_type": "stream",
          "text": [
            "\n",
            "train_loss :  0.6886387716750709\n"
          ]
        },
        {
          "metadata": {
            "tags": null
          },
          "name": "stderr",
          "output_type": "stream",
          "text": [
            "\n"
          ]
        },
        {
          "metadata": {
            "tags": null
          },
          "name": "stdout",
          "output_type": "stream",
          "text": [
            "val_acc :  0.5711\n",
            "train epoch: 25----------------\n"
          ]
        },
        {
          "metadata": {
            "tags": null
          },
          "name": "stderr",
          "output_type": "stream",
          "text": [
            "100%|██████████| 196/196 [00:41<00:00,  4.74it/s]"
          ]
        },
        {
          "metadata": {
            "tags": null
          },
          "name": "stdout",
          "output_type": "stream",
          "text": [
            "\n",
            "train_loss :  0.6767684338348252\n"
          ]
        },
        {
          "metadata": {
            "tags": null
          },
          "name": "stderr",
          "output_type": "stream",
          "text": [
            "\n"
          ]
        },
        {
          "metadata": {
            "tags": null
          },
          "name": "stdout",
          "output_type": "stream",
          "text": [
            "val_acc :  0.5688\n",
            "train epoch: 26----------------\n"
          ]
        },
        {
          "metadata": {
            "tags": null
          },
          "name": "stderr",
          "output_type": "stream",
          "text": [
            "100%|██████████| 196/196 [00:38<00:00,  5.11it/s]"
          ]
        },
        {
          "metadata": {
            "tags": null
          },
          "name": "stdout",
          "output_type": "stream",
          "text": [
            "\n",
            "train_loss :  0.6291222116168664\n"
          ]
        },
        {
          "metadata": {
            "tags": null
          },
          "name": "stderr",
          "output_type": "stream",
          "text": [
            "\n"
          ]
        },
        {
          "metadata": {
            "tags": null
          },
          "name": "stdout",
          "output_type": "stream",
          "text": [
            "val_acc :  0.5653\n",
            "train epoch: 27----------------\n"
          ]
        },
        {
          "metadata": {
            "tags": null
          },
          "name": "stderr",
          "output_type": "stream",
          "text": [
            "100%|██████████| 196/196 [00:40<00:00,  4.85it/s]"
          ]
        },
        {
          "metadata": {
            "tags": null
          },
          "name": "stdout",
          "output_type": "stream",
          "text": [
            "\n",
            "train_loss :  0.6322945284904266\n"
          ]
        },
        {
          "metadata": {
            "tags": null
          },
          "name": "stderr",
          "output_type": "stream",
          "text": [
            "\n"
          ]
        },
        {
          "metadata": {
            "tags": null
          },
          "name": "stdout",
          "output_type": "stream",
          "text": [
            "val_acc :  0.5686\n",
            "train epoch: 28----------------\n"
          ]
        },
        {
          "metadata": {
            "tags": null
          },
          "name": "stderr",
          "output_type": "stream",
          "text": [
            "100%|██████████| 196/196 [00:40<00:00,  4.86it/s]"
          ]
        },
        {
          "metadata": {
            "tags": null
          },
          "name": "stdout",
          "output_type": "stream",
          "text": [
            "\n",
            "train_loss :  0.6266168354421245\n"
          ]
        },
        {
          "metadata": {
            "tags": null
          },
          "name": "stderr",
          "output_type": "stream",
          "text": [
            "\n"
          ]
        },
        {
          "metadata": {
            "tags": null
          },
          "name": "stdout",
          "output_type": "stream",
          "text": [
            "val_acc :  0.5714\n",
            "train epoch: 29----------------\n"
          ]
        },
        {
          "metadata": {
            "tags": null
          },
          "name": "stderr",
          "output_type": "stream",
          "text": [
            "100%|██████████| 196/196 [00:40<00:00,  4.81it/s]"
          ]
        },
        {
          "metadata": {
            "tags": null
          },
          "name": "stdout",
          "output_type": "stream",
          "text": [
            "\n",
            "train_loss :  0.6038743009676739\n"
          ]
        },
        {
          "metadata": {
            "tags": null
          },
          "name": "stderr",
          "output_type": "stream",
          "text": [
            "\n"
          ]
        },
        {
          "metadata": {
            "tags": null
          },
          "name": "stdout",
          "output_type": "stream",
          "text": [
            "val_acc :  0.5804\n",
            "train epoch: 30----------------\n"
          ]
        },
        {
          "metadata": {
            "tags": null
          },
          "name": "stderr",
          "output_type": "stream",
          "text": [
            "100%|██████████| 196/196 [00:38<00:00,  5.09it/s]"
          ]
        },
        {
          "metadata": {
            "tags": null
          },
          "name": "stdout",
          "output_type": "stream",
          "text": [
            "\n",
            "train_loss :  0.5857509736503873\n"
          ]
        },
        {
          "metadata": {
            "tags": null
          },
          "name": "stderr",
          "output_type": "stream",
          "text": [
            "\n"
          ]
        },
        {
          "metadata": {
            "tags": null
          },
          "name": "stdout",
          "output_type": "stream",
          "text": [
            "val_acc :  0.567\n",
            "train epoch: 31----------------\n"
          ]
        },
        {
          "metadata": {
            "tags": null
          },
          "name": "stderr",
          "output_type": "stream",
          "text": [
            "100%|██████████| 196/196 [00:40<00:00,  4.85it/s]"
          ]
        },
        {
          "metadata": {
            "tags": null
          },
          "name": "stdout",
          "output_type": "stream",
          "text": [
            "\n",
            "train_loss :  0.5787528078166806\n"
          ]
        },
        {
          "metadata": {
            "tags": null
          },
          "name": "stderr",
          "output_type": "stream",
          "text": [
            "\n"
          ]
        },
        {
          "metadata": {
            "tags": null
          },
          "name": "stdout",
          "output_type": "stream",
          "text": [
            "val_acc :  0.5713\n",
            "train epoch: 32----------------\n"
          ]
        },
        {
          "metadata": {
            "tags": null
          },
          "name": "stderr",
          "output_type": "stream",
          "text": [
            "100%|██████████| 196/196 [00:39<00:00,  4.92it/s]"
          ]
        },
        {
          "metadata": {
            "tags": null
          },
          "name": "stdout",
          "output_type": "stream",
          "text": [
            "\n",
            "train_loss :  0.5745295014004318\n"
          ]
        },
        {
          "metadata": {
            "tags": null
          },
          "name": "stderr",
          "output_type": "stream",
          "text": [
            "\n"
          ]
        },
        {
          "metadata": {
            "tags": null
          },
          "name": "stdout",
          "output_type": "stream",
          "text": [
            "val_acc :  0.5795\n",
            "train epoch: 33----------------\n"
          ]
        },
        {
          "metadata": {
            "tags": null
          },
          "name": "stderr",
          "output_type": "stream",
          "text": [
            "100%|██████████| 196/196 [00:40<00:00,  4.83it/s]"
          ]
        },
        {
          "metadata": {
            "tags": null
          },
          "name": "stdout",
          "output_type": "stream",
          "text": [
            "\n",
            "train_loss :  0.5498557551478853\n"
          ]
        },
        {
          "metadata": {
            "tags": null
          },
          "name": "stderr",
          "output_type": "stream",
          "text": [
            "\n"
          ]
        },
        {
          "metadata": {
            "tags": null
          },
          "name": "stdout",
          "output_type": "stream",
          "text": [
            "val_acc :  0.5776\n",
            "train epoch: 34----------------\n"
          ]
        },
        {
          "metadata": {
            "tags": null
          },
          "name": "stderr",
          "output_type": "stream",
          "text": [
            "100%|██████████| 196/196 [00:38<00:00,  5.11it/s]"
          ]
        },
        {
          "metadata": {
            "tags": null
          },
          "name": "stdout",
          "output_type": "stream",
          "text": [
            "\n",
            "train_loss :  0.5424003278722569\n"
          ]
        },
        {
          "metadata": {
            "tags": null
          },
          "name": "stderr",
          "output_type": "stream",
          "text": [
            "\n"
          ]
        },
        {
          "metadata": {
            "tags": null
          },
          "name": "stdout",
          "output_type": "stream",
          "text": [
            "val_acc :  0.5872\n",
            "train epoch: 35----------------\n"
          ]
        },
        {
          "metadata": {
            "tags": null
          },
          "name": "stderr",
          "output_type": "stream",
          "text": [
            "100%|██████████| 196/196 [00:40<00:00,  4.85it/s]"
          ]
        },
        {
          "metadata": {
            "tags": null
          },
          "name": "stdout",
          "output_type": "stream",
          "text": [
            "\n",
            "train_loss :  0.534918520219472\n"
          ]
        },
        {
          "metadata": {
            "tags": null
          },
          "name": "stderr",
          "output_type": "stream",
          "text": [
            "\n"
          ]
        },
        {
          "metadata": {
            "tags": null
          },
          "name": "stdout",
          "output_type": "stream",
          "text": [
            "val_acc :  0.5785\n",
            "train epoch: 36----------------\n"
          ]
        },
        {
          "metadata": {
            "tags": null
          },
          "name": "stderr",
          "output_type": "stream",
          "text": [
            "100%|██████████| 196/196 [00:39<00:00,  4.96it/s]"
          ]
        },
        {
          "metadata": {
            "tags": null
          },
          "name": "stdout",
          "output_type": "stream",
          "text": [
            "\n",
            "train_loss :  0.5306706384432559\n"
          ]
        },
        {
          "metadata": {
            "tags": null
          },
          "name": "stderr",
          "output_type": "stream",
          "text": [
            "\n"
          ]
        },
        {
          "metadata": {
            "tags": null
          },
          "name": "stdout",
          "output_type": "stream",
          "text": [
            "val_acc :  0.5801\n",
            "train epoch: 37----------------\n"
          ]
        },
        {
          "metadata": {
            "tags": null
          },
          "name": "stderr",
          "output_type": "stream",
          "text": [
            "100%|██████████| 196/196 [00:40<00:00,  4.86it/s]"
          ]
        },
        {
          "metadata": {
            "tags": null
          },
          "name": "stdout",
          "output_type": "stream",
          "text": [
            "\n",
            "train_loss :  0.5114952508284121\n"
          ]
        },
        {
          "metadata": {
            "tags": null
          },
          "name": "stderr",
          "output_type": "stream",
          "text": [
            "\n"
          ]
        },
        {
          "metadata": {
            "tags": null
          },
          "name": "stdout",
          "output_type": "stream",
          "text": [
            "val_acc :  0.5748\n",
            "train epoch: 38----------------\n"
          ]
        },
        {
          "metadata": {
            "tags": null
          },
          "name": "stderr",
          "output_type": "stream",
          "text": [
            "100%|██████████| 196/196 [00:38<00:00,  5.08it/s]"
          ]
        },
        {
          "metadata": {
            "tags": null
          },
          "name": "stdout",
          "output_type": "stream",
          "text": [
            "\n",
            "train_loss :  0.5143398905591089\n"
          ]
        },
        {
          "metadata": {
            "tags": null
          },
          "name": "stderr",
          "output_type": "stream",
          "text": [
            "\n"
          ]
        },
        {
          "metadata": {
            "tags": null
          },
          "name": "stdout",
          "output_type": "stream",
          "text": [
            "val_acc :  0.5786\n",
            "train epoch: 39----------------\n"
          ]
        },
        {
          "metadata": {
            "tags": null
          },
          "name": "stderr",
          "output_type": "stream",
          "text": [
            "100%|██████████| 196/196 [00:40<00:00,  4.90it/s]"
          ]
        },
        {
          "metadata": {
            "tags": null
          },
          "name": "stdout",
          "output_type": "stream",
          "text": [
            "\n",
            "train_loss :  0.503893069010608\n"
          ]
        },
        {
          "metadata": {
            "tags": null
          },
          "name": "stderr",
          "output_type": "stream",
          "text": [
            "\n"
          ]
        },
        {
          "metadata": {
            "tags": null
          },
          "name": "stdout",
          "output_type": "stream",
          "text": [
            "val_acc :  0.5782\n",
            "train epoch: 40----------------\n"
          ]
        },
        {
          "metadata": {
            "tags": null
          },
          "name": "stderr",
          "output_type": "stream",
          "text": [
            "100%|██████████| 196/196 [00:38<00:00,  5.06it/s]"
          ]
        },
        {
          "metadata": {
            "tags": null
          },
          "name": "stdout",
          "output_type": "stream",
          "text": [
            "\n",
            "train_loss :  0.49453759603962605\n"
          ]
        },
        {
          "metadata": {
            "tags": null
          },
          "name": "stderr",
          "output_type": "stream",
          "text": [
            "\n"
          ]
        },
        {
          "metadata": {
            "tags": null
          },
          "name": "stdout",
          "output_type": "stream",
          "text": [
            "val_acc :  0.579\n",
            "train epoch: 41----------------\n"
          ]
        },
        {
          "metadata": {
            "tags": null
          },
          "name": "stderr",
          "output_type": "stream",
          "text": [
            "100%|██████████| 196/196 [00:40<00:00,  4.79it/s]"
          ]
        },
        {
          "metadata": {
            "tags": null
          },
          "name": "stdout",
          "output_type": "stream",
          "text": [
            "\n",
            "train_loss :  0.4898926308568643\n"
          ]
        },
        {
          "metadata": {
            "tags": null
          },
          "name": "stderr",
          "output_type": "stream",
          "text": [
            "\n"
          ]
        },
        {
          "metadata": {
            "tags": null
          },
          "name": "stdout",
          "output_type": "stream",
          "text": [
            "val_acc :  0.5833\n",
            "train epoch: 42----------------\n"
          ]
        },
        {
          "metadata": {
            "tags": null
          },
          "name": "stderr",
          "output_type": "stream",
          "text": [
            "100%|██████████| 196/196 [00:39<00:00,  4.99it/s]"
          ]
        },
        {
          "metadata": {
            "tags": null
          },
          "name": "stdout",
          "output_type": "stream",
          "text": [
            "\n",
            "train_loss :  0.49230872261889125\n"
          ]
        },
        {
          "metadata": {
            "tags": null
          },
          "name": "stderr",
          "output_type": "stream",
          "text": [
            "\n"
          ]
        },
        {
          "metadata": {
            "tags": null
          },
          "name": "stdout",
          "output_type": "stream",
          "text": [
            "val_acc :  0.5874\n",
            "train epoch: 43----------------\n"
          ]
        },
        {
          "metadata": {
            "tags": null
          },
          "name": "stderr",
          "output_type": "stream",
          "text": [
            "100%|██████████| 196/196 [00:40<00:00,  4.87it/s]"
          ]
        },
        {
          "metadata": {
            "tags": null
          },
          "name": "stdout",
          "output_type": "stream",
          "text": [
            "\n",
            "train_loss :  0.4826795326507821\n"
          ]
        },
        {
          "metadata": {
            "tags": null
          },
          "name": "stderr",
          "output_type": "stream",
          "text": [
            "\n"
          ]
        },
        {
          "metadata": {
            "tags": null
          },
          "name": "stdout",
          "output_type": "stream",
          "text": [
            "val_acc :  0.5861\n",
            "train epoch: 44----------------\n"
          ]
        },
        {
          "metadata": {
            "tags": null
          },
          "name": "stderr",
          "output_type": "stream",
          "text": [
            "100%|██████████| 196/196 [00:38<00:00,  5.10it/s]"
          ]
        },
        {
          "metadata": {
            "tags": null
          },
          "name": "stdout",
          "output_type": "stream",
          "text": [
            "\n",
            "train_loss :  0.46699108867620936\n"
          ]
        },
        {
          "metadata": {
            "tags": null
          },
          "name": "stderr",
          "output_type": "stream",
          "text": [
            "\n"
          ]
        },
        {
          "metadata": {
            "tags": null
          },
          "name": "stdout",
          "output_type": "stream",
          "text": [
            "val_acc :  0.5887\n",
            "train epoch: 45----------------\n"
          ]
        },
        {
          "metadata": {
            "tags": null
          },
          "name": "stderr",
          "output_type": "stream",
          "text": [
            "100%|██████████| 196/196 [00:41<00:00,  4.75it/s]"
          ]
        },
        {
          "metadata": {
            "tags": null
          },
          "name": "stdout",
          "output_type": "stream",
          "text": [
            "\n",
            "train_loss :  0.459192764318111\n"
          ]
        },
        {
          "metadata": {
            "tags": null
          },
          "name": "stderr",
          "output_type": "stream",
          "text": [
            "\n"
          ]
        },
        {
          "metadata": {
            "tags": null
          },
          "name": "stdout",
          "output_type": "stream",
          "text": [
            "val_acc :  0.5829\n",
            "train epoch: 46----------------\n"
          ]
        },
        {
          "metadata": {
            "tags": null
          },
          "name": "stderr",
          "output_type": "stream",
          "text": [
            "100%|██████████| 196/196 [00:39<00:00,  4.96it/s]"
          ]
        },
        {
          "metadata": {
            "tags": null
          },
          "name": "stdout",
          "output_type": "stream",
          "text": [
            "\n",
            "train_loss :  0.4640481952501803\n"
          ]
        },
        {
          "metadata": {
            "tags": null
          },
          "name": "stderr",
          "output_type": "stream",
          "text": [
            "\n"
          ]
        },
        {
          "metadata": {
            "tags": null
          },
          "name": "stdout",
          "output_type": "stream",
          "text": [
            "val_acc :  0.5866\n",
            "train epoch: 47----------------\n"
          ]
        },
        {
          "metadata": {
            "tags": null
          },
          "name": "stderr",
          "output_type": "stream",
          "text": [
            "100%|██████████| 196/196 [00:40<00:00,  4.90it/s]"
          ]
        },
        {
          "metadata": {
            "tags": null
          },
          "name": "stdout",
          "output_type": "stream",
          "text": [
            "\n",
            "train_loss :  0.4627661854028702\n"
          ]
        },
        {
          "metadata": {
            "tags": null
          },
          "name": "stderr",
          "output_type": "stream",
          "text": [
            "\n"
          ]
        },
        {
          "metadata": {
            "tags": null
          },
          "name": "stdout",
          "output_type": "stream",
          "text": [
            "val_acc :  0.5918\n",
            "train epoch: 48----------------\n"
          ]
        },
        {
          "metadata": {
            "tags": null
          },
          "name": "stderr",
          "output_type": "stream",
          "text": [
            "100%|██████████| 196/196 [00:38<00:00,  5.07it/s]"
          ]
        },
        {
          "metadata": {
            "tags": null
          },
          "name": "stdout",
          "output_type": "stream",
          "text": [
            "\n",
            "train_loss :  0.4489207527771288\n"
          ]
        },
        {
          "metadata": {
            "tags": null
          },
          "name": "stderr",
          "output_type": "stream",
          "text": [
            "\n"
          ]
        },
        {
          "metadata": {
            "tags": null
          },
          "name": "stdout",
          "output_type": "stream",
          "text": [
            "val_acc :  0.5865\n",
            "train epoch: 49----------------\n"
          ]
        },
        {
          "metadata": {
            "tags": null
          },
          "name": "stderr",
          "output_type": "stream",
          "text": [
            "100%|██████████| 196/196 [00:42<00:00,  4.63it/s]"
          ]
        },
        {
          "metadata": {
            "tags": null
          },
          "name": "stdout",
          "output_type": "stream",
          "text": [
            "\n",
            "train_loss :  0.4489096094455038\n"
          ]
        },
        {
          "metadata": {
            "tags": null
          },
          "name": "stderr",
          "output_type": "stream",
          "text": [
            "\n"
          ]
        },
        {
          "metadata": {
            "tags": null
          },
          "name": "stdout",
          "output_type": "stream",
          "text": [
            "val_acc :  0.5872\n",
            "train epoch: 50----------------\n"
          ]
        },
        {
          "metadata": {
            "tags": null
          },
          "name": "stderr",
          "output_type": "stream",
          "text": [
            "100%|██████████| 196/196 [00:38<00:00,  5.11it/s]"
          ]
        },
        {
          "metadata": {
            "tags": null
          },
          "name": "stdout",
          "output_type": "stream",
          "text": [
            "\n",
            "train_loss :  0.4384962619871509\n"
          ]
        },
        {
          "metadata": {
            "tags": null
          },
          "name": "stderr",
          "output_type": "stream",
          "text": [
            "\n"
          ]
        },
        {
          "metadata": {
            "tags": null
          },
          "name": "stdout",
          "output_type": "stream",
          "text": [
            "val_acc :  0.589\n",
            "train epoch: 51----------------\n"
          ]
        },
        {
          "metadata": {
            "tags": null
          },
          "name": "stderr",
          "output_type": "stream",
          "text": [
            "100%|██████████| 196/196 [00:39<00:00,  5.01it/s]"
          ]
        },
        {
          "metadata": {
            "tags": null
          },
          "name": "stdout",
          "output_type": "stream",
          "text": [
            "\n",
            "train_loss :  0.43853762821883574\n"
          ]
        },
        {
          "metadata": {
            "tags": null
          },
          "name": "stderr",
          "output_type": "stream",
          "text": [
            "\n"
          ]
        },
        {
          "metadata": {
            "tags": null
          },
          "name": "stdout",
          "output_type": "stream",
          "text": [
            "val_acc :  0.5878\n",
            "train epoch: 52----------------\n"
          ]
        },
        {
          "metadata": {
            "tags": null
          },
          "name": "stderr",
          "output_type": "stream",
          "text": [
            "100%|██████████| 196/196 [00:39<00:00,  4.97it/s]"
          ]
        },
        {
          "metadata": {
            "tags": null
          },
          "name": "stdout",
          "output_type": "stream",
          "text": [
            "\n",
            "train_loss :  0.4274101705879581\n"
          ]
        },
        {
          "metadata": {
            "tags": null
          },
          "name": "stderr",
          "output_type": "stream",
          "text": [
            "\n"
          ]
        },
        {
          "metadata": {
            "tags": null
          },
          "name": "stdout",
          "output_type": "stream",
          "text": [
            "val_acc :  0.5857\n",
            "train epoch: 53----------------\n"
          ]
        },
        {
          "metadata": {
            "tags": null
          },
          "name": "stderr",
          "output_type": "stream",
          "text": [
            "100%|██████████| 196/196 [00:38<00:00,  5.06it/s]"
          ]
        },
        {
          "metadata": {
            "tags": null
          },
          "name": "stdout",
          "output_type": "stream",
          "text": [
            "\n",
            "train_loss :  0.43296075475459195\n"
          ]
        },
        {
          "metadata": {
            "tags": null
          },
          "name": "stderr",
          "output_type": "stream",
          "text": [
            "\n"
          ]
        },
        {
          "metadata": {
            "tags": null
          },
          "name": "stdout",
          "output_type": "stream",
          "text": [
            "val_acc :  0.5962\n",
            "train epoch: 54----------------\n"
          ]
        },
        {
          "metadata": {
            "tags": null
          },
          "name": "stderr",
          "output_type": "stream",
          "text": [
            "100%|██████████| 196/196 [00:40<00:00,  4.83it/s]"
          ]
        },
        {
          "metadata": {
            "tags": null
          },
          "name": "stdout",
          "output_type": "stream",
          "text": [
            "\n",
            "train_loss :  0.42241636283543643\n"
          ]
        },
        {
          "metadata": {
            "tags": null
          },
          "name": "stderr",
          "output_type": "stream",
          "text": [
            "\n"
          ]
        },
        {
          "metadata": {
            "tags": null
          },
          "name": "stdout",
          "output_type": "stream",
          "text": [
            "val_acc :  0.5909\n",
            "train epoch: 55----------------\n"
          ]
        },
        {
          "metadata": {
            "tags": null
          },
          "name": "stderr",
          "output_type": "stream",
          "text": [
            "100%|██████████| 196/196 [00:39<00:00,  4.93it/s]"
          ]
        },
        {
          "metadata": {
            "tags": null
          },
          "name": "stdout",
          "output_type": "stream",
          "text": [
            "\n",
            "train_loss :  0.41498606317505543\n"
          ]
        },
        {
          "metadata": {
            "tags": null
          },
          "name": "stderr",
          "output_type": "stream",
          "text": [
            "\n"
          ]
        },
        {
          "metadata": {
            "tags": null
          },
          "name": "stdout",
          "output_type": "stream",
          "text": [
            "val_acc :  0.5904\n",
            "train epoch: 56----------------\n"
          ]
        },
        {
          "metadata": {
            "tags": null
          },
          "name": "stderr",
          "output_type": "stream",
          "text": [
            "100%|██████████| 196/196 [00:40<00:00,  4.84it/s]"
          ]
        },
        {
          "metadata": {
            "tags": null
          },
          "name": "stdout",
          "output_type": "stream",
          "text": [
            "\n",
            "train_loss :  0.4296679273247719\n"
          ]
        },
        {
          "metadata": {
            "tags": null
          },
          "name": "stderr",
          "output_type": "stream",
          "text": [
            "\n"
          ]
        },
        {
          "metadata": {
            "tags": null
          },
          "name": "stdout",
          "output_type": "stream",
          "text": [
            "val_acc :  0.5893\n",
            "train epoch: 57----------------\n"
          ]
        },
        {
          "metadata": {
            "tags": null
          },
          "name": "stderr",
          "output_type": "stream",
          "text": [
            "100%|██████████| 196/196 [00:38<00:00,  5.11it/s]"
          ]
        },
        {
          "metadata": {
            "tags": null
          },
          "name": "stdout",
          "output_type": "stream",
          "text": [
            "\n",
            "train_loss :  0.40910457150668517\n"
          ]
        },
        {
          "metadata": {
            "tags": null
          },
          "name": "stderr",
          "output_type": "stream",
          "text": [
            "\n"
          ]
        },
        {
          "metadata": {
            "tags": null
          },
          "name": "stdout",
          "output_type": "stream",
          "text": [
            "val_acc :  0.595\n",
            "train epoch: 58----------------\n"
          ]
        },
        {
          "metadata": {
            "tags": null
          },
          "name": "stderr",
          "output_type": "stream",
          "text": [
            "100%|██████████| 196/196 [00:40<00:00,  4.86it/s]"
          ]
        },
        {
          "metadata": {
            "tags": null
          },
          "name": "stdout",
          "output_type": "stream",
          "text": [
            "\n",
            "train_loss :  0.4131888768502644\n"
          ]
        },
        {
          "metadata": {
            "tags": null
          },
          "name": "stderr",
          "output_type": "stream",
          "text": [
            "\n"
          ]
        },
        {
          "metadata": {
            "tags": null
          },
          "name": "stdout",
          "output_type": "stream",
          "text": [
            "val_acc :  0.5902\n",
            "train epoch: 59----------------\n"
          ]
        },
        {
          "metadata": {
            "tags": null
          },
          "name": "stderr",
          "output_type": "stream",
          "text": [
            "100%|██████████| 196/196 [00:38<00:00,  5.10it/s]"
          ]
        },
        {
          "metadata": {
            "tags": null
          },
          "name": "stdout",
          "output_type": "stream",
          "text": [
            "\n",
            "train_loss :  0.4097923815098344\n"
          ]
        },
        {
          "metadata": {
            "tags": null
          },
          "name": "stderr",
          "output_type": "stream",
          "text": [
            "\n"
          ]
        },
        {
          "metadata": {
            "tags": null
          },
          "name": "stdout",
          "output_type": "stream",
          "text": [
            "val_acc :  0.5948\n",
            "train epoch: 60----------------\n"
          ]
        },
        {
          "metadata": {
            "tags": null
          },
          "name": "stderr",
          "output_type": "stream",
          "text": [
            "100%|██████████| 196/196 [00:40<00:00,  4.84it/s]"
          ]
        },
        {
          "metadata": {
            "tags": null
          },
          "name": "stdout",
          "output_type": "stream",
          "text": [
            "\n",
            "train_loss :  0.39631661955191166\n"
          ]
        },
        {
          "metadata": {
            "tags": null
          },
          "name": "stderr",
          "output_type": "stream",
          "text": [
            "\n"
          ]
        },
        {
          "metadata": {
            "tags": null
          },
          "name": "stdout",
          "output_type": "stream",
          "text": [
            "val_acc :  0.5922\n",
            "train epoch: 61----------------\n"
          ]
        },
        {
          "metadata": {
            "tags": null
          },
          "name": "stderr",
          "output_type": "stream",
          "text": [
            "100%|██████████| 196/196 [00:40<00:00,  4.86it/s]"
          ]
        },
        {
          "metadata": {
            "tags": null
          },
          "name": "stdout",
          "output_type": "stream",
          "text": [
            "\n",
            "train_loss :  0.40226587843225925\n"
          ]
        },
        {
          "metadata": {
            "tags": null
          },
          "name": "stderr",
          "output_type": "stream",
          "text": [
            "\n"
          ]
        },
        {
          "metadata": {
            "tags": null
          },
          "name": "stdout",
          "output_type": "stream",
          "text": [
            "val_acc :  0.5933\n",
            "train epoch: 62----------------\n"
          ]
        },
        {
          "metadata": {
            "tags": null
          },
          "name": "stderr",
          "output_type": "stream",
          "text": [
            "100%|██████████| 196/196 [00:40<00:00,  4.87it/s]"
          ]
        },
        {
          "metadata": {
            "tags": null
          },
          "name": "stdout",
          "output_type": "stream",
          "text": [
            "\n",
            "train_loss :  0.3969407530159366\n"
          ]
        },
        {
          "metadata": {
            "tags": null
          },
          "name": "stderr",
          "output_type": "stream",
          "text": [
            "\n"
          ]
        },
        {
          "metadata": {
            "tags": null
          },
          "name": "stdout",
          "output_type": "stream",
          "text": [
            "val_acc :  0.5988\n",
            "train epoch: 63----------------\n"
          ]
        },
        {
          "metadata": {
            "tags": null
          },
          "name": "stderr",
          "output_type": "stream",
          "text": [
            "100%|██████████| 196/196 [00:41<00:00,  4.74it/s]"
          ]
        },
        {
          "metadata": {
            "tags": null
          },
          "name": "stdout",
          "output_type": "stream",
          "text": [
            "\n",
            "train_loss :  0.38680984277506264\n"
          ]
        },
        {
          "metadata": {
            "tags": null
          },
          "name": "stderr",
          "output_type": "stream",
          "text": [
            "\n"
          ]
        },
        {
          "metadata": {
            "tags": null
          },
          "name": "stdout",
          "output_type": "stream",
          "text": [
            "val_acc :  0.601\n",
            "train epoch: 64----------------\n"
          ]
        },
        {
          "metadata": {
            "tags": null
          },
          "name": "stderr",
          "output_type": "stream",
          "text": [
            "100%|██████████| 196/196 [00:38<00:00,  5.09it/s]"
          ]
        },
        {
          "metadata": {
            "tags": null
          },
          "name": "stdout",
          "output_type": "stream",
          "text": [
            "\n",
            "train_loss :  0.3872103469104183\n"
          ]
        },
        {
          "metadata": {
            "tags": null
          },
          "name": "stderr",
          "output_type": "stream",
          "text": [
            "\n"
          ]
        },
        {
          "metadata": {
            "tags": null
          },
          "name": "stdout",
          "output_type": "stream",
          "text": [
            "val_acc :  0.5995\n",
            "train epoch: 65----------------\n"
          ]
        },
        {
          "metadata": {
            "tags": null
          },
          "name": "stderr",
          "output_type": "stream",
          "text": [
            "100%|██████████| 196/196 [00:40<00:00,  4.89it/s]"
          ]
        },
        {
          "metadata": {
            "tags": null
          },
          "name": "stdout",
          "output_type": "stream",
          "text": [
            "\n",
            "train_loss :  0.38889457376635805\n"
          ]
        },
        {
          "metadata": {
            "tags": null
          },
          "name": "stderr",
          "output_type": "stream",
          "text": [
            "\n"
          ]
        },
        {
          "metadata": {
            "tags": null
          },
          "name": "stdout",
          "output_type": "stream",
          "text": [
            "val_acc :  0.5951\n",
            "train epoch: 66----------------\n"
          ]
        },
        {
          "metadata": {
            "tags": null
          },
          "name": "stderr",
          "output_type": "stream",
          "text": [
            "100%|██████████| 196/196 [00:39<00:00,  5.01it/s]"
          ]
        },
        {
          "metadata": {
            "tags": null
          },
          "name": "stdout",
          "output_type": "stream",
          "text": [
            "\n",
            "train_loss :  0.3950372738193493\n"
          ]
        },
        {
          "metadata": {
            "tags": null
          },
          "name": "stderr",
          "output_type": "stream",
          "text": [
            "\n"
          ]
        },
        {
          "metadata": {
            "tags": null
          },
          "name": "stdout",
          "output_type": "stream",
          "text": [
            "val_acc :  0.5974\n",
            "train epoch: 67----------------\n"
          ]
        },
        {
          "metadata": {
            "tags": null
          },
          "name": "stderr",
          "output_type": "stream",
          "text": [
            "100%|██████████| 196/196 [00:39<00:00,  5.00it/s]"
          ]
        },
        {
          "metadata": {
            "tags": null
          },
          "name": "stdout",
          "output_type": "stream",
          "text": [
            "\n",
            "train_loss :  0.38241770893943555\n"
          ]
        },
        {
          "metadata": {
            "tags": null
          },
          "name": "stderr",
          "output_type": "stream",
          "text": [
            "\n"
          ]
        },
        {
          "output_type": "stream",
          "name": "stdout",
          "text": [
            "val_acc :  0.5944\n",
            "train epoch: 68----------------\n"
          ]
        },
        {
          "output_type": "stream",
          "name": "stderr",
          "text": [
            "100%|██████████| 196/196 [00:38<00:00,  5.15it/s]"
          ]
        },
        {
          "output_type": "stream",
          "name": "stdout",
          "text": [
            "\n",
            "train_loss :  0.38461366318622414\n"
          ]
        },
        {
          "output_type": "stream",
          "name": "stderr",
          "text": [
            "\n"
          ]
        },
        {
          "output_type": "stream",
          "name": "stdout",
          "text": [
            "val_acc :  0.5946\n",
            "train epoch: 69----------------\n"
          ]
        },
        {
          "output_type": "stream",
          "name": "stderr",
          "text": [
            "100%|██████████| 196/196 [00:38<00:00,  5.08it/s]"
          ]
        },
        {
          "output_type": "stream",
          "name": "stdout",
          "text": [
            "\n",
            "train_loss :  0.3811022437804816\n"
          ]
        },
        {
          "output_type": "stream",
          "name": "stderr",
          "text": [
            "\n"
          ]
        },
        {
          "output_type": "stream",
          "name": "stdout",
          "text": [
            "val_acc :  0.5994\n",
            "train epoch: 70----------------\n"
          ]
        },
        {
          "output_type": "stream",
          "name": "stderr",
          "text": [
            "100%|██████████| 196/196 [00:39<00:00,  4.94it/s]"
          ]
        },
        {
          "output_type": "stream",
          "name": "stdout",
          "text": [
            "\n",
            "train_loss :  0.3763592916027624\n"
          ]
        },
        {
          "output_type": "stream",
          "name": "stderr",
          "text": [
            "\n"
          ]
        },
        {
          "output_type": "stream",
          "name": "stdout",
          "text": [
            "val_acc :  0.6018\n",
            "train epoch: 71----------------\n"
          ]
        },
        {
          "output_type": "stream",
          "name": "stderr",
          "text": [
            " 38%|███▊      | 74/196 [00:14<00:23,  5.26it/s]\n"
          ]
        },
        {
          "output_type": "error",
          "ename": "KeyboardInterrupt",
          "evalue": "ignored",
          "traceback": [
            "\u001b[0;31m---------------------------------------------------------------------------\u001b[0m",
            "\u001b[0;31mKeyboardInterrupt\u001b[0m                         Traceback (most recent call last)",
            "\u001b[0;32m<ipython-input-8-a61b93b64e13>\u001b[0m in \u001b[0;36m<module>\u001b[0;34m\u001b[0m\n\u001b[1;32m      5\u001b[0m     \u001b[0mbest_model_wts\u001b[0m \u001b[0;34m=\u001b[0m \u001b[0mmodel9\u001b[0m\u001b[0;34m.\u001b[0m\u001b[0mstate_dict\u001b[0m\u001b[0;34m(\u001b[0m\u001b[0;34m)\u001b[0m\u001b[0;34m\u001b[0m\u001b[0;34m\u001b[0m\u001b[0m\n\u001b[1;32m      6\u001b[0m     \u001b[0mprint\u001b[0m\u001b[0;34m(\u001b[0m\u001b[0;34mf\"train epoch: {epoch+1}----------------\"\u001b[0m\u001b[0;34m)\u001b[0m\u001b[0;34m\u001b[0m\u001b[0;34m\u001b[0m\u001b[0m\n\u001b[0;32m----> 7\u001b[0;31m     \u001b[0;32mfor\u001b[0m \u001b[0mimg\u001b[0m\u001b[0;34m,\u001b[0m \u001b[0mlabel\u001b[0m \u001b[0;32min\u001b[0m \u001b[0mtqdm\u001b[0m\u001b[0;34m(\u001b[0m\u001b[0mtrain_loader\u001b[0m\u001b[0;34m)\u001b[0m\u001b[0;34m:\u001b[0m\u001b[0;34m\u001b[0m\u001b[0;34m\u001b[0m\u001b[0m\n\u001b[0m\u001b[1;32m      8\u001b[0m         \u001b[0mimg\u001b[0m \u001b[0;34m=\u001b[0m \u001b[0mimg\u001b[0m\u001b[0;34m.\u001b[0m\u001b[0mto\u001b[0m\u001b[0;34m(\u001b[0m\u001b[0mdevice\u001b[0m\u001b[0;34m)\u001b[0m\u001b[0;34m\u001b[0m\u001b[0;34m\u001b[0m\u001b[0m\n\u001b[1;32m      9\u001b[0m         \u001b[0mlabel\u001b[0m \u001b[0;34m=\u001b[0m \u001b[0mlabel\u001b[0m\u001b[0;34m.\u001b[0m\u001b[0mto\u001b[0m\u001b[0;34m(\u001b[0m\u001b[0mdevice\u001b[0m\u001b[0;34m)\u001b[0m\u001b[0;34m\u001b[0m\u001b[0;34m\u001b[0m\u001b[0m\n",
            "\u001b[0;31mKeyboardInterrupt\u001b[0m: "
          ]
        }
      ],
      "source": [
        "for epoch in range(100):\n",
        "    model9.train()\n",
        "    running_loss = 0.0\n",
        "    best_acc = 0.0\n",
        "    best_model_wts = model9.state_dict()\n",
        "    print(f\"train epoch: {epoch+1}----------------\")\n",
        "    for img, label in tqdm(train_loader):\n",
        "        img = img.to(device)\n",
        "        label = label.to(device)\n",
        "        optimizer.zero_grad()\n",
        "        output = model9(img)\n",
        "        loss = criterion(output, label)\n",
        "        running_loss += loss.item()\n",
        "        loss.backward()\n",
        "        optimizer.step()\n",
        "    correct, all_data = 0,0\n",
        "    print(\"\\ntrain_loss : \", running_loss / len(train_loader))\n",
        "    model9.eval()\n",
        "    for img, label in test_loader:\n",
        "        with torch.no_grad():\n",
        "            img = img.to(device)\n",
        "            label = label.to(device)\n",
        "            output = model9(img)\n",
        "\n",
        "            correct += torch.sum(torch.argmax(output, dim=1) == label).item()\n",
        "            all_data += len(label)\n",
        "    print(\"val_acc : \", correct / all_data)\n",
        "    if correct / all_data > best_acc:\n",
        "      best_acc = correct / all_data\n",
        "      best_model_wts = model9.state_dict()"
      ]
    }
  ],
  "metadata": {
    "accelerator": "GPU",
    "colab": {
      "provenance": []
    },
    "gpuClass": "standard",
    "kernelspec": {
      "display_name": "base",
      "language": "python",
      "name": "python3"
    },
    "language_info": {
      "codemirror_mode": {
        "name": "ipython",
        "version": 3
      },
      "file_extension": ".py",
      "mimetype": "text/x-python",
      "name": "python",
      "nbconvert_exporter": "python",
      "pygments_lexer": "ipython3",
      "version": "3.10.10"
    },
    "vscode": {
      "interpreter": {
        "hash": "cad004fe989bd74e5c5aec7ffae436e77866a70d082a239967f7d52eef71aa88"
      }
    }
  },
  "nbformat": 4,
  "nbformat_minor": 0
}